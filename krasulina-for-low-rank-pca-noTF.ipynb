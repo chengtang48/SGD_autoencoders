{
 "cells": [
  {
   "cell_type": "markdown",
   "metadata": {},
   "source": [
    "Copy rights @Cheng Tang chengtang48@gmail.com"
   ]
  },
  {
   "cell_type": "markdown",
   "metadata": {},
   "source": [
    "## Plan for numerical simulations\n",
    "\n",
    "- low-rank data generation: high dimensional, from a subset of coordinates (these are eigenvectors)\n",
    "- krasulina implementation (done)\n",
    "- TODO:\n",
    "    - investigate the effect of dimension and rank\n",
    "    - investigate perturbed version (optional)\n",
    "    - compare to Ohad Shamir's SVRG variant of Oja's method (optional)\n",
    "- Simulation on real data (candidates: MNIST, CCAT?)\n"
   ]
  },
  {
   "cell_type": "markdown",
   "metadata": {},
   "source": [
    "# pseodo-code for generalized krasulina\n",
    "``` \n",
    "Input params: init_weights (W^0) (k by d), learning rate schedule (constant and inverse-time), max_iter (T)\n",
    "While t <= T\n",
    " W^{t+1} = W^t + \\eta^t W^t x (x - (W^t)^TW^tx)^T\n",
    " equivalent to: W^{t+1} = W^t + \\eta^t (W^t x x^T - x^T(W^t)^TW^t)\n",
    " The step above is equivalent to one SGD update (given that W^t is row orthonormalized) on the objective:\n",
    " \n",
    " row orthonormalize W^{t+1}\n",
    "```"
   ]
  },
  {
   "cell_type": "code",
   "execution_count": 23,
   "metadata": {},
   "outputs": [
    {
     "name": "stderr",
     "output_type": "stream",
     "text": [
      "/Users/tcheng/.pyenv/versions/anaconda3-5.2.0/lib/python3.6/importlib/_bootstrap.py:219: RuntimeWarning: compiletime version 3.5 of module 'tensorflow.python.framework.fast_tensor_util' does not match runtime version 3.6\n",
      "  return f(*args, **kwds)\n",
      "/Users/tcheng/.pyenv/versions/anaconda3-5.2.0/lib/python3.6/site-packages/h5py/__init__.py:36: FutureWarning: Conversion of the second argument of issubdtype from `float` to `np.floating` is deprecated. In future, it will be treated as `np.float64 == np.dtype(float).type`.\n",
      "  from ._conv import register_converters as _register_converters\n"
     ]
    }
   ],
   "source": [
    "import tensorflow as tf\n",
    "import numpy as np\n",
    "import math"
   ]
  },
  {
   "cell_type": "code",
   "execution_count": 24,
   "metadata": {},
   "outputs": [
    {
     "name": "stdout",
     "output_type": "stream",
     "text": [
      "mkl_info:\n",
      "    libraries = ['mkl_rt', 'pthread']\n",
      "    library_dirs = ['/Users/tcheng/.pyenv/versions/anaconda3-5.2.0/lib']\n",
      "    define_macros = [('SCIPY_MKL_H', None), ('HAVE_CBLAS', None)]\n",
      "    include_dirs = ['/Users/tcheng/.pyenv/versions/anaconda3-5.2.0/include']\n",
      "blas_mkl_info:\n",
      "    libraries = ['mkl_rt', 'pthread']\n",
      "    library_dirs = ['/Users/tcheng/.pyenv/versions/anaconda3-5.2.0/lib']\n",
      "    define_macros = [('SCIPY_MKL_H', None), ('HAVE_CBLAS', None)]\n",
      "    include_dirs = ['/Users/tcheng/.pyenv/versions/anaconda3-5.2.0/include']\n",
      "blas_opt_info:\n",
      "    libraries = ['mkl_rt', 'pthread']\n",
      "    library_dirs = ['/Users/tcheng/.pyenv/versions/anaconda3-5.2.0/lib']\n",
      "    define_macros = [('SCIPY_MKL_H', None), ('HAVE_CBLAS', None)]\n",
      "    include_dirs = ['/Users/tcheng/.pyenv/versions/anaconda3-5.2.0/include']\n",
      "lapack_mkl_info:\n",
      "    libraries = ['mkl_rt', 'pthread']\n",
      "    library_dirs = ['/Users/tcheng/.pyenv/versions/anaconda3-5.2.0/lib']\n",
      "    define_macros = [('SCIPY_MKL_H', None), ('HAVE_CBLAS', None)]\n",
      "    include_dirs = ['/Users/tcheng/.pyenv/versions/anaconda3-5.2.0/include']\n",
      "lapack_opt_info:\n",
      "    libraries = ['mkl_rt', 'pthread']\n",
      "    library_dirs = ['/Users/tcheng/.pyenv/versions/anaconda3-5.2.0/lib']\n",
      "    define_macros = [('SCIPY_MKL_H', None), ('HAVE_CBLAS', None)]\n",
      "    include_dirs = ['/Users/tcheng/.pyenv/versions/anaconda3-5.2.0/include']\n"
     ]
    }
   ],
   "source": [
    "np.__config__.show()"
   ]
  },
  {
   "cell_type": "code",
   "execution_count": 25,
   "metadata": {},
   "outputs": [],
   "source": [
    "# data generators: data should be centered and dispersed around the subspace spanned by gt\n",
    "\n",
    "def get_train_data(n_train, groundtruth=None):\n",
    "    \"\"\"\n",
    "    gt: d-dimensional vec (non-increasing entries): \n",
    "    nonzero at coordinates corresponding to eigenvectors, and the value corresponds eigenvalue\n",
    "    example: [1,1,0,0,0]\n",
    "    return: np array train data\n",
    "    \"\"\"\n",
    "    if not groundtruth:\n",
    "        print(\"The data generator without groundtruth is not implemented!\")\n",
    "        return\n",
    "    else:\n",
    "        train_data = None\n",
    "        d = len(groundtruth)\n",
    "        for _ in range(n_train):\n",
    "            x = np.zeros([1, d])\n",
    "            for i in range(d):\n",
    "                if groundtruth[i] > 0 :\n",
    "                    x[:, i] = np.random.normal(0, groundtruth[i]**0.5)\n",
    "                else:\n",
    "                    break\n",
    "            if train_data is None:\n",
    "                train_data = x\n",
    "            else:\n",
    "                train_data = np.concatenate((train_data, x), axis=0)  \n",
    "            #print(train_data.shape)\n",
    "    return train_data"
   ]
  },
  {
   "cell_type": "code",
   "execution_count": 26,
   "metadata": {},
   "outputs": [],
   "source": [
    "#train_data = get_train_data(5000, groundtruth=[1,1,0])"
   ]
  },
  {
   "cell_type": "code",
   "execution_count": 27,
   "metadata": {},
   "outputs": [],
   "source": [
    "import time"
   ]
  },
  {
   "cell_type": "code",
   "execution_count": 28,
   "metadata": {},
   "outputs": [],
   "source": [
    "# test get_train_data\n",
    "# for i in range(2):\n",
    "#     ax_mean = np.mean(train_data[:, i])\n",
    "#     ax_var = np.var(train_data[:, i])\n",
    "#     print(f\"axis {i} mean {ax_mean}\")\n",
    "#     print(f\"axis {i} var {ax_var}\")"
   ]
  },
  {
   "cell_type": "code",
   "execution_count": 34,
   "metadata": {},
   "outputs": [],
   "source": [
    "class KrasulinaPCA(object):\n",
    "    \n",
    "    def __init__(self, init_weights, train_data, groundtruth=None,\n",
    "                 learning_rate=[None, 0.0001], mini_batch_size=1, max_iter=100, sampling=False, log_freq=100):\n",
    "        \n",
    "        self._init_weights = init_weights\n",
    "        #self._weights = tf.Variable(init_weights, dtype=tf.float64)\n",
    "        self._train_data = train_data\n",
    "        self._train_data_size = train_data.shape\n",
    "        #assert learning_rate[0] is None, \"Decaying learning rate not implemented yet!\"\n",
    "        self._learning_rate = learning_rate\n",
    "        #self._minibatch_iter = 0\n",
    "        #assert groundtruth, \"training with real data is not implemented yet!\"\n",
    "        self._groundtruth = groundtruth\n",
    "        self._k, self._d = init_weights.shape[0], init_weights.shape[1]\n",
    "        self._mbsize = mini_batch_size\n",
    "        self._T = max_iter\n",
    "        self._sampling = sampling\n",
    "        self._log_freq = log_freq\n",
    "        self._global_step = 0\n",
    "        self._train_mse_log = list()\n",
    "    \n",
    "    def _update_eta(self):\n",
    "        if self._learning_rate[0] is None:\n",
    "            self._eta = self._learning_rate[1]\n",
    "        else:\n",
    "            self._eta = self._learning_rate[0] / math.log(self._global_step + self._learning_rate[1])\n",
    "    \n",
    "    def _update_global_step(self):\n",
    "        self._global_step += 1\n",
    "        \n",
    "    def _train(self):\n",
    "        # create train log for objective loss (mse)\n",
    "        self._train_mse_log.append(eval_mse_loss(self._train_data, self._init_weights))\n",
    "        #if self._groundtruth:\n",
    "            # create another log for groundtruth metric \n",
    "        self._groundtruth_eval_log = list()\n",
    "        self._groundtruth_eval_log.append(eval_with_groundtruth(self._groundtruth, self._init_weights))\n",
    "        print(f\"The initial mse: {self._train_mse_log[0]}\")\n",
    "        print(f\"The initial loss: {self._groundtruth_eval_log[0]}\")\n",
    "       \n",
    "        mb_iter = 0\n",
    "        self._epoch = 0\n",
    "        weights = self._init_weights.copy() \n",
    "        ## start training      \n",
    "        for t in range(1, self._T+1):\n",
    "            Ts = time.time()\n",
    "            epoch_old = self._epoch\n",
    "            if not self._sampling:\n",
    "                # get mini batches by iterating over the dataset\n",
    "                mini_batch, mb_iter = self._get_mini_batch(mb_iter, t)\n",
    "            else:\n",
    "                # sampling u.a.r.\n",
    "                mini_batch = self._get_mini_batch_from_sampling()\n",
    "            self._update_global_step()\n",
    "            self._update_eta()\n",
    "            # run optimization\n",
    "            # W^{t+1} = W^t + eta^t (W^t x x^T - W^t x x^T(W^t)^TW^t)\n",
    "            ts = time.time()\n",
    "            emp_cov = 1.0/self._mbsize * np.matmul(mini_batch.T, mini_batch)\n",
    "            te = time.time()\n",
    "            #print(\"Computing empirical matrix takes {}\".format(te-ts))\n",
    "            ts = time.time()\n",
    "            A = np.dot(weights, emp_cov) # k by d and d by d\n",
    "            te = time.time()\n",
    "            #print(\"Computing A matrix takes {}\".format(te-ts))\n",
    "            ts = time.time()\n",
    "            #B = np.matmul(weights.T, weights) # d by k and k by d\n",
    "            #print(weights.flags)\n",
    "            #B = np.dot(weights.T, weights)\n",
    "            B = np.dot(A, weights.T)\n",
    "            te = time.time()\n",
    "            #print(\"Computing B matrix takes {}\".format(te-ts))\n",
    "            ts = time.time()\n",
    "            #C = np.matmul(A, B)\n",
    "            C = np.dot(B, weights)\n",
    "            te = time.time()\n",
    "            #print(\"Computing C matrix takes {}\".format(te-ts))\n",
    "            weights = weights + self._eta * (A - C)\n",
    "            # orthonormalization\n",
    "            ts = time.time()\n",
    "            weights = row_orthonormalization(weights)\n",
    "            te = time.time()\n",
    "            #print(\"Row orthonormalization takes {}\".format(te-ts))\n",
    "            \"\"\"\n",
    "            TODO: check that rows of _weights are orthonormal (difference with eye should be small)\n",
    "            \"\"\" \n",
    "            if not self._sampling and epoch_old < self._epoch:\n",
    "                self._add_to_train_logs(weights)\n",
    "            elif self._sampling and (t % self._log_freq == 0):\n",
    "                self._add_to_train_logs(weights)\n",
    "            \n",
    "            Te = time.time()\n",
    "            #print(\"One iteration takes {}\".format(Te-Ts))\n",
    "        self.final_weights_ = weights.copy()\n",
    "\n",
    "    \n",
    "    def _reset_train_logs(self):\n",
    "        self._train_log = list()\n",
    "        self._groundtruth_eval_log = list()\n",
    "    \n",
    "    def _add_to_train_logs(self, weights):\n",
    "        self._train_mse_log.append(eval_mse_loss(self._train_data, weights))\n",
    "        self._groundtruth_eval_log.append(eval_with_groundtruth(self._groundtruth, weights))\n",
    "        print(f\"The loss at the {self._epoch}-th epoch is {self._groundtruth_eval_log[-1]}\")\n",
    "        \n",
    "    \n",
    "    \n",
    "    def _get_mini_batch(self, mb_iter, t):\n",
    "        if mb_iter + self._mbsize < len(self._train_data):\n",
    "            mini_batch = self._train_data[mb_iter : mb_iter+self._mbsize, :]\n",
    "            mb_iter_new = mb_iter + self._mbsize\n",
    "        else:\n",
    "            self._epoch += 1\n",
    "            print(f\"Finished training {self._epoch}-th epoch with total {t} iterations\")\n",
    "            mb_iter_new = (mb_iter + self._mbsize) % (len(self._train_data)-1) - 1\n",
    "            mini_batch_1 = self._train_data[mb_iter :, :]\n",
    "            mini_batch_2 = self._train_data[: mb_iter_new, :]\n",
    "            if mini_batch_2.size > 0:\n",
    "                mini_batch = mini_batch_1\n",
    "            else:\n",
    "                mini_batch = np.concatenate((mini_batch_1, mini_batch_2), axis=0)\n",
    "        return mini_batch, mb_iter_new\n",
    "    \n",
    "    def _get_mini_batch_from_sampling(self):\n",
    "        rand_idx = np.random.randint(self._train_data_size[0], size=self._mbsize)\n",
    "        return self._train_data[rand_idx,:]\n",
    "    \n",
    "\n",
    "\n",
    "def row_orthonormalization(weights):\n",
    "    \"\"\"\n",
    "    Description: implements Gram-schmidt on rows of the tf weights matrix\n",
    "    Input: weights as a tf variable: k by d (k <= d)\n",
    "    Return: orthonormalize operation in tf graph\n",
    "    \"\"\"\n",
    "    assert weights.shape[0] <= weights.shape[1], \"k cannot exceed d!\"\n",
    "    # add batch dimension for matmul\n",
    "    #print(weights[0,:].shape)\n",
    "    ortho_weights = np.expand_dims(weights[0,:]/np.linalg.norm(weights[0,:]),0)\n",
    "    #print(weights[0:10])\n",
    "    #ortho_weights = weights[0,:]/np.linalg.norm(weights[0,:])\n",
    "    #print(ortho_weights.shape)\n",
    "    for i in range(1, weights.shape[0]):\n",
    "        v = weights[i,:]\n",
    "        #print(v.shape)\n",
    "        # add batch dimension for matmul\n",
    "        v = np.expand_dims(v, 0) \n",
    "        #r = v - np.matmul(np.matmul(v, ortho_weights.T), ortho_weights)\n",
    "        #print(np.squeeze(np.matmul(v, ortho_weights.T)))\n",
    "        r = v - np.dot(np.squeeze(np.matmul(v, ortho_weights.T)), ortho_weights)\n",
    "        ortho_weights = np.concatenate([ortho_weights, r/np.linalg.norm(r)], axis=0)\n",
    "    return ortho_weights\n",
    "\n",
    "\n",
    "def eval_with_groundtruth(groundtruth, weights):\n",
    "    \"\"\"\n",
    "    Input: \n",
    "        groundtruth, list in the form [2, 1.4, 1, 0, 0]\n",
    "        weights, np array, shape k by d (row-orthonormal)\n",
    "    Return:\n",
    "        tr(U(I-P)): U-projection matrix of eigenvectors, \n",
    "                    P: projection matrix of weights\n",
    "    \"\"\"\n",
    "    #eigenvecs = get_eigenvecs(groundtruth)\n",
    "    eigenvecs = groundtruth.copy()\n",
    "    U = np.matmul(eigenvecs.T, eigenvecs)\n",
    "    P = np.matmul(weights.T, weights)\n",
    "    I = np.eye(weights.shape[1])\n",
    "    \n",
    "    return np.trace(np.matmul(U, I-P))\n",
    "\n",
    "\n",
    "def get_eigenvecs(groundtruth):\n",
    "    \"\"\"\n",
    "    Input: groundtruth in the form of list [1,1,0]\n",
    "    Return: np array, eigenvecs: k by d\n",
    "    \"\"\"\n",
    "    d = len(groundtruth)\n",
    "    eigenvecs = None\n",
    "    for dim in range(d):\n",
    "        if groundtruth[dim] > 0:\n",
    "            eigenvec = np.zeros([1, d])\n",
    "            eigenvec[:, dim] = 1.0\n",
    "            if eigenvecs is None:\n",
    "                eigenvecs = eigenvec\n",
    "            else:\n",
    "                eigenvecs = np.concatenate((eigenvecs, eigenvec), axis=0)\n",
    "        else:\n",
    "            break\n",
    "    return eigenvecs\n",
    "\n",
    "\n",
    "def eval_mse_loss(batch_data, _weights):\n",
    "    \"\"\"\n",
    "    Input: np array, batch_data: n by d, \n",
    "           np array, weights: k by d\n",
    "    \"\"\"\n",
    "    projection = np.matmul(batch_data, _weights.T)\n",
    "    xhat = np.matmul(projection, _weights)\n",
    "    #print(xhat.shape)\n",
    "    return np.sum(np.square(batch_data-xhat))\n",
    "\n",
    "\n",
    "def check_orthonormality(weights):\n",
    "    \"\"\"\n",
    "    TODO: Check that rows of weights are nearly orthonormal\n",
    "    \"\"\"\n",
    "    pass\n",
    "        \n",
    "def get_default_learning_rate(X):\n",
    "    rbar = np.linalg.norm(X, ord='fro')\n",
    "    return 1/rbar * (len(X) ** 0.5)\n",
    "    \n",
    "    "
   ]
  },
  {
   "cell_type": "code",
   "execution_count": 30,
   "metadata": {},
   "outputs": [],
   "source": [
    "## initializers\n",
    "\n",
    "def get_random_orthogonal_initializer(k, d, gain=1, seed=None):\n",
    "    tf.reset_default_graph()\n",
    "    init_fn = tf.orthogonal_initializer(gain, seed, dtype=tf.float64)\n",
    "    init_weights = tf.get_variable('init_weights', initializer=init_fn, shape=[k, d])\n",
    "    with tf.Session() as sess:\n",
    "        sess.run(tf.global_variables_initializer())   \n",
    "        _init_weights = sess.run([init_weights])[0]\n",
    "    return _init_weights"
   ]
  },
  {
   "cell_type": "code",
   "execution_count": null,
   "metadata": {},
   "outputs": [],
   "source": [
    "k=2\n",
    "d=100\n",
    "gt = [0] * d\n",
    "for i in range(k):\n",
    "    gt[i] = (k - i)**1\n",
    "_init_weights = get_random_orthogonal_initializer(k, d)\n",
    "n_train = 5000\n",
    "eigenvecs = get_eigenvecs(gt)\n",
    "train_data = get_train_data(n_train, groundtruth=gt)"
   ]
  },
  {
   "cell_type": "code",
   "execution_count": null,
   "metadata": {},
   "outputs": [],
   "source": [
    "_init_weights"
   ]
  },
  {
   "cell_type": "code",
   "execution_count": null,
   "metadata": {},
   "outputs": [],
   "source": [
    "T = 8*n_train\n",
    "lr = (None, 0.01) \n",
    "#lr = (0.001, 10)\n",
    "algo = KrasulinaPCA(_init_weights, train_data, groundtruth=eigenvecs, learning_rate=lr, max_iter=T)"
   ]
  },
  {
   "cell_type": "code",
   "execution_count": null,
   "metadata": {
    "scrolled": true
   },
   "outputs": [],
   "source": [
    "algo._train()"
   ]
  },
  {
   "cell_type": "code",
   "execution_count": null,
   "metadata": {},
   "outputs": [],
   "source": [
    "print(algo._train_mse_log[0], algo._train_mse_log[-1])"
   ]
  },
  {
   "cell_type": "code",
   "execution_count": null,
   "metadata": {},
   "outputs": [],
   "source": [
    "print(algo._groundtruth_eval_log[0], algo._groundtruth_eval_log[-1])"
   ]
  },
  {
   "cell_type": "code",
   "execution_count": 8,
   "metadata": {},
   "outputs": [],
   "source": [
    "import matplotlib.pyplot as plt\n",
    "import matplotlib\n",
    "matplotlib.rcParams['text.usetex'] = True\n",
    "matplotlib.rcParams['text.latex.unicode'] = True\n",
    "%matplotlib inline"
   ]
  },
  {
   "cell_type": "code",
   "execution_count": null,
   "metadata": {},
   "outputs": [],
   "source": [
    "import math\n",
    "\n",
    "iterations = range(T)\n",
    "#log_iterations = [math.log(t+1) for t in iterations]\n",
    "log_error = [math.log(y) if y > 0 else 0 for y in algo._groundtruth_eval_log]"
   ]
  },
  {
   "cell_type": "code",
   "execution_count": null,
   "metadata": {},
   "outputs": [],
   "source": [
    "epoch = 0\n",
    "gt_eval_epoch_wise = list()\n",
    "epoch_iters = list()\n",
    "for t, e in enumerate(algo._groundtruth_eval_log):\n",
    "    if t % n_train == 0:\n",
    "        epoch += 1\n",
    "        gt_eval_epoch_wise.append(e)\n",
    "        epoch_iters.append(epoch)\n",
    "    "
   ]
  },
  {
   "cell_type": "code",
   "execution_count": null,
   "metadata": {},
   "outputs": [],
   "source": [
    "#plt.plot(iterations, log_error)\n",
    "plt.plot(iterations, log_error)"
   ]
  },
  {
   "cell_type": "code",
   "execution_count": null,
   "metadata": {},
   "outputs": [],
   "source": [
    "## train all variations\n",
    "count = 1\n",
    "n_train = 5000\n",
    "algo_meta_dict = {}\n",
    "for k in [1, 10]:\n",
    "    for d in [10, 100, 500]:\n",
    "        algo_list = []\n",
    "        for eta in [(None, 0.0001/k), (0.001/k, 10)]:\n",
    "            gt = [0] * d\n",
    "            for i in range(k):\n",
    "                gt[i] = (k-i) \n",
    "            _init_weights = get_random_orthogonal_initializer(k, d)\n",
    "            print(f\"Runing the {count}-th experiment\")\n",
    "            count += 1\n",
    "            eigenvecs = get_eigenvecs(gt)\n",
    "            train_data = get_train_data(n_train, groundtruth=gt)\n",
    "            T = 8*n_train\n",
    "            algo_list.append(KrasulinaPCA(_init_weights, train_data, groundtruth=eigenvecs, learning_rate=eta, max_iter=T))\n",
    "            algo_list[-1]._train()\n",
    "            print(\"Initial and final loss\")\n",
    "            print(algo_list[-1]._groundtruth_eval_log[0], algo_list[-1]._groundtruth_eval_log[-1])\n",
    "        key = (k, d)\n",
    "        algo_meta_dict[key] = algo_list\n",
    "            "
   ]
  },
  {
   "cell_type": "code",
   "execution_count": null,
   "metadata": {},
   "outputs": [],
   "source": [
    "algo_meta_dict.keys()"
   ]
  },
  {
   "cell_type": "code",
   "execution_count": null,
   "metadata": {},
   "outputs": [],
   "source": [
    "import json"
   ]
  },
  {
   "cell_type": "code",
   "execution_count": null,
   "metadata": {},
   "outputs": [],
   "source": [
    "import matplotlib.pyplot as plt\n",
    "import matplotlib\n",
    "matplotlib.rcParams['text.usetex'] = True\n",
    "matplotlib.rcParams['text.latex.unicode'] = True\n",
    "%matplotlib inline"
   ]
  },
  {
   "cell_type": "code",
   "execution_count": null,
   "metadata": {},
   "outputs": [],
   "source": [
    "for k, d in algo_meta_dict.keys():\n",
    "    for idx in [0, 1]:\n",
    "        algo_meta_dict[(k, d)][idx]._groundtruth_eval_log"
   ]
  },
  {
   "cell_type": "code",
   "execution_count": null,
   "metadata": {},
   "outputs": [],
   "source": [
    "## Plot on all\n",
    "label_list = [r\"$\\eta=10^{-4}/k$\", r\"$\\eta^t = \\frac{10^{-3}}{k(t+10)}$\"]\n",
    "\n",
    "def get_log(k, d, idx, algo_dict):\n",
    "    return algo_dict[(k, d)][idx]._groundtruth_eval_log\n",
    "\n",
    "\n",
    "def plotting(k, d):\n",
    "    fig=plt.figure()\n",
    "    for idx in [0, 1]:\n",
    "        log = get_log(k, d, idx, algo_meta_dict)\n",
    "        epoch = 0\n",
    "        gt_eval_epoch_wise = list()\n",
    "        epoch_iters = list()\n",
    "        for t, e in enumerate(log):\n",
    "            if t % n_train == 0:\n",
    "                epoch += 1\n",
    "                gt_eval_epoch_wise.append(e)\n",
    "                epoch_iters.append(epoch)\n",
    "        #\n",
    "        #log_epoch_iters = [math.log(t_e) for t_e in epoch_iters]\n",
    "        log_gt_eval_epoch_wise = [math.log(e) if e > 0 else math.log(e+1) for e in gt_eval_epoch_wise]\n",
    "        if idx == 1:\n",
    "            #lr_params = (0.001/k, 10)\n",
    "            #lr = r\"$\\frac{0.001}{k(t+10)}$\" \n",
    "            plt.plot(epoch_iters, log_gt_eval_epoch_wise, '--', label=label_list[idx])\n",
    "        else:\n",
    "            #lr = r\"\\frac{0.0001}{k}\"\n",
    "            plt.plot(epoch_iters, log_gt_eval_epoch_wise, label=label_list[idx])\n",
    "    plt.legend()\n",
    "    #plt.title(f\"k={k}, d={d}\")\n",
    "    plt.xlabel('epochs')\n",
    "    plt.ylabel(r'log $\\Delta^t$')\n",
    "    fig.savefig(f\"k-{k}-d-{d}.png\")\n",
    "\n",
    "for k, d in algo_meta_dict.keys():\n",
    "    plotting(k,d)\n",
    "    \n"
   ]
  },
  {
   "cell_type": "code",
   "execution_count": null,
   "metadata": {},
   "outputs": [],
   "source": [
    "!zip figs.zip pre/*"
   ]
  },
  {
   "cell_type": "code",
   "execution_count": null,
   "metadata": {},
   "outputs": [],
   "source": [
    "import math\n",
    "\n",
    "iterations = range(T)\n",
    "log_iterations = [math.log(t+1) for t in iterations]\n",
    "log_error = [math.log(y) if y > 0 else 0 for y in algo._groundtruth_eval_log]\n",
    "#const = 100\n",
    "#theo = [-t + const for t in iterations]"
   ]
  },
  {
   "cell_type": "code",
   "execution_count": null,
   "metadata": {},
   "outputs": [],
   "source": [
    "plt.plot(iterations, log_error)\n",
    "#plt.plot(iterations, theo)\n",
    "#plt.plot(log_iterations, log_error)\n",
    "#plt.plot(iterations, algo._groundtruth_eval_log)\n",
    "#plt.plot(iterations, algo._train_mse_log)"
   ]
  },
  {
   "cell_type": "code",
   "execution_count": null,
   "metadata": {},
   "outputs": [],
   "source": [
    "log_epoch_iters = [math.log(t_e) for t_e in epoch_iters]\n",
    "log_gt_eval_epoch_wise = [math.log(e) for e in gt_eval_epoch_wise]\n",
    "plt.plot(epoch_iters, log_gt_eval_epoch_wise)"
   ]
  },
  {
   "cell_type": "code",
   "execution_count": null,
   "metadata": {},
   "outputs": [],
   "source": [
    "test_arr = [1,2,3]\n",
    "#print(test_arr[:0])\n",
    "if test_arr[:1]:\n",
    "    print(\"not null\")"
   ]
  },
  {
   "cell_type": "code",
   "execution_count": null,
   "metadata": {},
   "outputs": [],
   "source": [
    "x = list(range(1000))\n",
    "y = [1/float(t+1) for t in x]\n",
    "y1 = [2**(-t) for t in x]\n",
    "log_y = [math.log(e) for e in y]\n",
    "log_y1 = [math.log(e) for e in y1]\n",
    "plt.plot(x, log_y1)"
   ]
  },
  {
   "cell_type": "markdown",
   "metadata": {},
   "source": [
    "### MNIST"
   ]
  },
  {
   "cell_type": "code",
   "execution_count": 1,
   "metadata": {},
   "outputs": [
    {
     "name": "stdout",
     "output_type": "stream",
     "text": [
      "Requirement already satisfied: python-mnist in /Users/tcheng/.pyenv/versions/anaconda3-5.2.0/lib/python3.6/site-packages (0.6)\r\n"
     ]
    }
   ],
   "source": [
    "!pip install python-mnist"
   ]
  },
  {
   "cell_type": "code",
   "execution_count": 2,
   "metadata": {},
   "outputs": [
    {
     "name": "stdout",
     "output_type": "stream",
     "text": [
      "fatal: destination path 'python-mnist' already exists and is not an empty directory.\r\n"
     ]
    }
   ],
   "source": [
    "!git clone https://github.com/sorki/python-mnist"
   ]
  },
  {
   "cell_type": "code",
   "execution_count": 3,
   "metadata": {},
   "outputs": [],
   "source": [
    "from mnist import MNIST\n",
    "from sklearn.decomposition import PCA"
   ]
  },
  {
   "cell_type": "code",
   "execution_count": 4,
   "metadata": {},
   "outputs": [
    {
     "name": "stdout",
     "output_type": "stream",
     "text": [
      "Updating Homebrew...\n",
      "\u001b[34m==>\u001b[0m \u001b[1mAuto-updated Homebrew!\u001b[0m\n",
      "Updated 1 tap (homebrew/core).\n",
      "\u001b[34m==>\u001b[0m \u001b[1mNew Formulae\u001b[0m\n",
      "azure-storage-cpp   i386-elf-binutils   mesa                sourcedocs\n",
      "fluxctl             i386-elf-gcc        ruby@2.4\n",
      "\u001b[34m==>\u001b[0m \u001b[1mUpdated Formulae\u001b[0m\n",
      "\u001b[1mgdbm \u001b[32m✔\u001b[0m\u001b[0m                                   jenkins\n",
      "\u001b[1mpyenv \u001b[32m✔\u001b[0m\u001b[0m                                  jhipster\n",
      "\u001b[1mruby \u001b[32m✔\u001b[0m\u001b[0m                                   jq\n",
      "activemq                                 kakoune\n",
      "advancemame                              khal\n",
      "agda                                     kobalt\n",
      "aha                                      kotlin\n",
      "algernon                                 kubernetes-cli\n",
      "amazon-ecs-cli                           kustomize\n",
      "ammonite-repl                            lastpass-cli\n",
      "amqp-cpp                                 latexdiff\n",
      "annie                                    lean-cli\n",
      "ansible-cmdb                             lego\n",
      "apache-flink                             libgit2\n",
      "app-engine-java                          libgit2-glib\n",
      "ark                                      libjson-rpc-cpp\n",
      "asciidoc                                 liblo\n",
      "asciidoctor                              librdkafka\n",
      "basex                                    libsigc++\n",
      "bash-snippets                            logtalk\n",
      "bazel                                    mackup\n",
      "beast                                    math-comp\n",
      "binutils                                 megacmd\n",
      "bison                                    mercurial\n",
      "braid                                    mikutter\n",
      "buku                                     mill\n",
      "bzt                                      mongo-cxx-driver\n",
      "caf                                      nativefier\n",
      "camlp5                                   node\n",
      "cargo-completion                         node-build\n",
      "carla                                    node@10\n",
      "carthage                                 open-mpi\n",
      "ccextractor                              openapi-generator\n",
      "cern-ndiff                               opencascade\n",
      "cheat                                    openrtsp\n",
      "chruby-fish                              openvdb\n",
      "circleci                                 oysttyer\n",
      "citus                                    pacapt\n",
      "collector-sidecar                        packer\n",
      "composer                                 pandoc\n",
      "container-diff                           passenger\n",
      "coq                                      pdftoedn\n",
      "cpprestsdk                               pdftoipe\n",
      "curl                                     planck\n",
      "dartsim                                  platformio\n",
      "dependency-check                         poppler\n",
      "dfmt                                     posh\n",
      "diff-pdf                                 ppsspp\n",
      "dita-ot                                  presto\n",
      "django-completion                        pspg\n",
      "docker-compose                           pulumi\n",
      "docker-compose-completion                pwntools\n",
      "embulk                                   q\n",
      "emscripten                               qcli\n",
      "erlang@18                                rdesktop\n",
      "erlang@20                                rmlint\n",
      "ethereum                                 sdl2_image\n",
      "fd                                       sdl2_mixer\n",
      "fluent-bit                               selenium-server-standalone\n",
      "fonttools                                shibboleth-sp\n",
      "fork-cleaner                             skafos\n",
      "freetds@0.91                             snapraid\n",
      "fselect                                  source-to-image\n",
      "ghc                                      spdlog\n",
      "git-archive-all                          svtplay-dl\n",
      "git-cinnabar                             tbb\n",
      "git-recent                               tectonic\n",
      "gitlab-runner                            telegraf\n",
      "glibmm                                   tesseract\n",
      "glm                                      thors-serializer\n",
      "gmime                                    topgrade\n",
      "gmsh                                     tor\n",
      "go                                       tox\n",
      "go-statik                                translate-toolkit\n",
      "goaccess                                 travis\n",
      "godep                                    typescript\n",
      "goreleaser                               uriparser\n",
      "gosu                                     vapoursynth\n",
      "grails                                   vim\n",
      "grib-api                                 vips\n",
      "hadolint                                 weechat\n",
      "harfbuzz                                 whois\n",
      "haste-client                             wireguard-tools\n",
      "hebcal                                   xcodegen\n",
      "hive                                     xml-tooling-c\n",
      "hub                                      xmrig\n",
      "hugo                                     yarn\n",
      "i2pd                                     you-get\n",
      "imageworsener                            youtube-dl\n",
      "imapfilter                               yq\n",
      "ioping                                   zanata-client\n",
      "ipython\n",
      "\u001b[34m==>\u001b[0m \u001b[1mDeleted Formulae\u001b[0m\n",
      "kibana@4.4                 nethack4                   ruby@2.2\n",
      "\n",
      "\u001b[33mWarning:\u001b[0m wget 1.19.5 is already installed and up-to-date\n",
      "To reinstall 1.19.5, run `brew reinstall wget`\n"
     ]
    }
   ],
   "source": [
    "!brew install wget"
   ]
  },
  {
   "cell_type": "code",
   "execution_count": 5,
   "metadata": {},
   "outputs": [
    {
     "name": "stdout",
     "output_type": "stream",
     "text": [
      "data directory already present, exiting\n"
     ]
    }
   ],
   "source": [
    "%%bash\n",
    "cd python-mnist\n",
    "./get_data.sh"
   ]
  },
  {
   "cell_type": "code",
   "execution_count": 6,
   "metadata": {},
   "outputs": [],
   "source": [
    "mndata = MNIST('python-mnist/data')\n",
    "images, labels = mndata.load_training()"
   ]
  },
  {
   "cell_type": "code",
   "execution_count": 17,
   "metadata": {},
   "outputs": [],
   "source": [
    "import numpy as np\n",
    "\n",
    "images_array = np.array([np.array(data_pt) for data_pt in images[:5000]])\n",
    "n_samples, n_features = images_array.shape\n",
    "images_centered = images_array - images_array.mean(axis=0)\n",
    "images_centered -= images_centered.mean(axis=1).reshape(n_samples, -1)"
   ]
  },
  {
   "cell_type": "code",
   "execution_count": 18,
   "metadata": {},
   "outputs": [],
   "source": [
    "from sklearn import decomposition\n",
    "\n",
    "pca = decomposition.PCA(n_components=0.8, svd_solver='full')"
   ]
  },
  {
   "cell_type": "code",
   "execution_count": 21,
   "metadata": {},
   "outputs": [
    {
     "data": {
      "text/plain": [
       "array([[-1.32771944e-02, -1.32771944e-02, -1.32771944e-02, ...,\n",
       "        -1.32771944e-02, -1.32771944e-02, -1.32771944e-02],\n",
       "       [-3.66728513e-03, -3.66728513e-03, -3.66728513e-03, ...,\n",
       "        -3.66728513e-03, -3.66728513e-03, -3.66728513e-03],\n",
       "       [-1.82539045e-03, -1.82539045e-03, -1.82539045e-03, ...,\n",
       "        -1.82539045e-03, -1.82539045e-03, -1.82539045e-03],\n",
       "       ...,\n",
       "       [-1.88579037e-03, -1.88579037e-03, -1.88579037e-03, ...,\n",
       "        -1.88579037e-03, -1.88579037e-03, -1.88579037e-03],\n",
       "       [ 1.03690102e-03,  1.03690102e-03,  1.03690102e-03, ...,\n",
       "         1.03690102e-03,  1.03690102e-03,  1.03690102e-03],\n",
       "       [-4.96757936e-05, -4.96757936e-05, -4.96757936e-05, ...,\n",
       "        -4.96757936e-05, -4.96757936e-05, -4.96757936e-05]])"
      ]
     },
     "execution_count": 21,
     "metadata": {},
     "output_type": "execute_result"
    }
   ],
   "source": [
    "pca.fit(images_centered)\n",
    "\n",
    "pca.components_"
   ]
  },
  {
   "cell_type": "code",
   "execution_count": 40,
   "metadata": {},
   "outputs": [],
   "source": [
    "##\n",
    "k = 44\n",
    "d = 784\n",
    "_init_weights = get_random_orthogonal_initializer(k, d)\n",
    "\n",
    "T = 1*n_samples\n",
    "lr = (None, 0.01) \n",
    "#lr = (0.001, 10)\n",
    "algo = KrasulinaPCA(_init_weights, images_centered, \n",
    "                    groundtruth=pca.components_, \n",
    "                    learning_rate=lr, max_iter=T)"
   ]
  },
  {
   "cell_type": "code",
   "execution_count": 41,
   "metadata": {},
   "outputs": [
    {
     "name": "stdout",
     "output_type": "stream",
     "text": [
      "The initial mse: 15694642079.037952\n",
      "The initial loss: 41.551983717851925\n",
      "Finished training 1-th epoch with total 5000 iterations\n",
      "The loss at the 1-th epoch is 27.74256386463691\n"
     ]
    }
   ],
   "source": [
    "algo._train()"
   ]
  },
  {
   "cell_type": "code",
   "execution_count": 42,
   "metadata": {},
   "outputs": [
    {
     "data": {
      "text/plain": [
       "3279955799.556534"
      ]
     },
     "execution_count": 42,
     "metadata": {},
     "output_type": "execute_result"
    }
   ],
   "source": [
    "#eval_mse_loss(images_centered, algo.final_weights_)\n",
    "eval_mse_loss(images_centered, pca.components_)"
   ]
  },
  {
   "cell_type": "code",
   "execution_count": null,
   "metadata": {},
   "outputs": [],
   "source": [
    "print(algo._train_mse_log[0], algo._train_mse_log[-1])\n",
    "print(algo._groundtruth_eval_log[0], algo._groundtruth_eval_log[-1])"
   ]
  },
  {
   "cell_type": "code",
   "execution_count": null,
   "metadata": {},
   "outputs": [],
   "source": [
    "epoch = 0\n",
    "gt_eval_epoch_wise = list()\n",
    "epoch_iters = list()\n",
    "for t, e in enumerate(algo._groundtruth_eval_log):\n",
    "    if t % n_train == 0:\n",
    "        epoch += 1\n",
    "        gt_eval_epoch_wise.append(e)\n",
    "        epoch_iters.append(epoch)"
   ]
  },
  {
   "cell_type": "code",
   "execution_count": null,
   "metadata": {},
   "outputs": [],
   "source": [
    "iterations = range(T)\n",
    "log_iterations = [math.log(t+1) for t in iterations]\n",
    "log_error = [math.log(y) if y > 0 else 0 for y in algo._groundtruth_eval_log]\n",
    "plt.plot(iterations, log_error)\n",
    "#plt.plot(log_iterations, log_error)"
   ]
  },
  {
   "cell_type": "code",
   "execution_count": null,
   "metadata": {},
   "outputs": [],
   "source": [
    "algo._groundtruth_eval_log"
   ]
  },
  {
   "cell_type": "markdown",
   "metadata": {},
   "source": [
    "### Faces low-rank dataset"
   ]
  },
  {
   "cell_type": "code",
   "execution_count": 44,
   "metadata": {},
   "outputs": [
    {
     "name": "stdout",
     "output_type": "stream",
     "text": [
      "Dataset consists of 400 faces\n"
     ]
    }
   ],
   "source": [
    "from numpy.random import RandomState\n",
    "from sklearn.datasets import fetch_olivetti_faces\n",
    "\n",
    "rng = RandomState(0)\n",
    "\n",
    "# Load faces data\n",
    "dataset = fetch_olivetti_faces(shuffle=True, random_state=rng)\n",
    "faces = dataset.data\n",
    "\n",
    "n_samples, n_features = faces.shape\n",
    "\n",
    "# global centering\n",
    "faces_centered = faces - faces.mean(axis=0)\n",
    "\n",
    "# local centering\n",
    "faces_centered -= faces_centered.mean(axis=1).reshape(n_samples, -1)\n",
    "\n",
    "print(\"Dataset consists of %d faces\" % n_samples)"
   ]
  },
  {
   "cell_type": "code",
   "execution_count": 45,
   "metadata": {},
   "outputs": [
    {
     "data": {
      "text/plain": [
       "400"
      ]
     },
     "execution_count": 45,
     "metadata": {},
     "output_type": "execute_result"
    }
   ],
   "source": [
    "len(faces_centered)"
   ]
  },
  {
   "cell_type": "code",
   "execution_count": 46,
   "metadata": {},
   "outputs": [],
   "source": [
    "from sklearn import decomposition\n",
    "\n",
    "pca = decomposition.PCA(n_components=0.8, svd_solver='full')"
   ]
  },
  {
   "cell_type": "code",
   "execution_count": 47,
   "metadata": {},
   "outputs": [
    {
     "data": {
      "text/plain": [
       "PCA(copy=True, iterated_power='auto', n_components=0.8, random_state=None,\n",
       "  svd_solver='full', tol=0.0, whiten=False)"
      ]
     },
     "execution_count": 47,
     "metadata": {},
     "output_type": "execute_result"
    }
   ],
   "source": [
    "pca.fit(faces_centered)"
   ]
  },
  {
   "cell_type": "code",
   "execution_count": 48,
   "metadata": {},
   "outputs": [
    {
     "data": {
      "text/plain": [
       "37"
      ]
     },
     "execution_count": 48,
     "metadata": {},
     "output_type": "execute_result"
    }
   ],
   "source": [
    "pca.n_components_"
   ]
  },
  {
   "cell_type": "code",
   "execution_count": 49,
   "metadata": {},
   "outputs": [
    {
     "data": {
      "text/plain": [
       "(37, 4096)"
      ]
     },
     "execution_count": 49,
     "metadata": {},
     "output_type": "execute_result"
    }
   ],
   "source": [
    "pca.components_.shape"
   ]
  },
  {
   "cell_type": "code",
   "execution_count": 59,
   "metadata": {},
   "outputs": [
    {
     "name": "stdout",
     "output_type": "stream",
     "text": [
      "0.12694351753405397\n"
     ]
    }
   ],
   "source": [
    "##\n",
    "k = 37\n",
    "d = 4096\n",
    "_init_weights = get_random_orthogonal_initializer(k, d)\n",
    "\n",
    "n_train = len(faces_centered)\n",
    "T = 10*n_train\n",
    "#lr = (None, get_default_learning_rate(faces_centered))\n",
    "print(get_default_learning_rate(faces_centered))\n",
    "lr = (None, 0.005) \n",
    "#lr = (0.001, 10)\n",
    "algo = KrasulinaPCA(_init_weights, faces_centered, groundtruth=pca.components_, \n",
    "                    learning_rate=lr, mini_batch_size=1, max_iter=T)"
   ]
  },
  {
   "cell_type": "code",
   "execution_count": 60,
   "metadata": {},
   "outputs": [
    {
     "name": "stdout",
     "output_type": "stream",
     "text": [
      "The initial mse: 24576.25390625\n",
      "The initial loss: 36.642260807775756\n",
      "Finished training 1-th epoch with total 400 iterations\n",
      "The loss at the 1-th epoch is 27.219671664948155\n",
      "Finished training 2-th epoch with total 800 iterations\n",
      "The loss at the 2-th epoch is 20.173153476026574\n",
      "Finished training 3-th epoch with total 1200 iterations\n",
      "The loss at the 3-th epoch is 15.169161347522667\n",
      "Finished training 4-th epoch with total 1600 iterations\n",
      "The loss at the 4-th epoch is 11.481737211239928\n",
      "Finished training 5-th epoch with total 2000 iterations\n",
      "The loss at the 5-th epoch is 8.70158401385547\n",
      "Finished training 6-th epoch with total 2400 iterations\n",
      "The loss at the 6-th epoch is 6.70419849564003\n",
      "Finished training 7-th epoch with total 2800 iterations\n",
      "The loss at the 7-th epoch is 5.2860849857342345\n",
      "Finished training 8-th epoch with total 3200 iterations\n",
      "The loss at the 8-th epoch is 4.319220893847163\n",
      "Finished training 9-th epoch with total 3600 iterations\n",
      "The loss at the 9-th epoch is 3.696010121982687\n",
      "Finished training 10-th epoch with total 4000 iterations\n",
      "The loss at the 10-th epoch is 3.299707862391508\n"
     ]
    }
   ],
   "source": [
    "algo._train()"
   ]
  },
  {
   "cell_type": "code",
   "execution_count": 61,
   "metadata": {},
   "outputs": [],
   "source": [
    "import matplotlib.pyplot as plt\n",
    "import matplotlib\n",
    "matplotlib.rcParams['text.usetex'] = True\n",
    "matplotlib.rcParams['text.latex.unicode'] = True\n",
    "%matplotlib inline"
   ]
  },
  {
   "cell_type": "code",
   "execution_count": 62,
   "metadata": {},
   "outputs": [
    {
     "data": {
      "text/plain": [
       "[<matplotlib.lines.Line2D at 0x1a1e972a90>]"
      ]
     },
     "execution_count": 62,
     "metadata": {},
     "output_type": "execute_result"
    },
    {
     "data": {
      "image/png": "[encoded data removed]",
      "text/plain": [
       "<Figure size 432x288 with 1 Axes>"
      ]
     },
     "metadata": {},
     "output_type": "display_data"
    }
   ],
   "source": [
    "eps = 1e-6\n",
    "log_error = [math.log(y) if y > 0 else math.log(y+eps) for y in algo._groundtruth_eval_log]\n",
    "plt.plot(range(11), log_error)"
   ]
  },
  {
   "cell_type": "code",
   "execution_count": null,
   "metadata": {},
   "outputs": [],
   "source": [
    "algo._groundtruth_eval_log[-1]"
   ]
  },
  {
   "cell_type": "markdown",
   "metadata": {},
   "source": [
    "## 20 Newsgroup"
   ]
  },
  {
   "cell_type": "code",
   "execution_count": 9,
   "metadata": {},
   "outputs": [],
   "source": [
    "from sklearn.datasets import fetch_20newsgroups\n",
    "from sklearn.decomposition import PCA\n",
    "\n",
    "newsgroups_train = fetch_20newsgroups(subset='train')"
   ]
  },
  {
   "cell_type": "code",
   "execution_count": 10,
   "metadata": {},
   "outputs": [
    {
     "name": "stdout",
     "output_type": "stream",
     "text": [
      "['alt.atheism', 'comp.graphics', 'comp.os.ms-windows.misc', 'comp.sys.ibm.pc.hardware', 'comp.sys.mac.hardware', 'comp.windows.x', 'misc.forsale', 'rec.autos', 'rec.motorcycles', 'rec.sport.baseball', 'rec.sport.hockey', 'sci.crypt', 'sci.electronics', 'sci.med', 'sci.space', 'soc.religion.christian', 'talk.politics.guns', 'talk.politics.mideast', 'talk.politics.misc', 'talk.religion.misc']\n"
     ]
    }
   ],
   "source": [
    "print(newsgroups_train.target_names)"
   ]
  },
  {
   "cell_type": "code",
   "execution_count": 11,
   "metadata": {},
   "outputs": [
    {
     "name": "stdout",
     "output_type": "stream",
     "text": [
      "/Users/tcheng/scikit_learn_data/20news_home/20news-bydate-train/rec.autos/102994\n",
      "(11314,)\n",
      "(11314,)\n"
     ]
    }
   ],
   "source": [
    "print(newsgroups_train.filenames[0])\n",
    "print(newsgroups_train.filenames.shape)\n",
    "print(newsgroups_train.target.shape)"
   ]
  },
  {
   "cell_type": "code",
   "execution_count": null,
   "metadata": {},
   "outputs": [],
   "source": [
    "categories = ['comp.os.ms-windows.misc', 'rec.sport.baseball', \n",
    "              'talk.politics.mideast', 'rec.motorcycles', 'soc.religion.christian']\n",
    "newsgroups_train_subcat = fetch_20newsgroups(subset='train', categories=categories)"
   ]
  },
  {
   "cell_type": "code",
   "execution_count": null,
   "metadata": {},
   "outputs": [],
   "source": [
    "#newsgroups_train_subcat.target.shape"
   ]
  },
  {
   "cell_type": "code",
   "execution_count": 13,
   "metadata": {},
   "outputs": [],
   "source": [
    "from sklearn.feature_extraction.text import TfidfVectorizer\n",
    "\n",
    "vectorizer = TfidfVectorizer(lowercase=True, max_features=3000)"
   ]
  },
  {
   "cell_type": "code",
   "execution_count": 14,
   "metadata": {},
   "outputs": [],
   "source": [
    "data_vecs = vectorizer.fit_transform(newsgroups_train.data)"
   ]
  },
  {
   "cell_type": "code",
   "execution_count": 15,
   "metadata": {},
   "outputs": [
    {
     "name": "stdout",
     "output_type": "stream",
     "text": [
      "11314 3000\n"
     ]
    }
   ],
   "source": [
    "n_samples, n_dim = data_vecs.shape\n",
    "print(n_samples, n_dim)"
   ]
  },
  {
   "cell_type": "code",
   "execution_count": 16,
   "metadata": {},
   "outputs": [],
   "source": [
    "# global centering\n",
    "data_vecs_centered = data_vecs - data_vecs.mean(axis=0)\n",
    "\n",
    "# local centering\n",
    "data_vecs_centered -= data_vecs_centered.mean(axis=1).reshape(n_samples, -1)"
   ]
  },
  {
   "cell_type": "code",
   "execution_count": 17,
   "metadata": {},
   "outputs": [
    {
     "data": {
      "text/plain": [
       "PCA(copy=True, iterated_power='auto', n_components=0.8, random_state=None,\n",
       "  svd_solver='full', tol=0.0, whiten=False)"
      ]
     },
     "execution_count": 17,
     "metadata": {},
     "output_type": "execute_result"
    }
   ],
   "source": [
    "pca2 = PCA(n_components=0.8, svd_solver='full')\n",
    "pca2.fit(data_vecs_centered)"
   ]
  },
  {
   "cell_type": "code",
   "execution_count": 18,
   "metadata": {},
   "outputs": [
    {
     "data": {
      "text/plain": [
       "1134"
      ]
     },
     "execution_count": 18,
     "metadata": {},
     "output_type": "execute_result"
    }
   ],
   "source": [
    "pca2.n_components_"
   ]
  },
  {
   "cell_type": "code",
   "execution_count": 19,
   "metadata": {},
   "outputs": [
    {
     "data": {
      "text/plain": [
       "(11314, 3000)"
      ]
     },
     "execution_count": 19,
     "metadata": {},
     "output_type": "execute_result"
    }
   ],
   "source": [
    "data_vecs_centered.shape"
   ]
  },
  {
   "cell_type": "code",
   "execution_count": 34,
   "metadata": {},
   "outputs": [
    {
     "name": "stdout",
     "output_type": "stream",
     "text": [
      "Total number of iterations: 565; log frequency: 113\n"
     ]
    }
   ],
   "source": [
    "##\n",
    "k = 1134\n",
    "d = 3000\n",
    "_init_weights = get_random_orthogonal_initializer(k, d)\n",
    "\n",
    "n_train = len(data_vecs_centered)\n",
    "T = int(10*n_train*0.005)\n",
    "log_freq = int(T*0.2)\n",
    "print(f\"Total number of iterations: {T}; log frequency: {log_freq}\")\n",
    "#lr = (None, get_default_learning_rate(faces_centered))\n",
    "#print(get_default_learning_rate(data_vecs_centered))\n",
    "#lr = (None, 0.005) \n",
    "#lr = (None, 0.01)\n",
    "#lr = (0.001, 10)\n",
    "algo = KrasulinaPCA(_init_weights, data_vecs_centered, groundtruth=pca2.components_, \n",
    "                    learning_rate=lr, mini_batch_size=1, max_iter=T, sampling=True, log_freq=log_freq)"
   ]
  },
  {
   "cell_type": "code",
   "execution_count": 35,
   "metadata": {},
   "outputs": [
    {
     "name": "stdout",
     "output_type": "stream",
     "text": [
      "The initial mse: 6282.574316331447\n",
      "The initial loss: 706.0451081299427\n",
      "The loss at the 0-th epoch is 705.8471278820512\n",
      "The loss at the 0-th epoch is 705.6509098778461\n",
      "The loss at the 0-th epoch is 705.4467747724991\n",
      "The loss at the 0-th epoch is 705.2439521136184\n",
      "The loss at the 0-th epoch is 705.0393827014783\n"
     ]
    }
   ],
   "source": [
    "algo._train()"
   ]
  },
  {
   "cell_type": "code",
   "execution_count": 39,
   "metadata": {},
   "outputs": [
    {
     "data": {
      "text/plain": [
       "6"
      ]
     },
     "execution_count": 39,
     "metadata": {},
     "output_type": "execute_result"
    }
   ],
   "source": [
    "len(algo._groundtruth_eval_log)"
   ]
  },
  {
   "cell_type": "code",
   "execution_count": 43,
   "metadata": {},
   "outputs": [
    {
     "data": {
      "text/plain": [
       "[<matplotlib.lines.Line2D at 0x1a1e96af28>]"
      ]
     },
     "execution_count": 43,
     "metadata": {},
     "output_type": "execute_result"
    },
    {
     "data": {
      "image/png": "[encoded data removed]",
      "text/plain": [
       "<Figure size 432x288 with 1 Axes>"
      ]
     },
     "metadata": {},
     "output_type": "display_data"
    }
   ],
   "source": [
    "eps = 1e-6\n",
    "log_error = [math.log(y) if y > 0 else math.log(y+eps) for y in algo._groundtruth_eval_log]\n",
    "#plt.plot(range(6), log_error)\n",
    "plt.plot(range(6), algo._groundtruth_eval_log, 'o-')"
   ]
  },
  {
   "cell_type": "markdown",
   "metadata": {},
   "source": [
    "## Vgg Dataset"
   ]
  },
  {
   "cell_type": "markdown",
   "metadata": {},
   "source": [
    "script adapted from <https://github.com/cmusatyalab/openface/blob/master/data/vgg/download-and-align.py>"
   ]
  },
  {
   "cell_type": "code",
   "execution_count": 23,
   "metadata": {},
   "outputs": [],
   "source": [
    "!rm -r aligned"
   ]
  },
  {
   "cell_type": "code",
   "execution_count": 24,
   "metadata": {},
   "outputs": [
    {
     "name": "stdout",
     "output_type": "stream",
     "text": [
      "Extracting images of Aamir_Khan\n",
      "Aamir_Khan has 492 images\n",
      "Extracting images of Aaron_Staton\n",
      "Aaron_Staton has 590 images\n",
      "Extracting images of Aaron_Tveit\n",
      "Aaron_Tveit has 654 images\n",
      "Extracting images of Aaron_Yoo\n",
      "Aaron_Yoo has 657 images\n",
      "Extracting images of Abbie_Cornish\n",
      "Abbie_Cornish has 599 images\n",
      "Extracting images of Abel_Ferrara\n",
      "Abel_Ferrara has 579 images\n",
      "Extracting images of Abigail_Breslin\n",
      "Abigail_Breslin has 615 images\n",
      "Extracting images of Abigail_Klein\n",
      "Abigail_Klein has 517 images\n",
      "Extracting images of Abigail_Spencer\n",
      "Abigail_Spencer has 651 images\n",
      "Extracting images of Abraham_Benrubi\n",
      "Abraham_Benrubi has 568 images\n",
      "Extracting images of Adam_Baldwin\n",
      "Adam_Baldwin has 573 images\n",
      "Extracting images of Adam_Beach\n",
      "Adam_Beach has 588 images\n",
      "Extracting images of Adam_Brody\n",
      "Adam_Brody has 620 images\n",
      "Extracting images of Adam_Buxton\n",
      "Adam_Buxton has 507 images\n",
      "Extracting images of Adam_Copeland\n",
      "Adam_Copeland has 615 images\n",
      "Extracting images of Adam_Driver\n",
      "Adam_Driver has 540 images\n",
      "Extracting images of Adam_Garcia\n",
      "Adam_Garcia has 652 images\n",
      "Extracting images of Adam_Godley\n",
      "Adam_Godley has 563 images\n",
      "Extracting images of Adam_Goldberg\n",
      "Adam_Goldberg has 605 images\n",
      "Extracting images of Adam_Gregory\n",
      "Adam_Gregory has 676 images\n",
      "('raw/Aaron_Staton./26a00f99b996086', 'Aaron_Staton', 'http://ia.media-imdb.com/images/M/MV5BMTkzODcxNDkyOF5BMl5BanBnXkFtZTcwMDk0Nzc2Mw@@._V1_.jpg', (23, 114, 228, 320))\n",
      "OpenCV(3.4.3) /Users/travis/build/skvark/opencv-python/opencv/modules/imgcodecs/src/loadsave.cpp:684: error: (-2:Unspecified error) could not find a writer for the specified extension in function 'imwrite_'\n",
      "\n",
      "('raw/Aaron_Yoo./5813312cc006c88', 'Aaron_Yoo', 'http://static10.imagecollect.com/preview/560/1624178d8b3a1c4', (122, 122, 339, 339))\n",
      "OpenCV(3.4.3) /Users/travis/build/skvark/opencv-python/opencv/modules/imgcodecs/src/loadsave.cpp:684: error: (-2:Unspecified error) could not find a writer for the specified extension in function 'imwrite_'\n",
      "\n",
      "('raw/Aaron_Staton./37238e28abc85a1', 'Aaron_Staton', 'http://cdn.sheknows.com/articles/2013/04/aaron-staton-connie-fletcher.jpg', (139, 50, 228, 139))\n",
      "OpenCV(3.4.3) /Users/travis/build/skvark/opencv-python/opencv/modules/imgcodecs/src/loadsave.cpp:684: error: (-2:Unspecified error) could not find a writer for the specified extension in function 'imwrite_'\n",
      "\n",
      "('raw/Aaron_Staton./3a3e3b8d11864d7', 'Aaron_Staton', 'http://cdn.c.photoshelter.com/img-get/I000075yXMSdmXgE/s/750/750/2281-Aaron-Staton-and-Connie.jpg', (154, 70, 278, 195))\n",
      "OpenCV(3.4.3) /Users/travis/build/skvark/opencv-python/opencv/modules/imgcodecs/src/loadsave.cpp:684: error: (-2:Unspecified error) could not find a writer for the specified extension in function 'imwrite_'\n",
      "\n",
      "('raw/Aaron_Staton./3be5af1a719ab79', 'Aaron_Staton', 'http://4.bp.blogspot.com/_hpgX-yqoglg/SQXImz4JCoI/AAAAAAAACYA/ilRP99DMvqs/s400/aaron%2Bstation%2Bscruffy.jpg', (60, 79, 238, 258))\n",
      "OpenCV(3.4.3) /Users/travis/build/skvark/opencv-python/opencv/modules/imgcodecs/src/loadsave.cpp:684: error: (-2:Unspecified error) could not find a writer for the specified extension in function 'imwrite_'\n",
      "\n",
      "('raw/Aaron_Yoo./64d92c39f43e5df', 'Aaron_Yoo', 'http://www2.pictures.gi.zimbio.com/Premiere+Good+Guy+2009+Tribeca+Film+Festival+MRRWEQ6Kmn0m.jpg', (143, 90, 211, 158))\n",
      "OpenCV(3.4.3) /Users/travis/build/skvark/opencv-python/opencv/modules/imgcodecs/src/loadsave.cpp:684: error: (-2:Unspecified error) could not find a writer for the specified extension in function 'imwrite_'\n",
      "\n",
      "('raw/Aaron_Staton./3f20c26770dc107', 'Aaron_Staton', 'http://www.aceshowbiz.com/images/wennpic/aaron-staton-premiere-mad-men-season-6-02.jpg', (295, 57, 395, 158))\n",
      "OpenCV(3.4.3) /Users/travis/build/skvark/opencv-python/opencv/modules/imgcodecs/src/loadsave.cpp:684: error: (-2:Unspecified error) could not find a writer for the specified extension in function 'imwrite_'\n",
      "\n",
      "('raw/Aaron_Yoo./ade0cd7995cc985', 'Aaron_Yoo', 'http://media-cache-ak0.pinimg.com/736x/ca/8a/b2/ca8ab22908537759c921d6cf0f406a2d.jpg', (90, 53, 158, 120))\n",
      "OpenCV(3.4.3) /Users/travis/build/skvark/opencv-python/opencv/modules/imgcodecs/src/loadsave.cpp:684: error: (-2:Unspecified error) could not find a writer for the specified extension in function 'imwrite_'\n",
      "\n",
      "('raw/Aaron_Staton./3f637065111714d', 'Aaron_Staton', 'http://3.bp.blogspot.com/_hpgX-yqoglg/SQXH47E4pqI/AAAAAAAACX4/gW5DIqLyzHQ/s400/aaron%2Bstaton.jpg', (137, 57, 240, 160))\n",
      "OpenCV(3.4.3) /Users/travis/build/skvark/opencv-python/opencv/modules/imgcodecs/src/loadsave.cpp:684: error: (-2:Unspecified error) could not find a writer for the specified extension in function 'imwrite_'\n",
      "\n",
      "('raw/Aamir_Khan./10157046.cms', 'Aamir_Khan', 'http://www.indiantelevision.com/sites/drupal7.indiantelevision.co.in/files/images/tv-images/2014/05/26/aamir_khan_0.jpg', (146, 98, 254, 206))\n",
      "OpenCV(3.4.3) /Users/travis/build/skvark/opencv-python/opencv/modules/imgcodecs/src/loadsave.cpp:684: error: (-2:Unspecified error) could not find a writer for the specified extension in function 'imwrite_'\n",
      "\n",
      "('raw/Aamir_Khan./10654316.cms', 'Aamir_Khan', 'http://cdn.koimoi.com/wp-content/new-galleries/2013/12/Aamir-Khan-Applying-Body-Art-Dhoom-3.jpg', (146, 61, 254, 169))\n",
      "OpenCV(3.4.3) /Users/travis/build/skvark/opencv-python/opencv/modules/imgcodecs/src/loadsave.cpp:684: error: (-2:Unspecified error) could not find a writer for the specified extension in function 'imwrite_'\n",
      "\n",
      "('raw/Aamir_Khan./10667326.cms', 'Aamir_Khan', 'http://www.thehindu.com/multimedia/dynamic/01102/DE03-PAGE_3_CITY-A_1102584e.jpg', (98, 84, 225, 211))\n",
      "OpenCV(3.4.3) /Users/travis/build/skvark/opencv-python/opencv/modules/imgcodecs/src/loadsave.cpp:684: error: (-2:Unspecified error) could not find a writer for the specified extension in function 'imwrite_'\n",
      "\n",
      "('raw/Aamir_Khan./10990980.cms', 'Aamir_Khan', 'http://zns.india.com/upload/2013/1/28/aamir301.jpg', (117, 43, 213, 138))\n",
      "OpenCV(3.4.3) /Users/travis/build/skvark/opencv-python/opencv/modules/imgcodecs/src/loadsave.cpp:684: error: (-2:Unspecified error) could not find a writer for the specified extension in function 'imwrite_'\n",
      "\n",
      "('raw/Aaron_Yoo./6ac289461cb72c9', 'Aaron_Yoo', 'http://www4.pictures.gi.zimbio.com/Cocktail%252BReception%252BCelebrating%252B2009%252BTribeca%252B-EZ281aEbdQl.jpg', (129, 119, 216, 206))\n",
      "OpenCV(3.4.3) /Users/travis/build/skvark/opencv-python/opencv/modules/imgcodecs/src/loadsave.cpp:684: error: (-2:Unspecified error) could not find a writer for the specified extension in function 'imwrite_'\n",
      "\n",
      "('raw/Aaron_Staton./4df6cb50d6e8f50', 'Aaron_Staton', 'http://i32.tinypic.com/jg7c7q.jpg', (170, 80, 271, 181))\n",
      "OpenCV(3.4.3) /Users/travis/build/skvark/opencv-python/opencv/modules/imgcodecs/src/loadsave.cpp:684: error: (-2:Unspecified error) could not find a writer for the specified extension in function 'imwrite_'\n",
      "\n",
      "('raw/Aamir_Khan./11176649.cms', 'Aamir_Khan', 'http://www.bolegaindia.com/images/gossips/aamir-khan-post_1357884653.jpg', (90, 60, 226, 196))\n",
      "OpenCV(3.4.3) /Users/travis/build/skvark/opencv-python/opencv/modules/imgcodecs/src/loadsave.cpp:684: error: (-2:Unspecified error) could not find a writer for the specified extension in function 'imwrite_'\n",
      "\n",
      "('raw/Aamir_Khan./11364509.cms', 'Aamir_Khan', 'http://www.bolegaindia.com/images/gossips/aamir-khan_post_1339066260.jpg', (122, 61, 232, 171))\n",
      "OpenCV(3.4.3) /Users/travis/build/skvark/opencv-python/opencv/modules/imgcodecs/src/loadsave.cpp:684: error: (-2:Unspecified error) could not find a writer for the specified extension in function 'imwrite_'\n",
      "\n",
      "('raw/Aaron_Yoo./739318ba6d134c7', 'Aaron_Yoo', 'http://cps-static.rovicorp.com/2/Open/Getty/Aaron%20Yoo/_derived_jpg_q90_250x250_m0/142504155.jpg?partner=allrovi.com', (82, 20, 111, 49))\n",
      "OpenCV(3.4.3) /Users/travis/build/skvark/opencv-python/opencv/modules/imgcodecs/src/loadsave.cpp:684: error: (-2:Unspecified error) could not find a writer for the specified extension in function 'imwrite_'\n",
      "\n",
      "('raw/Aamir_Khan./11602275.cms', 'Aamir_Khan', 'http://www.friendsmania.net/fashion/wp-content/uploads/2013/03/Actor-Aamir-Khan-Happy-Birthday-Pictures-2013.jpg', (520, 104, 753, 337))\n",
      "OpenCV(3.4.3) /Users/travis/build/skvark/opencv-python/opencv/modules/imgcodecs/src/loadsave.cpp:684: error: (-2:Unspecified error) could not find a writer for the specified extension in function 'imwrite_'\n",
      "\n"
     ]
    },
    {
     "name": "stdout",
     "output_type": "stream",
     "text": [
      "('raw/Aaron_Yoo./b4ac9475e6a1d48', 'Aaron_Yoo', 'http://www3.pictures.gi.zimbio.com/Rocket%252520Science%2525202007%252520Sundance%252520Portrait%252520Session%2525202qnrvMZ_Gyfl.jpg', (202, 40, 274, 113))\n",
      "OpenCV(3.4.3) /Users/travis/build/skvark/opencv-python/opencv/modules/imgcodecs/src/loadsave.cpp:684: error: (-2:Unspecified error) could not find a writer for the specified extension in function 'imwrite_'\n",
      "\n",
      "('raw/Aaron_Yoo./b782eb742ec58e1', 'Aaron_Yoo', 'http://static.tvgcdn.net/MediaBin/Galleries/Shows/S_Z/Ti_Tp/Tomorrow_People/season1/tomorrow-people-99.jpg', (99, 79, 189, 169))\n",
      "OpenCV(3.4.3) /Users/travis/build/skvark/opencv-python/opencv/modules/imgcodecs/src/loadsave.cpp:684: error: (-2:Unspecified error) could not find a writer for the specified extension in function 'imwrite_'\n",
      "\n",
      "('raw/Aamir_Khan./12258831.cms', 'Aamir_Khan', 'http://www.india-forums.com/tellybuzz/images/uploads/5E4_aamir-khan.jpg', (239, 50, 328, 139))\n",
      "OpenCV(3.4.3) /Users/travis/build/skvark/opencv-python/opencv/modules/imgcodecs/src/loadsave.cpp:684: error: (-2:Unspecified error) could not find a writer for the specified extension in function 'imwrite_'\n",
      "\n",
      "('raw/Aaron_Staton./aaron_staton_2980005jpg', 'Aaron_Staton', 'http://image.shutterstock.com/display_pic_with_logo/842284/102203542/stock-photo-aaron-staton-and-wife-at-the-world-premiere-of-quot-project-natal-quot-for-xbox-imagined-by-102203542.jpg', (156, 43, 194, 82))\n",
      "OpenCV(3.4.3) /Users/travis/build/skvark/opencv-python/opencv/modules/imgcodecs/src/loadsave.cpp:684: error: (-2:Unspecified error) could not find a writer for the specified extension in function 'imwrite_'\n",
      "\n",
      "('raw/Aamir_Khan./13131980.cms', 'Aamir_Khan', 'http://static.ibnlive.in.com/ibnlive/pix/sitepix/05_2012/aamirstaya222.jpg', (212, 85, 401, 274))\n",
      "OpenCV(3.4.3) /Users/travis/build/skvark/opencv-python/opencv/modules/imgcodecs/src/loadsave.cpp:684: error: (-2:Unspecified error) could not find a writer for the specified extension in function 'imwrite_'\n",
      "\n",
      "('raw/Aaron_Yoo./8dcf4d49f1bdda5', 'Aaron_Yoo', 'http://www.movpins.com/big/MV5BMTkxMzIzOTQyOF5BMl5BanBnXkFtZTcwODk4NzEzMg/amanda-righetti,-danielle-panabaker,-julianna-guill-and-aaron-yoo-at-event-of-friday-the-13th-(2009)-large-picture.jpg', (213, 74, 255, 116))\n",
      "OpenCV(3.4.3) /Users/travis/build/skvark/opencv-python/opencv/modules/imgcodecs/src/loadsave.cpp:684: error: (-2:Unspecified error) could not find a writer for the specified extension in function 'imwrite_'\n",
      "\n",
      "('raw/Aaron_Yoo./beda58b130e4a6d', 'Aaron_Yoo', 'http://www2.pictures.zimbio.com/gi/Aaron%252BYoo%252BCW%252BCBS%252BShowtime%252B2013%252BSummer%252BTCA%252BJCKuc31hfb2l.jpg', (401, 105, 472, 176))\n",
      "OpenCV(3.4.3) /Users/travis/build/skvark/opencv-python/opencv/modules/imgcodecs/src/loadsave.cpp:684: error: (-2:Unspecified error) could not find a writer for the specified extension in function 'imwrite_'\n",
      "\n",
      "('raw/Aaron_Staton./58fef23fcfd504b', 'Aaron_Staton', 'http://static5.imagecollect.com/preview/560/58fef23fcfd504b', (114, 159, 316, 362))\n",
      "OpenCV(3.4.3) /Users/travis/build/skvark/opencv-python/opencv/modules/imgcodecs/src/loadsave.cpp:684: error: (-2:Unspecified error) could not find a writer for the specified extension in function 'imwrite_'\n",
      "\n",
      "('raw/Aaron_Staton./60044e1df08a7bb', 'Aaron_Staton', 'http://static.fjcdn.com/comments/Not%252Bforgetting%252Baaron%252Bstaton%252B_913567ef04a2dadd0f76c084084b23ed.png', (145, 65, 288, 208))\n",
      "OpenCV(3.4.3) /Users/travis/build/skvark/opencv-python/opencv/modules/imgcodecs/src/loadsave.cpp:684: error: (-2:Unspecified error) could not find a writer for the specified extension in function 'imwrite_'\n",
      "\n",
      "('raw/Aamir_Khan./13868748.cms', 'Aamir_Khan', 'http://www.glamsham.com/movies/scoops/13/sep/aamir-khan-shraddha-kapoor.jpg', (60, 75, 196, 211))\n",
      "OpenCV(3.4.3) /Users/travis/build/skvark/opencv-python/opencv/modules/imgcodecs/src/loadsave.cpp:684: error: (-2:Unspecified error) could not find a writer for the specified extension in function 'imwrite_'\n",
      "\n",
      "('raw/Aaron_Yoo./9556b3d8b4e3f86', 'Aaron_Yoo', 'http://theideagirlsays.files.wordpress.com/2012/05/aaron-yoo-the-bedford-diaries-james-fong-she-wants-me-film-18-sept-2012.jpg', (95, 60, 173, 138))\n",
      "OpenCV(3.4.3) /Users/travis/build/skvark/opencv-python/opencv/modules/imgcodecs/src/loadsave.cpp:684: error: (-2:Unspecified error) could not find a writer for the specified extension in function 'imwrite_'\n",
      "\n",
      "('raw/Aamir_Khan./13897700.cms', 'Aamir_Khan', 'http://www.khaama.com/wp-content/uploads/2012/10/Aamir-Khan.jpg', (168, 112, 417, 362))\n",
      "OpenCV(3.4.3) /Users/travis/build/skvark/opencv-python/opencv/modules/imgcodecs/src/loadsave.cpp:684: error: (-2:Unspecified error) could not find a writer for the specified extension in function 'imwrite_'\n",
      "\n",
      "('raw/Aaron_Staton./61ffcfb3e5b7822', 'Aaron_Staton', 'http://directv.images.cust.footprint.net/photos/celebs/v3/NowShowing/495823/495823_v3_ba.jpg', (21, 64, 213, 256))\n",
      "OpenCV(3.4.3) /Users/travis/build/skvark/opencv-python/opencv/modules/imgcodecs/src/loadsave.cpp:684: error: (-2:Unspecified error) could not find a writer for the specified extension in function 'imwrite_'\n",
      "\n",
      "('raw/Aamir_Khan./14235191.cms', 'Aamir_Khan', 'http://www.bollywoodjournal.com/wp-content/uploads/2012/04/Aamir-Khan1-e1333627114231.jpg', (103, 57, 205, 160))\n",
      "OpenCV(3.4.3) /Users/travis/build/skvark/opencv-python/opencv/modules/imgcodecs/src/loadsave.cpp:684: error: (-2:Unspecified error) could not find a writer for the specified extension in function 'imwrite_'\n",
      "\n",
      "('raw/Aamir_Khan./14821974.cms', 'Aamir_Khan', 'http://images.desimartini.com/media/uploads/aamir_khan_dhoom_3.jpg', (166, 92, 330, 257))\n",
      "OpenCV(3.4.3) /Users/travis/build/skvark/opencv-python/opencv/modules/imgcodecs/src/loadsave.cpp:684: error: (-2:Unspecified error) could not find a writer for the specified extension in function 'imwrite_'\n",
      "\n",
      "('raw/Aaron_Yoo./97ed8f_69e8605fb53eeb0ea47e9746615a2ab5.jpg_srz_794_872_85_22_0.50_1.20_0.00_jpg_srz', 'Aaron_Yoo', 'http://static1.wikia.nocookie.net/__cb20131226113153/the-tomorrow-people/images/thumb/1/1c/Aaron_Yoo_imdb.jpg/200px-0,447,65,289-Aaron_Yoo_imdb.jpg', (91, 28, 154, 91))\n",
      "OpenCV(3.4.3) /Users/travis/build/skvark/opencv-python/opencv/modules/imgcodecs/src/loadsave.cpp:684: error: (-2:Unspecified error) could not find a writer for the specified extension in function 'imwrite_'\n",
      "\n",
      "('raw/Aamir_Khan./15325902.cms', 'Aamir_Khan', 'http://www.buzzradioonline.co.uk/wp-content/uploads/2014/02/aamir.jpg', (136, 114, 339, 316))\n",
      "OpenCV(3.4.3) /Users/travis/build/skvark/opencv-python/opencv/modules/imgcodecs/src/loadsave.cpp:684: error: (-2:Unspecified error) could not find a writer for the specified extension in function 'imwrite_'\n",
      "\n",
      "('raw/Aamir_Khan./15434381.cms', 'Aamir_Khan', 'http://977mag.com/wp-content/uploads/2014/07/aamirkhan.jpg', (64, 107, 256, 298))\n",
      "OpenCV(3.4.3) /Users/travis/build/skvark/opencv-python/opencv/modules/imgcodecs/src/loadsave.cpp:684: error: (-2:Unspecified error) could not find a writer for the specified extension in function 'imwrite_'\n",
      "\n",
      "('raw/Aamir_Khan./15581215.cms', 'Aamir_Khan', 'http://businessofcinema.com/wp-content/uploads/2013/08/AAMIR10082013.jpg', (208, 130, 441, 363))\n",
      "OpenCV(3.4.3) /Users/travis/build/skvark/opencv-python/opencv/modules/imgcodecs/src/loadsave.cpp:684: error: (-2:Unspecified error) could not find a writer for the specified extension in function 'imwrite_'\n",
      "\n",
      "('raw/Aaron_Yoo./c1263a45595d079', 'Aaron_Yoo', 'http://static.wixstatic.com/media/97ed8f_69e8605fb53eeb0ea47e9746615a2ab5.jpg_srz_794_872_85_22_0.50_1.20_0.00_jpg_srz', (171, 122, 281, 232))\n",
      "OpenCV(3.4.3) /Users/travis/build/skvark/opencv-python/opencv/modules/imgcodecs/src/loadsave.cpp:684: error: (-2:Unspecified error) could not find a writer for the specified extension in function 'imwrite_'\n",
      "\n",
      "('raw/Aaron_Yoo./c4da0da29e2a13a', 'Aaron_Yoo', 'http://cdn.sheknows.com/articles/crave/Disturbia-Aaron-Shia.jpg', (211, 70, 274, 133))\n",
      "OpenCV(3.4.3) /Users/travis/build/skvark/opencv-python/opencv/modules/imgcodecs/src/loadsave.cpp:684: error: (-2:Unspecified error) could not find a writer for the specified extension in function 'imwrite_'\n",
      "\n",
      "('raw/Aaron_Staton./6453028f80b27af', 'Aaron_Staton', 'http://i26.tinypic.com/14y8j8j.jpg', (394, 63, 457, 126))\n",
      "OpenCV(3.4.3) /Users/travis/build/skvark/opencv-python/opencv/modules/imgcodecs/src/loadsave.cpp:684: error: (-2:Unspecified error) could not find a writer for the specified extension in function 'imwrite_'\n",
      "\n"
     ]
    },
    {
     "name": "stdout",
     "output_type": "stream",
     "text": [
      "('raw/Aaron_Staton./6a00d8341c9cc153ef0154337f4331970c-800wi', 'Aaron_Staton', 'http://www.brandish.tv/assets_c/2009/02/wenn5199155-thumb-430x644-75558.jpg', (193, 113, 336, 256))\n",
      "OpenCV(3.4.3) /Users/travis/build/skvark/opencv-python/opencv/modules/imgcodecs/src/loadsave.cpp:684: error: (-2:Unspecified error) could not find a writer for the specified extension in function 'imwrite_'\n",
      "\n",
      "('raw/Aamir_Khan./18219647.cms', 'Aamir_Khan', 'http://cdn2.business2community.com/wp-content/uploads/2014/03/Aamir_Khan_Facebook.png', (256, 85, 448, 277))\n",
      "OpenCV(3.4.3) /Users/travis/build/skvark/opencv-python/opencv/modules/imgcodecs/src/loadsave.cpp:684: error: (-2:Unspecified error) could not find a writer for the specified extension in function 'imwrite_'\n",
      "\n",
      "('raw/Abbie_Cornish./320?cb=20130331182802', 'Abbie_Cornish', 'http://1.bp.blogspot.com/_-_DtO2esyA0/SkyLMb1RybI/AAAAAAAAANU/MnYepHmr71k/s400/0011-Abbie-Cornish.jpg', (46, 114, 251, 320))\n",
      "OpenCV(3.4.3) /Users/travis/build/skvark/opencv-python/opencv/modules/imgcodecs/src/loadsave.cpp:684: error: (-2:Unspecified error) could not find a writer for the specified extension in function 'imwrite_'\n",
      "\n",
      "('raw/Abbie_Cornish./3376a5f2719be8c', 'Abbie_Cornish', 'http://www4.pictures.zimbio.com/bg/Ryan%252Band%252BAbbie%252Bhold%252Bon%252Btight%252BAwJIRfQU7g5l.jpg', (84, 84, 208, 208))\n",
      "OpenCV(3.4.3) /Users/travis/build/skvark/opencv-python/opencv/modules/imgcodecs/src/loadsave.cpp:684: error: (-2:Unspecified error) could not find a writer for the specified extension in function 'imwrite_'\n",
      "\n",
      "('raw/Aaron_Staton./768', 'Aaron_Staton', 'http://marriedwife.files.wordpress.com/2011/06/aaronstaton1.jpg', (845, 75, 980, 211))\n",
      "OpenCV(3.4.3) /Users/travis/build/skvark/opencv-python/opencv/modules/imgcodecs/src/loadsave.cpp:684: error: (-2:Unspecified error) could not find a writer for the specified extension in function 'imwrite_'\n",
      "\n",
      "('raw/Aaron_Staton./b83a9d8466527ea', 'Aaron_Staton', 'http://s.show4me.ru/2014/02/103241.jpg', (68, 91, 274, 297))\n",
      "OpenCV(3.4.3) /Users/travis/build/skvark/opencv-python/opencv/modules/imgcodecs/src/loadsave.cpp:684: error: (-2:Unspecified error) could not find a writer for the specified extension in function 'imwrite_'\n",
      "\n",
      "('raw/Aaron_Yoo./s640x480', 'Aaron_Yoo', 'http://3.bp.blogspot.com/-VJ9DRdA06z4/T2C7GwL1LaI/AAAAAAABDYM/GAsnOqgkGek/s800/0-1-4-done.jpg', (209, 97, 352, 240))\n",
      "OpenCV(3.4.3) /Users/travis/build/skvark/opencv-python/opencv/modules/imgcodecs/src/loadsave.cpp:684: error: (-2:Unspecified error) could not find a writer for the specified extension in function 'imwrite_'\n",
      "\n",
      "('raw/Aaron_Staton./7a0555be187d58d', 'Aaron_Staton', 'http://v017o.popscreen.com/WmpndFNnRnRBMmMx_o_aaron-staton-ken-cosgrove-from-mad-men-on-starcam.jpg', (203, 85, 298, 181))\n",
      "OpenCV(3.4.3) /Users/travis/build/skvark/opencv-python/opencv/modules/imgcodecs/src/loadsave.cpp:684: error: (-2:Unspecified error) could not find a writer for the specified extension in function 'imwrite_'\n",
      "\n",
      "('raw/Aaron_Staton./867cc7702d90f22', 'Aaron_Staton', 'http://4.bp.blogspot.com/-KDb3yR9kgyg/Ten4UeLgc7I/AAAAAAAAAC0/bEURo0XgLN8/s1600/kencosgrove.jpg', (65, 81, 210, 226))\n",
      "OpenCV(3.4.3) /Users/travis/build/skvark/opencv-python/opencv/modules/imgcodecs/src/loadsave.cpp:684: error: (-2:Unspecified error) could not find a writer for the specified extension in function 'imwrite_'\n",
      "\n",
      "('raw/Aaron_Staton./87d964c6bfe0f4e', 'Aaron_Staton', 'http://ilarge.listal.com/image/1566430/968full-aaron-staton.jpg', (225, 97, 512, 384))\n",
      "OpenCV(3.4.3) /Users/travis/build/skvark/opencv-python/opencv/modules/imgcodecs/src/loadsave.cpp:684: error: (-2:Unspecified error) could not find a writer for the specified extension in function 'imwrite_'\n",
      "\n",
      "libpng warning: iCCP: known incorrect sRGB profile\n",
      "('raw/Aamir_Khan./26042485.cms', 'Aamir_Khan', 'http://www.filmitadka.in/images/stories/gossip/Aamir-Khan-and-Shahrukh-Khan.jpg', (241, 56, 325, 139))\n",
      "OpenCV(3.4.3) /Users/travis/build/skvark/opencv-python/opencv/modules/imgcodecs/src/loadsave.cpp:684: error: (-2:Unspecified error) could not find a writer for the specified extension in function 'imwrite_'\n",
      "\n",
      "('raw/Aaron_Yoo./e3544b0c2d9d20e', 'Aaron_Yoo', 'http://img4.wikia.nocookie.net/__cb20100421181513/headhuntershorrorhouse/images/thumb/5/52/Aaron_Yoo.jpg/200px-0%2C680%2C102%2C442-Aaron_Yoo.jpg', (89, -9, 179, 79))\n",
      "OpenCV(3.4.3) /Users/travis/build/skvark/opencv-python/opencv/modules/imgcodecs/src/loadsave.cpp:684: error: (-2:Unspecified error) could not find a writer for the specified extension in function 'imwrite_'\n",
      "\n",
      "('raw/Aaron_Yoo./e37d960effb79dd', 'Aaron_Yoo', 'http://i1.ytimg.com/vi/1geDB-I2TjE/hqdefault.jpg', (223, 92, 341, 210))\n",
      "OpenCV(3.4.3) /Users/travis/build/skvark/opencv-python/opencv/modules/imgcodecs/src/loadsave.cpp:684: error: (-2:Unspecified error) could not find a writer for the specified extension in function 'imwrite_'\n",
      "\n",
      "('raw/Aaron_Staton./Aaron%20Staton%202.jpg?partner=allrovi.com', 'Aaron_Staton', 'http://www3.pictures.zimbio.com/gi/Aaron%252BStaton%252BConnie%252BFletcher%252BPremiere%252BAMC%252BwJK_QsuGLL6l.jpg', (122, 43, 177, 98))\n",
      "OpenCV(3.4.3) /Users/travis/build/skvark/opencv-python/opencv/modules/imgcodecs/src/loadsave.cpp:684: error: (-2:Unspecified error) could not find a writer for the specified extension in function 'imwrite_'\n",
      "\n",
      "('raw/Aaron_Yoo./f084ad40f4a4335', 'Aaron_Yoo', 'http://static4.imagecollect.com/preview/560/6ac289461cb72c9', (146, 61, 254, 169))\n",
      "OpenCV(3.4.3) /Users/travis/build/skvark/opencv-python/opencv/modules/imgcodecs/src/loadsave.cpp:684: error: (-2:Unspecified error) could not find a writer for the specified extension in function 'imwrite_'\n",
      "\n",
      "('raw/Aaron_Staton./cad6d086ae386be', 'Aaron_Staton', 'http://static.digitalhit.com/sag/16/2010-sag-awards-0110.jpg', (151, 33, 210, 91))\n",
      "OpenCV(3.4.3) /Users/travis/build/skvark/opencv-python/opencv/modules/imgcodecs/src/loadsave.cpp:684: error: (-2:Unspecified error) could not find a writer for the specified extension in function 'imwrite_'\n",
      "\n",
      "('raw/Aaron_Tveit./aaron-tveit-graceland.jpg?width=300&height=250&quality=0.7', 'Aaron_Tveit', 'http://img.spokeo.com/public/900-600/aaron_tveit_2011_06_18.jpg', (162, 63, 225, 126))\n",
      "OpenCV(3.4.3) /Users/travis/build/skvark/opencv-python/opencv/modules/imgcodecs/src/loadsave.cpp:684: error: (-2:Unspecified error) could not find a writer for the specified extension in function 'imwrite_'\n",
      "\n",
      "('raw/Aaron_Staton./cec1f7e55df6bd9', 'Aaron_Staton', 'http://upload.wikimedia.org/wikipedia/commons/thumb/a/aa/Aaron_Staton_and_Connie_Fletcher_%282008%29.jpg/220px-Aaron_Staton_and_Connie_Fletcher_%282008%29.jpg', (91, 28, 154, 91))\n",
      "OpenCV(3.4.3) /Users/travis/build/skvark/opencv-python/opencv/modules/imgcodecs/src/loadsave.cpp:684: error: (-2:Unspecified error) could not find a writer for the specified extension in function 'imwrite_'\n",
      "\n",
      "('raw/Aaron_Yoo./f30742eb973b612', 'Aaron_Yoo', 'http://2.bp.blogspot.com/-shmiuHrx4Cc/TWNPeuE6cpI/AAAAAAAABhg/bXrb53igYq0/s1600/actor-gongyoo-hold-fan-meeting-japan.jpg', (158, 61, 266, 169))\n",
      "OpenCV(3.4.3) /Users/travis/build/skvark/opencv-python/opencv/modules/imgcodecs/src/loadsave.cpp:684: error: (-2:Unspecified error) could not find a writer for the specified extension in function 'imwrite_'\n",
      "\n",
      "('raw/Aaron_Yoo./f41e90b31542d71', 'Aaron_Yoo', 'http://ia.media-imdb.com/images/M/MV5BNTQyMDQwNDYyMF5BMl5BanBnXkFtZTcwNjM5MjU5MQ@@._V1_SY400_SX272_AL_.jpg', (93, 56, 176, 139))\n",
      "OpenCV(3.4.3) /Users/travis/build/skvark/opencv-python/opencv/modules/imgcodecs/src/loadsave.cpp:684: error: (-2:Unspecified error) could not find a writer for the specified extension in function 'imwrite_'\n",
      "\n",
      "('raw/Abbie_Cornish./62e60ec7e2a1eab35af08cd657942bbd00e1e846fe1ed2409d6520025c908ec5_large', 'Abbie_Cornish', 'http://images.contactmusic.com/newsimages/abbie_cornish_1239673.jpg', (104, 52, 181, 129))\n",
      "OpenCV(3.4.3) /Users/travis/build/skvark/opencv-python/opencv/modules/imgcodecs/src/loadsave.cpp:684: error: (-2:Unspecified error) could not find a writer for the specified extension in function 'imwrite_'\n",
      "\n",
      "('raw/Aaron_Yoo./030add915b88e69', 'Aaron_Yoo', 'http://images2.wikia.nocookie.net/__cb20100422232224/nightmareonelmstreet/images/2/2f/B-Aaron-Yoo-4fca975ed88c.jpg', (97, 97, 242, 242))\n",
      "OpenCV(3.4.3) /Users/travis/build/skvark/opencv-python/opencv/modules/imgcodecs/src/loadsave.cpp:684: error: (-2:Unspecified error) could not find a writer for the specified extension in function 'imwrite_'\n",
      "\n"
     ]
    },
    {
     "name": "stdout",
     "output_type": "stream",
     "text": [
      "('raw/Aaron_Yoo./fb7fdc79b6932cb', 'Aaron_Yoo', 'http://i.ytimg.com/vi/Yks5By_Hv_Y/hqdefault.jpg', (111, 93, 278, 260))\n",
      "OpenCV(3.4.3) /Users/travis/build/skvark/opencv-python/opencv/modules/imgcodecs/src/loadsave.cpp:684: error: (-2:Unspecified error) could not find a writer for the specified extension in function 'imwrite_'\n",
      "\n",
      "('raw/Aaron_Yoo./The_Tomorrow_People_-_Aaron_Yoo_Interview', 'Aaron_Yoo', 'http://thetomorrowpeoplecw.com/wp-content/uploads/2014/03/BiifIPdIMAA0loU.jpg', (193, 91, 294, 192))\n",
      "OpenCV(3.4.3) /Users/travis/build/skvark/opencv-python/opencv/modules/imgcodecs/src/loadsave.cpp:684: error: (-2:Unspecified error) could not find a writer for the specified extension in function 'imwrite_'\n",
      "\n",
      "('raw/Aaron_Yoo./12557737.cms', 'Aaron_Yoo', 'http://rstvideo.com/skadespelare/aaron-yoo.jpg', (65, 97, 210, 242))\n",
      "OpenCV(3.4.3) /Users/travis/build/skvark/opencv-python/opencv/modules/imgcodecs/src/loadsave.cpp:684: error: (-2:Unspecified error) could not find a writer for the specified extension in function 'imwrite_'\n",
      "\n",
      "libpng warning: iCCP: known incorrect sRGB profile\n",
      "('raw/Aaron_Yoo./1559554A4F9761F4069BFE', 'Aaron_Yoo', 'http://cdn-media.hollywood.com/images/268x335/1290823.jpg', (81, 97, 226, 242))\n",
      "OpenCV(3.4.3) /Users/travis/build/skvark/opencv-python/opencv/modules/imgcodecs/src/loadsave.cpp:684: error: (-2:Unspecified error) could not find a writer for the specified extension in function 'imwrite_'\n",
      "\n",
      "('raw/Aaron_Yoo./1624178d8b3a1c4', 'Aaron_Yoo', 'http://www.newnownext.com/wp-content/uploads/imported/4b05d3de63ffb6a00d8341ca51d53ef01156fa4110f970c-350wi.jpg', (158, 111, 241, 195))\n",
      "OpenCV(3.4.3) /Users/travis/build/skvark/opencv-python/opencv/modules/imgcodecs/src/loadsave.cpp:684: error: (-2:Unspecified error) could not find a writer for the specified extension in function 'imwrite_'\n",
      "\n",
      "('raw/Aamir_Khan./image', 'Aamir_Khan', 'http://www.glamsham.com/movies/scoops/11/aug/imran-khan-aamir-khan.jpg', (277, 43, 355, 121))\n",
      "OpenCV(3.4.3) /Users/travis/build/skvark/opencv-python/opencv/modules/imgcodecs/src/loadsave.cpp:684: error: (-2:Unspecified error) could not find a writer for the specified extension in function 'imwrite_'\n",
      "\n",
      "('raw/Aaron_Staton./d9e9aa3f80fcaa8', 'Aaron_Staton', 'http://ia.media-imdb.com/images/M/MV5BNDU5ODY0Mjc1NV5BMl5BanBnXkFtZTcwOTUwMDM2MQ@@._V1_.jpg', (23, 68, 228, 274))\n",
      "OpenCV(3.4.3) /Users/travis/build/skvark/opencv-python/opencv/modules/imgcodecs/src/loadsave.cpp:684: error: (-2:Unspecified error) could not find a writer for the specified extension in function 'imwrite_'\n",
      "\n",
      "('raw/Abbie_Cornish./97354032(1).jpg?partner=allrovi.com', 'Abbie_Cornish', 'http://iv1.lisimg.com/image/5013052/600full-abbie-cornish.jpg', (209, 113, 352, 256))\n",
      "OpenCV(3.4.3) /Users/travis/build/skvark/opencv-python/opencv/modules/imgcodecs/src/loadsave.cpp:684: error: (-2:Unspecified error) could not find a writer for the specified extension in function 'imwrite_'\n",
      "\n",
      "('raw/Aaron_Yoo./189ff8365bb44e9', 'Aaron_Yoo', 'http://hairstyles.thehairstyler.com/hairstyle_views/front_view_images/401/original/10546_Aaron-Yoo_copy_2.jpg', (129, 193, 416, 480))\n",
      "OpenCV(3.4.3) /Users/travis/build/skvark/opencv-python/opencv/modules/imgcodecs/src/loadsave.cpp:684: error: (-2:Unspecified error) could not find a writer for the specified extension in function 'imwrite_'\n",
      "\n",
      "('raw/Aaron_Staton./de2ccb24e333340', 'Aaron_Staton', 'http://1-ps.googleusercontent.com/x/www.broadwayworld.com/images.bwwstatic.com/upload/10522/beast23.jpg.pagespeed.ce.Po0XjbjfDx.jpg', (109, 70, 199, 159))\n",
      "OpenCV(3.4.3) /Users/travis/build/skvark/opencv-python/opencv/modules/imgcodecs/src/loadsave.cpp:684: error: (-2:Unspecified error) could not find a writer for the specified extension in function 'imwrite_'\n",
      "\n",
      "('raw/Aaron_Yoo./1a589e7871fa725', 'Aaron_Yoo', 'http://static10.imagecollect.com/preview/1442/4314b30bda6d163', (148, 96, 242, 190))\n",
      "OpenCV(3.4.3) /Users/travis/build/skvark/opencv-python/opencv/modules/imgcodecs/src/loadsave.cpp:684: error: (-2:Unspecified error) could not find a writer for the specified extension in function 'imwrite_'\n",
      "\n",
      "('raw/Abbie_Cornish./Abbie%20Cornish', 'Abbie_Cornish', 'http://www.examiner.com/images/blog/EXID1994/images/alg_ryan-phillipe_abbie-cornish.jpg', (267, 84, 394, 211))\n",
      "OpenCV(3.4.3) /Users/travis/build/skvark/opencv-python/opencv/modules/imgcodecs/src/loadsave.cpp:684: error: (-2:Unspecified error) could not find a writer for the specified extension in function 'imwrite_'\n",
      "\n",
      "('raw/Aaron_Staton./e54447bb2fef4d0', 'Aaron_Staton', 'http://38.media.tumblr.com/tumblr_m3kriqml9Q1rqe0sdo1_500.gif', (128, 43, 224, 138))\n",
      "OpenCV(3.4.3) /Users/travis/build/skvark/opencv-python/opencv/modules/imgcodecs/src/loadsave.cpp:684: error: (-2:Unspecified error) could not find a writer for the specified extension in function 'imwrite_'\n",
      "\n",
      "('raw/Aaron_Tveit./aaron-tveit-solo1.jpg?quality=0.7', 'Aaron_Tveit', 'http://25.media.tumblr.com/19950def53ace7dd3473bd25ae8c9280/tumblr_mjtmyozFWr1s8z8wvo1_250.jpg', (61, 61, 171, 171))\n",
      "OpenCV(3.4.3) /Users/travis/build/skvark/opencv-python/opencv/modules/imgcodecs/src/loadsave.cpp:684: error: (-2:Unspecified error) could not find a writer for the specified extension in function 'imwrite_'\n",
      "\n",
      "('raw/Aaron_Staton./f65de743fc1a325', 'Aaron_Staton', 'http://originals.clzimages.com/movie/banners/actors/original/e3/e3_208863_4_AaronStaton.jpg', (13, 52, 131, 170))\n",
      "OpenCV(3.4.3) /Users/travis/build/skvark/opencv-python/opencv/modules/imgcodecs/src/loadsave.cpp:684: error: (-2:Unspecified error) could not find a writer for the specified extension in function 'imwrite_'\n",
      "\n",
      "('raw/Aaron_Staton./ff6b63dcfb4505b', 'Aaron_Staton', 'http://i.ytimg.com/vi/2NEEhNmgFvI/0.jpg', (171, 122, 281, 232))\n",
      "OpenCV(3.4.3) /Users/travis/build/skvark/opencv-python/opencv/modules/imgcodecs/src/loadsave.cpp:684: error: (-2:Unspecified error) could not find a writer for the specified extension in function 'imwrite_'\n",
      "\n",
      "('raw/Aaron_Yoo./21xxx_stl_17_h.jpg?partner=allrovi.com', 'Aaron_Yoo', 'http://www3.pictures.zimbio.com/gi/Aaron%252BYoo%252BSony%252BPlayStation%252BUnveils%252BPS%252BVITA%252BWcBhRj9m3S5l.jpg', (104, 156, 337, 389))\n",
      "OpenCV(3.4.3) /Users/travis/build/skvark/opencv-python/opencv/modules/imgcodecs/src/loadsave.cpp:684: error: (-2:Unspecified error) could not find a writer for the specified extension in function 'imwrite_'\n",
      "\n",
      "('raw/Aaron_Staton./1-cK3JL1KFV_iFPInJLzxypEqvfPAvD0xcTi3TBvTIsXq_GHlzkF-KmwatISin8gZdVeNkZuuJj6KhE=s200-c', 'Aaron_Staton', 'http://3.bp.blogspot.com/-HfMIIToRGoU/T1rKJy2l5QI/AAAAAAAAJvk/XIR8xaqF4Io/s1600/Aaron-Staton-shirtless-3.jpg', (74, 74, 241, 241))\n",
      "OpenCV(3.4.3) /Users/travis/build/skvark/opencv-python/opencv/modules/imgcodecs/src/loadsave.cpp:684: error: (-2:Unspecified error) could not find a writer for the specified extension in function 'imwrite_'\n",
      "\n",
      "('raw/Abbie_Cornish./image.', 'Abbie_Cornish', 'http://2.bp.blogspot.com/-U6hC0SeiBF4/Twp3avT1clI/AAAAAAAAMwA/A205vr92Jbk/s1600/Abbie%252BCornish%252B%252525282%25252529.jpg', (225, 161, 512, 448))\n",
      "OpenCV(3.4.3) /Users/travis/build/skvark/opencv-python/opencv/modules/imgcodecs/src/loadsave.cpp:684: error: (-2:Unspecified error) could not find a writer for the specified extension in function 'imwrite_'\n",
      "\n",
      "('raw/Aaron_Yoo./365ea9270643812', 'Aaron_Yoo', 'http://static.comicvine.com/uploads/original/5/58339/2810158-casting-ling-aaron-yoo.jpg', (28, 42, 154, 168))\n",
      "OpenCV(3.4.3) /Users/travis/build/skvark/opencv-python/opencv/modules/imgcodecs/src/loadsave.cpp:684: error: (-2:Unspecified error) could not find a writer for the specified extension in function 'imwrite_'\n",
      "\n",
      "('raw/Aaron_Staton./jpg', 'Aaron_Staton', 'http://static1.purepeople.com/articles/2/58/06/2/@/427438-aaron-staton-et-sa-femme-connie-200x0-2.jpg', (60, 28, 102, 69))\n",
      "OpenCV(3.4.3) /Users/travis/build/skvark/opencv-python/opencv/modules/imgcodecs/src/loadsave.cpp:684: error: (-2:Unspecified error) could not find a writer for the specified extension in function 'imwrite_'\n",
      "\n",
      "('raw/Aaron_Yoo./4314b30bda6d163', 'Aaron_Yoo', 'http://starsmedia.ign.com/stars/image/object/142/14285094/aaron-yoo_photo.jpg', (40, 40, 129, 129))\n",
      "OpenCV(3.4.3) /Users/travis/build/skvark/opencv-python/opencv/modules/imgcodecs/src/loadsave.cpp:684: error: (-2:Unspecified error) could not find a writer for the specified extension in function 'imwrite_'\n",
      "\n"
     ]
    },
    {
     "name": "stdout",
     "output_type": "stream",
     "text": [
      "('raw/Aaron_Yoo./437839af29f507c', 'Aaron_Yoo', 'http://static4.imagecollect.com/preview/138/437839af29f507c', (113, 97, 256, 240))\n",
      "OpenCV(3.4.3) /Users/travis/build/skvark/opencv-python/opencv/modules/imgcodecs/src/loadsave.cpp:684: error: (-2:Unspecified error) could not find a writer for the specified extension in function 'imwrite_'\n",
      "\n",
      "('raw/Aaron_Yoo./447dfd74493abcd', 'Aaron_Yoo', 'http://www4.pictures.zimbio.com/fp/Aaron%252BYoo%252B2010%252BStand%252BUp%252BCancer%252BvGRHVefxrgul.jpg', (91, 91, 294, 294))\n",
      "OpenCV(3.4.3) /Users/travis/build/skvark/opencv-python/opencv/modules/imgcodecs/src/loadsave.cpp:684: error: (-2:Unspecified error) could not find a writer for the specified extension in function 'imwrite_'\n",
      "\n",
      "('raw/Abbie_Cornish./latest?cb=20140113153438', 'Abbie_Cornish', 'http://media2.apnonline.com.au/img/media/images/2009/12/23/aap_abbie_cornish_gallery_231209_t460.jpg', (129, 65, 274, 210))\n",
      "OpenCV(3.4.3) /Users/travis/build/skvark/opencv-python/opencv/modules/imgcodecs/src/loadsave.cpp:684: error: (-2:Unspecified error) could not find a writer for the specified extension in function 'imwrite_'\n",
      "\n",
      "('raw/Aaron_Yoo./46b14d79591249a', 'Aaron_Yoo', 'http://www2.pictures.zimbio.com/gi/Aaron%252BYoo%252BCW%252BCBS%252BShowtime%252B2013%252BSummer%252BTCA%252BTW1QkBOJgGol.jpg', (163, 69, 240, 145))\n",
      "OpenCV(3.4.3) /Users/travis/build/skvark/opencv-python/opencv/modules/imgcodecs/src/loadsave.cpp:684: error: (-2:Unspecified error) could not find a writer for the specified extension in function 'imwrite_'\n",
      "\n",
      "('raw/Abbie_Cornish./049237-000_somersault_01.jpg?partner=allrovi.com', 'Abbie_Cornish', 'http://www.sipeliculas.com/img.actor/abbie-cornish.jpg', (80, 80, 182, 182))\n",
      "OpenCV(3.4.3) /Users/travis/build/skvark/opencv-python/opencv/modules/imgcodecs/src/loadsave.cpp:684: error: (-2:Unspecified error) could not find a writer for the specified extension in function 'imwrite_'\n",
      "\n",
      "('raw/Aaron_Yoo./4b20701bb9409fb', 'Aaron_Yoo', 'http://www1.pictures.gi.zimbio.com/Pusan%252BInternational%252BFilm%252BFestival%252B2008%252BDay%252BErce5Hjxusgl.jpg', (138, 241, 291, 394))\n",
      "OpenCV(3.4.3) /Users/travis/build/skvark/opencv-python/opencv/modules/imgcodecs/src/loadsave.cpp:684: error: (-2:Unspecified error) could not find a writer for the specified extension in function 'imwrite_'\n",
      "\n",
      "('raw/Aaron_Staton./zap-mad-men-before-they-were-stars-20140417-005', 'Aaron_Staton', 'http://media-cache-ak0.pinimg.com/736x/09/41/df/0941df6b8b9c8560a263902d2932a0c3.jpg', (394, 28, 436, 69))\n",
      "OpenCV(3.4.3) /Users/travis/build/skvark/opencv-python/opencv/modules/imgcodecs/src/loadsave.cpp:684: error: (-2:Unspecified error) could not find a writer for the specified extension in function 'imwrite_'\n",
      "\n",
      "('raw/Aaron_Yoo./4f96dc2039f7c09', 'Aaron_Yoo', 'http://img.moviepilot.com/assets/tarantulaV2/people_images/1377775354_Aaron-Yoo.jpg', (148, 74, 808, 735))\n",
      "OpenCV(3.4.3) /Users/travis/build/skvark/opencv-python/opencv/modules/imgcodecs/src/loadsave.cpp:684: error: (-2:Unspecified error) could not find a writer for the specified extension in function 'imwrite_'\n",
      "\n",
      "('raw/Aaron_Staton./zap-mad-men-season-4-pics-013', 'Aaron_Staton', 'http://ww4.hdnux.com/photos/03/00/12/787103/3/960x540.jpg', (79, 105, 315, 341))\n",
      "OpenCV(3.4.3) /Users/travis/build/skvark/opencv-python/opencv/modules/imgcodecs/src/loadsave.cpp:684: error: (-2:Unspecified error) could not find a writer for the specified extension in function 'imwrite_'\n",
      "\n",
      "('raw/Aaron_Yoo./5519c201da64db8', 'Aaron_Yoo', 'http://www.magweb.com/picts/nm1683094.jpg', (86, 121, 240, 274))\n",
      "OpenCV(3.4.3) /Users/travis/build/skvark/opencv-python/opencv/modules/imgcodecs/src/loadsave.cpp:684: error: (-2:Unspecified error) could not find a writer for the specified extension in function 'imwrite_'\n",
      "\n",
      "('raw/Aaron_Yoo./aaronyoo.jpg?quality=0.7', 'Aaron_Yoo', 'http://image.way2enjoy.com/pic/11/28/14/3/600full-aaron-yoo.jpg', (149, 99, 238, 189))\n",
      "OpenCV(3.4.3) /Users/travis/build/skvark/opencv-python/opencv/modules/imgcodecs/src/loadsave.cpp:684: error: (-2:Unspecified error) could not find a writer for the specified extension in function 'imwrite_'\n",
      "\n",
      "libpng warning: iCCP: known incorrect sRGB profile\n",
      "('raw/Abigail_Klein./shim%3fscl%3d1}}', 'Abigail_Klein', 'http://cdn.yournextshoes.com/wp-content/uploads/2015/01/Chloe-Moretz-Favorite-Movie-Actress.jpg', (486, 73, 703, 291))\n",
      "OpenCV(3.4.3) /Users/travis/build/skvark/opencv-python/opencv/modules/imgcodecs/src/loadsave.cpp:684: error: (-2:Unspecified error) could not find a writer for the specified extension in function 'imwrite_'\n",
      "\n",
      "('raw/Abigail_Klein./ShowImage.ashx?ID=202529', 'Abigail_Klein', 'http://www2.pictures.zimbio.com/gi/Abigail+Klein+QmJFuwsvpgTm.jpg', (240, 53, 288, 101))\n",
      "OpenCV(3.4.3) /Users/travis/build/skvark/opencv-python/opencv/modules/imgcodecs/src/loadsave.cpp:684: error: (-2:Unspecified error) could not find a writer for the specified extension in function 'imwrite_'\n",
      "\n",
      "('raw/Abigail_Breslin./001d9600cb09c69', 'Abigail_Breslin', 'http://www.teenidols4you.com/blink/Actors/abigail_breslin/abigail-breslin-1390147690.jpg', (225, 225, 512, 512))\n",
      "OpenCV(3.4.3) /Users/travis/build/skvark/opencv-python/opencv/modules/imgcodecs/src/loadsave.cpp:684: error: (-2:Unspecified error) could not find a writer for the specified extension in function 'imwrite_'\n",
      "\n",
      "('raw/Abigail_Klein./ShowImage.ashx?id=25078&h=236&w=370', 'Abigail_Klein', 'http://4.bp.blogspot.com/-eZkkx75hqTs/T1o5XTCW6mI/AAAAAAAAMeE/AjSV0AsVbwo/s640/abigail_clancy_leather_4.jpg', (176, 80, 224, 128))\n",
      "OpenCV(3.4.3) /Users/travis/build/skvark/opencv-python/opencv/modules/imgcodecs/src/loadsave.cpp:684: error: (-2:Unspecified error) could not find a writer for the specified extension in function 'imwrite_'\n",
      "\n",
      "('raw/Abigail_Klein./ShowImage.ashx?w=311&h=187&ID=36996', 'Abigail_Klein', 'http://www.video-star.net/1720-big/star-anne_gautier-nue.jpg', (188, 74, 240, 125))\n",
      "OpenCV(3.4.3) /Users/travis/build/skvark/opencv-python/opencv/modules/imgcodecs/src/loadsave.cpp:684: error: (-2:Unspecified error) could not find a writer for the specified extension in function 'imwrite_'\n",
      "\n",
      "('raw/Abigail_Breslin./dd0e1bc6f367293', 'Abigail_Breslin', 'http://www1.pictures.zimbio.com/gi/Abigail+Breslin+RpffcMg-1Pdm.jpg', (178, 67, 232, 122))\n",
      "OpenCV(3.4.3) /Users/travis/build/skvark/opencv-python/opencv/modules/imgcodecs/src/loadsave.cpp:684: error: (-2:Unspecified error) could not find a writer for the specified extension in function 'imwrite_'\n",
      "\n",
      "('raw/Abigail_Spencer./b18c8243612ef2b', 'Abigail_Spencer', 'http://d1fgn7wex1bhjn.cloudfront.net/assets/news_images/1321530351_abigail_spencer_scaled.jpg', (52, 79, 288, 315))\n",
      "OpenCV(3.4.3) /Users/travis/build/skvark/opencv-python/opencv/modules/imgcodecs/src/loadsave.cpp:684: error: (-2:Unspecified error) could not find a writer for the specified extension in function 'imwrite_'\n",
      "\n",
      "('raw/Abigail_Breslin./e4cbebfc5408814', 'Abigail_Breslin', 'http://4.bp.blogspot.com/-f-oHeHcJnVY/Ut-A0kYtddI/AAAAAAAAP2Q/_7B5upk7Glo/s1600/Abigail%252BBreslin%252BHot02.jpg', (295, 166, 459, 330))\n",
      "OpenCV(3.4.3) /Users/travis/build/skvark/opencv-python/opencv/modules/imgcodecs/src/loadsave.cpp:684: error: (-2:Unspecified error) could not find a writer for the specified extension in function 'imwrite_'\n",
      "\n",
      "('raw/Abigail_Spencer./b34def2863905bf', 'Abigail_Spencer', 'http://www1.pictures.zimbio.com/gi/Abigail%252BSpencer%252B2011%252BInStyle%252BWarner%252BBrothers%252BGFwxax771rAl.jpg', (107, 128, 298, 320))\n",
      "OpenCV(3.4.3) /Users/travis/build/skvark/opencv-python/opencv/modules/imgcodecs/src/loadsave.cpp:684: error: (-2:Unspecified error) could not find a writer for the specified extension in function 'imwrite_'\n",
      "\n",
      "('raw/Abigail_Breslin./e9eb237d923bf6b', 'Abigail_Breslin', 'http://static9.imagecollect.com/preview/3317/e9eb237d923bf6b', (148, 92, 229, 174))\n",
      "OpenCV(3.4.3) /Users/travis/build/skvark/opencv-python/opencv/modules/imgcodecs/src/loadsave.cpp:684: error: (-2:Unspecified error) could not find a writer for the specified extension in function 'imwrite_'\n",
      "\n",
      "('raw/Abigail_Klein./6317dce6b668bf7096b81dcf688ac28b1dd5944796d890245ccde55e44fab3bb_large', 'Abigail_Klein', 'http://imagecollect.com/picture/abigail-klein-photo-4873969/that-s-my-boy-los-angeles-premiere.jpg', (193, 49, 264, 120))\n",
      "OpenCV(3.4.3) /Users/travis/build/skvark/opencv-python/opencv/modules/imgcodecs/src/loadsave.cpp:684: error: (-2:Unspecified error) could not find a writer for the specified extension in function 'imwrite_'\n",
      "\n"
     ]
    },
    {
     "name": "stdout",
     "output_type": "stream",
     "text": [
      "('raw/Abigail_Klein./6a00e551d9d3fd8833014e6069c152970c-320wi', 'Abigail_Klein', 'http://d13beo3f7vpmvd.cloudfront.net/wp-content/uploads/2012/05/Abigail-Klein-1-e1336147088711.jpg', (91, 53, 138, 101))\n",
      "OpenCV(3.4.3) /Users/travis/build/skvark/opencv-python/opencv/modules/imgcodecs/src/loadsave.cpp:684: error: (-2:Unspecified error) could not find a writer for the specified extension in function 'imwrite_'\n",
      "\n",
      "('raw/Abel_Ferrara./ec70cedaba48388', 'Abel_Ferrara', 'http://3.bp.blogspot.com/-SSmywonHweU/T95JwE-O3HI/AAAAAAAACN4/oUhiCpNd870/s1600/King_of_New_York-20.jpg', (91, 23, 297, 228))\n",
      "OpenCV(3.4.3) /Users/travis/build/skvark/opencv-python/opencv/modules/imgcodecs/src/loadsave.cpp:684: error: (-2:Unspecified error) could not find a writer for the specified extension in function 'imwrite_'\n",
      "\n",
      "('raw/Abigail_Klein./b6d719cec84853f', 'Abigail_Klein', 'http://static7.imagecollect.com/preview/560/b6d719cec84853f', (161, 65, 232, 136))\n",
      "OpenCV(3.4.3) /Users/travis/build/skvark/opencv-python/opencv/modules/imgcodecs/src/loadsave.cpp:684: error: (-2:Unspecified error) could not find a writer for the specified extension in function 'imwrite_'\n",
      "\n",
      "('raw/Abigail_Klein./77a61f8f2711cce', 'Abigail_Klein', 'http://www1.pictures.zimbio.com/bg/Abigail%252BKlein%252BMy%252BBoy%252BWorld%252BPremiere%252B59iUVebqiv8l.jpg', (148, 46, 248, 147))\n",
      "OpenCV(3.4.3) /Users/travis/build/skvark/opencv-python/opencv/modules/imgcodecs/src/loadsave.cpp:684: error: (-2:Unspecified error) could not find a writer for the specified extension in function 'imwrite_'\n",
      "\n",
      "('raw/Abigail_Klein./822a112f951aceb', 'Abigail_Klein', 'http://happybday.to/sites/pics/abigail-klein-troy-aikman-0.jpg', (195, 117, 311, 233))\n",
      "OpenCV(3.4.3) /Users/travis/build/skvark/opencv-python/opencv/modules/imgcodecs/src/loadsave.cpp:684: error: (-2:Unspecified error) could not find a writer for the specified extension in function 'imwrite_'\n",
      "\n",
      "('raw/Abigail_Klein./bd56cb44d55c935', 'Abigail_Klein', 'https://i.ytimg.com/vi/xs7OtxR2hto/mqdefault.jpg', (112, 34, 190, 112))\n",
      "OpenCV(3.4.3) /Users/travis/build/skvark/opencv-python/opencv/modules/imgcodecs/src/loadsave.cpp:684: error: (-2:Unspecified error) could not find a writer for the specified extension in function 'imwrite_'\n",
      "\n",
      "('raw/Abel_Ferrara./16129599.cms', 'Abel_Ferrara', 'http://images.nymag.com/movies/features/abelferrara120326_560.jpg', (159, 114, 362, 316))\n",
      "OpenCV(3.4.3) /Users/travis/build/skvark/opencv-python/opencv/modules/imgcodecs/src/loadsave.cpp:684: error: (-2:Unspecified error) could not find a writer for the specified extension in function 'imwrite_'\n",
      "\n",
      "('raw/Abigail_Klein./c0f8679ce76b846', 'Abigail_Klein', 'http://i.ytimg.com/vi/_MijL9x4Gl4/hqdefault.jpg', (195, 28, 278, 111))\n",
      "OpenCV(3.4.3) /Users/travis/build/skvark/opencv-python/opencv/modules/imgcodecs/src/loadsave.cpp:684: error: (-2:Unspecified error) could not find a writer for the specified extension in function 'imwrite_'\n",
      "\n",
      "('raw/Abel_Ferrara./197de4_5d074c56e43941c8aaa751771d686a30.jpg_srz_724_574_85_22_0.50_1.20_0.00_jpg_srz', 'Abel_Ferrara', 'http://image.nanopress.it/628X0/cinema/tuttogratis/it/news/wp-content/uploads/2011/01/Abel-Ferrara-droga.jpg', (112, 56, 365, 309))\n",
      "OpenCV(3.4.3) /Users/travis/build/skvark/opencv-python/opencv/modules/imgcodecs/src/loadsave.cpp:684: error: (-2:Unspecified error) could not find a writer for the specified extension in function 'imwrite_'\n",
      "\n",
      "('raw/Abel_Ferrara./197de4_c7bf2123e508455391937de4a5d06e6e.jpg_srz_515_281_85_22_0.50_1.20_0.00_jpg_srz', 'Abel_Ferrara', 'http://media.philly.com/images/300*452/wenn780286_113_227_2.jpg', (70, 56, 197, 182))\n",
      "OpenCV(3.4.3) /Users/travis/build/skvark/opencv-python/opencv/modules/imgcodecs/src/loadsave.cpp:684: error: (-2:Unspecified error) could not find a writer for the specified extension in function 'imwrite_'\n",
      "\n",
      "('raw/Abigail_Klein./8e82f5e8e43a90e', 'Abigail_Klein', 'http://thumbnails75.imagebam.com/19519/aeaddd195187174.jpg', (30, 60, 119, 149))\n",
      "OpenCV(3.4.3) /Users/travis/build/skvark/opencv-python/opencv/modules/imgcodecs/src/loadsave.cpp:684: error: (-2:Unspecified error) could not find a writer for the specified extension in function 'imwrite_'\n",
      "\n",
      "('raw/Abigail_Spencer./ee5f35dab6b5da7', 'Abigail_Spencer', 'http://static6.imagecollect.com/preview/4890/6dd0c0db4a73bc7', (85, 106, 274, 295))\n",
      "OpenCV(3.4.3) /Users/travis/build/skvark/opencv-python/opencv/modules/imgcodecs/src/loadsave.cpp:684: error: (-2:Unspecified error) could not find a writer for the specified extension in function 'imwrite_'\n",
      "\n",
      "libpng warning: iCCP: known incorrect sRGB profile\n",
      "libpng warning: iCCP: cHRM chunk does not match sRGB\n",
      "('raw/Abigail_Klein./c82a1a38f71aa48', 'Abigail_Klein', 'http://info7.mx/foto/130000/135810_abigail-klein2.jpg', (138, 37, 220, 119))\n",
      "OpenCV(3.4.3) /Users/travis/build/skvark/opencv-python/opencv/modules/imgcodecs/src/loadsave.cpp:684: error: (-2:Unspecified error) could not find a writer for the specified extension in function 'imwrite_'\n",
      "\n",
      "('raw/Abigail_Breslin./19ecd88e7a41698', 'Abigail_Breslin', 'http://www.film.com/wp-content/uploads/2010/06/13600988-13600990-large.jpg', (159, 91, 260, 192))\n",
      "OpenCV(3.4.3) /Users/travis/build/skvark/opencv-python/opencv/modules/imgcodecs/src/loadsave.cpp:684: error: (-2:Unspecified error) could not find a writer for the specified extension in function 'imwrite_'\n",
      "\n",
      "('raw/Abigail_Breslin./1ba0f619fa56cd3', 'Abigail_Breslin', 'http://www.elle.com/cm/elle/images/t8/elle-abigail-breslin-de.jpg', (91, 91, 194, 194))\n",
      "OpenCV(3.4.3) /Users/travis/build/skvark/opencv-python/opencv/modules/imgcodecs/src/loadsave.cpp:684: error: (-2:Unspecified error) could not find a writer for the specified extension in function 'imwrite_'\n",
      "\n",
      "('raw/Abigail_Klein./a4ca360cd7a196c', 'Abigail_Klein', 'http://img002.lazygirls.info/people/abigail_klein/abigail_klein_3077146243_864d6ffef8_z_0jwqR3K.sized.jpg', (193, 120, 275, 202))\n",
      "OpenCV(3.4.3) /Users/travis/build/skvark/opencv-python/opencv/modules/imgcodecs/src/loadsave.cpp:684: error: (-2:Unspecified error) could not find a writer for the specified extension in function 'imwrite_'\n",
      "\n",
      "('raw/Abigail_Klein./d7107d0e032c0ef', 'Abigail_Klein', 'https://farm5.staticflickr.com/4011/4194339454_092702619b_t.jpg', (20, 6, 45, 31))\n",
      "OpenCV(3.4.3) /Users/travis/build/skvark/opencv-python/opencv/modules/imgcodecs/src/loadsave.cpp:684: error: (-2:Unspecified error) could not find a writer for the specified extension in function 'imwrite_'\n",
      "\n",
      "('raw/Abigail_Klein./dba9b05e7e2f4ae', 'Abigail_Klein', 'http://blackdcc.net/images/DCC_Ware-Trisha-Abigail.jpg', (442, 193, 523, 275))\n",
      "OpenCV(3.4.3) /Users/travis/build/skvark/opencv-python/opencv/modules/imgcodecs/src/loadsave.cpp:684: error: (-2:Unspecified error) could not find a writer for the specified extension in function 'imwrite_'\n",
      "\n",
      "('raw/Abigail_Spencer./kHcL9OZ-BGbUuSJ9P4NOyIWcor7k130xeIFfN2aPiy_XpunzJphT9Y01F3FuvKvXcsF8r_BWJQFzBcQ=s200-c', 'Abigail_Spencer', 'http://media-cache-ec0.pinimg.com/236x/2c/cc/eb/2ccceb002813e478916f538b2faff1a8.jpg', (57, 23, 160, 125))\n",
      "OpenCV(3.4.3) /Users/travis/build/skvark/opencv-python/opencv/modules/imgcodecs/src/loadsave.cpp:684: error: (-2:Unspecified error) could not find a writer for the specified extension in function 'imwrite_'\n",
      "\n",
      "('raw/Abigail_Klein./dc4c284a1e712f8', 'Abigail_Klein', 'http://4.bp.blogspot.com/-BEsIWJ3qyBY/Tp9pBz8zV1I/AAAAAAAAGOA/32okv01B3Q0/s1600/0-amber.jpg', (39, 286, 155, 402))\n",
      "OpenCV(3.4.3) /Users/travis/build/skvark/opencv-python/opencv/modules/imgcodecs/src/loadsave.cpp:684: error: (-2:Unspecified error) could not find a writer for the specified extension in function 'imwrite_'\n",
      "\n",
      "('raw/Abigail_Breslin./300?cb=20140706212552', 'Abigail_Breslin', 'http://i.dailymail.co.uk/i/pix/2013/12/17/article-0-1A26DCB600000578-535_638x757.jpg', (239, 105, 373, 238))\n",
      "OpenCV(3.4.3) /Users/travis/build/skvark/opencv-python/opencv/modules/imgcodecs/src/loadsave.cpp:684: error: (-2:Unspecified error) could not find a writer for the specified extension in function 'imwrite_'\n",
      "\n",
      "('raw/Abel_Ferrara./3927589', 'Abel_Ferrara', 'http://i81.photobucket.com/albums/j238/Koliakov/33385_Abel-Ferrara-portrait.jpg', (56, 84, 306, 334))\n",
      "OpenCV(3.4.3) /Users/travis/build/skvark/opencv-python/opencv/modules/imgcodecs/src/loadsave.cpp:684: error: (-2:Unspecified error) could not find a writer for the specified extension in function 'imwrite_'\n",
      "\n"
     ]
    },
    {
     "name": "stdout",
     "output_type": "stream",
     "text": [
      "('raw/Abigail_Breslin./3e4c38c28dd3460', 'Abigail_Breslin', 'http://images.starpulse.com/pictures/2014/02/06/previews/Abigail%20Breslin-JSH-018252.jpg', (171, 73, 281, 183))\n",
      "OpenCV(3.4.3) /Users/travis/build/skvark/opencv-python/opencv/modules/imgcodecs/src/loadsave.cpp:684: error: (-2:Unspecified error) could not find a writer for the specified extension in function 'imwrite_'\n",
      "\n",
      "('raw/Abigail_Klein./ea8fffdb3bc79fd', 'Abigail_Klein', 'http://cdn2-b.examiner.com/sites/default/files/styles/image_content_width/hash/2f/1b/2f1bc24168e2b6e3d671e91f059cbe77.jpg?itok=aMWlAbbL', (117, 34, 150, 67))\n",
      "OpenCV(3.4.3) /Users/travis/build/skvark/opencv-python/opencv/modules/imgcodecs/src/loadsave.cpp:684: error: (-2:Unspecified error) could not find a writer for the specified extension in function 'imwrite_'\n",
      "\n",
      "('raw/Abigail_Breslin./5580030.cms', 'Abigail_Breslin', 'http://www.aceshowbiz.com/images/wennpic/abigail-breslin-premiere-august-osage-county-01.jpg', (193, 225, 480, 512))\n",
      "OpenCV(3.4.3) /Users/travis/build/skvark/opencv-python/opencv/modules/imgcodecs/src/loadsave.cpp:684: error: (-2:Unspecified error) could not find a writer for the specified extension in function 'imwrite_'\n",
      "\n",
      "('raw/Abigail_Breslin./5d3ac28a615d670', 'Abigail_Breslin', 'http://upload.wikimedia.org/wikipedia/commons/thumb/9/9a/Abigail_Breslin_2011_%28Straighten_Crop%29.JPG/220px-Abigail_Breslin_2011_%28Straighten_Crop%29.JPG', (52, 65, 170, 183))\n",
      "OpenCV(3.4.3) /Users/travis/build/skvark/opencv-python/opencv/modules/imgcodecs/src/loadsave.cpp:684: error: (-2:Unspecified error) could not find a writer for the specified extension in function 'imwrite_'\n",
      "\n",
      "('raw/Abraham_Benrubi./452a6fe117b05a8', 'Abraham_Benrubi', 'http://www.images99.com/i99/01/8953/89531.jpg', (30, 45, 165, 181))\n",
      "OpenCV(3.4.3) /Users/travis/build/skvark/opencv-python/opencv/modules/imgcodecs/src/loadsave.cpp:684: error: (-2:Unspecified error) could not find a writer for the specified extension in function 'imwrite_'\n",
      "\n",
      "('raw/Abraham_Benrubi./464411-338', 'Abraham_Benrubi', 'http://img.over-blog.com/300x400/2/54/36/98/kubiac.jpg', (129, 50, 218, 139))\n",
      "OpenCV(3.4.3) /Users/travis/build/skvark/opencv-python/opencv/modules/imgcodecs/src/loadsave.cpp:684: error: (-2:Unspecified error) could not find a writer for the specified extension in function 'imwrite_'\n",
      "\n",
      "('raw/Abigail_Breslin./6a00e554e5d8fe8833019b04e015fb970d-pi', 'Abigail_Breslin', 'http://www4.pictures.zimbio.com/gi/Abigail%252BBreslin%252BVanity%252BFair%252BParty%252B2011%252BTribeca%252BZmodi3uqxzVl.jpg', (129, 113, 274, 258))\n",
      "OpenCV(3.4.3) /Users/travis/build/skvark/opencv-python/opencv/modules/imgcodecs/src/loadsave.cpp:684: error: (-2:Unspecified error) could not find a writer for the specified extension in function 'imwrite_'\n",
      "\n",
      "('raw/Abigail_Spencer./200?cb=20110808093717', 'Abigail_Spencer', 'http://www3.pictures.zimbio.com/pc/Abigail%252BSpencer%252BStars%252BPremiere%252BMeans%252BWar%252Bjgbj84TkZ6Gl.jpg', (126, 91, 228, 194))\n",
      "OpenCV(3.4.3) /Users/travis/build/skvark/opencv-python/opencv/modules/imgcodecs/src/loadsave.cpp:684: error: (-2:Unspecified error) could not find a writer for the specified extension in function 'imwrite_'\n",
      "\n",
      "('raw/Abigail_Breslin./7320bca6362d022', 'Abigail_Breslin', 'http://cdn03.cdn.justjaredjr.com/wp-content/uploads/headlines/2013/04/abigail-breslin-tribeca-welcome-lunch.jpg', (148, 68, 251, 171))\n",
      "OpenCV(3.4.3) /Users/travis/build/skvark/opencv-python/opencv/modules/imgcodecs/src/loadsave.cpp:684: error: (-2:Unspecified error) could not find a writer for the specified extension in function 'imwrite_'\n",
      "\n",
      "('raw/Abigail_Spencer./200?cb=20111005184538', 'Abigail_Spencer', 'http://www3.pictures.zimbio.com/gi/Abigail%252BSpencer%252BAriel%252BFoxman%252BEditor%252BInStyle%252BAW7rEJ_Mt65l.jpg', (159, 80, 260, 181))\n",
      "OpenCV(3.4.3) /Users/travis/build/skvark/opencv-python/opencv/modules/imgcodecs/src/loadsave.cpp:684: error: (-2:Unspecified error) could not find a writer for the specified extension in function 'imwrite_'\n",
      "\n",
      "('raw/Abraham_Benrubi./4d8538d0df33093', 'Abraham_Benrubi', 'http://static.cinemagia.ro/img/db/actor/01/34/09/abraham-benrubi-239297l.jpg', (32, 48, 105, 121))\n",
      "OpenCV(3.4.3) /Users/travis/build/skvark/opencv-python/opencv/modules/imgcodecs/src/loadsave.cpp:684: error: (-2:Unspecified error) could not find a writer for the specified extension in function 'imwrite_'\n",
      "\n",
      "('raw/Abigail_Spencer./210?cb=20130907215804', 'Abigail_Spencer', 'http://i760.photobucket.com/albums/xx244/eyesoncelebs/abigail-spencer-1.jpg', (130, 156, 363, 389))\n",
      "OpenCV(3.4.3) /Users/travis/build/skvark/opencv-python/opencv/modules/imgcodecs/src/loadsave.cpp:684: error: (-2:Unspecified error) could not find a writer for the specified extension in function 'imwrite_'\n",
      "\n",
      "('raw/Abigail_Spencer./24193513_Rectify_2.jpg?partner=allrovi.com', 'Abigail_Spencer', 'http://www.fansshare.com/photo/abigailspencer/dana-scott-abigail-spencer-suits-1299186383.jpg', (136, 114, 339, 316))\n",
      "OpenCV(3.4.3) /Users/travis/build/skvark/opencv-python/opencv/modules/imgcodecs/src/loadsave.cpp:684: error: (-2:Unspecified error) could not find a writer for the specified extension in function 'imwrite_'\n",
      "\n",
      "('raw/Abigail_Breslin./7d0240da0bbf470', 'Abigail_Breslin', 'http://www.femalefirst.co.uk/image-library/port/250/a/abigail-breslin---wi09-13.jpg', (53, 53, 120, 120))\n",
      "OpenCV(3.4.3) /Users/travis/build/skvark/opencv-python/opencv/modules/imgcodecs/src/loadsave.cpp:684: error: (-2:Unspecified error) could not find a writer for the specified extension in function 'imwrite_'\n",
      "\n",
      "('raw/Abel_Ferrara./6a00d83453b9ca69e20120a614a4b6970c-800wi', 'Abel_Ferrara', 'http://images.zap2it.com/celebs/v3/AllPhotos/74323/74323_v3_ba/abel-ferrara.jpg', (75, 90, 211, 226))\n",
      "OpenCV(3.4.3) /Users/travis/build/skvark/opencv-python/opencv/modules/imgcodecs/src/loadsave.cpp:684: error: (-2:Unspecified error) could not find a writer for the specified extension in function 'imwrite_'\n",
      "\n",
      "('raw/Abigail_Spencer./250?cb=20111029192410&path-prefix=de', 'Abigail_Spencer', 'http://www1.pictures.zimbio.com/pc/Abigail%252BSpencer%252BCelebs%252BPremiere%252BMeans%252BWar%252BMuY_9hPd1lml.jpg', (129, 60, 218, 149))\n",
      "OpenCV(3.4.3) /Users/travis/build/skvark/opencv-python/opencv/modules/imgcodecs/src/loadsave.cpp:684: error: (-2:Unspecified error) could not find a writer for the specified extension in function 'imwrite_'\n",
      "\n",
      "('raw/Abel_Ferrara./6feb11d1b57a27f748e14da98b73c4a07a1e2dd80ba8592563b1e72fb06d2da2_facebook', 'Abel_Ferrara', 'http://i.ytimg.com/vi/xEUb1ffCinE/0.jpg', (249, 65, 367, 183))\n",
      "OpenCV(3.4.3) /Users/travis/build/skvark/opencv-python/opencv/modules/imgcodecs/src/loadsave.cpp:684: error: (-2:Unspecified error) could not find a writer for the specified extension in function 'imwrite_'\n",
      "\n",
      "('raw/Abraham_Benrubi./b8fb463d0862351', 'Abraham_Benrubi', 'http://www.oschti.ch/Akte-X-Die-unheimlichen-Faelle-des-FBI-The-X-Files/45/5/Akte-X-Die-unheimlichen-Faelle-des-FBI-The-X-Files/45/Serie/50-Abraham-Benrubi-Big-Mike-Akte-X-Files.jpg', (135, 90, 268, 223))\n",
      "OpenCV(3.4.3) /Users/travis/build/skvark/opencv-python/opencv/modules/imgcodecs/src/loadsave.cpp:684: error: (-2:Unspecified error) could not find a writer for the specified extension in function 'imwrite_'\n",
      "\n",
      "('raw/Abigail_Spencer./30abe2693b7adf3', 'Abigail_Spencer', 'http://hairstyles.thehairstyler.com/hairstyle_views/left_view_images/8133/original/Abigail-Spencer.jpg', (136, 159, 339, 362))\n",
      "OpenCV(3.4.3) /Users/travis/build/skvark/opencv-python/opencv/modules/imgcodecs/src/loadsave.cpp:684: error: (-2:Unspecified error) could not find a writer for the specified extension in function 'imwrite_'\n",
      "\n",
      "('raw/Abigail_Spencer./33a6a3593b9aa5e', 'Abigail_Spencer', 'http://www.pinucci.com/wenn/wenn3719822_46_2335_8.jpg', (84, 70, 211, 197))\n",
      "OpenCV(3.4.3) /Users/travis/build/skvark/opencv-python/opencv/modules/imgcodecs/src/loadsave.cpp:684: error: (-2:Unspecified error) could not find a writer for the specified extension in function 'imwrite_'\n",
      "\n",
      "('raw/Abel_Ferrara./8497cc1f6199231', 'Abel_Ferrara', 'http://www.thereelword.net/wp-content/uploads/2013/08/abel-ferrara-pasolini1-1024x534.jpg', (140, 140, 390, 390))\n",
      "OpenCV(3.4.3) /Users/travis/build/skvark/opencv-python/opencv/modules/imgcodecs/src/loadsave.cpp:684: error: (-2:Unspecified error) could not find a writer for the specified extension in function 'imwrite_'\n",
      "\n",
      "('raw/Abraham_Benrubi./benrubi_200612010052467jpg', 'Abraham_Benrubi', 'http://www.images99.com/i99/01/8955/89551.jpg', (73, 49, 183, 159))\n",
      "OpenCV(3.4.3) /Users/travis/build/skvark/opencv-python/opencv/modules/imgcodecs/src/loadsave.cpp:684: error: (-2:Unspecified error) could not find a writer for the specified extension in function 'imwrite_'\n",
      "\n"
     ]
    },
    {
     "name": "stdout",
     "output_type": "stream",
     "text": [
      "('raw/Abigail_Spencer./4a4f05d7843c9dc', 'Abigail_Spencer', 'http://blogs.gala.de/s/wp-content/blogs.dir/2/files/2011/04/abigail-spencer-200.jpg', (60, 50, 149, 139))\n",
      "OpenCV(3.4.3) /Users/travis/build/skvark/opencv-python/opencv/modules/imgcodecs/src/loadsave.cpp:684: error: (-2:Unspecified error) could not find a writer for the specified extension in function 'imwrite_'\n",
      "\n",
      "('raw/Abel_Ferrara./900x506', 'Abel_Ferrara', 'http://i.dawn.com/2011/09/abel-ferrara-last-day-on-earth-willem-dafoe-reut-640.jpg', (438, 43, 514, 120))\n",
      "OpenCV(3.4.3) /Users/travis/build/skvark/opencv-python/opencv/modules/imgcodecs/src/loadsave.cpp:684: error: (-2:Unspecified error) could not find a writer for the specified extension in function 'imwrite_'\n",
      "\n",
      "('raw/Abraham_Benrubi./52473106.jpg?partner=allrovi.com', 'Abraham_Benrubi', 'http://www.horroria.com/i/nstills/81/81/8181/8181-209032.jpg', (147, 92, 202, 147))\n",
      "OpenCV(3.4.3) /Users/travis/build/skvark/opencv-python/opencv/modules/imgcodecs/src/loadsave.cpp:684: error: (-2:Unspecified error) could not find a writer for the specified extension in function 'imwrite_'\n",
      "\n",
      "('raw/Abel_Ferrara./?m=02&d=20110907&t=2&i=496325796&w=460&fh=&fw=&ll=&pl=&r=2011-09-07T123802Z_01_BTRE7860Z3R00_RTROPTP_0_FILM-VENICE', 'Abel_Ferrara', 'http://i.ytimg.com/vi/N5xZ_Snyl8A/0.jpg', (121, 78, 199, 155))\n",
      "OpenCV(3.4.3) /Users/travis/build/skvark/opencv-python/opencv/modules/imgcodecs/src/loadsave.cpp:684: error: (-2:Unspecified error) could not find a writer for the specified extension in function 'imwrite_'\n",
      "\n",
      "('raw/Abel_Ferrara./?m=02&d=20110907&t=2&i=496333912&w=580&fh=&fw=&ll=&pl=&r=img-2011-09-07T181303Z_01_NOOTR_RTRMDNC_0_India-592021-1', 'Abel_Ferrara', 'http://www.kievrus.com.ua/images/actors_photos/a/43429/large/abel-ferrara-43429-photo-large-4.jpg', (37, 93, 204, 260))\n",
      "OpenCV(3.4.3) /Users/travis/build/skvark/opencv-python/opencv/modules/imgcodecs/src/loadsave.cpp:684: error: (-2:Unspecified error) could not find a writer for the specified extension in function 'imwrite_'\n",
      "\n",
      "('raw/Abigail_Spencer./6a00d8341c9cc153ef0133f2055d6c970b-500wi', 'Abigail_Spencer', 'http://www.contactmusic.com/pics/lf/valentino_arrivals_3_280312/abigail-spencer-the-valentino-rodeo-drive-flagship_5817441.jpg', (156, 182, 389, 415))\n",
      "OpenCV(3.4.3) /Users/travis/build/skvark/opencv-python/opencv/modules/imgcodecs/src/loadsave.cpp:684: error: (-2:Unspecified error) could not find a writer for the specified extension in function 'imwrite_'\n",
      "\n",
      "('raw/Abraham_Benrubi./slpwk_1_img_3_h.jpg?partner=allrovi.com', 'Abraham_Benrubi', 'http://world-ua.com/_ld/22/88456838.jpg', (257, 108, 308, 160))\n",
      "OpenCV(3.4.3) /Users/travis/build/skvark/opencv-python/opencv/modules/imgcodecs/src/loadsave.cpp:684: error: (-2:Unspecified error) could not find a writer for the specified extension in function 'imwrite_'\n",
      "\n",
      "('raw/Abigail_Spencer./6dd0c0db4a73bc7', 'Abigail_Spencer', 'http://www4.pictures.zimbio.com/gi/Abigail+Spencer+UIFl2AteMorm.jpg', (97, 65, 242, 210))\n",
      "OpenCV(3.4.3) /Users/travis/build/skvark/opencv-python/opencv/modules/imgcodecs/src/loadsave.cpp:684: error: (-2:Unspecified error) could not find a writer for the specified extension in function 'imwrite_'\n",
      "\n",
      "('raw/Abigail_Klein./16e9b0a34189902', 'Abigail_Klein', 'https://c1.staticflickr.com/3/2485/4194340170_eb844cdc08.jpg', (130, 37, 213, 120))\n",
      "OpenCV(3.4.3) /Users/travis/build/skvark/opencv-python/opencv/modules/imgcodecs/src/loadsave.cpp:684: error: (-2:Unspecified error) could not find a writer for the specified extension in function 'imwrite_'\n",
      "\n",
      "('raw/Abigail_Klein./1bf9f9be56fed27', 'Abigail_Klein', 'http://cdn2-b.examiner.com/sites/default/files/styles/image_content_width/hash/5d/3d/5d3d50306711bb1c88e7c3793ac19bab.jpeg?itok=MBdPY03M', (68, 60, 135, 128))\n",
      "OpenCV(3.4.3) /Users/travis/build/skvark/opencv-python/opencv/modules/imgcodecs/src/loadsave.cpp:684: error: (-2:Unspecified error) could not find a writer for the specified extension in function 'imwrite_'\n",
      "\n",
      "('raw/Abigail_Klein./1f3fdcb76c8ee02', 'Abigail_Klein', 'http://www3.pictures.zimbio.com/gi/Abigail%252BKlein%252BPremiere%252BColumbia%252BPictures%252BMy%252BvEHAQaH6Sqkl.jpg', (99, 119, 275, 295))\n",
      "OpenCV(3.4.3) /Users/travis/build/skvark/opencv-python/opencv/modules/imgcodecs/src/loadsave.cpp:684: error: (-2:Unspecified error) could not find a writer for the specified extension in function 'imwrite_'\n",
      "\n",
      "('raw/Abigail_Spencer./80570707.jpg?partner=allrovi.com', 'Abigail_Spencer', 'http://www3.pictures.zimbio.com/gi/Abigail%252BSpencer%252BPremiere%252BTwentieth%252BCentury%252BG4kSBAGQmvbl.jpg', (148, 111, 312, 275))\n",
      "OpenCV(3.4.3) /Users/travis/build/skvark/opencv-python/opencv/modules/imgcodecs/src/loadsave.cpp:684: error: (-2:Unspecified error) could not find a writer for the specified extension in function 'imwrite_'\n",
      "\n",
      "('raw/Abigail_Spencer./8208d5d217e33a8', 'Abigail_Spencer', 'http://www3.pictures.stylebistro.com/gi/Abigail%252BSpencer%252BOuterwear%252BLeather%252BJacket%252BKC7LEc0Lx8Tl.jpg', (148, 49, 211, 112))\n",
      "OpenCV(3.4.3) /Users/travis/build/skvark/opencv-python/opencv/modules/imgcodecs/src/loadsave.cpp:684: error: (-2:Unspecified error) could not find a writer for the specified extension in function 'imwrite_'\n",
      "\n",
      "libpng warning: iCCP: known incorrect sRGB profile\n",
      "('raw/Abraham_Benrubi./7dd5ae9ee599eac', 'Abraham_Benrubi', 'http://images3.cinema.de/imedia/6567/2216567,Q9dpB8jitxuDkdRiMYAXLdPnWFqRtVXKAO28Io7_jhBbMtSCVai_EnHoxeVgiZb1aX%252BnfpXBgAMmtjWsCqzvHg%253D%253D.jpg', (521, 182, 622, 282))\n",
      "OpenCV(3.4.3) /Users/travis/build/skvark/opencv-python/opencv/modules/imgcodecs/src/loadsave.cpp:684: error: (-2:Unspecified error) could not find a writer for the specified extension in function 'imwrite_'\n",
      "\n",
      "('raw/Abraham_Benrubi./7e59f1c45f70e9d', 'Abraham_Benrubi', 'http://content8.flixster.com/photo/11/38/48/11384890_ori.jpg', (65, 81, 210, 226))\n",
      "OpenCV(3.4.3) /Users/travis/build/skvark/opencv-python/opencv/modules/imgcodecs/src/loadsave.cpp:684: error: (-2:Unspecified error) could not find a writer for the specified extension in function 'imwrite_'\n",
      "\n",
      "('raw/Abigail_Spencer./uploaded_file20110614-29983-1bovjlk-0.', 'Abigail_Spencer', 'http://www.luckymag.com/style/2013/06/celebrities-who-wear-glasses/_jcr_content/par/cn_contentwell/par-main/cn_slideshow/item24.rendition.slideshowVertical.abigail-spencer-glasses.jpg', (139, 45, 184, 89))\n",
      "OpenCV(3.4.3) /Users/travis/build/skvark/opencv-python/opencv/modules/imgcodecs/src/loadsave.cpp:684: error: (-2:Unspecified error) could not find a writer for the specified extension in function 'imwrite_'\n",
      "\n",
      "('raw/Adam_Baldwin./1b20763dd3565ab', 'Adam_Baldwin', 'http://de.academic.ru/pictures/dewiki/65/Adam_Baldwin_Serenity_premiere_1.jpg', (60, 90, 328, 358))\n",
      "OpenCV(3.4.3) /Users/travis/build/skvark/opencv-python/opencv/modules/imgcodecs/src/loadsave.cpp:684: error: (-2:Unspecified error) could not find a writer for the specified extension in function 'imwrite_'\n",
      "\n",
      "('raw/Abraham_Benrubi./d26b104b8774a2c', 'Abraham_Benrubi', 'http://www.hollywoodreporter.com/sites/default/files/imagecache/node-gallery-display/2014/06/THR_The_Bridge_Set_Visit_7.jpg', (433, 73, 504, 144))\n",
      "OpenCV(3.4.3) /Users/travis/build/skvark/opencv-python/opencv/modules/imgcodecs/src/loadsave.cpp:684: error: (-2:Unspecified error) could not find a writer for the specified extension in function 'imwrite_'\n",
      "\n",
      "('raw/Abigail_Klein./LwVXS-aPUIup7U3MLHYLHxYQS4xxLg_UBpBiG846vVQCONL43WZPOzHuZ9fEcshBMFETrykd8m1ueKDqmhk6DgcU2czIeI9__5c3XfYtCRQhAJSUW6bXx0jTyEATXIRDQr_x810_K1xzBOs=w426-h255-p', 'Abigail_Klein', 'http://celebs-life.com/wp-content/plugins/special-recent-posts/cache/srpthumb-p48081-180x200-no.jpg', (37, 9, 120, 92))\n",
      "OpenCV(3.4.3) /Users/travis/build/skvark/opencv-python/opencv/modules/imgcodecs/src/loadsave.cpp:684: error: (-2:Unspecified error) could not find a writer for the specified extension in function 'imwrite_'\n",
      "\n",
      "('raw/Abraham_Benrubi./8693726d8f26228', 'Abraham_Benrubi', 'http://www.orsiitaliani.com/benrubi5.jpg', (111, 130, 278, 297))\n",
      "OpenCV(3.4.3) /Users/travis/build/skvark/opencv-python/opencv/modules/imgcodecs/src/loadsave.cpp:684: error: (-2:Unspecified error) could not find a writer for the specified extension in function 'imwrite_'\n",
      "\n",
      "('raw/Abraham_Benrubi./d41982cfce8ce62', 'Abraham_Benrubi', 'http://www.mancrushes.com/sites/default/files/abraham-benrubi-parker-lewis-5.jpg', (106, 169, 295, 358))\n",
      "OpenCV(3.4.3) /Users/travis/build/skvark/opencv-python/opencv/modules/imgcodecs/src/loadsave.cpp:684: error: (-2:Unspecified error) could not find a writer for the specified extension in function 'imwrite_'\n",
      "\n"
     ]
    },
    {
     "name": "stdout",
     "output_type": "stream",
     "text": [
      "('raw/Abigail_Klein./32615aa45c06852', 'Abigail_Klein', 'http://www2.pictures.zimbio.com/gi/Abigail%252BKlein%252BTransformers%252BAge%252BExtinction%252Bm2Ut1oaSIjCl.jpg', (130, 93, 297, 260))\n",
      "OpenCV(3.4.3) /Users/travis/build/skvark/opencv-python/opencv/modules/imgcodecs/src/loadsave.cpp:684: error: (-2:Unspecified error) could not find a writer for the specified extension in function 'imwrite_'\n",
      "\n",
      "('raw/Abigail_Klein./34e0cabc78be0fe', 'Abigail_Klein', 'http://i.imgur.com/ygZoT.png', (223, 121, 377, 274))\n",
      "OpenCV(3.4.3) /Users/travis/build/skvark/opencv-python/opencv/modules/imgcodecs/src/loadsave.cpp:684: error: (-2:Unspecified error) could not find a writer for the specified extension in function 'imwrite_'\n",
      "\n",
      "('raw/Abel_Ferrara./b785b7151fc70241c7f0dc614510d8cf903e93a4a700d25511fe84f211a3036b_large', 'Abel_Ferrara', 'http://www.nonsolocinema.com/IMG/jpg/NSC_Abel_Ferrara_ph_Romina_Greggio-r270.jpg', (60, 60, 238, 238))\n",
      "OpenCV(3.4.3) /Users/travis/build/skvark/opencv-python/opencv/modules/imgcodecs/src/loadsave.cpp:684: error: (-2:Unspecified error) could not find a writer for the specified extension in function 'imwrite_'\n",
      "\n",
      "('raw/Abraham_Benrubi./97491596d54e2fa', 'Abraham_Benrubi', 'http://static10.imagecollect.com/preview/138/4d8538d0df33093', (121, 86, 274, 240))\n",
      "OpenCV(3.4.3) /Users/travis/build/skvark/opencv-python/opencv/modules/imgcodecs/src/loadsave.cpp:684: error: (-2:Unspecified error) could not find a writer for the specified extension in function 'imwrite_'\n",
      "\n",
      "('raw/Abigail_Klein./3acfd10ca1e308f', 'Abigail_Klein', 'http://fandaily.info/wp-content/uploads/2012/05/Abigail-Klein-Troy-Aikman-pictures.jpg', (24, 40, 97, 113))\n",
      "OpenCV(3.4.3) /Users/travis/build/skvark/opencv-python/opencv/modules/imgcodecs/src/loadsave.cpp:684: error: (-2:Unspecified error) could not find a writer for the specified extension in function 'imwrite_'\n",
      "\n",
      "('raw/Abigail_Klein./3b6aab1a3489350', 'Abigail_Klein', 'https://c2.staticflickr.com/4/3206/3074136783_8b89c6e685.jpg', (296, 69, 384, 157))\n",
      "OpenCV(3.4.3) /Users/travis/build/skvark/opencv-python/opencv/modules/imgcodecs/src/loadsave.cpp:684: error: (-2:Unspecified error) could not find a writer for the specified extension in function 'imwrite_'\n",
      "\n",
      "('raw/Abraham_Benrubi./9b1bc00a6d6ec9d', 'Abraham_Benrubi', 'http://i.prphotos.com/i/JTO-003811/Catherine-Kamei-and-Abraham-Benrubi-A-Country-Christmas-Special-Screening-Hosted-by-Caitlin-Carmichael-to-Benefit-Alexs-Lemonade-Stand---Arrivals.jpg', (215, 95, 291, 171))\n",
      "OpenCV(3.4.3) /Users/travis/build/skvark/opencv-python/opencv/modules/imgcodecs/src/loadsave.cpp:684: error: (-2:Unspecified error) could not find a writer for the specified extension in function 'imwrite_'\n",
      "\n",
      "('raw/Abraham_Benrubi./aac03edd27d22bd', 'Abraham_Benrubi', 'http://www.mancrushes.com/sites/default/files/Abraham-Benrubi-dating-10.jpg', (105, 121, 241, 256))\n",
      "OpenCV(3.4.3) /Users/travis/build/skvark/opencv-python/opencv/modules/imgcodecs/src/loadsave.cpp:684: error: (-2:Unspecified error) could not find a writer for the specified extension in function 'imwrite_'\n",
      "\n",
      "('raw/Abigail_Klein./4145d49b8b5b1e7', 'Abigail_Klein', 'http://ilarge.listal.com/image/5143301/968full-abigail-klein.jpg', (257, 65, 400, 208))\n",
      "OpenCV(3.4.3) /Users/travis/build/skvark/opencv-python/opencv/modules/imgcodecs/src/loadsave.cpp:684: error: (-2:Unspecified error) could not find a writer for the specified extension in function 'imwrite_'\n",
      "\n",
      "('raw/Abraham_Benrubi./viDvAnmF_UNyfRSt_GoXpF97O5noMMahVFz-xLunj1hchfR2FEfOX3z9Z-jF529KO1HNDsDOd0fmbOtZ=s200-c', 'Abraham_Benrubi', 'http://assets.nydailynews.com/polopoly_fs/1.366547!/img/httpImage/image.jpg_gen/derivatives/landscape_1200/alg-er-jpg.jpg', (52, 117, 168, 233))\n",
      "OpenCV(3.4.3) /Users/travis/build/skvark/opencv-python/opencv/modules/imgcodecs/src/loadsave.cpp:684: error: (-2:Unspecified error) could not find a writer for the specified extension in function 'imwrite_'\n",
      "\n",
      "libpng warning: iCCP: known incorrect sRGB profile\n",
      "libpng warning: iCCP: cHRM chunk does not match sRGB\n",
      "('raw/Abraham_Benrubi./eeb4b7458caf21d', 'Abraham_Benrubi', 'http://i1.ytimg.com/vi/ECrW_4yIpWE/0.jpg', (204, 93, 371, 260))\n",
      "OpenCV(3.4.3) /Users/travis/build/skvark/opencv-python/opencv/modules/imgcodecs/src/loadsave.cpp:684: error: (-2:Unspecified error) could not find a writer for the specified extension in function 'imwrite_'\n",
      "\n",
      "('raw/Abraham_Benrubi./107029_d_0006v2_pre.jpg?partner=allrovi.com', 'Abraham_Benrubi', 'http://i2.listal.com/image/2688511/600full-abraham-benrubi.jpg', (79, 105, 196, 223))\n",
      "OpenCV(3.4.3) /Users/travis/build/skvark/opencv-python/opencv/modules/imgcodecs/src/loadsave.cpp:684: error: (-2:Unspecified error) could not find a writer for the specified extension in function 'imwrite_'\n",
      "\n",
      "('raw/Abraham_Benrubi./116145_0197_ful.jpg?partner=allrovi.com', 'Abraham_Benrubi', 'http://0.tqn.com/y/movies/1/L/W/f/O/benrubitrees1.jpg', (52, 86, 207, 242))\n",
      "OpenCV(3.4.3) /Users/travis/build/skvark/opencv-python/opencv/modules/imgcodecs/src/loadsave.cpp:684: error: (-2:Unspecified error) could not find a writer for the specified extension in function 'imwrite_'\n",
      "\n",
      "('raw/Abraham_Benrubi./f615305d6d34e7a', 'Abraham_Benrubi', 'http://www.toutelatele.com/IMG/jpg/parker-lewis-et-kubiac.jpg', (127, 49, 190, 112))\n",
      "OpenCV(3.4.3) /Users/travis/build/skvark/opencv-python/opencv/modules/imgcodecs/src/loadsave.cpp:684: error: (-2:Unspecified error) could not find a writer for the specified extension in function 'imwrite_'\n",
      "\n",
      "('raw/Adam_Beach./1a443d8fc9e9d5b', 'Adam_Beach', 'http://adambeachfoundation.org/wp-content/uploads/2012/09/021a90f54b2880e77148b15b6541-36519_618x332.jpg', (242, 52, 398, 207))\n",
      "OpenCV(3.4.3) /Users/travis/build/skvark/opencv-python/opencv/modules/imgcodecs/src/loadsave.cpp:684: error: (-2:Unspecified error) could not find a writer for the specified extension in function 'imwrite_'\n",
      "\n",
      "('raw/Adam_Beach./d1314171f1f7a04', 'Adam_Beach', 'http://imgc.allpostersimages.com/images/P-473-488-90/56/5614/JXRVG00Z/posters/adam-west.jpg', (65, 129, 355, 420))\n",
      "OpenCV(3.4.3) /Users/travis/build/skvark/opencv-python/opencv/modules/imgcodecs/src/loadsave.cpp:684: error: (-2:Unspecified error) could not find a writer for the specified extension in function 'imwrite_'\n",
      "\n",
      "('raw/Adam_Beach./1b8832802b463c9', 'Adam_Beach', 'http://www.celebritiesheight.com/wp-content/uploads/2012/06/Adam-Beach.jpg', (24, 73, 245, 294))\n",
      "OpenCV(3.4.3) /Users/travis/build/skvark/opencv-python/opencv/modules/imgcodecs/src/loadsave.cpp:684: error: (-2:Unspecified error) could not find a writer for the specified extension in function 'imwrite_'\n",
      "\n",
      "('raw/Abraham_Benrubi./index.php?action=get_image&series_id=73903&actor_id=29085&type=actor_small', 'Abraham_Benrubi', 'http://static.rogerebert.com/uploads/movie/movie_poster/open-range-2003/large_qMxKzKHi4HfmBzHJB5NZtquLctn.jpg', (217, 129, 305, 216))\n",
      "OpenCV(3.4.3) /Users/travis/build/skvark/opencv-python/opencv/modules/imgcodecs/src/loadsave.cpp:684: error: (-2:Unspecified error) could not find a writer for the specified extension in function 'imwrite_'\n",
      "\n",
      "('raw/Abraham_Benrubi./index.php?action=get_image&series_id=79366&actor_id=71010&type=actor_small', 'Abraham_Benrubi', 'http://static.rogerebert.com/uploads/movie/movie_poster/open-range-2003/large_qMxKzKHi4HfmBzHJB5NZtquLctn.jpg', (80, 114, 181, 214))\n",
      "OpenCV(3.4.3) /Users/travis/build/skvark/opencv-python/opencv/modules/imgcodecs/src/loadsave.cpp:684: error: (-2:Unspecified error) could not find a writer for the specified extension in function 'imwrite_'\n",
      "\n",
      "libpng warning: iCCP: known incorrect sRGB profile\n",
      "('raw/Adam_Beach./dd2cc2679c9f968', 'Adam_Beach', 'http://img.timeinc.net/time/daily/2007/0701/adam_beach0131.jpg', (60, 79, 238, 258))\n",
      "OpenCV(3.4.3) /Users/travis/build/skvark/opencv-python/opencv/modules/imgcodecs/src/loadsave.cpp:684: error: (-2:Unspecified error) could not find a writer for the specified extension in function 'imwrite_'\n",
      "\n",
      "('raw/Adam_Beach./dfc9ff6af15c60e', 'Adam_Beach', 'http://americanindians101.files.wordpress.com/2011/04/adam-beach.jpg', (60, 79, 238, 258))\n",
      "OpenCV(3.4.3) /Users/travis/build/skvark/opencv-python/opencv/modules/imgcodecs/src/loadsave.cpp:684: error: (-2:Unspecified error) could not find a writer for the specified extension in function 'imwrite_'\n",
      "\n"
     ]
    },
    {
     "name": "stdout",
     "output_type": "stream",
     "text": [
      "libpng warning: iCCP: known incorrect sRGB profile\n",
      "libpng error: Read Error\n",
      "('raw/Adam_Buxton./acd52d42ec6bf85', 'Adam_Buxton', 'http://archive.dconstruct.org/i/speakers/2013_adam_buxton.jpg', (139, 99, 318, 278))\n",
      "OpenCV(3.4.3) /Users/travis/build/skvark/opencv-python/opencv/modules/imgcodecs/src/loadsave.cpp:684: error: (-2:Unspecified error) could not find a writer for the specified extension in function 'imwrite_'\n",
      "\n",
      "('raw/Adam_Buxton./ad3d33dfd09e856', 'Adam_Buxton', 'http://d3c1jucybpy4ua.cloudfront.net/data/5450/feature/ciacjbhb.jpg?1332931436', (213, 0, 405, 192))\n",
      "OpenCV(3.4.3) /Users/travis/build/skvark/opencv-python/opencv/modules/imgcodecs/src/loadsave.cpp:684: error: (-2:Unspecified error) could not find a writer for the specified extension in function 'imwrite_'\n",
      "\n",
      "('raw/Adam_Beach./2383a447191e491', 'Adam_Beach', 'http://images4.fanpop.com/image/photos/23400000/Adam-in-Comanche-Moon-adam-beach-23428203-853-480.jpg', (340, 73, 557, 291))\n",
      "OpenCV(3.4.3) /Users/travis/build/skvark/opencv-python/opencv/modules/imgcodecs/src/loadsave.cpp:684: error: (-2:Unspecified error) could not find a writer for the specified extension in function 'imwrite_'\n",
      "\n",
      "('raw/Adam_Beach./2495c6d6477359f', 'Adam_Beach', 'http://www.magweb.com/picts/nm0063440.jpg', (24, 98, 245, 318))\n",
      "OpenCV(3.4.3) /Users/travis/build/skvark/opencv-python/opencv/modules/imgcodecs/src/loadsave.cpp:684: error: (-2:Unspecified error) could not find a writer for the specified extension in function 'imwrite_'\n",
      "\n",
      "('raw/Adam_Baldwin./6a00d8341bf80a53ef01bb079b23f2970d-pi', 'Adam_Baldwin', 'http://cdn.everyjoe.com/wp-content/uploads/2014/10/adam-baldwin-gamergate.jpg', (235, 85, 426, 277))\n",
      "OpenCV(3.4.3) /Users/travis/build/skvark/opencv-python/opencv/modules/imgcodecs/src/loadsave.cpp:684: error: (-2:Unspecified error) could not find a writer for the specified extension in function 'imwrite_'\n",
      "\n",
      "('raw/Adam_Baldwin./6a00d8341c730253ef01a511753286970c-pi', 'Adam_Baldwin', 'http://www.dailyactor.com/wp-content/uploads/2014/06/adam-baldwin-the-last-ship-240x225.jpg', (121, 28, 204, 111))\n",
      "OpenCV(3.4.3) /Users/travis/build/skvark/opencv-python/opencv/modules/imgcodecs/src/loadsave.cpp:684: error: (-2:Unspecified error) could not find a writer for the specified extension in function 'imwrite_'\n",
      "\n",
      "('raw/Adam_Beach./29433c4b40865bc', 'Adam_Beach', 'http://img.spokeo.com/public/900-600/adam_beach_2002_06_05.jpg', (32, 162, 323, 452))\n",
      "OpenCV(3.4.3) /Users/travis/build/skvark/opencv-python/opencv/modules/imgcodecs/src/loadsave.cpp:684: error: (-2:Unspecified error) could not find a writer for the specified extension in function 'imwrite_'\n",
      "\n",
      "('raw/Adam_Beach./2f40a02f0831ac7', 'Adam_Beach', 'http://www.celebritybabyscoop.com/files/2009/08/adam-beach-family-vancouver-strollers-3-960x623.jpg', (299, 60, 432, 194))\n",
      "OpenCV(3.4.3) /Users/travis/build/skvark/opencv-python/opencv/modules/imgcodecs/src/loadsave.cpp:684: error: (-2:Unspecified error) could not find a writer for the specified extension in function 'imwrite_'\n",
      "\n",
      "('raw/Adam_Baldwin./74144878.jpg?partner=allrovi.com', 'Adam_Baldwin', 'http://content7.flixster.com/rtactor/38/50/38501_pro.jpg', (56, 56, 222, 222))\n",
      "OpenCV(3.4.3) /Users/travis/build/skvark/opencv-python/opencv/modules/imgcodecs/src/loadsave.cpp:684: error: (-2:Unspecified error) could not find a writer for the specified extension in function 'imwrite_'\n",
      "\n",
      "('raw/Adam_Brody./Adam-Brody+New+2012+Pic+05', 'Adam_Brody', 'http://i0.huffpost.com/gen/1484601/thumbs/n-ADAM-BRODY-large570.jpg', (220, 49, 330, 159))\n",
      "OpenCV(3.4.3) /Users/travis/build/skvark/opencv-python/opencv/modules/imgcodecs/src/loadsave.cpp:684: error: (-2:Unspecified error) could not find a writer for the specified extension in function 'imwrite_'\n",
      "\n",
      "('raw/Adam_Baldwin./757b437f9bc919a', 'Adam_Baldwin', 'http://www.snakkle.com/wp-content/uploads/2012/04/adam-baldwin-firefly-tv-2002-2003-portrait-summer-television-critics-association-press-tour-2007-photo-split.jpg', (375, 79, 551, 256))\n",
      "OpenCV(3.4.3) /Users/travis/build/skvark/opencv-python/opencv/modules/imgcodecs/src/loadsave.cpp:684: error: (-2:Unspecified error) could not find a writer for the specified extension in function 'imwrite_'\n",
      "\n",
      "('raw/Adam_Beach./e065f1a1b9ae7e8', 'Adam_Beach', 'http://www.angelfire.com/clone/wolfchild/images/Actors%20Main%20Page/Adam_Beach_and_Gordon_Tootoosis.jpg', (141, 84, 204, 147))\n",
      "OpenCV(3.4.3) /Users/travis/build/skvark/opencv-python/opencv/modules/imgcodecs/src/loadsave.cpp:684: error: (-2:Unspecified error) could not find a writer for the specified extension in function 'imwrite_'\n",
      "\n",
      "('raw/Adam_Beach./3613530f33a0f76', 'Adam_Beach', 'http://media-cache-ec0.pinimg.com/736x/6a/5f/97/6a5f978a8d8f0fc6a82a6fd5b76459ea.jpg', (85, 64, 277, 256))\n",
      "OpenCV(3.4.3) /Users/travis/build/skvark/opencv-python/opencv/modules/imgcodecs/src/loadsave.cpp:684: error: (-2:Unspecified error) could not find a writer for the specified extension in function 'imwrite_'\n",
      "\n",
      "('raw/Adam_Beach./3750485_std.gif', 'Adam_Beach', 'http://www.famtic.com/Images/2008/10/1/Profile/78358abd-40ab-4f29-a661-933e736db33d.jpg', (43, 85, 234, 277))\n",
      "OpenCV(3.4.3) /Users/travis/build/skvark/opencv-python/opencv/modules/imgcodecs/src/loadsave.cpp:684: error: (-2:Unspecified error) could not find a writer for the specified extension in function 'imwrite_'\n",
      "\n",
      "('raw/Adam_Beach./ed5c01866870006', 'Adam_Beach', 'http://image.shutterstock.com/display_pic_with_logo/50653/50653,1312060427,1/stock-photo-san-diego-ca-july-adam-beach-and-family-arrive-at-the-world-premiere-of-quot-cowboys-and-81976627.jpg', (187, 26, 216, 55))\n",
      "OpenCV(3.4.3) /Users/travis/build/skvark/opencv-python/opencv/modules/imgcodecs/src/loadsave.cpp:684: error: (-2:Unspecified error) could not find a writer for the specified extension in function 'imwrite_'\n",
      "\n",
      "('raw/Adam_Copeland./a380eb92aba5b2d', 'Adam_Copeland', 'http://i.ytimg.com/vi/NIs0DwMKUbU/hqdefault.jpg', (107, 43, 298, 234))\n",
      "OpenCV(3.4.3) /Users/travis/build/skvark/opencv-python/opencv/modules/imgcodecs/src/loadsave.cpp:684: error: (-2:Unspecified error) could not find a writer for the specified extension in function 'imwrite_'\n",
      "\n",
      "('raw/Adam_Beach./37bff9f7652468d', 'Adam_Beach', 'http://c420561.r61.cf1.rackcdn.com/4/2390-205047.jpg', (85, 64, 277, 256))\n",
      "OpenCV(3.4.3) /Users/travis/build/skvark/opencv-python/opencv/modules/imgcodecs/src/loadsave.cpp:684: error: (-2:Unspecified error) could not find a writer for the specified extension in function 'imwrite_'\n",
      "\n",
      "libpng warning: iCCP: known incorrect sRGB profile\n",
      "('raw/Adam_Beach./f635060da6aa487', 'Adam_Beach', 'http://www.artns.us/Celebrity%20twins/kevin_godlington_adam_beach.jpg', (18, 37, 185, 204))\n",
      "OpenCV(3.4.3) /Users/travis/build/skvark/opencv-python/opencv/modules/imgcodecs/src/loadsave.cpp:684: error: (-2:Unspecified error) could not find a writer for the specified extension in function 'imwrite_'\n",
      "\n",
      "('raw/Adam_Copeland./a81647_31e96efd17450e887eb98e91684fa8b6.jpg_srz_319_254_85_22_0.50_1.20_0.00_jpg_srz', 'Adam_Copeland', 'http://i2.listal.com/image/1825948/600full-adam-copeland.jpg', (118, 26, 177, 85))\n",
      "OpenCV(3.4.3) /Users/travis/build/skvark/opencv-python/opencv/modules/imgcodecs/src/loadsave.cpp:684: error: (-2:Unspecified error) could not find a writer for the specified extension in function 'imwrite_'\n",
      "\n",
      "('raw/Adam_Beach./3f3d01a95ca93ad', 'Adam_Beach', 'http://wikilife.files.wordpress.com/2011/01/adam_beach_18829.jpg', (69, 52, 225, 207))\n",
      "OpenCV(3.4.3) /Users/travis/build/skvark/opencv-python/opencv/modules/imgcodecs/src/loadsave.cpp:684: error: (-2:Unspecified error) could not find a writer for the specified extension in function 'imwrite_'\n",
      "\n",
      "('raw/Adam_Beach./fedcc17f5c56167', 'Adam_Beach', 'http://www4.pictures.zimbio.com/gi/Adam%252BBeach%252BRoberto%252BOrci%252BPremiere%252BUniversal%252Bn8V9H73sKudl.jpg', (117, 64, 211, 158))\n",
      "OpenCV(3.4.3) /Users/travis/build/skvark/opencv-python/opencv/modules/imgcodecs/src/loadsave.cpp:684: error: (-2:Unspecified error) could not find a writer for the specified extension in function 'imwrite_'\n",
      "\n",
      "libpng warning: iCCP: known incorrect sRGB profile\n",
      "libpng warning: iCCP: cHRM chunk does not match sRGB\n",
      "('raw/Adam_Beach./46485f00c21887b', 'Adam_Beach', 'http://images5.fanpop.com/image/photos/26500000/Adam-in-Squanto-A-Warrior-s-Tale-adam-beach-26573127-853-480.jpg', (577, 81, 720, 224))\n",
      "OpenCV(3.4.3) /Users/travis/build/skvark/opencv-python/opencv/modules/imgcodecs/src/loadsave.cpp:684: error: (-2:Unspecified error) could not find a writer for the specified extension in function 'imwrite_'\n",
      "\n",
      "libpng warning: iCCP: known incorrect sRGB profile\n"
     ]
    },
    {
     "name": "stdout",
     "output_type": "stream",
     "text": [
      "('raw/Adam_Beach./4c1bb637d5842a4', 'Adam_Beach', 'http://www.movpins.com/big/MV5BMTU1OTM1Mzc1MF5BMl5BanBnXkFtZTYwMzk5NDk1._V1/adam-beach-at-event-of-flags-of-our-fathers-(2006)-large-picture.jpg', (43, 169, 422, 548))\n",
      "OpenCV(3.4.3) /Users/travis/build/skvark/opencv-python/opencv/modules/imgcodecs/src/loadsave.cpp:684: error: (-2:Unspecified error) could not find a writer for the specified extension in function 'imwrite_'\n",
      "\n",
      "libpng warning: iCCP: known incorrect sRGB profile\n",
      "('raw/Adam_Copeland./0ed2ef8d0e7638a', 'Adam_Copeland', 'http://images4.fanpop.com/image/photos/21400000/Adam-Copeland-EDGE-edge-21438051-622-353.jpg', (241, 56, 408, 222))\n",
      "OpenCV(3.4.3) /Users/travis/build/skvark/opencv-python/opencv/modules/imgcodecs/src/loadsave.cpp:684: error: (-2:Unspecified error) could not find a writer for the specified extension in function 'imwrite_'\n",
      "\n",
      "('raw/Adam_Beach./5726437cbd79e47', 'Adam_Beach', 'http://2.bp.blogspot.com/_VyekL5IHloE/S3bM6YtQv8I/AAAAAAAAAr8/HUEIKFJzGZ0/s400/Adam%20Beach%20in%20Comanche%20Moon.jpg', (149, 64, 245, 160))\n",
      "OpenCV(3.4.3) /Users/travis/build/skvark/opencv-python/opencv/modules/imgcodecs/src/loadsave.cpp:684: error: (-2:Unspecified error) could not find a writer for the specified extension in function 'imwrite_'\n",
      "\n",
      "('raw/Adam_Beach./image.', 'Adam_Beach', 'http://media.mugshotsonline.com/sh_mugshots/7967422.jpg', (43, 107, 234, 298))\n",
      "OpenCV(3.4.3) /Users/travis/build/skvark/opencv-python/opencv/modules/imgcodecs/src/loadsave.cpp:684: error: (-2:Unspecified error) could not find a writer for the specified extension in function 'imwrite_'\n",
      "\n",
      "libpng warning: iCCP: extra compressed data\n",
      "('raw/Adam_Copeland./ff50494858c9975', 'Adam_Copeland', 'http://i2.listal.com/image/1755336/600full-adam-copeland.jpg', (232, 9, 315, 92))\n",
      "OpenCV(3.4.3) /Users/travis/build/skvark/opencv-python/opencv/modules/imgcodecs/src/loadsave.cpp:684: error: (-2:Unspecified error) could not find a writer for the specified extension in function 'imwrite_'\n",
      "\n",
      "('raw/Adam_Beach./6630fd397b2fb37', 'Adam_Beach', 'http://internal.watchgmctv.com/sites/default/files/imagecache/actor_image/images-promo/actors/adambeach.jpg', (117, 43, 213, 138))\n",
      "OpenCV(3.4.3) /Users/travis/build/skvark/opencv-python/opencv/modules/imgcodecs/src/loadsave.cpp:684: error: (-2:Unspecified error) could not find a writer for the specified extension in function 'imwrite_'\n",
      "\n",
      "('raw/Adam_Brody./2d7e386b532d9db', 'Adam_Brody', 'http://40.media.tumblr.com/550fed5edcb5ef8a8941898e5e5567e6/tumblr_n81qmxGWdC1ri3m1ho1_500.jpg', (172, 52, 325, 205))\n",
      "OpenCV(3.4.3) /Users/travis/build/skvark/opencv-python/opencv/modules/imgcodecs/src/loadsave.cpp:684: error: (-2:Unspecified error) could not find a writer for the specified extension in function 'imwrite_'\n",
      "\n",
      "('raw/Adam_Beach./683086cc75cd38b', 'Adam_Beach', 'http://www2.pictures.gi.zimbio.com/Adam%252BBeach%252BStyle%252BMagazine%252BWarner%252BBros%252BStudios%252BiH62PXJFZV3l.jpg', (226, 75, 362, 211))\n",
      "OpenCV(3.4.3) /Users/travis/build/skvark/opencv-python/opencv/modules/imgcodecs/src/loadsave.cpp:684: error: (-2:Unspecified error) could not find a writer for the specified extension in function 'imwrite_'\n",
      "\n",
      "('raw/Adam_Beach./6a87683bc1a20c0', 'Adam_Beach', 'http://j.static-locatetv.com/images/person/84/178912_adam_beach.jpg', (23, 57, 125, 160))\n",
      "OpenCV(3.4.3) /Users/travis/build/skvark/opencv-python/opencv/modules/imgcodecs/src/loadsave.cpp:684: error: (-2:Unspecified error) could not find a writer for the specified extension in function 'imwrite_'\n",
      "\n",
      "('raw/Adam_Beach./6b65910a54e06e3', 'Adam_Beach', 'http://1.bp.blogspot.com/-KsmqeZm0PBM/TizTiMqGSfI/AAAAAAACL7A/_2uMzj_7SIs/s1600/Adam%25252BBeach.jpg', (28, 84, 281, 337))\n",
      "OpenCV(3.4.3) /Users/travis/build/skvark/opencv-python/opencv/modules/imgcodecs/src/loadsave.cpp:684: error: (-2:Unspecified error) could not find a writer for the specified extension in function 'imwrite_'\n",
      "\n",
      "('raw/Adam_Beach./6bbcace2c4f3eaa', 'Adam_Beach', 'http://mediafiles.parentscanada.com/Images/People/adam-beach-500x500.jpg', (172, 69, 325, 222))\n",
      "OpenCV(3.4.3) /Users/travis/build/skvark/opencv-python/opencv/modules/imgcodecs/src/loadsave.cpp:684: error: (-2:Unspecified error) could not find a writer for the specified extension in function 'imwrite_'\n",
      "\n",
      "('raw/Adam_Brody./32c3ef363748925', 'Adam_Brody', 'http://www.elmulticine.com/imagenes/noticias/4/adam-brody-pic.jpg', (138, 206, 445, 514))\n",
      "OpenCV(3.4.3) /Users/travis/build/skvark/opencv-python/opencv/modules/imgcodecs/src/loadsave.cpp:684: error: (-2:Unspecified error) could not find a writer for the specified extension in function 'imwrite_'\n",
      "\n",
      "('raw/Adam_Beach./6e7eb90415450ae', 'Adam_Beach', 'http://www2.pictures.zimbio.com/bg/Adam%252BBeach%252B12th%252BAnnual%252BCritics%252BChoice%252BAwards%252Bd6WIr7jVgbfl.jpg', (208, 78, 324, 194))\n",
      "OpenCV(3.4.3) /Users/travis/build/skvark/opencv-python/opencv/modules/imgcodecs/src/loadsave.cpp:684: error: (-2:Unspecified error) could not find a writer for the specified extension in function 'imwrite_'\n",
      "\n",
      "('raw/Adam_Beach./772999d28129bb3', 'Adam_Beach', 'http://media-cache-ec0.pinimg.com/736x/9b/a0/39/9ba0391a0031c467145c7bc72c1ffbf3.jpg', (90, 60, 226, 196))\n",
      "OpenCV(3.4.3) /Users/travis/build/skvark/opencv-python/opencv/modules/imgcodecs/src/loadsave.cpp:684: error: (-2:Unspecified error) could not find a writer for the specified extension in function 'imwrite_'\n",
      "\n",
      "libpng warning: iCCP: known incorrect sRGB profile\n",
      "('raw/Adam_Beach./7898137ba9a9b46', 'Adam_Beach', 'http://www.collider.com/wp-content/uploads/slice_paul_rudd_adam_beach_hope_davis.jpg', (241, 30, 377, 165))\n",
      "OpenCV(3.4.3) /Users/travis/build/skvark/opencv-python/opencv/modules/imgcodecs/src/loadsave.cpp:684: error: (-2:Unspecified error) could not find a writer for the specified extension in function 'imwrite_'\n",
      "\n",
      "libpng warning: iCCP: known incorrect sRGB profile\n",
      "('raw/Adam_Beach./8740c0a26ab1691', 'Adam_Beach', 'http://media-cache-ec0.pinimg.com/736x/e8/45/96/e84596e9759fff2f0a33f4d4c0f35b83.jpg', (60, 40, 238, 218))\n",
      "OpenCV(3.4.3) /Users/travis/build/skvark/opencv-python/opencv/modules/imgcodecs/src/loadsave.cpp:684: error: (-2:Unspecified error) could not find a writer for the specified extension in function 'imwrite_'\n",
      "\n",
      "libpng warning: iCCP: known incorrect sRGB profile\n",
      "('raw/Adam_Beach./95707cdb35b4857', 'Adam_Beach', 'http://img.spokeo.com/public/900-600/adam_beach_2007_01_23.jpg', (56, 92, 220, 257))\n",
      "OpenCV(3.4.3) /Users/travis/build/skvark/opencv-python/opencv/modules/imgcodecs/src/loadsave.cpp:684: error: (-2:Unspecified error) could not find a writer for the specified extension in function 'imwrite_'\n",
      "\n",
      "('raw/Adam_Baldwin./SC_Chuck.jpg?partner=allrovi.com', 'Adam_Baldwin', 'http://img3.wikia.nocookie.net/__cb20140220121653/tuckerverse/images/4/4c/Adam_Baldwin_3.jpg', (84, 28, 334, 278))\n",
      "OpenCV(3.4.3) /Users/travis/build/skvark/opencv-python/opencv/modules/imgcodecs/src/loadsave.cpp:684: error: (-2:Unspecified error) could not find a writer for the specified extension in function 'imwrite_'\n",
      "\n",
      "('raw/Adam_Brody./600x400', 'Adam_Brody', 'http://assets-s3.usmagazine.com/uploads/assets/photo_galleries/regular_galleries/935-meet-my-look-alike/photos/1400585026_adam-brody-penn-badgley-560.jpg', (64, 106, 253, 295))\n",
      "OpenCV(3.4.3) /Users/travis/build/skvark/opencv-python/opencv/modules/imgcodecs/src/loadsave.cpp:684: error: (-2:Unspecified error) could not find a writer for the specified extension in function 'imwrite_'\n",
      "\n",
      "('raw/Adam_Brody./7aac43625bf5246', 'Adam_Brody', 'http://images4.fanpop.com/image/photos/17700000/Adam-Brody-adam-brody-17702282-500-368.jpg', (204, 148, 371, 315))\n",
      "OpenCV(3.4.3) /Users/travis/build/skvark/opencv-python/opencv/modules/imgcodecs/src/loadsave.cpp:684: error: (-2:Unspecified error) could not find a writer for the specified extension in function 'imwrite_'\n",
      "\n",
      "libpng warning: iCCP: known incorrect sRGB profile\n",
      "('raw/Adam_Brody./900x506', 'Adam_Brody', 'http://hosted.ap.org/static/specials/today-in-history/12/photos/1215adambrody10a.jpg', (0, 61, 110, 171))\n",
      "OpenCV(3.4.3) /Users/travis/build/skvark/opencv-python/opencv/modules/imgcodecs/src/loadsave.cpp:684: error: (-2:Unspecified error) could not find a writer for the specified extension in function 'imwrite_'\n",
      "\n"
     ]
    },
    {
     "name": "stdout",
     "output_type": "stream",
     "text": [
      "('raw/Adam_Beach./a31802fe4b46d81', 'Adam_Beach', 'http://img.spokeo.com/public/900-600/adam_beach_2004_10_19.jpg', (111, 148, 275, 312))\n",
      "OpenCV(3.4.3) /Users/travis/build/skvark/opencv-python/opencv/modules/imgcodecs/src/loadsave.cpp:684: error: (-2:Unspecified error) could not find a writer for the specified extension in function 'imwrite_'\n",
      "\n",
      "('raw/Adam_Buxton./30C8EDC19D1080599713738334208_2fd6f3eb5ad.0.2.916574117676238940.mp4.jpg?versionId=DzrK7iU4KDf4XCggXi6N.fL2jTDR4v0T', 'Adam_Buxton', 'http://www.femalefirst.co.uk/image-library/land/500/a/adam-buxton-1.jpg', (157, 52, 393, 288))\n",
      "OpenCV(3.4.3) /Users/travis/build/skvark/opencv-python/opencv/modules/imgcodecs/src/loadsave.cpp:684: error: (-2:Unspecified error) could not find a writer for the specified extension in function 'imwrite_'\n",
      "\n",
      "('raw/Adam_Beach./a46702561d5e285', 'Adam_Beach', 'http://images4.fanpop.com/image/photos/23400000/Adam-in-Comanche-Moon-adam-beach-23428517-853-480.jpg', (292, 73, 509, 291))\n",
      "OpenCV(3.4.3) /Users/travis/build/skvark/opencv-python/opencv/modules/imgcodecs/src/loadsave.cpp:684: error: (-2:Unspecified error) could not find a writer for the specified extension in function 'imwrite_'\n",
      "\n",
      "('raw/Adam_Beach./a85c09b4143699f', 'Adam_Beach', 'http://a1.ec-images.myspacecdn.com/images01/72/f7acecf9607b8da93f8361ff644d8a28/l.jpg', (98, 38, 165, 105))\n",
      "OpenCV(3.4.3) /Users/travis/build/skvark/opencv-python/opencv/modules/imgcodecs/src/loadsave.cpp:684: error: (-2:Unspecified error) could not find a writer for the specified extension in function 'imwrite_'\n",
      "\n",
      "libpng warning: iCCP: known incorrect sRGB profile\n",
      "('raw/Adam_Driver./93e3c349669d35b', 'Adam_Driver', 'http://www.standard.co.uk/incoming/article9078168.ece/ALTERNATES/w460/adamdriver.jpg', (183, 70, 309, 197))\n",
      "OpenCV(3.4.3) /Users/travis/build/skvark/opencv-python/opencv/modules/imgcodecs/src/loadsave.cpp:684: error: (-2:Unspecified error) could not find a writer for the specified extension in function 'imwrite_'\n",
      "\n",
      "('raw/Adam_Beach./aebb9ba7b8cd7b9', 'Adam_Beach', 'http://www3.pictures.zimbio.com/gi/Adam%252BBeach%252BPremiere%252BUniversal%252BPictures%252BCowboys%252BclNKdHMzqRyl.jpg', (99, 99, 189, 189))\n",
      "OpenCV(3.4.3) /Users/travis/build/skvark/opencv-python/opencv/modules/imgcodecs/src/loadsave.cpp:684: error: (-2:Unspecified error) could not find a writer for the specified extension in function 'imwrite_'\n",
      "\n",
      "('raw/Adam_Driver./?htype=0&display=1', 'Adam_Driver', 'http://ethnicelebs.com/wp-content/uploads/2013/05/adam-driver-210x300.jpg', (42, 84, 168, 211))\n",
      "OpenCV(3.4.3) /Users/travis/build/skvark/opencv-python/opencv/modules/imgcodecs/src/loadsave.cpp:684: error: (-2:Unspecified error) could not find a writer for the specified extension in function 'imwrite_'\n",
      "\n",
      "('raw/Adam_Copeland./4572d7591062968', 'Adam_Copeland', 'http://www.pagecovers.com/covers/wwe_wrestling/edge_adam_copeland.jpg', (520, 69, 675, 225))\n",
      "OpenCV(3.4.3) /Users/travis/build/skvark/opencv-python/opencv/modules/imgcodecs/src/loadsave.cpp:684: error: (-2:Unspecified error) could not find a writer for the specified extension in function 'imwrite_'\n",
      "\n",
      "('raw/Adam_Driver./_74555450_adam_driver_624ap.gif', 'Adam_Driver', 'http://web.orange.co.uk/images/ice/film/adam_driver_pa.jpg', (112, 42, 239, 168))\n",
      "OpenCV(3.4.3) /Users/travis/build/skvark/opencv-python/opencv/modules/imgcodecs/src/loadsave.cpp:684: error: (-2:Unspecified error) could not find a writer for the specified extension in function 'imwrite_'\n",
      "\n",
      "('raw/Adam_Copeland./4e65e813f0fa1fb', 'Adam_Copeland', 'http://media-cache-ec0.pinimg.com/736x/06/71/7e/06717e7c7967c629855e6408702e4aac.jpg', (201, 64, 295, 158))\n",
      "OpenCV(3.4.3) /Users/travis/build/skvark/opencv-python/opencv/modules/imgcodecs/src/loadsave.cpp:684: error: (-2:Unspecified error) could not find a writer for the specified extension in function 'imwrite_'\n",
      "\n",
      "('raw/Adam_Beach./b67d66233cd0c7b', 'Adam_Beach', 'http://img6.bdbphotos.com/images/orig/3/h/3hvp76xm1rmjr1j6.jpg%253Fkj8as6ye', (90, 60, 226, 196))\n",
      "OpenCV(3.4.3) /Users/travis/build/skvark/opencv-python/opencv/modules/imgcodecs/src/loadsave.cpp:684: error: (-2:Unspecified error) could not find a writer for the specified extension in function 'imwrite_'\n",
      "\n",
      "('raw/Adam_Beach./b780ef0fbdb3968', 'Adam_Beach', 'http://www.contactmusic.com/pics/lf/genie_awards_090312/leah-gibson-and-adam-beach-the-32nd_3770479.jpg', (249, 73, 320, 144))\n",
      "OpenCV(3.4.3) /Users/travis/build/skvark/opencv-python/opencv/modules/imgcodecs/src/loadsave.cpp:684: error: (-2:Unspecified error) could not find a writer for the specified extension in function 'imwrite_'\n",
      "\n",
      "('raw/Adam_Beach./beach-boys-adam-levine-1.jpg?width=315&height=210&enlarge=true&matte=true&matteColor=black&quality=0.85', 'Adam_Beach', 'http://ethnicelebs.com/wp-content/plugins/featured-post-with-thumbnail/scripts/timthumb.php?src=http://ethnicelebs.com/wp-content/uploads/2012/01/Adam-Beach.jpg&h=250&w=200&zc=1', (52, 26, 170, 144))\n",
      "OpenCV(3.4.3) /Users/travis/build/skvark/opencv-python/opencv/modules/imgcodecs/src/loadsave.cpp:684: error: (-2:Unspecified error) could not find a writer for the specified extension in function 'imwrite_'\n",
      "\n",
      "('raw/Adam_Beach./beach_200612020505055jpg', 'Adam_Beach', 'http://nfs.celebrityphoto.com/img/AdamBeach021408-JG55.JPG', (148, 28, 190, 69))\n",
      "OpenCV(3.4.3) /Users/travis/build/skvark/opencv-python/opencv/modules/imgcodecs/src/loadsave.cpp:684: error: (-2:Unspecified error) could not find a writer for the specified extension in function 'imwrite_'\n",
      "\n",
      "('raw/Adam_Copeland./dc7dda7e1af80cf', 'Adam_Copeland', 'http://iv1.lisimg.com/image/4103110/600full-adam-copeland.jpg', (166, 16, 202, 52))\n",
      "OpenCV(3.4.3) /Users/travis/build/skvark/opencv-python/opencv/modules/imgcodecs/src/loadsave.cpp:684: error: (-2:Unspecified error) could not find a writer for the specified extension in function 'imwrite_'\n",
      "\n",
      "('raw/Adam_Beach./0018412c158cbc2', 'Adam_Beach', 'http://www.superiorpics.com/hs/adam_beach/main1.jpg', (16, 48, 161, 194))\n",
      "OpenCV(3.4.3) /Users/travis/build/skvark/opencv-python/opencv/modules/imgcodecs/src/loadsave.cpp:684: error: (-2:Unspecified error) could not find a writer for the specified extension in function 'imwrite_'\n",
      "\n",
      "('raw/Adam_Buxton./624', 'Adam_Buxton', 'http://media-cache-ak0.pinimg.com/736x/ad/e4/e0/ade4e0f51b1d7e17ef9132eb8a65d1f8.jpg', (109, 109, 199, 199))\n",
      "OpenCV(3.4.3) /Users/travis/build/skvark/opencv-python/opencv/modules/imgcodecs/src/loadsave.cpp:684: error: (-2:Unspecified error) could not find a writer for the specified extension in function 'imwrite_'\n",
      "\n",
      "('raw/Adam_Buxton./65aaf20adfa9a57', 'Adam_Buxton', 'http://iv1.lisimg.com/image/2808618/600full-adam-buxton.jpg', (91, 80, 194, 182))\n",
      "OpenCV(3.4.3) /Users/travis/build/skvark/opencv-python/opencv/modules/imgcodecs/src/loadsave.cpp:684: error: (-2:Unspecified error) could not find a writer for the specified extension in function 'imwrite_'\n",
      "\n",
      "('raw/Adam_Brody./brody_200612020559200jpg', 'Adam_Brody', 'http://images.starpulse.com/Photos/pv/Adam%20Brody-17.jpg', (64, 149, 256, 341))\n",
      "OpenCV(3.4.3) /Users/travis/build/skvark/opencv-python/opencv/modules/imgcodecs/src/loadsave.cpp:684: error: (-2:Unspecified error) could not find a writer for the specified extension in function 'imwrite_'\n",
      "\n",
      "('raw/Adam_Buxton./7d8457_6dcad38a124289c078a0de3bb3c00063.png_srz_498_500_75_22_0.50_1.20_0.00_png_srz', 'Adam_Buxton', 'http://channelhopping.onthebox.com/wp-content/uploads/2012/06/adam300.jpg', (65, 39, 183, 157))\n",
      "OpenCV(3.4.3) /Users/travis/build/skvark/opencv-python/opencv/modules/imgcodecs/src/loadsave.cpp:684: error: (-2:Unspecified error) could not find a writer for the specified extension in function 'imwrite_'\n",
      "\n",
      "('raw/Adam_Buxton./7d8457_f1f437e8082240839a7b2b09d031f88e.png_srz_488_254_75_22_0.50_1.20_0.00_png_srz', 'Adam_Buxton', 'http://i.ytimg.com/vi/agG3mpRdHqc/0.jpg', (302, 105, 437, 241))\n",
      "OpenCV(3.4.3) /Users/travis/build/skvark/opencv-python/opencv/modules/imgcodecs/src/loadsave.cpp:684: error: (-2:Unspecified error) could not find a writer for the specified extension in function 'imwrite_'\n",
      "\n",
      "('raw/Adam_Buxton./802d1c70c6cd56b', 'Adam_Buxton', 'http://i.ytimg.com/vi/6mxYra6WEKo/hqdefault.jpg', (230, 92, 288, 151))\n",
      "OpenCV(3.4.3) /Users/travis/build/skvark/opencv-python/opencv/modules/imgcodecs/src/loadsave.cpp:684: error: (-2:Unspecified error) could not find a writer for the specified extension in function 'imwrite_'\n",
      "\n",
      "('raw/Adam_Copeland./6a01348361f24a970c017c31df385a970b-320wi', 'Adam_Copeland', 'http://www.oocities.com/takerschick69/Edge03.jpg', (91, 11, 138, 58))\n",
      "OpenCV(3.4.3) /Users/travis/build/skvark/opencv-python/opencv/modules/imgcodecs/src/loadsave.cpp:684: error: (-2:Unspecified error) could not find a writer for the specified extension in function 'imwrite_'\n",
      "\n"
     ]
    },
    {
     "name": "stdout",
     "output_type": "stream",
     "text": [
      "('raw/Adam_Copeland./6a01348361f24a970c017c388a70fe970b-320wi', 'Adam_Copeland', 'http://img1.wikia.nocookie.net/__cb20090502030057/wrestlingattitude/es/images/f/f3/Zo7149.jpg', (98, 37, 208, 147))\n",
      "OpenCV(3.4.3) /Users/travis/build/skvark/opencv-python/opencv/modules/imgcodecs/src/loadsave.cpp:684: error: (-2:Unspecified error) could not find a writer for the specified extension in function 'imwrite_'\n",
      "\n",
      "('raw/Adam_Copeland./6a01348361f24a970c01901e67d609970b-320wi', 'Adam_Copeland', 'http://i2.listal.com/image/4105290/600full-adam-copeland.jpg', (118, 20, 177, 78))\n",
      "OpenCV(3.4.3) /Users/travis/build/skvark/opencv-python/opencv/modules/imgcodecs/src/loadsave.cpp:684: error: (-2:Unspecified error) could not find a writer for the specified extension in function 'imwrite_'\n",
      "\n",
      "('raw/Adam_Copeland./6a01348361f24a970c0192ac272482970d-320wi', 'Adam_Copeland', 'http://img.poptower.com/news-pic-4723/adam-edge-copeland.jpg?d=360', (119, 10, 209, 99))\n",
      "OpenCV(3.4.3) /Users/travis/build/skvark/opencv-python/opencv/modules/imgcodecs/src/loadsave.cpp:684: error: (-2:Unspecified error) could not find a writer for the specified extension in function 'imwrite_'\n",
      "\n",
      "('raw/Adam_Beach./0ebe2e2825e0584', 'Adam_Beach', 'http://www.cinemapassion.com/photos-personnalites/Adam-Beach-photo-940.jpg', (112, 84, 362, 334))\n",
      "OpenCV(3.4.3) /Users/travis/build/skvark/opencv-python/opencv/modules/imgcodecs/src/loadsave.cpp:684: error: (-2:Unspecified error) could not find a writer for the specified extension in function 'imwrite_'\n",
      "\n",
      "('raw/Adam_Brody./c0d3226d46b58ee', 'Adam_Brody', 'http://news.bbc.co.uk/media/images/41016000/jpg/_41016036_adam_brody_203_getty.jpg', (45, 15, 181, 150))\n",
      "OpenCV(3.4.3) /Users/travis/build/skvark/opencv-python/opencv/modules/imgcodecs/src/loadsave.cpp:684: error: (-2:Unspecified error) could not find a writer for the specified extension in function 'imwrite_'\n",
      "\n",
      "('raw/Adam_Brody./c92616377c98340', 'Adam_Brody', 'http://ll-media.tmz.com/2012/04/16/celeb-adam-brody-240x285-240x285.png', (16, 48, 161, 194))\n",
      "OpenCV(3.4.3) /Users/travis/build/skvark/opencv-python/opencv/modules/imgcodecs/src/loadsave.cpp:684: error: (-2:Unspecified error) could not find a writer for the specified extension in function 'imwrite_'\n",
      "\n",
      "('raw/Adam_Beach./1018303fd1dd0fd', 'Adam_Beach', 'http://i.ytimg.com/vi/zBNjL-5gBEQ/0.jpg', (184, 105, 302, 223))\n",
      "OpenCV(3.4.3) /Users/travis/build/skvark/opencv-python/opencv/modules/imgcodecs/src/loadsave.cpp:684: error: (-2:Unspecified error) could not find a writer for the specified extension in function 'imwrite_'\n",
      "\n",
      "('raw/Adam_Driver./153581445.jpg?partner=allrovi.com', 'Adam_Driver', 'http://cdn3.independent.ie/woman/celeb-news/article30329050.ece/b57a7/ALTERNATES/h342/PANews_P-10db7942-1cb1-4078-9431-14be72d43358_I1.jpg', (239, 60, 418, 238))\n",
      "OpenCV(3.4.3) /Users/travis/build/skvark/opencv-python/opencv/modules/imgcodecs/src/loadsave.cpp:684: error: (-2:Unspecified error) could not find a writer for the specified extension in function 'imwrite_'\n",
      "\n",
      "('raw/Adam_Beach./c1a4d4bd5c3c712', 'Adam_Beach', 'http://www.ednatiya.com/wp-content/uploads/2009/08/photo1forupdate.jpg', (258, 283, 334, 360))\n",
      "OpenCV(3.4.3) /Users/travis/build/skvark/opencv-python/opencv/modules/imgcodecs/src/loadsave.cpp:684: error: (-2:Unspecified error) could not find a writer for the specified extension in function 'imwrite_'\n",
      "\n",
      "('raw/Adam_Beach./c81b8f7abff9e73', 'Adam_Beach', 'http://i180.photobucket.com/albums/x258/Twistedsweet1/adam-beach.jpg', (24, 61, 134, 171))\n",
      "OpenCV(3.4.3) /Users/travis/build/skvark/opencv-python/opencv/modules/imgcodecs/src/loadsave.cpp:684: error: (-2:Unspecified error) could not find a writer for the specified extension in function 'imwrite_'\n",
      "\n",
      "('raw/Adam_Beach./c8574886b925d55', 'Adam_Beach', 'http://www.superiorpics.com/pictures2/BeachAG00017.jpg', (99, 99, 278, 278))\n",
      "OpenCV(3.4.3) /Users/travis/build/skvark/opencv-python/opencv/modules/imgcodecs/src/loadsave.cpp:684: error: (-2:Unspecified error) could not find a writer for the specified extension in function 'imwrite_'\n",
      "\n",
      "('raw/Adam_Baldwin./b97df159c9eb372', 'Adam_Baldwin', 'http://4.bp.blogspot.com/__aYQ9JLYfQ0/S5XOBwB9vbI/AAAAAAAACt4/LU26oqMdGcs/s400/normal_AdamBaldwin_ZacharyLevi_season3_001.jpg', (113, 75, 181, 143))\n",
      "OpenCV(3.4.3) /Users/travis/build/skvark/opencv-python/opencv/modules/imgcodecs/src/loadsave.cpp:684: error: (-2:Unspecified error) could not find a writer for the specified extension in function 'imwrite_'\n",
      "\n",
      "('raw/Adam_Buxton./d3bdb9_3dcd2e6b48d34e46af078c32c1b19862.jpg_srz_630_469_75_22_0.50_1.20_0.00_jpg_srz', 'Adam_Buxton', 'http://www.laughriot.co.uk/wp-content/uploads/2012/08/screenshot.png', (46, 46, 251, 251))\n",
      "OpenCV(3.4.3) /Users/travis/build/skvark/opencv-python/opencv/modules/imgcodecs/src/loadsave.cpp:684: error: (-2:Unspecified error) could not find a writer for the specified extension in function 'imwrite_'\n",
      "\n",
      "('raw/Adam_Driver./1mWQYPg', 'Adam_Driver', 'http://video.lycos.com/img/95/244695-adam-driver.jpg', (189, 35, 265, 111))\n",
      "OpenCV(3.4.3) /Users/travis/build/skvark/opencv-python/opencv/modules/imgcodecs/src/loadsave.cpp:684: error: (-2:Unspecified error) could not find a writer for the specified extension in function 'imwrite_'\n",
      "\n",
      "('raw/Adam_Garcia./aa1c39492b3eb39', 'Adam_Garcia', 'http://media.monstersandcritics.com/people/Adam_Garcia/images/group3/LMK-092076.jpg', (349, 64, 443, 158))\n",
      "OpenCV(3.4.3) /Users/travis/build/skvark/opencv-python/opencv/modules/imgcodecs/src/loadsave.cpp:684: error: (-2:Unspecified error) could not find a writer for the specified extension in function 'imwrite_'\n",
      "\n",
      "('raw/Adam_Driver./adam-driver-star-wars-400x300.jpg?height=300&width=400&matte=true&quality=0.91', 'Adam_Driver', 'http://i.newsarama.com/images/i/000/124/397/i300/adamdriver.jpg?1393448084', (46, 114, 251, 320))\n",
      "OpenCV(3.4.3) /Users/travis/build/skvark/opencv-python/opencv/modules/imgcodecs/src/loadsave.cpp:684: error: (-2:Unspecified error) could not find a writer for the specified extension in function 'imwrite_'\n",
      "\n",
      "('raw/Adam_Garcia./garcia_200612132204230jpg', 'Adam_Garcia', 'http://www4.pictures.zimbio.com/gi/Adam%252BGarcia%252BGot%252BDance%252BLive%252BShow%252By6MflI0G6jvl.jpg', (234, 81, 307, 153))\n",
      "OpenCV(3.4.3) /Users/travis/build/skvark/opencv-python/opencv/modules/imgcodecs/src/loadsave.cpp:684: error: (-2:Unspecified error) could not find a writer for the specified extension in function 'imwrite_'\n",
      "\n",
      "('raw/Adam_Garcia./garcia_2006121322042318jpg', 'Adam_Garcia', 'http://www.celebirony.com/foto/attori/Adam_Garcia/adam_garcia_grande2.jpg', (177, 34, 216, 73))\n",
      "OpenCV(3.4.3) /Users/travis/build/skvark/opencv-python/opencv/modules/imgcodecs/src/loadsave.cpp:684: error: (-2:Unspecified error) could not find a writer for the specified extension in function 'imwrite_'\n",
      "\n",
      "('raw/Adam_Garcia./garcia_2006121322042319jpg', 'Adam_Garcia', 'http://carlogarcia.com/wordpress/wp-content/uploads/2013/09/banner3.jpg', (366, 114, 571, 320))\n",
      "OpenCV(3.4.3) /Users/travis/build/skvark/opencv-python/opencv/modules/imgcodecs/src/loadsave.cpp:684: error: (-2:Unspecified error) could not find a writer for the specified extension in function 'imwrite_'\n",
      "\n",
      "('raw/Adam_Garcia./garcia_200612132204239jpg', 'Adam_Garcia', 'http://i.ytimg.com/vi/vJq-doWV3nE/0.jpg', (196, 75, 263, 143))\n",
      "OpenCV(3.4.3) /Users/travis/build/skvark/opencv-python/opencv/modules/imgcodecs/src/loadsave.cpp:684: error: (-2:Unspecified error) could not find a writer for the specified extension in function 'imwrite_'\n",
      "\n",
      "('raw/Adam_Godley./2143d47b5a0b88b', 'Adam_Godley', 'http://img31.mtime.cn/ph/2014/03/14/153527.95860606_290X440X4.jpg', (0, 84, 253, 337))\n",
      "OpenCV(3.4.3) /Users/travis/build/skvark/opencv-python/opencv/modules/imgcodecs/src/loadsave.cpp:684: error: (-2:Unspecified error) could not find a writer for the specified extension in function 'imwrite_'\n",
      "\n",
      "('raw/Adam_Goldberg./124a4f542a8e207', 'Adam_Goldberg', 'http://mais20min.com.br/wp-content/uploads/2014/05/mortified-205-adam-golberg-07.jpg', (317, 182, 724, 588))\n",
      "OpenCV(3.4.3) /Users/travis/build/skvark/opencv-python/opencv/modules/imgcodecs/src/loadsave.cpp:684: error: (-2:Unspecified error) could not find a writer for the specified extension in function 'imwrite_'\n",
      "\n",
      "('raw/Adam_Driver./400x225', 'Adam_Driver', 'http://ro-mashka.ru/photo_a/Adam-Driver-13-BW.jpg', (98, 98, 225, 225))\n",
      "OpenCV(3.4.3) /Users/travis/build/skvark/opencv-python/opencv/modules/imgcodecs/src/loadsave.cpp:684: error: (-2:Unspecified error) could not find a writer for the specified extension in function 'imwrite_'\n",
      "\n",
      "('raw/Adam_Goldberg./1888c0224b9561c', 'Adam_Goldberg', 'http://media-cache-ec0.pinimg.com/736x/ff/0b/32/ff0b32c83e1e6e2c155add511e9f26dd.jpg', (184, 73, 238, 128))\n",
      "OpenCV(3.4.3) /Users/travis/build/skvark/opencv-python/opencv/modules/imgcodecs/src/loadsave.cpp:684: error: (-2:Unspecified error) could not find a writer for the specified extension in function 'imwrite_'\n",
      "\n"
     ]
    },
    {
     "name": "stdout",
     "output_type": "stream",
     "text": [
      "('raw/Adam_Goldberg./f46cd915b23dc2f', 'Adam_Goldberg', 'http://thecia.com.au/reviews/1/images/2-days-in-paris-5.jpg', (133, 48, 181, 96))\n",
      "OpenCV(3.4.3) /Users/travis/build/skvark/opencv-python/opencv/modules/imgcodecs/src/loadsave.cpp:684: error: (-2:Unspecified error) could not find a writer for the specified extension in function 'imwrite_'\n",
      "\n",
      "('raw/Adam_Goldberg./199415b780af9ce', 'Adam_Goldberg', 'http://i1098.photobucket.com/albums/g380/Prince_Zuko1984/Adam-Goldberg-2-1.jpg', (277, 53, 373, 149))\n",
      "OpenCV(3.4.3) /Users/travis/build/skvark/opencv-python/opencv/modules/imgcodecs/src/loadsave.cpp:684: error: (-2:Unspecified error) could not find a writer for the specified extension in function 'imwrite_'\n",
      "\n",
      "libpng warning: iCCP: known incorrect sRGB profile\n",
      "('raw/Adam_Goldberg./fd1c8824394b0c7', 'Adam_Goldberg', 'http://www.aceshowbiz.com/images/events/JTM-006380.jpg', (318, 98, 428, 208))\n",
      "OpenCV(3.4.3) /Users/travis/build/skvark/opencv-python/opencv/modules/imgcodecs/src/loadsave.cpp:684: error: (-2:Unspecified error) could not find a writer for the specified extension in function 'imwrite_'\n",
      "\n",
      "('raw/Adam_Driver./600', 'Adam_Driver', 'http://assets-s3.usmagazine.com/uploads/assets/article_photos/f845d01f93826f9836640c59c334e8380ec2d114.jpg', (289, 52, 407, 170))\n",
      "OpenCV(3.4.3) /Users/travis/build/skvark/opencv-python/opencv/modules/imgcodecs/src/loadsave.cpp:684: error: (-2:Unspecified error) could not find a writer for the specified extension in function 'imwrite_'\n",
      "\n",
      "('raw/Adam_Godley./p023oVfFiYkh0og3yqXpznKexMmsPHru9O6-pipOKjiF8DhFUxrHPxEMyE8aBzZI-TXpSo24PjcyJt77GA=s200-c', 'Adam_Godley', 'http://dance.tisch.nyu.edu/props/IO/25903/115/GodleyGierre.jpg', (111, 148, 441, 477))\n",
      "OpenCV(3.4.3) /Users/travis/build/skvark/opencv-python/opencv/modules/imgcodecs/src/loadsave.cpp:684: error: (-2:Unspecified error) could not find a writer for the specified extension in function 'imwrite_'\n",
      "\n",
      "('raw/Adam_Goldberg./3466e920ddccf0a', 'Adam_Goldberg', 'http://i.ytimg.com/vi/2fUcPiKOZLk/0.jpg', (223, 92, 341, 210))\n",
      "OpenCV(3.4.3) /Users/travis/build/skvark/opencv-python/opencv/modules/imgcodecs/src/loadsave.cpp:684: error: (-2:Unspecified error) could not find a writer for the specified extension in function 'imwrite_'\n",
      "\n",
      "libpng warning: iCCP: known incorrect sRGB profile\n",
      "('raw/Adam_Goldberg./3f835a6ae4f940b', 'Adam_Goldberg', 'http://img.spokeo.com/public/900-600/adam_goldberg_2004_03_27.jpg', (98, 196, 318, 416))\n",
      "OpenCV(3.4.3) /Users/travis/build/skvark/opencv-python/opencv/modules/imgcodecs/src/loadsave.cpp:684: error: (-2:Unspecified error) could not find a writer for the specified extension in function 'imwrite_'\n",
      "\n",
      "('raw/Adam_Goldberg./42dee1406746838', 'Adam_Goldberg', 'http://www.hollywoodreporter.com/sites/default/files/imagecache/blog_post_349_width/2013/04/adam_goldberg_a_p.jpg', (104, 86, 259, 242))\n",
      "OpenCV(3.4.3) /Users/travis/build/skvark/opencv-python/opencv/modules/imgcodecs/src/loadsave.cpp:684: error: (-2:Unspecified error) could not find a writer for the specified extension in function 'imwrite_'\n",
      "\n",
      "('raw/Adam_Goldberg./475c0e2de86ab24', 'Adam_Goldberg', 'http://www.celebritiesmoney.com/wp-content/uploads/2014/06/Adam-Goldberg-net-520x245.jpg', (14, 56, 140, 182))\n",
      "OpenCV(3.4.3) /Users/travis/build/skvark/opencv-python/opencv/modules/imgcodecs/src/loadsave.cpp:684: error: (-2:Unspecified error) could not find a writer for the specified extension in function 'imwrite_'\n",
      "\n",
      "('raw/Adam_Goldberg./489a2d8e482b0a7', 'Adam_Goldberg', 'http://www.bilder-hochladen.net/files/60q1-pb-704a.jpg', (75, 121, 211, 256))\n",
      "OpenCV(3.4.3) /Users/travis/build/skvark/opencv-python/opencv/modules/imgcodecs/src/loadsave.cpp:684: error: (-2:Unspecified error) could not find a writer for the specified extension in function 'imwrite_'\n",
      "('raw/Adam_Gregory./035b0a0f2b1f582', 'Adam_Gregory', 'http://static9.imagecollect.com/preview/4890/ac17766247cae91', (60, 180, 328, 447))\n",
      "OpenCV(3.4.3) /Users/travis/build/skvark/opencv-python/opencv/modules/imgcodecs/src/loadsave.cpp:684: error: (-2:Unspecified error) could not find a writer for the specified extension in function 'imwrite_'\n",
      "\n",
      "\n",
      "libpng warning: iCCP: known incorrect sRGB profile\n",
      "('raw/Adam_Godley./6a01348361f24a970c01a73e1963ff970d-320wi', 'Adam_Godley', 'http://www4.pictures.fp.zimbio.com/ADAM%252BGODLEY%252BADAM%252BGODLEY%252BSpotted%252BOut%252BLondon%252BNOlk0em7C73l.jpg', (117, 53, 213, 149))\n",
      "OpenCV(3.4.3) /Users/travis/build/skvark/opencv-python/opencv/modules/imgcodecs/src/loadsave.cpp:684: error: (-2:Unspecified error) could not find a writer for the specified extension in function 'imwrite_'\n",
      "\n",
      "('raw/Adam_Godley./6a01348361f24a970c01bb078cd9b3970d-320wi', 'Adam_Godley', 'http://iv1.lisimg.com/image/7302365/600full-adam-godley.jpg', (37, 111, 204, 278))\n",
      "OpenCV(3.4.3) /Users/travis/build/skvark/opencv-python/opencv/modules/imgcodecs/src/loadsave.cpp:684: error: (-2:Unspecified error) could not find a writer for the specified extension in function 'imwrite_'\n",
      "\n",
      "('raw/Adam_Gregory./0fedf0f6bd374fe', 'Adam_Gregory', 'http://www3.pictures.zimbio.com/gi/Adam%252BGoldberg%252BPremiere%252BUNTITLED%252BArrivals%252BJM1IDgCzlQul.jpg', (304, 98, 412, 206))\n",
      "OpenCV(3.4.3) /Users/travis/build/skvark/opencv-python/opencv/modules/imgcodecs/src/loadsave.cpp:684: error: (-2:Unspecified error) could not find a writer for the specified extension in function 'imwrite_'\n",
      "\n",
      "('raw/Adam_Goldberg./52ace439436fdc6', 'Adam_Goldberg', 'http://image.123tagged.com/images/a/adam_goldberg-939.jpg', (74, 65, 157, 148))\n",
      "OpenCV(3.4.3) /Users/travis/build/skvark/opencv-python/opencv/modules/imgcodecs/src/loadsave.cpp:684: error: (-2:Unspecified error) could not find a writer for the specified extension in function 'imwrite_'\n",
      "\n",
      "('raw/Adam_Gregory./1061d4d0ac6a66d', 'Adam_Gregory', 'http://mais20min.com.br/wp-content/uploads/2014/05/mortified-205-adam-golberg-07.jpg', (317, 182, 724, 588))\n",
      "OpenCV(3.4.3) /Users/travis/build/skvark/opencv-python/opencv/modules/imgcodecs/src/loadsave.cpp:684: error: (-2:Unspecified error) could not find a writer for the specified extension in function 'imwrite_'\n",
      "\n",
      "('raw/Adam_Goldberg./5475783059645744', 'Adam_Goldberg', 'http://cps-static.rovicorp.com/2/Open/Getty/Adam%20Goldberg/_derived_jpg_q90_410x410_m0/72611000.jpg?partner=allrovi.com', (46, 114, 251, 320))\n",
      "OpenCV(3.4.3) /Users/travis/build/skvark/opencv-python/opencv/modules/imgcodecs/src/loadsave.cpp:684: error: (-2:Unspecified error) could not find a writer for the specified extension in function 'imwrite_'\n",
      "\n",
      "('raw/Adam_Goldberg./600116bc015c44f', 'Adam_Goldberg', 'http://www.celebslight.com/images/adam-goldberg-04.jpg', (114, 114, 214, 214))\n",
      "OpenCV(3.4.3) /Users/travis/build/skvark/opencv-python/opencv/modules/imgcodecs/src/loadsave.cpp:684: error: (-2:Unspecified error) could not find a writer for the specified extension in function 'imwrite_'\n",
      "\n",
      "('raw/Adam_Garcia./0b6a2bfcea63776', 'Adam_Garcia', 'http://thumbs.dreamstime.com/x/adam-garcia-26360497.jpg', (68, 114, 274, 320))\n",
      "OpenCV(3.4.3) /Users/travis/build/skvark/opencv-python/opencv/modules/imgcodecs/src/loadsave.cpp:684: error: (-2:Unspecified error) could not find a writer for the specified extension in function 'imwrite_'\n",
      "\n",
      "('raw/Adam_Goldberg./68ba49089584b7f', 'Adam_Goldberg', 'http://www.psychicgloss.com/wp-content/uploads/2013/04/adam9.jpg', (609, 161, 896, 448))\n",
      "OpenCV(3.4.3) /Users/travis/build/skvark/opencv-python/opencv/modules/imgcodecs/src/loadsave.cpp:684: error: (-2:Unspecified error) could not find a writer for the specified extension in function 'imwrite_'\n",
      "\n",
      "('raw/Adam_Goldberg./6a00d8341c630a53ef0115714de7f9970b-pi', 'Adam_Goldberg', 'http://static9.imagecollect.com/preview/560/a371f2e0417e4e0', (26, 156, 259, 389))\n",
      "OpenCV(3.4.3) /Users/travis/build/skvark/opencv-python/opencv/modules/imgcodecs/src/loadsave.cpp:684: error: (-2:Unspecified error) could not find a writer for the specified extension in function 'imwrite_'\n",
      "\n",
      "('raw/Adam_Goldberg./6a00d8341c6d4753ef0192abd06780970d-400wi', 'Adam_Goldberg', 'http://www.celebs101.com/gallery/Adam_Goldberg/186261/Adam_Goldberg_1.jpg', (104, 121, 259, 277))\n",
      "OpenCV(3.4.3) /Users/travis/build/skvark/opencv-python/opencv/modules/imgcodecs/src/loadsave.cpp:684: error: (-2:Unspecified error) could not find a writer for the specified extension in function 'imwrite_'\n",
      "\n"
     ]
    },
    {
     "name": "stdout",
     "output_type": "stream",
     "text": [
      "('raw/Adam_Goldberg./6ba838da033da8f', 'Adam_Goldberg', 'http://i.ytimg.com/vi/gwGTE_FeWsk/0.jpg', (148, 126, 251, 228))\n",
      "OpenCV(3.4.3) /Users/travis/build/skvark/opencv-python/opencv/modules/imgcodecs/src/loadsave.cpp:684: error: (-2:Unspecified error) could not find a writer for the specified extension in function 'imwrite_'\n",
      "\n",
      "('raw/Adam_Goldberg./7102bcd26d13fdd', 'Adam_Goldberg', 'http://www.dentrotele.com/wp-content/uploads/adamgoldberg300.jpg', (74, 74, 241, 241))\n",
      "OpenCV(3.4.3) /Users/travis/build/skvark/opencv-python/opencv/modules/imgcodecs/src/loadsave.cpp:684: error: (-2:Unspecified error) could not find a writer for the specified extension in function 'imwrite_'\n",
      "\n",
      "('raw/Adam_Goldberg./72611000.jpg?partner=allrovi.com', 'Adam_Goldberg', 'http://i2.cdnds.net/11/08/movies_adam_goldberg.jpg', (84, 42, 211, 168))\n",
      "OpenCV(3.4.3) /Users/travis/build/skvark/opencv-python/opencv/modules/imgcodecs/src/loadsave.cpp:684: error: (-2:Unspecified error) could not find a writer for the specified extension in function 'imwrite_'\n",
      "\n",
      "('raw/Adam_Goldberg./796d4ae1527637d', 'Adam_Goldberg', 'http://images.buddytv.com/btv_2_1264967_1_434_593_0_/christina-ricci--ada.jpg', (166, 51, 217, 102))\n",
      "OpenCV(3.4.3) /Users/travis/build/skvark/opencv-python/opencv/modules/imgcodecs/src/loadsave.cpp:684: error: (-2:Unspecified error) could not find a writer for the specified extension in function 'imwrite_'\n",
      "\n",
      "libpng warning: iCCP: profile 'ICC Profile': 'RGB ': RGB color space not permitted on grayscale PNG\n",
      "('raw/Adam_Driver./Adam-Driver-Brooklyn-Magazine', 'Adam_Driver', 'http://film-book.com/wp-content/uploads/2013/11/adam-driver-nightwing-01-350x164.jpg', (192, 32, 288, 128))\n",
      "OpenCV(3.4.3) /Users/travis/build/skvark/opencv-python/opencv/modules/imgcodecs/src/loadsave.cpp:684: error: (-2:Unspecified error) could not find a writer for the specified extension in function 'imwrite_'\n",
      "\n",
      "('raw/Adam_Goldberg./841b3fa45d61cbe', 'Adam_Goldberg', 'http://i.ytimg.com/vi/McbuNSsPJQo/hqdefault.jpg', (105, 92, 223, 210))\n",
      "OpenCV(3.4.3) /Users/travis/build/skvark/opencv-python/opencv/modules/imgcodecs/src/loadsave.cpp:684: error: (-2:Unspecified error) could not find a writer for the specified extension in function 'imwrite_'\n",
      "\n",
      "('raw/Adam_Goldberg./8c2bd750145591f', 'Adam_Goldberg', 'http://www3.pictures.zimbio.com/gi/Adam+Goldberg+B8g7MqRmi_jm.jpg', (151, 46, 210, 105))\n",
      "OpenCV(3.4.3) /Users/travis/build/skvark/opencv-python/opencv/modules/imgcodecs/src/loadsave.cpp:684: error: (-2:Unspecified error) could not find a writer for the specified extension in function 'imwrite_'\n",
      "\n",
      "('raw/Adam_Godley./?m=02&d=20070323&t=2&i=510477&w=320&fh=&fw=&ll=&pl=&r=510477', 'Adam_Godley', 'http://merlininfo.files.wordpress.com/2012/10/jonas.jpg', (147, 73, 367, 294))\n",
      "OpenCV(3.4.3) /Users/travis/build/skvark/opencv-python/opencv/modules/imgcodecs/src/loadsave.cpp:684: error: (-2:Unspecified error) could not find a writer for the specified extension in function 'imwrite_'\n",
      "\n",
      "('raw/Adam_Garcia./14cad7e0177d106', 'Adam_Garcia', 'http://www2.pictures.zimbio.com/bg/Adam%2525252BGarcia%2525252BAdam%2525252BGarcia%2525252BLisa%2525252BMaxwell%2525252BGet%2525252BCoffee%2525252B7JP70JfT4p6l.jpg', (120, 75, 253, 209))\n",
      "OpenCV(3.4.3) /Users/travis/build/skvark/opencv-python/opencv/modules/imgcodecs/src/loadsave.cpp:684: error: (-2:Unspecified error) could not find a writer for the specified extension in function 'imwrite_'\n",
      "\n",
      "('raw/Adam_Garcia./174312d4353db69', 'Adam_Garcia', 'http://www3.pictures.zimbio.com/gi/Adam%252BGarcia%252BLaunch%252BBlackBerry%252B7%252BSmartphone%252B4LuC5U5E9NZl.jpg', (84, 112, 337, 365))\n",
      "OpenCV(3.4.3) /Users/travis/build/skvark/opencv-python/opencv/modules/imgcodecs/src/loadsave.cpp:684: error: (-2:Unspecified error) could not find a writer for the specified extension in function 'imwrite_'\n",
      "\n",
      "('raw/Adam_Driver./adam-driver-discusses-his-star-wars-episode-vii-experience', 'Adam_Driver', 'http://cdn.theatermania.com/article/56266/9.jpg', (241, 57, 312, 128))\n",
      "OpenCV(3.4.3) /Users/travis/build/skvark/opencv-python/opencv/modules/imgcodecs/src/loadsave.cpp:684: error: (-2:Unspecified error) could not find a writer for the specified extension in function 'imwrite_'\n",
      "\n",
      "('raw/Adam_Godley./A1310222852', 'Adam_Godley', 'http://www.officiallondontheatre.co.uk/servlet/file/store5/item204353/version1/fileservice2/204353_2_preview.jpg', (208, 85, 256, 133))\n",
      "OpenCV(3.4.3) /Users/travis/build/skvark/opencv-python/opencv/modules/imgcodecs/src/loadsave.cpp:684: error: (-2:Unspecified error) could not find a writer for the specified extension in function 'imwrite_'\n",
      "\n",
      "('raw/Adam_Goldberg./?m=02&d=20090629&t=2&i=10667511&w=320&fh=&fw=&ll=&pl=&r=2009-06-29T034139Z_01_BTRE55S0A9N00_RTROPTP_0_HURRICANES-MOVIE', 'Adam_Goldberg', 'http://img.rasset.ie/00084ba0-630.jpg', (235, 107, 426, 298))\n",
      "OpenCV(3.4.3) /Users/travis/build/skvark/opencv-python/opencv/modules/imgcodecs/src/loadsave.cpp:684: error: (-2:Unspecified error) could not find a writer for the specified extension in function 'imwrite_'\n",
      "\n",
      "('raw/Adam_Driver./cad86c3b79b1900', 'Adam_Driver', 'http://www4.pictures.zimbio.com/gi/Adam%252BDriver%252BMan%252BBoy%252BBroadway%252BCast%252BPhoto%252BCall%252BrGMEaqw7dNgl.jpg', (257, 79, 344, 167))\n",
      "OpenCV(3.4.3) /Users/travis/build/skvark/opencv-python/opencv/modules/imgcodecs/src/loadsave.cpp:684: error: (-2:Unspecified error) could not find a writer for the specified extension in function 'imwrite_'\n",
      "\n",
      "('raw/Adam_Garcia./1e5be5572c63dbb', 'Adam_Garcia', 'http://www.aceshowbiz.com/images/news/w0000857.jpg', (148, 74, 312, 238))\n",
      "OpenCV(3.4.3) /Users/travis/build/skvark/opencv-python/opencv/modules/imgcodecs/src/loadsave.cpp:684: error: (-2:Unspecified error) could not find a writer for the specified extension in function 'imwrite_'\n",
      "\n",
      "('raw/Adam_Garcia./1e915dc1591d366', 'Adam_Garcia', 'http://www.hotflick.net/flicks/2000_Coyote_Ugly/fhd000CYU_Adam_Garcia_005.jpg', (442, 111, 771, 441))\n",
      "OpenCV(3.4.3) /Users/travis/build/skvark/opencv-python/opencv/modules/imgcodecs/src/loadsave.cpp:684: error: (-2:Unspecified error) could not find a writer for the specified extension in function 'imwrite_'\n",
      "\n",
      "('raw/Adam_Driver./cD0xOTA3Y2MyNzI2YzllZGFiMTlmZThkZmIxZjIwMDUwZiZnPTU1MTYwMTUwOTE2ZDgyNGM2Y2I1Mjk0Y2I3MzgzZmFm?width=303', 'Adam_Driver', 'http://hollywoodcrush.mtv.com/wp-content/uploads/hc/2013/04/conadam.jpg', (157, 39, 275, 157))\n",
      "OpenCV(3.4.3) /Users/travis/build/skvark/opencv-python/opencv/modules/imgcodecs/src/loadsave.cpp:684: error: (-2:Unspecified error) could not find a writer for the specified extension in function 'imwrite_'\n",
      "\n",
      "('raw/Adam_Goldberg./a371f2e0417e4e0', 'Adam_Goldberg', 'http://cdn8.staztic.com/app/a/2628/2628605/adam-goldberg-wallpapers-hd-2-1-s-307x512.jpg', (224, 315, 272, 362))\n",
      "OpenCV(3.4.3) /Users/travis/build/skvark/opencv-python/opencv/modules/imgcodecs/src/loadsave.cpp:684: error: (-2:Unspecified error) could not find a writer for the specified extension in function 'imwrite_'\n",
      "\n",
      "('raw/Adam_Gregory./2ddf447f92f02b4', 'Adam_Gregory', 'http://statici.behindthevoiceactors.com/behindthevoiceactors/_img/actors/actor_9140.jpg', (30, 90, 165, 226))\n",
      "OpenCV(3.4.3) /Users/travis/build/skvark/opencv-python/opencv/modules/imgcodecs/src/loadsave.cpp:684: error: (-2:Unspecified error) could not find a writer for the specified extension in function 'imwrite_'\n",
      "\n",
      "libpng warning: iCCP: known incorrect sRGB profile\n",
      "('raw/Adam_Gregory./2e9320558ee155a', 'Adam_Gregory', 'http://www.hotflick.net/flicks/2006_Man_About_Town/006MAT_Adam_Goldberg_005.jpg', (413, 122, 630, 339))\n",
      "OpenCV(3.4.3) /Users/travis/build/skvark/opencv-python/opencv/modules/imgcodecs/src/loadsave.cpp:684: error: (-2:Unspecified error) could not find a writer for the specified extension in function 'imwrite_'\n",
      "\n",
      "('raw/Adam_Goldberg./aa6f42501634aa4', 'Adam_Goldberg', 'http://c420561.r61.cf1.rackcdn.com/4/13253-212087.jpg', (85, 254, 464, 633))\n",
      "OpenCV(3.4.3) /Users/travis/build/skvark/opencv-python/opencv/modules/imgcodecs/src/loadsave.cpp:684: error: (-2:Unspecified error) could not find a writer for the specified extension in function 'imwrite_'\n",
      "\n",
      "('raw/Adam_Goldberg./ab5993b381e82bf', 'Adam_Goldberg', 'http://www.zuguide.com/images/22603/22603.2.219.138.jpg', (40, 16, 113, 88))\n",
      "OpenCV(3.4.3) /Users/travis/build/skvark/opencv-python/opencv/modules/imgcodecs/src/loadsave.cpp:684: error: (-2:Unspecified error) could not find a writer for the specified extension in function 'imwrite_'\n",
      "\n"
     ]
    },
    {
     "name": "stdout",
     "output_type": "stream",
     "text": [
      "('raw/Adam_Goldberg./aba1907f8ae28ba', 'Adam_Goldberg', 'http://www.lahiguera.net/cinemania/actores/adam_goldberg/fotos/5215/adam_goldberg.jpg', (26, 52, 262, 288))\n",
      "OpenCV(3.4.3) /Users/travis/build/skvark/opencv-python/opencv/modules/imgcodecs/src/loadsave.cpp:684: error: (-2:Unspecified error) could not find a writer for the specified extension in function 'imwrite_'\n",
      "\n",
      "('raw/Adam_Goldberg./ac17766247cae91', 'Adam_Goldberg', 'http://j.static-locatetv.com/images/person/84/178769_adam_goldberg.jpg', (20, 60, 109, 149))\n",
      "OpenCV(3.4.3) /Users/travis/build/skvark/opencv-python/opencv/modules/imgcodecs/src/loadsave.cpp:684: error: (-2:Unspecified error) could not find a writer for the specified extension in function 'imwrite_'\n",
      "\n",
      "('raw/Adam_Gregory./37000d689f011b9', 'Adam_Gregory', 'http://images.starpulse.com/Photos/pv/Adam%20Goldberg-6.jpg', (81, 129, 226, 274))\n",
      "OpenCV(3.4.3) /Users/travis/build/skvark/opencv-python/opencv/modules/imgcodecs/src/loadsave.cpp:684: error: (-2:Unspecified error) could not find a writer for the specified extension in function 'imwrite_'\n",
      "\n",
      "('raw/Adam_Goldberg./NYC22-Episode112-Still1.jpg?partner=allrovi.com', 'Adam_Goldberg', 'http://ecx.images-amazon.com/images/I/51uEYz3lfnL._SX342_.jpg', (235, 37, 282, 85))\n",
      "OpenCV(3.4.3) /Users/travis/build/skvark/opencv-python/opencv/modules/imgcodecs/src/loadsave.cpp:684: error: (-2:Unspecified error) could not find a writer for the specified extension in function 'imwrite_'\n",
      "\n",
      "('raw/Adam_Goldberg./NYC22-Season1-Promo2.jpg?partner=allrovi.com', 'Adam_Goldberg', 'http://www.hobotrashcan.com/wordpress/wp-content/uploads/2014/05/goldberg1.jpg', (111, 130, 278, 297))\n",
      "OpenCV(3.4.3) /Users/travis/build/skvark/opencv-python/opencv/modules/imgcodecs/src/loadsave.cpp:684: error: (-2:Unspecified error) could not find a writer for the specified extension in function 'imwrite_'\n",
      "\n",
      "('raw/Adam_Garcia./c226e896bff536c', 'Adam_Garcia', 'http://img.spokeo.com/public/900-600/adam_garcia_2009_10_28.jpg', (279, 98, 388, 206))\n",
      "OpenCV(3.4.3) /Users/travis/build/skvark/opencv-python/opencv/modules/imgcodecs/src/loadsave.cpp:684: error: (-2:Unspecified error) could not find a writer for the specified extension in function 'imwrite_'\n",
      "\n",
      "('raw/Adam_Gregory./b2c55176cbd243c', 'Adam_Gregory', 'http://images5.fanpop.com/image/photos/28500000/Adam-in-The-Hebrew-Hammer-adam-goldberg-28545998-900-506.jpg', (209, 196, 334, 320))\n",
      "OpenCV(3.4.3) /Users/travis/build/skvark/opencv-python/opencv/modules/imgcodecs/src/loadsave.cpp:684: error: (-2:Unspecified error) could not find a writer for the specified extension in function 'imwrite_'\n",
      "\n",
      "('raw/Adam_Gregory./458c170fc83b78a', 'Adam_Gregory', 'http://img.spokeo.com/public/900-600/adam_goldberg_2007_04_04.jpg', (35, 172, 342, 480))\n",
      "OpenCV(3.4.3) /Users/travis/build/skvark/opencv-python/opencv/modules/imgcodecs/src/loadsave.cpp:684: error: (-2:Unspecified error) could not find a writer for the specified extension in function 'imwrite_'\n",
      "\n",
      "('raw/Adam_Driver./e0143cad61c7a9bcb6294fcfdc81198eeea1e53e3dfb7eb1723c577dbe81d0be_large', 'Adam_Driver', 'http://xfinity.comcast.net/blogs/tv/files/2013/06/169877535.jpg', (90, 60, 226, 196))\n",
      "OpenCV(3.4.3) /Users/travis/build/skvark/opencv-python/opencv/modules/imgcodecs/src/loadsave.cpp:684: error: (-2:Unspecified error) could not find a writer for the specified extension in function 'imwrite_'\n",
      "\n",
      "('raw/Adam_Driver./e2fcb75de374718', 'Adam_Driver', 'http://dwgyu36up6iuz.cloudfront.net/heru80fdn/image/upload/c_fill,d_placeholder_thescene.jpg,fl_progressive,g_face,h_450,q_80,w_800/v1408386770/gq_gq-covers-adam-driver-meets-his-idol-gets-starstruck-behind-the-scenes-at-his-gq-cover-shoot.jpg', (196, 56, 445, 306))\n",
      "OpenCV(3.4.3) /Users/travis/build/skvark/opencv-python/opencv/modules/imgcodecs/src/loadsave.cpp:684: error: (-2:Unspecified error) could not find a writer for the specified extension in function 'imwrite_'\n",
      "\n",
      "('raw/Adam_Gregory./bc6203371024da3', 'Adam_Gregory', 'http://media1.onsugar.com/files/users/1/13839/32_2007/2days5.jpg', (105, 125, 164, 183))\n",
      "OpenCV(3.4.3) /Users/travis/build/skvark/opencv-python/opencv/modules/imgcodecs/src/loadsave.cpp:684: error: (-2:Unspecified error) could not find a writer for the specified extension in function 'imwrite_'\n",
      "\n",
      "('raw/Adam_Gregory./4f6364f83cf073d', 'Adam_Gregory', 'http://www.tattoo22.com/adamgoldberg3.jpg', (125, 33, 183, 91))\n",
      "OpenCV(3.4.3) /Users/travis/build/skvark/opencv-python/opencv/modules/imgcodecs/src/loadsave.cpp:684: error: (-2:Unspecified error) could not find a writer for the specified extension in function 'imwrite_'\n",
      "\n",
      "('raw/Adam_Garcia./45dd3fc1b006561b9bbb5d464fc5c1137e0d9db2', 'Adam_Garcia', 'http://www4.pictures.zimbio.com/gi/Adam%252BGarcia%252BOld%252BVic%252BTunnels%252BSummer%252BFundraiser%252BuyRTckGnUR0l.jpg', (98, 147, 318, 367))\n",
      "OpenCV(3.4.3) /Users/travis/build/skvark/opencv-python/opencv/modules/imgcodecs/src/loadsave.cpp:684: error: (-2:Unspecified error) could not find a writer for the specified extension in function 'imwrite_'\n",
      "\n",
      "('raw/Adam_Gregory./57feb7e107956af', 'Adam_Gregory', 'http://1.bp.blogspot.com/-D6m8V-EZEqU/TlzMcSWFCAI/AAAAAAAAFG8/COly8Ds-dz0/s1600/Adam%2525252520Goldberg-8.jpg', (69, 138, 225, 294))\n",
      "OpenCV(3.4.3) /Users/travis/build/skvark/opencv-python/opencv/modules/imgcodecs/src/loadsave.cpp:684: error: (-2:Unspecified error) could not find a writer for the specified extension in function 'imwrite_'\n",
      "\n",
      "('raw/Adam_Gregory./651d8f03202ef77', 'Adam_Gregory', 'http://0.tqn.com/d/tvcomedies/1/0/u/9/-/-/adam-goldberg.jpg', (221, 184, 551, 514))\n",
      "OpenCV(3.4.3) /Users/travis/build/skvark/opencv-python/opencv/modules/imgcodecs/src/loadsave.cpp:684: error: (-2:Unspecified error) could not find a writer for the specified extension in function 'imwrite_'\n",
      "\n",
      "('raw/Adam_Garcia./db8ec50e73ac45e', 'Adam_Garcia', 'http://img.spokeo.com/public/900-600/adam_garcia_2004_01_12.jpg', (106, 127, 295, 316))\n",
      "OpenCV(3.4.3) /Users/travis/build/skvark/opencv-python/opencv/modules/imgcodecs/src/loadsave.cpp:684: error: (-2:Unspecified error) could not find a writer for the specified extension in function 'imwrite_'\n",
      "\n",
      "('raw/Adam_Gregory./6a00d83452a5f269e20120a5601b0e970c-pi', 'Adam_Gregory', 'http://www.astrovera.com/images/stories/celebrities/adam-goldberg.jpg', (181, 75, 277, 170))\n",
      "OpenCV(3.4.3) /Users/travis/build/skvark/opencv-python/opencv/modules/imgcodecs/src/loadsave.cpp:684: error: (-2:Unspecified error) could not find a writer for the specified extension in function 'imwrite_'\n",
      "\n",
      "('raw/Adam_Gregory./ccb07adc961802e', 'Adam_Gregory', 'http://www.blogcdn.com/www.aoltv.com/media/2011/01/ferguson-300-1296217875.jpg', (134, 35, 197, 98))\n",
      "OpenCV(3.4.3) /Users/travis/build/skvark/opencv-python/opencv/modules/imgcodecs/src/loadsave.cpp:684: error: (-2:Unspecified error) could not find a writer for the specified extension in function 'imwrite_'\n",
      "\n",
      "('raw/Adam_Gregory./7fcac0e2e8f9019', 'Adam_Gregory', 'http://www.images99.com/i99/02/53026/530261.jpg', (33, 46, 91, 105))\n",
      "OpenCV(3.4.3) /Users/travis/build/skvark/opencv-python/opencv/modules/imgcodecs/src/loadsave.cpp:684: error: (-2:Unspecified error) could not find a writer for the specified extension in function 'imwrite_'\n",
      "\n",
      "('raw/Adam_Gregory./d5d87829d08e451', 'Adam_Gregory', 'http://cps-static.rovicorp.com/2/Open/CinemaSource/(Untitled)/_derived_jpg_q90_250x250_m0/076708H3.jpg?partner=allrovi.com', (176, 35, 207, 66))\n",
      "OpenCV(3.4.3) /Users/travis/build/skvark/opencv-python/opencv/modules/imgcodecs/src/loadsave.cpp:684: error: (-2:Unspecified error) could not find a writer for the specified extension in function 'imwrite_'\n",
      "\n",
      "('raw/Adam_Gregory./d5f96d37a1fe278', 'Adam_Gregory', 'http://nfs.celebrityphoto.com/img/AdamGoldberg120601-03.jpg', (92, 92, 210, 210))\n",
      "OpenCV(3.4.3) /Users/travis/build/skvark/opencv-python/opencv/modules/imgcodecs/src/loadsave.cpp:684: error: (-2:Unspecified error) could not find a writer for the specified extension in function 'imwrite_'\n",
      "\n",
      "('raw/Adam_Garcia./e8e0b6b96ab9f23', 'Adam_Garcia', 'http://images.broadwayworld.com/photoops/onthetown/Adam.Garcia.pic.by.Sarah.Lee.jpg', (288, 64, 384, 160))\n",
      "OpenCV(3.4.3) /Users/travis/build/skvark/opencv-python/opencv/modules/imgcodecs/src/loadsave.cpp:684: error: (-2:Unspecified error) could not find a writer for the specified extension in function 'imwrite_'\n",
      "\n"
     ]
    },
    {
     "name": "stdout",
     "output_type": "stream",
     "text": [
      "('raw/Adam_Gregory./dc255035ef95203', 'Adam_Gregory', 'http://thumb9.shutterstock.com/display_pic_with_logo/1296406/135561992/stock-photo-new-york-april-adam-goldberg-attends-mistaken-for-strangers-opening-night-premiere-during-135561992.jpg', (97, 40, 169, 113))\n",
      "OpenCV(3.4.3) /Users/travis/build/skvark/opencv-python/opencv/modules/imgcodecs/src/loadsave.cpp:684: error: (-2:Unspecified error) could not find a writer for the specified extension in function 'imwrite_'\n",
      "\n",
      "('raw/Adam_Garcia./5979cbbf17bb4ba', 'Adam_Garcia', 'http://1.bp.blogspot.com/_gr41FEso034/SWRPFMBej_I/AAAAAAAAoZs/J7bRiRCduqk/s400/Adam%252520Garcia.jpg', (105, 60, 241, 196))\n",
      "OpenCV(3.4.3) /Users/travis/build/skvark/opencv-python/opencv/modules/imgcodecs/src/loadsave.cpp:684: error: (-2:Unspecified error) could not find a writer for the specified extension in function 'imwrite_'\n",
      "\n",
      "libpng warning: iCCP: known incorrect sRGB profile\n",
      "('raw/Adam_Gregory./dd6491569577c77', 'Adam_Gregory', 'http://content8.flixster.com/photo/10/91/29/10912962_gal.jpg', (207, 39, 236, 68))\n",
      "OpenCV(3.4.3) /Users/travis/build/skvark/opencv-python/opencv/modules/imgcodecs/src/loadsave.cpp:684: error: (-2:Unspecified error) could not find a writer for the specified extension in function 'imwrite_'\n",
      "\n",
      "('raw/Adam_Garcia./f9e0d779d56265b', 'Adam_Garcia', 'http://ro-mashka.ru/photo_a/Adam-Garcia-20-10.jpg', (288, 64, 384, 160))\n",
      "OpenCV(3.4.3) /Users/travis/build/skvark/opencv-python/opencv/modules/imgcodecs/src/loadsave.cpp:684: error: (-2:Unspecified error) could not find a writer for the specified extension in function 'imwrite_'\n",
      "\n",
      "('raw/Adam_Garcia./6a00d8341c2ca253ef0120a7b451f5970b-400wi', 'Adam_Garcia', 'http://img.spokeo.com/public/900-600/adam_garcia_2005_02_15.jpg', (52, 208, 285, 441))\n",
      "OpenCV(3.4.3) /Users/travis/build/skvark/opencv-python/opencv/modules/imgcodecs/src/loadsave.cpp:684: error: (-2:Unspecified error) could not find a writer for the specified extension in function 'imwrite_'\n",
      "\n",
      "('raw/Adam_Goldberg./b10b282b3a7612d', 'Adam_Goldberg', 'http://image.way2enjoy.com/pic/52/98/23/600full-adam-goldberg.jpg', (168, 98, 292, 222))\n",
      "OpenCV(3.4.3) /Users/travis/build/skvark/opencv-python/opencv/modules/imgcodecs/src/loadsave.cpp:684: error: (-2:Unspecified error) could not find a writer for the specified extension in function 'imwrite_'\n",
      "\n",
      "('raw/Adam_Garcia./7a9872f04385ea3', 'Adam_Garcia', 'http://www.woogsworld.com/wp-content/uploads/2014/10/Screen-Shot-2014-10-08-at-8.15.04-am.png', (121, 0, 392, 271))\n",
      "OpenCV(3.4.3) /Users/travis/build/skvark/opencv-python/opencv/modules/imgcodecs/src/loadsave.cpp:684: error: (-2:Unspecified error) could not find a writer for the specified extension in function 'imwrite_'\n",
      "\n",
      "('raw/Adam_Gregory./e7995a8e158ee63', 'Adam_Gregory', 'http://s3-ec.buzzfed.com/static/2014-06/18/14/enhanced/webdr02/anigif_enhanced-buzz-28832-1403116628-24_preview.gif', (341, 52, 459, 170))\n",
      "OpenCV(3.4.3) /Users/travis/build/skvark/opencv-python/opencv/modules/imgcodecs/src/loadsave.cpp:684: error: (-2:Unspecified error) could not find a writer for the specified extension in function 'imwrite_'\n",
      "\n",
      "('raw/Adam_Goldberg./b1576d94a29e6dc', 'Adam_Goldberg', 'http://images.hdwallpapersnew.in/a/adam_goldberg_tn-727.jpg?i', (120, 34, 171, 85))\n",
      "OpenCV(3.4.3) /Users/travis/build/skvark/opencv-python/opencv/modules/imgcodecs/src/loadsave.cpp:684: error: (-2:Unspecified error) could not find a writer for the specified extension in function 'imwrite_'\n",
      "\n",
      "libpng warning: iCCP: known incorrect sRGB profile\n",
      "('raw/Adam_Goldberg./b348df515d3993f', 'Adam_Goldberg', 'http://www3.pictures.gi.zimbio.com/Adam%252BGoldberg%252BCA%252BFall%252B2005%252BProenza%252BSchouler%252BzN7Pp87qRrvl.jpg', (84, 127, 211, 253))\n",
      "OpenCV(3.4.3) /Users/travis/build/skvark/opencv-python/opencv/modules/imgcodecs/src/loadsave.cpp:684: error: (-2:Unspecified error) could not find a writer for the specified extension in function 'imwrite_'\n",
      "\n",
      "('raw/Adam_Garcia./82b377396a2028c', 'Adam_Garcia', 'http://www.iballer.com/malecelebs/garcia/images/adam-garcia-photo-107.jpg', (167, 74, 334, 241))\n",
      "OpenCV(3.4.3) /Users/travis/build/skvark/opencv-python/opencv/modules/imgcodecs/src/loadsave.cpp:684: error: (-2:Unspecified error) could not find a writer for the specified extension in function 'imwrite_'\n",
      "\n",
      "('raw/Adam_Gregory./f84bcb9fed55dd8', 'Adam_Gregory', 'http://happybday.to/sites/pics/adam-f-goldberg-1.jpg', (121, 189, 274, 342))\n",
      "OpenCV(3.4.3) /Users/travis/build/skvark/opencv-python/opencv/modules/imgcodecs/src/loadsave.cpp:684: error: (-2:Unspecified error) could not find a writer for the specified extension in function 'imwrite_'\n",
      "\n",
      "('raw/Adam_Gregory./FF0000', 'Adam_Gregory', 'http://image.funscrape.com/images/a/adam_goldberg-941.jpg', (130, 47, 168, 86))\n",
      "OpenCV(3.4.3) /Users/travis/build/skvark/opencv-python/opencv/modules/imgcodecs/src/loadsave.cpp:684: error: (-2:Unspecified error) could not find a writer for the specified extension in function 'imwrite_'\n",
      "\n",
      "('raw/Adam_Gregory./90210-adamgregory.jpg?quality=0.7', 'Adam_Gregory', 'http://images4.fanpop.com/image/photos/22600000/Adam-in-Friends-The-One-Where-Dr-Ramoray-Dies-adam-goldberg-22649065-700-525.jpg', (314, 105, 447, 238))\n",
      "OpenCV(3.4.3) /Users/travis/build/skvark/opencv-python/opencv/modules/imgcodecs/src/loadsave.cpp:684: error: (-2:Unspecified error) could not find a writer for the specified extension in function 'imwrite_'\n",
      "\n",
      "('raw/Adam_Garcia./8d7da58e69a0149', 'Adam_Garcia', 'http://i1.ytimg.com/vi/XX4T0tWPRUU/hqdefault.jpg', (139, 99, 318, 278))\n",
      "OpenCV(3.4.3) /Users/travis/build/skvark/opencv-python/opencv/modules/imgcodecs/src/loadsave.cpp:684: error: (-2:Unspecified error) could not find a writer for the specified extension in function 'imwrite_'\n",
      "\n",
      "('raw/Adam_Garcia./8f2f67ed18bf1cc', 'Adam_Garcia', 'http://static3.imagecollect.com/preview/560/14cad7e0177d106', (98, 146, 315, 363))\n",
      "OpenCV(3.4.3) /Users/travis/build/skvark/opencv-python/opencv/modules/imgcodecs/src/loadsave.cpp:684: error: (-2:Unspecified error) could not find a writer for the specified extension in function 'imwrite_'\n",
      "\n",
      "('raw/Adam_Goldberg./ccdaf792d580926', 'Adam_Goldberg', 'http://c420561.r61.cf1.rackcdn.com/4/13253-212094.jpg', (105, 48, 177, 121))\n",
      "OpenCV(3.4.3) /Users/travis/build/skvark/opencv-python/opencv/modules/imgcodecs/src/loadsave.cpp:684: error: (-2:Unspecified error) could not find a writer for the specified extension in function 'imwrite_'\n",
      "\n",
      "('raw/Adam_Garcia./9ac07fc0ada3338', 'Adam_Garcia', 'http://resources2.news.com.au/images/2012/05/14/1226355/190162-adam-garcia.jpg', (279, 99, 457, 278))\n",
      "OpenCV(3.4.3) /Users/travis/build/skvark/opencv-python/opencv/modules/imgcodecs/src/loadsave.cpp:684: error: (-2:Unspecified error) could not find a writer for the specified extension in function 'imwrite_'\n",
      "\n",
      "('raw/Adam_Driver./mgid:uma:content:mtv.com:1717201?width=281&height=211', 'Adam_Driver', 'http://hellogiggles.com/wp-content/uploads/2012/06/12/hbo-girls-adam-driver-adam-shirtless-350x262.jpg', (110, 73, 220, 183))\n",
      "OpenCV(3.4.3) /Users/travis/build/skvark/opencv-python/opencv/modules/imgcodecs/src/loadsave.cpp:684: error: (-2:Unspecified error) could not find a writer for the specified extension in function 'imwrite_'\n",
      "\n",
      "('raw/Adam_Gregory./9bd37e92683a9f7', 'Adam_Gregory', 'http://nfs.celebrityphoto.com/img/AdamGoldberg121301-03.jpg', (117, 75, 213, 170))\n",
      "OpenCV(3.4.3) /Users/travis/build/skvark/opencv-python/opencv/modules/imgcodecs/src/loadsave.cpp:684: error: (-2:Unspecified error) could not find a writer for the specified extension in function 'imwrite_'\n",
      "\n",
      "('raw/Adam_Gregory./9bfb18a91fd3444', 'Adam_Gregory', 'http://i.ytimg.com/vi/MUy_rfFMZu8/hqdefault.jpg', (225, 91, 288, 154))\n",
      "OpenCV(3.4.3) /Users/travis/build/skvark/opencv-python/opencv/modules/imgcodecs/src/loadsave.cpp:684: error: (-2:Unspecified error) could not find a writer for the specified extension in function 'imwrite_'\n",
      "\n",
      "('raw/Adam_Driver./mgid:uma:content:mtv.com:1723037?width=281&height=211', 'Adam_Driver', 'http://coxrare.files.wordpress.com/2014/04/capture51.jpg', (105, 105, 241, 241))\n",
      "OpenCV(3.4.3) /Users/travis/build/skvark/opencv-python/opencv/modules/imgcodecs/src/loadsave.cpp:684: error: (-2:Unspecified error) could not find a writer for the specified extension in function 'imwrite_'\n",
      "\n",
      "('raw/Adam_Driver./mgid:uma:content:mtv.com:1723060?width=281&height=211', 'Adam_Driver', 'http://1.bp.blogspot.com/-SkvqkQbcvwo/UoECRlNwDKI/AAAAAAACHx4/lwWY84OWCfA/s400/adam+driver+2.jpg', (81, 77, 117, 113))\n",
      "OpenCV(3.4.3) /Users/travis/build/skvark/opencv-python/opencv/modules/imgcodecs/src/loadsave.cpp:684: error: (-2:Unspecified error) could not find a writer for the specified extension in function 'imwrite_'\n",
      "\n"
     ]
    },
    {
     "name": "stdout",
     "output_type": "stream",
     "text": [
      "('raw/Adam_Gregory./?width=345&height=470', 'Adam_Gregory', 'http://image.123tagged.com/images/a/adam_goldberg_with_an_award-938.jpg', (211, 70, 274, 133))\n",
      "OpenCV(3.4.3) /Users/travis/build/skvark/opencv-python/opencv/modules/imgcodecs/src/loadsave.cpp:684: error: (-2:Unspecified error) could not find a writer for the specified extension in function 'imwrite_'\n",
      "\n",
      "('raw/Adam_Driver./mgid:uma:image:mtv.com:8943176?quality=0.8&width=480&height=270', 'Adam_Driver', 'http://cps-static.rovicorp.com/2/Open/Getty/Adam%20Driver/_2by3/_derived_jpg_q90_250x250_m0/143971919.jpg?partner=allrovi.com', (68, 28, 120, 80))\n",
      "OpenCV(3.4.3) /Users/travis/build/skvark/opencv-python/opencv/modules/imgcodecs/src/loadsave.cpp:684: error: (-2:Unspecified error) could not find a writer for the specified extension in function 'imwrite_'\n",
      "\n",
      "('raw/Adam_Driver./mgid:uma:image:mtv.com:9716783?quality=0.8&width=480&height=270', 'Adam_Driver', 'http://images.vcpost.com/data/images/full/13925/adam-driver.jpg?w=590', (145, 81, 291, 226))\n",
      "OpenCV(3.4.3) /Users/travis/build/skvark/opencv-python/opencv/modules/imgcodecs/src/loadsave.cpp:684: error: (-2:Unspecified error) could not find a writer for the specified extension in function 'imwrite_'\n",
      "\n",
      "('raw/Adam_Gregory./?width=345&height=499&kind=crop&gravity=north', 'Adam_Gregory', 'http://db2.stb.s-msn.com/i/28/ABDA93DF92EC4984591B1B21C1A657_h498_w598_m2.jpg', (112, 140, 362, 390))\n",
      "OpenCV(3.4.3) /Users/travis/build/skvark/opencv-python/opencv/modules/imgcodecs/src/loadsave.cpp:684: error: (-2:Unspecified error) could not find a writer for the specified extension in function 'imwrite_'\n",
      "\n",
      "('raw/Adam_Gregory./?width=370&height=440&kind=base', 'Adam_Gregory', 'http://s2.reutersmedia.net/resources/r/?m=02&d=20090629&t=2&i=10667511&w=320&fh=&fw=&ll=&pl=&r=2009-06-29T034139Z_01_BTRE55S0A9N00_RTROPTP_0_HURRICANES-MOVIE', (56, 70, 182, 197))\n",
      "OpenCV(3.4.3) /Users/travis/build/skvark/opencv-python/opencv/modules/imgcodecs/src/loadsave.cpp:684: error: (-2:Unspecified error) could not find a writer for the specified extension in function 'imwrite_'\n",
      "\n",
      "('raw/Adam_Goldberg./d281f1beb688d81', 'Adam_Goldberg', 'http://www.sitcomsonline.com/photopost/data/2295/Friends1335.jpg', (195, 65, 278, 148))\n",
      "OpenCV(3.4.3) /Users/travis/build/skvark/opencv-python/opencv/modules/imgcodecs/src/loadsave.cpp:684: error: (-2:Unspecified error) could not find a writer for the specified extension in function 'imwrite_'\n",
      "\n",
      "('raw/Adam_Gregory./a653e54b7383bba', 'Adam_Gregory', 'http://snarkerati.com/movie-news/files/2012/01/adam-goldberg.jpg', (92, 166, 257, 330))\n",
      "OpenCV(3.4.3) /Users/travis/build/skvark/opencv-python/opencv/modules/imgcodecs/src/loadsave.cpp:684: error: (-2:Unspecified error) could not find a writer for the specified extension in function 'imwrite_'\n",
      "\n",
      "('raw/Adam_Goldberg./d86fc2625e386d4', 'Adam_Goldberg', 'http://www.hotflick.net/flicks/2003_How_to_Lose_a_Guy_in_10_Days/003HTL_Adam_Goldberg_009.jpg', (515, 121, 668, 274))\n",
      "OpenCV(3.4.3) /Users/travis/build/skvark/opencv-python/opencv/modules/imgcodecs/src/loadsave.cpp:684: error: (-2:Unspecified error) could not find a writer for the specified extension in function 'imwrite_'\n",
      "\n",
      "('raw/Adam_Gregory./aaaaeb373f41a44', 'Adam_Gregory', 'http://j.static-locatetv.com/images/person/84/178769_adam_goldberg.jpg', (20, 60, 109, 149))\n",
      "OpenCV(3.4.3) /Users/travis/build/skvark/opencv-python/opencv/modules/imgcodecs/src/loadsave.cpp:684: error: (-2:Unspecified error) could not find a writer for the specified extension in function 'imwrite_'\n",
      "\n",
      "('raw/Adam_Goldberg./e93f627c300094f', 'Adam_Goldberg', 'http://www.superiorpics.com/pictures2/thumb270/GoldbergAG005.jpg', (74, 111, 241, 278))\n",
      "OpenCV(3.4.3) /Users/travis/build/skvark/opencv-python/opencv/modules/imgcodecs/src/loadsave.cpp:684: error: (-2:Unspecified error) could not find a writer for the specified extension in function 'imwrite_'\n",
      "\n",
      "('raw/Adam_Goldberg./03cc10b6a7dc9c7', 'Adam_Goldberg', 'http://l2.yimg.com/bt/api/res/1.2/6n.0nDmN8hbYcJRZNz8dqQ--/YXBwaWQ9eW5ld3M7Zmk9ZmlsbDtoPTM5MDtxPTc1O3c9MzAw/http://media.zenfs.com/en_US/News/Deadline.com/adamgoldberg__131221000112.png', (74, 111, 241, 278))\n",
      "OpenCV(3.4.3) /Users/travis/build/skvark/opencv-python/opencv/modules/imgcodecs/src/loadsave.cpp:684: error: (-2:Unspecified error) could not find a writer for the specified extension in function 'imwrite_'\n",
      "\n",
      "('raw/Adam_Goldberg./076708H3.jpg?partner=allrovi.com', 'Adam_Goldberg', 'http://img.spokeo.com/public/900-600/adam_goldberg_2003_03_21.jpg', (85, 148, 274, 337))\n",
      "OpenCV(3.4.3) /Users/travis/build/skvark/opencv-python/opencv/modules/imgcodecs/src/loadsave.cpp:684: error: (-2:Unspecified error) could not find a writer for the specified extension in function 'imwrite_'\n",
      "\n"
     ]
    }
   ],
   "source": [
    "!python preprocess.py"
   ]
  },
  {
   "cell_type": "code",
   "execution_count": 25,
   "metadata": {},
   "outputs": [],
   "source": [
    "import numpy as np\n",
    "import os\n",
    "import cv2\n",
    "\n",
    "def load_vgg(path_to_images):\n",
    "    tot_n_images = 0\n",
    "    for (dirpath, _, _) in os.walk(path_to_images):\n",
    "        tot_n_images += len(os.listdir(dirpath))\n",
    "    print(f\"Total number of aligned images is {tot_n_images}\")\n",
    "    img_data = []\n",
    "    for (dirname, _, filenames) in os.walk(path_to_images):\n",
    "        for im in filenames:\n",
    "            im_path = os.path.join(dirname, im)\n",
    "            grey_img = cv2.imread(im_path, 0)\n",
    "            img_data.append(grey_img.flatten())\n",
    "    dataset = np.stack(img_data, axis=0)\n",
    "    return dataset"
   ]
  },
  {
   "cell_type": "code",
   "execution_count": 26,
   "metadata": {},
   "outputs": [
    {
     "name": "stdout",
     "output_type": "stream",
     "text": [
      "Total number of aligned images is 10826\n"
     ]
    }
   ],
   "source": [
    "vgg_data = load_vgg('aligned')"
   ]
  },
  {
   "cell_type": "code",
   "execution_count": 27,
   "metadata": {},
   "outputs": [
    {
     "data": {
      "text/plain": [
       "(10806, 2304)"
      ]
     },
     "execution_count": 27,
     "metadata": {},
     "output_type": "execute_result"
    }
   ],
   "source": [
    "vgg_data.shape"
   ]
  },
  {
   "cell_type": "code",
   "execution_count": 28,
   "metadata": {},
   "outputs": [],
   "source": [
    "n_samples, n_features = vgg_data.shape\n",
    "\n",
    "# global centering\n",
    "vgg_centered = vgg_data - vgg_data.mean(axis=0)\n",
    "\n",
    "# local centering\n",
    "vgg_centered -= vgg_centered.mean(axis=1).reshape(n_samples, -1)"
   ]
  },
  {
   "cell_type": "code",
   "execution_count": 55,
   "metadata": {},
   "outputs": [],
   "source": [
    "from sklearn import decomposition\n",
    "\n",
    "pca = decomposition.PCA(n_components=0.8, svd_solver='full')"
   ]
  },
  {
   "cell_type": "code",
   "execution_count": 56,
   "metadata": {},
   "outputs": [
    {
     "data": {
      "text/plain": [
       "PCA(copy=True, iterated_power='auto', n_components=0.8, random_state=None,\n",
       "  svd_solver='full', tol=0.0, whiten=False)"
      ]
     },
     "execution_count": 56,
     "metadata": {},
     "output_type": "execute_result"
    }
   ],
   "source": [
    "pca.fit(vgg_centered)"
   ]
  },
  {
   "cell_type": "code",
   "execution_count": 57,
   "metadata": {},
   "outputs": [
    {
     "data": {
      "text/plain": [
       "38"
      ]
     },
     "execution_count": 57,
     "metadata": {},
     "output_type": "execute_result"
    }
   ],
   "source": [
    "pca.n_components_"
   ]
  },
  {
   "cell_type": "code",
   "execution_count": 45,
   "metadata": {},
   "outputs": [],
   "source": [
    "import matplotlib.pyplot as plt\n",
    "import matplotlib\n",
    "matplotlib.rcParams['text.usetex'] = True\n",
    "matplotlib.rcParams['text.latex.unicode'] = True\n",
    "%matplotlib inline"
   ]
  },
  {
   "cell_type": "code",
   "execution_count": 54,
   "metadata": {},
   "outputs": [
    {
     "data": {
      "text/plain": [
       "[<matplotlib.lines.Line2D at 0x1a424dd9e8>]"
      ]
     },
     "execution_count": 54,
     "metadata": {},
     "output_type": "execute_result"
    },
    {
     "data": {
      "image/png": "[encoded data removed]",
      "text/plain": [
       "<Figure size 432x288 with 1 Axes>"
      ]
     },
     "metadata": {},
     "output_type": "display_data"
    }
   ],
   "source": [
    "plt.plot(list(range(pca.n_components_)), pca.explained_variance_, 'o')"
   ]
  },
  {
   "cell_type": "code",
   "execution_count": 80,
   "metadata": {},
   "outputs": [
    {
     "name": "stdout",
     "output_type": "stream",
     "text": [
      "0.0003995649868201837\n"
     ]
    }
   ],
   "source": [
    "##\n",
    "k = 38\n",
    "d = 2304\n",
    "_init_weights = get_random_orthogonal_initializer(k, d)\n",
    "\n",
    "n_train = len(vgg_centered)\n",
    "T = 10*n_train\n",
    "#lr = (None, get_default_learning_rate(faces_centered))\n",
    "print(get_default_learning_rate(vgg_centered))\n",
    "#lr = (None, 0.0005) \n",
    "lr = (0.001, 100)\n",
    "algo = KrasulinaPCA(_init_weights, vgg_centered, groundtruth=pca.components_, \n",
    "                    learning_rate=lr, mini_batch_size=1, max_iter=T)"
   ]
  },
  {
   "cell_type": "code",
   "execution_count": 81,
   "metadata": {},
   "outputs": [
    {
     "name": "stdout",
     "output_type": "stream",
     "text": [
      "The initial mse: 66567701512.78752\n",
      "The initial loss: 37.36868493614685\n",
      "Finished training 1-th epoch with total 10806 iterations\n",
      "The loss at the 1-th epoch is 25.10186508719627\n",
      "Finished training 2-th epoch with total 21612 iterations\n",
      "The loss at the 2-th epoch is 25.23009472946737\n",
      "Finished training 3-th epoch with total 32418 iterations\n",
      "The loss at the 3-th epoch is 25.20105803399977\n",
      "Finished training 4-th epoch with total 43224 iterations\n",
      "The loss at the 4-th epoch is 25.15273000632221\n",
      "Finished training 5-th epoch with total 54030 iterations\n",
      "The loss at the 5-th epoch is 25.106428476393592\n",
      "Finished training 6-th epoch with total 64836 iterations\n",
      "The loss at the 6-th epoch is 25.114686331398953\n",
      "Finished training 7-th epoch with total 75642 iterations\n",
      "The loss at the 7-th epoch is 25.109854658777436\n",
      "Finished training 8-th epoch with total 86448 iterations\n",
      "The loss at the 8-th epoch is 25.121974462984245\n",
      "Finished training 9-th epoch with total 97254 iterations\n",
      "The loss at the 9-th epoch is 25.197131596720965\n",
      "Finished training 10-th epoch with total 108060 iterations\n",
      "The loss at the 10-th epoch is 25.183799271635515\n"
     ]
    }
   ],
   "source": [
    "algo._train()"
   ]
  },
  {
   "cell_type": "code",
   "execution_count": 72,
   "metadata": {},
   "outputs": [
    {
     "data": {
      "text/plain": [
       "[37.340345208122656,\n",
       " 25.409346366556164,\n",
       " 25.375903512828362,\n",
       " 25.375856117497435,\n",
       " 25.37251488198298,\n",
       " 25.36769111699798,\n",
       " 25.377475806690097,\n",
       " 25.369450227167235,\n",
       " 25.38034701414972,\n",
       " 25.476020567896967,\n",
       " 25.474081158953958]"
      ]
     },
     "execution_count": 72,
     "metadata": {},
     "output_type": "execute_result"
    }
   ],
   "source": [
    "algo._groundtruth_eval_log"
   ]
  },
  {
   "cell_type": "code",
   "execution_count": 75,
   "metadata": {},
   "outputs": [],
   "source": [
    "eps = 1e-6\n",
    "log_error = [math.log(x) for x in algo._groundtruth_eval_log] "
   ]
  },
  {
   "cell_type": "code",
   "execution_count": 77,
   "metadata": {},
   "outputs": [
    {
     "data": {
      "text/plain": [
       "[<matplotlib.lines.Line2D at 0x1080ac940>]"
      ]
     },
     "execution_count": 77,
     "metadata": {},
     "output_type": "execute_result"
    },
    {
     "data": {
      "image/png": "[encoded data removed]",
      "text/plain": [
       "<Figure size 432x288 with 1 Axes>"
      ]
     },
     "metadata": {},
     "output_type": "display_data"
    }
   ],
   "source": [
    "plt.plot(range(11), algo._groundtruth_eval_log)\n",
    "# check MSE\n",
    "# check 1/t learning rate \n",
    "# (we can slightly change the narrative if this works)"
   ]
  },
  {
   "cell_type": "code",
   "execution_count": 82,
   "metadata": {},
   "outputs": [],
   "source": [
    "import json"
   ]
  },
  {
   "cell_type": "code",
   "execution_count": 84,
   "metadata": {},
   "outputs": [
    {
     "data": {
      "text/plain": [
       "{'in0': [1.2], 'in1': [10.3]}"
      ]
     },
     "execution_count": 84,
     "metadata": {},
     "output_type": "execute_result"
    }
   ],
   "source": [
    "json.loads('{\"in0\": [1.2], \"in1\": [10.3]}', parse_int)"
   ]
  },
  {
   "cell_type": "code",
   "execution_count": 92,
   "metadata": {},
   "outputs": [],
   "source": [
    "adict = {1:[11,2], 0:[1]}"
   ]
  },
  {
   "cell_type": "code",
   "execution_count": 96,
   "metadata": {},
   "outputs": [
    {
     "name": "stdout",
     "output_type": "stream",
     "text": [
      "1\n",
      "[11, 2]\n",
      "0\n",
      "[1]\n"
     ]
    }
   ],
   "source": [
    "for k, v in adict.items():\n",
    "    print(k)\n",
    "    print(v)"
   ]
  },
  {
   "cell_type": "code",
   "execution_count": 87,
   "metadata": {},
   "outputs": [],
   "source": [
    "adict.clear()"
   ]
  },
  {
   "cell_type": "code",
   "execution_count": 88,
   "metadata": {},
   "outputs": [
    {
     "data": {
      "text/plain": [
       "{}"
      ]
     },
     "execution_count": 88,
     "metadata": {},
     "output_type": "execute_result"
    }
   ],
   "source": [
    "adict"
   ]
  },
  {
   "cell_type": "code",
   "execution_count": 89,
   "metadata": {},
   "outputs": [],
   "source": [
    "adict.clear()"
   ]
  },
  {
   "cell_type": "code",
   "execution_count": null,
   "metadata": {},
   "outputs": [],
   "source": []
  }
 ],
 "metadata": {
  "kernelspec": {
   "display_name": "Python 3",
   "language": "python",
   "name": "python3"
  },
  "language_info": {
   "codemirror_mode": {
    "name": "ipython",
    "version": 3
   },
   "file_extension": ".py",
   "mimetype": "text/x-python",
   "name": "python",
   "nbconvert_exporter": "python",
   "pygments_lexer": "ipython3",
   "version": "3.6.5"
  }
 },
 "nbformat": 4,
 "nbformat_minor": 2
}

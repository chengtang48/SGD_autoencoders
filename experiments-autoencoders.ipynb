{
 "cells": [
  {
   "cell_type": "code",
   "execution_count": 1,
   "metadata": {
    "collapsed": false
   },
   "outputs": [],
   "source": [
    "import tensorflow as tf\n",
    "import numpy as np\n",
    "import matplotlib.pyplot as plt\n",
    "from scipy.stats import ortho_group #generator for random orthogonal matrix\n",
    "from sklearn.preprocessing import normalize\n",
    "import matplotlib\n",
    "%matplotlib inline"
   ]
  },
  {
   "cell_type": "code",
   "execution_count": null,
   "metadata": {
    "collapsed": false
   },
   "outputs": [],
   "source": [
    "def data_generator(dim, noise_bound, gt_dict=None):\n",
    "    if gt_dict is not None:\n",
    "        W = gt_dict\n",
    "    else:\n",
    "        W = ortho_group.rvs(dim)\n",
    "    s = np.random.multinomial(1, [float(1/dim)]*dim)\n",
    "    sigma = float(noise_bound)/(dim)**(0.5)\n",
    "    eps = np.random.normal([0.0]*dim, sigma)\n",
    "    norm = np.linalg.norm(eps)\n",
    "    if norm > noise_bound:\n",
    "        eps = noise_bound * eps/norm\n",
    "    #return np.dot(W,s)+eps, eps\n",
    "    #print(np.dot(W,s))\n",
    "    return np.dot(W,s)+eps\n",
    "    \n",
    "def batch_data_generator(dim, noise_bound, batch_size, gt_dict=None):\n",
    "    def map_function(null):\n",
    "        return data_generator(dim, noise_bound, gt_dict)\n",
    "    \n",
    "    return list(map(map_function, [0]*batch_size))\n",
    "\n",
    "\n",
    "# x, eps = data_generator(2,0.1)\n",
    "# #print(np.linalg.norm(eps))\n",
    "# print(x)\n",
    "\n",
    "list_x = batch_data_generator(2,0.1,5)\n",
    "list_x"
   ]
  },
  {
   "cell_type": "code",
   "execution_count": null,
   "metadata": {
    "collapsed": true
   },
   "outputs": [],
   "source": [
    "## define bias initialization\n",
    "def bias_init(weights, norm, batch_size, batch_data_generator, dim, noise_bound):\n",
    "    assert norm > 1, 'the norm value is invalid!'\n",
    "    ## generate a batch sample\n",
    "    batch_x = batch_data_generator(dim, noise_bound, batch_size)\n",
    "    ## calculate average inner product\n",
    "    avg_proj = tf.reduce_mean(tf.matmul(weights, tf.transpose(np.array(batch_x))), axis=1)\n",
    "    return tf.subtract(tf.divide(avg_proj, norm**2), avg_proj)"
   ]
  },
  {
   "cell_type": "code",
   "execution_count": null,
   "metadata": {
    "collapsed": true
   },
   "outputs": [],
   "source": [
    "## data model parameters\n",
    "dim = 2\n",
    "noise_bound = 0.1\n",
    "\n",
    "## architecture parameters\n",
    "width = 2*dim\n",
    "activation = 'relu'\n",
    "\n",
    "## algorithmic parameters\n",
    "init_batch_size = 200\n",
    "norm = 2\n",
    "rescale_param = 1/float(norm**2) - 1\n",
    "t_o = 100\n",
    "c_prime = 10\n",
    "##\n",
    "train_steps = 1000"
   ]
  },
  {
   "cell_type": "code",
   "execution_count": null,
   "metadata": {
    "collapsed": true
   },
   "outputs": [],
   "source": [
    "tf.reset_default_graph()"
   ]
  },
  {
   "cell_type": "code",
   "execution_count": null,
   "metadata": {
    "collapsed": false
   },
   "outputs": [],
   "source": [
    "gt_dict = ortho_group.rvs(dim) # generate ground-truth dictionary\n",
    "init_weights = tf.random_normal([width, dim], dtype=tf.float64) # init random weights\n",
    "init_bias = bias_init(init_weights, norm, init_batch_size, batch_data_generator, dim, noise_bound)\n",
    "with tf.Session() as sess:\n",
    "    init_weights_ = sess.run(init_weights)\n",
    "    init_bias_ = sess.run(init_bias)"
   ]
  },
  {
   "cell_type": "code",
   "execution_count": null,
   "metadata": {
    "collapsed": true
   },
   "outputs": [],
   "source": [
    "## evaluation metric\n",
    "def cosine_squared_distances(weights, dictionary):\n",
    "    #print(weights.shape)\n",
    "    #print(normalize(weights))\n",
    "    w_normalized = normalize(weights)\n",
    "    #w_normalized = 0.5*weights\n",
    "    raw_scores = np.square(np.matmul(w_normalized, np.transpose(dictionary)))\n",
    "    max_scores = np.max(raw_scores, axis=0) # best approximation for each dict item\n",
    "    return max_scores, raw_scores, min(max_scores)\n",
    "def cos_sq_avg_distances(weights, dictionary):\n",
    "    max_scores,_,_ = cosine_squared_distances(weights, dictionary)\n",
    "    max_scores = [1]*len(max_scores)-max_scores\n",
    "    return np.mean(max_scores)\n",
    "def cos_sq_min_distances(weights, dictionary):\n",
    "    max_scores,_,_ = cosine_squared_distances(weights, dictionary)\n",
    "    max_scores = [1]*len(max_scores)-max_scores\n",
    "    return np.min(max_scores)\n"
   ]
  },
  {
   "cell_type": "markdown",
   "metadata": {},
   "source": [
    "## Original SGD Training"
   ]
  },
  {
   "cell_type": "code",
   "execution_count": null,
   "metadata": {
    "collapsed": false
   },
   "outputs": [],
   "source": [
    "## Relu - autoencoder model with tied weights\n",
    "\n",
    "### parameters to learn\n",
    "weights = tf.Variable(init_weights_, dtype=tf.float64)\n",
    "#bias = tf.Variable(init_bias_, dtype=tf.float64)\n",
    "bias = tf.Variable(np.zeros(width), dtype=tf.float64)\n",
    "create_row_normalize_op = tf.assign(weights, norm * tf.nn.l2_normalize(weights, dim=1))\n",
    "### define model and loss\n",
    "def encoder(weights, bias, x):\n",
    "    return tf.add(tf.matmul(x, tf.transpose(weights)), bias)\n",
    "def decoder(weights, h, activation):\n",
    "    if activation == 'relu':\n",
    "        return tf.squeeze(tf.matmul(tf.nn.relu(h), weights))\n",
    "    else:\n",
    "        print('activation function not implemented')\n",
    "        exit(0)\n",
    "def data_wise_mean_sq_loss(x, weights, bias):\n",
    "    x_hat = decoder(weights, encoder(weights, bias, x), 'relu')\n",
    "    print(x_hat.get_shape())\n",
    "    return tf.reduce_sum(tf.square(x - x_hat))\n",
    "\n",
    "#x_gt = tf.placeholder(tf.float64, [dim,])\n",
    "mini_batch_size = 100\n",
    "batch_x = tf.placeholder(tf.float64, [mini_batch_size, dim])\n",
    "\n",
    "### define optimizer  \n",
    "global_step = tf.Variable(t_o, trainable=False)\n",
    "learning_rate = c_prime\n",
    "decay_steps = 1\n",
    "decay_rate = 1.0\n",
    "increment_global_step_op = tf.assign(global_step, global_step+1)\n",
    "##\n",
    "learn_rate = tf.train.inverse_time_decay(tf.cast(learning_rate, tf.float64), global_step, decay_steps, decay_rate)\n",
    "#learn_rate = 0.01\n",
    "train_op = tf.train.GradientDescentOptimizer(learn_rate).minimize(data_wise_mean_sq_loss(batch_x, weights, bias))"
   ]
  },
  {
   "cell_type": "code",
   "execution_count": null,
   "metadata": {
    "collapsed": false
   },
   "outputs": [],
   "source": [
    "## standard learning-rate decayed SGD training\n",
    "\n",
    "#create_row_normalize_op = tf.assign(weights, tf.nn.l2_normalize(weights, dim=1))\n",
    "# eta = 0.1\n",
    "# update_bias_op = tf.assign(bias, \n",
    "#                     bias*(1-eta)+eta*tf.squeeze(tf.matmul(weights, tf.expand_dims(x_gt, axis=1)))*rescale_param)\n",
    "\n",
    "#gt_dict = ortho_group.rvs(dim) # generate ground-truth dictionary\n",
    "#test_sample = batch_data_generator(dim, noise_bound, 100)\n",
    "avg_scores_list = list()\n",
    "min_scores = list()\n",
    "control_weight = False\n",
    "for n_runs in range(10):\n",
    "    avg_scores = list()\n",
    "    with tf.Session() as sess:\n",
    "        sess.run(tf.global_variables_initializer())\n",
    "        for i in range(train_steps):\n",
    "            if i==0:\n",
    "                avg_scores.append(cos_sq_avg_distances(init_weights_, gt_dict))\n",
    "            #x = data_generator(dim, noise_bound, gt_dict)[0]\n",
    "            #x = data_generator(dim, noise_bound, gt_dict)\n",
    "            x = batch_data_generator(dim, noise_bound, mini_batch_size, gt_dict)\n",
    "            #init_weights_ = sess.run(init_weights)\n",
    "            _, weights_, bias_ = sess.run([train_op, weights, bias] , feed_dict={batch_x: x})\n",
    "            if control_weight:\n",
    "                _, weights_ = sess.run([create_row_normalize_op, weights]) \n",
    "            n_steps = sess.run(increment_global_step_op)\n",
    "            avg_scores.append(cos_sq_avg_distances(weights_, gt_dict))\n",
    "            min_scores.append(cos_sq_min_distances(weights_, gt_dict))\n",
    "    avg_scores_list.append(avg_scores)\n",
    "            #if (n_steps-t_o) % 100 == 0:\n",
    "#                 print('Training at %d-th iteration'% (n_steps-t_o))\n",
    "#                 print('cosine distances',)\n",
    "#                 print(cosine_squared_distances(weights_, gt_dict)[0])\n",
    "#                 print('Cosine best approximation distance at init', cosine_squared_distances(init_weights_, gt_dict)[0])\n",
    "        #weights_final = weights_.eval()\n",
    "        #bias_final = bias_.eval()\n",
    "#     print('Cosine best approximation distance at init', cosine_squared_distances(init_weights_, gt_dict)[0])\n",
    "#     print('Cosine best approximation after updates', cosine_squared_distances(weights_, gt_dict)[0])"
   ]
  },
  {
   "cell_type": "code",
   "execution_count": null,
   "metadata": {
    "collapsed": false
   },
   "outputs": [],
   "source": [
    "cosine_squared_distances(init_weights_, gt_dict)[0]"
   ]
  },
  {
   "cell_type": "markdown",
   "metadata": {},
   "source": [
    "## Modified SGD Training"
   ]
  },
  {
   "cell_type": "code",
   "execution_count": null,
   "metadata": {
    "collapsed": true
   },
   "outputs": [],
   "source": [
    "## algorithmic params\n",
    "mini_batch_size = 1\n",
    "b_appx_batch_size = 100"
   ]
  },
  {
   "cell_type": "code",
   "execution_count": null,
   "metadata": {
    "collapsed": false
   },
   "outputs": [],
   "source": [
    "## Relu - autoencoder model with tied weights\n",
    "\n",
    "### parameters to learn\n",
    "#init_weights = tf.random_normal([width, dim], dtype=tf.float64)\n",
    "weights = tf.Variable(init_weights_, dtype=tf.float64)\n",
    "#bias = tf.Variable(init_bias_, trainable=False, dtype=tf.float64)\n",
    "bias = tf.Variable(np.zeros(width), trainable=False, dtype=tf.float64)\n",
    "\n",
    "### define model and loss\n",
    "def encoder(weights, bias, x):\n",
    "    return tf.add(tf.matmul(x, tf.transpose(weights)), bias)\n",
    "def decoder(weights, h, activation):\n",
    "    if activation == 'relu':\n",
    "        return tf.squeeze(tf.matmul(tf.nn.relu(h), weights))\n",
    "    else:\n",
    "        print('activation function not implemented')\n",
    "        exit(0)\n",
    "def data_wise_mean_sq_loss(x, weights, bias):\n",
    "    x_hat = decoder(weights, encoder(weights, bias, x), 'relu')\n",
    "    #print(x_hat.get_shape())\n",
    "    return tf.reduce_sum(tf.square(x - x_hat))\n",
    "\n",
    "def batch_wise_mean_sq_loss(batch_x, weights, bias):\n",
    "    batch_x_hat = decoder(weights, encoder(weights, bias, batch_x), 'relu')\n",
    "    print(batch_x_hat.get_shape())\n",
    "    return tf.reduce_mean(tf.square(batch_x - batch_x_hat), axis=1)\n",
    "\n",
    "#x_gt = tf.placeholder(tf.float64, [dim,])\n",
    "batch_x_gt = tf.placeholder(tf.float64, [mini_batch_size, dim])\n",
    "batch_x_update_b = tf.placeholder(tf.float64, [b_appx_batch_size, dim])\n",
    "### define optimizer  \n",
    "global_step = tf.Variable(t_o, trainable=False)\n",
    "learning_rate = c_prime\n",
    "decay_steps = 1\n",
    "decay_rate = 1.0\n",
    "increment_global_step_op = tf.assign(global_step, global_step+1)\n",
    "##\n",
    "learn_rate = tf.train.inverse_time_decay(tf.cast(learning_rate, tf.float64), global_step, decay_steps, decay_rate)\n",
    "#learn_rate = 0.01\n",
    "train_op = tf.train.GradientDescentOptimizer(learn_rate).minimize(batch_wise_mean_sq_loss(batch_x_gt, weights, bias))"
   ]
  },
  {
   "cell_type": "code",
   "execution_count": null,
   "metadata": {
    "collapsed": false
   },
   "outputs": [],
   "source": [
    "## Norm-controlled SGD training\n",
    "\n",
    "create_row_normalize_op = tf.assign(weights, norm * tf.nn.l2_normalize(weights, dim=1))\n",
    "#batch_x = batch_data_generator(dim, noise_bound, b_appx_batch_size)\n",
    "# update_bias_op = tf.assign(bias, \n",
    "#                     tf.squeeze(tf.matmul(weights, tf.expand_dims(x_gt, axis=1)))*rescale_param)\n",
    "\n",
    "def get_bias_update(batch_x, weights, bias, width, batch_size, rescale_param):\n",
    "    if tf.shape(batch_x)==1:\n",
    "        print('wrong')\n",
    "    else:\n",
    "#         relu_activation = tf.nn.relu(tf.transpose(\n",
    "#             tf.add(tf.transpose(tf.matmul(weights, batch_x)),bias)))\n",
    "        #avg_activation = tf.reduce_mean(relu_activation, axis=1)\n",
    "        projection = tf.transpose(tf.matmul(batch_x, tf.transpose(weights)))    # width by batch_size\n",
    "        #print(projection.get_shape())\n",
    "        relu_activation = tf.nn.relu(tf.transpose(tf.add(tf.transpose(projection), bias)))\n",
    "        #print(relu_activation.get_shape())\n",
    "        zero = tf.constant(0, dtype=tf.float64)\n",
    "        where = tf.not_equal(relu_activation, zero) ## logical indexing of relu_activation\n",
    "        indices = tf.where(where) ## indices of nonzero entries in relu_activation\n",
    "        #print('where shape', where.get_shape())\n",
    "        #temp = tf.count_nonzero(where,axis=1)\n",
    "        #print('nonzero', temp.get_shape())\n",
    "        ## calculate empirical prob of firing\n",
    "        nnz = tf.cast(tf.count_nonzero(where, axis=1), tf.float64)\n",
    "        zero_of_nnz = tf.equal(nnz, zero)\n",
    "        offsetted_nnz = tf.where(zero_of_nnz, tf.ones([width], dtype=tf.float64), nnz)\n",
    "        prob_firing = tf.divide(nnz, tf.cast(batch_size,tf.float64))\n",
    "        \n",
    "        ## calculate empirical mean of projected value\n",
    "        shape = tf.constant([width, batch_size], dtype=tf.int64)\n",
    "        #print(indices.get_shape())\n",
    "        updated = tf.scatter_nd(indices, tf.gather_nd(projection, indices), shape)\n",
    "        updated = tf.reduce_sum(updated, axis=1)#\n",
    "        #offsetted_nnz = tf.scatter_add(nnz, indices_of_zero_in_nnz, tf.ones_like(indices_of_zero_in_nnz))\n",
    "        updated = tf.divide(updated, offsetted_nnz) * rescale_param ## shape = (width,)\n",
    "        #print('updated shape', updated.get_shape())\n",
    "        #print(relu_activation.get_shape())\n",
    "        new_bias = tf.add(tf.multiply(prob_firing,updated), tf.multiply(tf.subtract(tf.cast(1,tf.float64),prob_firing),bias))\n",
    "        return new_bias\n",
    "\n",
    "new_bias = get_bias_update(batch_x_update_b, weights, bias, width, b_appx_batch_size, rescale_param)\n",
    "update_bias_op = tf.assign(bias, new_bias)\n",
    "\n",
    "\n",
    "\n",
    "#test_sample = batch_data_generator(dim, noise_bound, 100)\n",
    "\n",
    "min_scores_mod = list()\n",
    "weights_cache = init_weights_\n",
    "#bias_cache = init_bias_\n",
    "avg_scores_mod_list = list()\n",
    "\n",
    "for n_runs in range(10):\n",
    "    avg_scores_mod = list()\n",
    "    with tf.Session() as sess:\n",
    "        sess.run(tf.global_variables_initializer())\n",
    "        for i in range(train_steps):\n",
    "            if i == 0:\n",
    "                avg_scores_mod.append(cos_sq_avg_distances(init_weights_, gt_dict))\n",
    "            #x = data_generator(dim, noise_bound, gt_dict)[0]\n",
    "            batch_x = batch_data_generator(dim, noise_bound, mini_batch_size, gt_dict)\n",
    "            #init_weights_ = sess.run(init_weights)\n",
    "            #sess.run([train_op] , feed_dict={x_gt: x})\n",
    "            sess.run([train_op] , feed_dict={batch_x_gt: np.array(batch_x)})\n",
    "            _,weights_ = sess.run([create_row_normalize_op, weights])  ## row-normalization of updated weights\n",
    "\n",
    "            ## get a fresh sample and update bias\n",
    "            #x = data_generator(dim, noise_bound, gt_dict)[0]\n",
    "            #bias_ = sess.run(update_bias_op, feed_dict={x_gt: x})  ## update bias using updated weights\n",
    "            batch_x_for_b = batch_data_generator(dim, noise_bound, b_appx_batch_size, gt_dict)\n",
    "            _, bias_ =sess.run([update_bias_op, bias], \n",
    "                              feed_dict={batch_x_update_b: np.array(batch_x_for_b)})\n",
    "\n",
    "\n",
    "            n_steps = sess.run(increment_global_step_op)\n",
    "            avg_scores_mod.append(cos_sq_avg_distances(weights_, gt_dict))\n",
    "            min_scores_mod.append(cos_sq_min_distances(weights_, gt_dict))\n",
    "    avg_scores_mod_list.append(avg_scores_mod)\n",
    "#         if (n_steps-t_o) % 100 == 0:\n",
    "#             print('Training at %d-th iteration'% (n_steps-t_o))\n",
    "#             print('cosine distances',)\n",
    "#             print(cosine_squared_distances(weights_, gt_dict)[0])\n",
    "#             #print('number of bias entries not updated is %d'%len(ind_))\n",
    "#             print('change of weights', sess.run(tf.norm(weights_ - weights_cache)))\n",
    "#             #print('change of bias', tf.norm(bias_ - bias_cache))\n",
    "#             weights_cache = weights_\n",
    "            #bias_cache = bias_\n",
    "    #weights_final = weights_.eval()\n",
    "    #bias_final = bias_.eval()\n",
    "        "
   ]
  },
  {
   "cell_type": "code",
   "execution_count": null,
   "metadata": {
    "collapsed": false
   },
   "outputs": [],
   "source": [
    "# with tf.Session() as sess:\n",
    "#     sess.run(tf.global_variables_initializer())\n",
    "#best_appx, all_appx = cosine_distances(weights_, gt_dict)\n",
    "#print(best_appx)\n",
    "#print('best of init', cosine_distances(init_weights_, gt_dict)[-1])\n",
    "print('at init', cosine_squared_distances(init_weights_, gt_dict)[0])\n",
    "print('after updates', cosine_squared_distances(weights_, gt_dict)[0])"
   ]
  },
  {
   "cell_type": "code",
   "execution_count": null,
   "metadata": {
    "collapsed": false
   },
   "outputs": [],
   "source": [
    "avg1 = np.mean(np.array(avg_scores_list), axis=0)\n",
    "std1 = np.std(np.array(avg_scores_list), axis=0)\n",
    "avg2 = np.mean(np.array(avg_scores_mod_list), axis=0)\n",
    "std2 = np.std(np.array(avg_scores_mod_list), axis=0)\n",
    "len(std2)"
   ]
  },
  {
   "cell_type": "markdown",
   "metadata": {},
   "source": [
    "## Plotting\n"
   ]
  },
  {
   "cell_type": "code",
   "execution_count": null,
   "metadata": {
    "collapsed": false
   },
   "outputs": [],
   "source": [
    "time_pts = range(t_o, t_o+train_steps+1)\n",
    "appx_func = [40/float(t) for t in time_pts]\n",
    "fig, ax = plt.subplots()\n",
    "# ax.plot(time_pts, avg1[:101])\n",
    "# ax.plot(time_pts, avg2[:101])\n",
    "ax.errorbar(time_pts, avg1, yerr=std1, errorevery=200, label='original')\n",
    "ax.errorbar(time_pts, avg2, yerr=std2, errorevery=200, label='modified')\n",
    "# ax.plot(time_pts, avg_scores, label='original')\n",
    "# ax.plot(time_pts, avg_scores_mod, label='modified')\n",
    "ax.plot(time_pts, appx_func, label='theoretical bound')\n",
    "# ax.plot(time_pts, [cos_sq_avg_distances(init_weights_, gt_dict)]*train_steps, label='initial loss')\n",
    "# fig.savefig('original.eps')\n",
    "ax.set_title('squared sin loss vs t')\n",
    "ax.legend(loc=1)\n",
    "#fig.savefig('original6' + 'to_' + str(t_o) + '_cprme_' + str(c_prime) + '.eps')\n",
    "#ax.loglog()\n",
    "#fig.savefig('log6' + 'to_' + str(t_o) + '_cprme_' + str(c_prime) + '.eps')"
   ]
  },
  {
   "cell_type": "code",
   "execution_count": 2,
   "metadata": {
    "collapsed": true
   },
   "outputs": [],
   "source": [
    "from exp import maybe_pickle\n",
    "import math"
   ]
  },
  {
   "cell_type": "code",
   "execution_count": 16,
   "metadata": {
    "collapsed": true
   },
   "outputs": [],
   "source": [
    "def get_data_and_plot(fnames, pname, pvalues, varname, value_list, algo):\n",
    "    fig, ax = plt.subplots()\n",
    "    for fname in fnames:\n",
    "        #print(fname)\n",
    "        evaluations_over_var = maybe_pickle(fname)\n",
    "        #fname = 'norm_controlled_data_dim_32_data_dim_2_4_8_16_32width4'\n",
    "        #evaluations_over_var = maybe_pickle(fname)\n",
    "        #print(evaluations_over_var)\n",
    "        #y_array2, y_err_array2 = maybe_pickle(fname2)\n",
    "    #     cprime, t_o = algo.eta_params\n",
    "    #     x = range(t_o, t_o+train_steps+1)\n",
    "    #     appx_func = [40/float(t) for t in x]\n",
    "        y_array, y_array_err = zip(*evaluations_over_var)\n",
    "        #print(np.array(y_array))\n",
    "        #fig, ax = plt.subplots()\n",
    "        y = np.array(y_array)[:,-1]\n",
    "        y_err = np.array(y_array_err)[:,-1]\n",
    "        if varname == 'learn_rate':\n",
    "            myxticks = value_list\n",
    "            print(myxticks)\n",
    "            x = range(len(myxticks))\n",
    "            ax.set_xticks(x)\n",
    "            ax.set_xticklabels(myxticks)\n",
    "            ax.scatter(x, y)\n",
    "        else:\n",
    "    #         myxticks = value_list\n",
    "    #         print(myxticks)\n",
    "    #         #x = range(len(myxticks))\n",
    "    #         xlist = map(float,value_list)\n",
    "    #         ax.set_xticks(xlist)\n",
    "    #         ax.set_xticklabels(myxticks)\n",
    "            #ax.scatter(value_list, y)\n",
    "            #ax.plot([0],y[0],'r*')\n",
    "            start_idx = fname.index('w')\n",
    "            ax.plot(value_list, y, '--o', label=fname[start_idx:])\n",
    "            #ax.plot(value_list,y2, '--ro', label = 'original')\n",
    "            ax.legend(loc=4)\n",
    "        #ax.set_xlim(xmin=-2)\n",
    "    # for idx, y in enumerate(y_array.tolist()):\n",
    "    #     string = ('%s = %s' %(varname, str(value_list[idx])))\n",
    "    #     y_err = y_err_array[idx]\n",
    "    #     ax.errorbar(x, y, yerr=y_err, errorevery=200, label=string)\n",
    "    # ax.plot(time_pts, avg1[:101])\n",
    "    # ax.plot(time_pts, avg2[:101])\n",
    "    #ax.errorbar(x, y, yerr=yerr, errorevery=200, label=arguments['<algo>'])\n",
    "    #ax.plot(x, appx_func, label='theoretical bound')\n",
    "    #ax.set_title('squared sin loss vs %s' %varname)\n",
    "    ax.set_title('loss versus dimension with different network widths')\n",
    "    ax.set_xlabel('data dimension')\n",
    "    ax.set_ylabel('squared sine error')\n",
    "#     pvalues_list = pvalues.split(',')\n",
    "#     pvalues = '_'.join(pvalues_list)\n",
    "    if varname == 'learn_rate':\n",
    "        value_list = ['-'.join(v.split(',')) for v in value_list]\n",
    "    vvalues = '_'.join(value_list)\n",
    "    #plt.show()\n",
    "    #fname = algo +'_'+ pname +'_'+pvalues+'_'+ varname +'_' + vvalues\n",
    "    fname = algo +'_'+ varname +'_' + vvalues\n",
    "    fig.savefig(fname+'.eps')\n",
    "    #_ = maybe_pickle(fname, data=[y_array, y_err_array])"
   ]
  },
  {
   "cell_type": "code",
   "execution_count": 17,
   "metadata": {
    "collapsed": false
   },
   "outputs": [
    {
     "name": "stdout",
     "output_type": "stream",
     "text": [
      "norm_controlled_data_dim_32_data_dim_2_4_8_16_32width4.pickle already present - Skipping pickling.\n",
      "norm_controlled_data_dim_32_data_dim_2_4_8_16_32width8.pickle already present - Skipping pickling.\n",
      "norm_controlled_data_dim_32_data_dim_2_4_8_16_32width16.pickle already present - Skipping pickling.\n",
      "norm_controlled_data_dim_32_data_dim_2_4_8_16_32width32.pickle already present - Skipping pickling.\n"
     ]
    },
    {
     "data": {
      "image/png": "[encoded data removed]",
      "text/plain": [
       "<matplotlib.figure.Figure at 0x11b607b50>"
      ]
     },
     "metadata": {},
     "output_type": "display_data"
    }
   ],
   "source": [
    "fnames = list()\n",
    "fname = 'norm_controlled_data_dim_32_data_dim_2_4_8_16_32width'\n",
    "for i in range(4):\n",
    "    fnames.append(fname + str(2**(i+2)))\n",
    "#fname2 = 'norm_controlled_data_dim_32_data_dim_2_4_8_16_32width8'\n",
    "#pname = 'batch_size'\n",
    "#pvalues = '1,200-0-100'\n",
    "varname = 'data_dim'\n",
    "value_list = map(str, [4,8,16,32,64])\n",
    "algo = 'norm_controlled'\n",
    "get_data_and_plot(fnames, 0, 0, varname, value_list, algo)"
   ]
  },
  {
   "cell_type": "code",
   "execution_count": null,
   "metadata": {
    "collapsed": true
   },
   "outputs": [],
   "source": []
  }
 ],
 "metadata": {
  "anaconda-cloud": {},
  "kernelspec": {
   "display_name": "Python [Root]",
   "language": "python",
   "name": "Python [Root]"
  },
  "language_info": {
   "codemirror_mode": {
    "name": "ipython",
    "version": 2
   },
   "file_extension": ".py",
   "mimetype": "text/x-python",
   "name": "python",
   "nbconvert_exporter": "python",
   "pygments_lexer": "ipython2",
   "version": "2.7.12"
  }
 },
 "nbformat": 4,
 "nbformat_minor": 0
}

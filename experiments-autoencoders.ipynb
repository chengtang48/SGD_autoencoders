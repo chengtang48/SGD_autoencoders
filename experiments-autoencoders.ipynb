{
 "cells": [
  {
   "cell_type": "code",
   "execution_count": 1,
   "metadata": {
    "collapsed": false
   },
   "outputs": [],
   "source": [
    "import tensorflow as tf\n",
    "import numpy as np\n",
    "import math\n",
    "import matplotlib.pyplot as plt\n",
    "from scipy.stats import ortho_group #generator for random orthogonal matrix\n",
    "from sklearn.preprocessing import normalize\n",
    "from sklearn.decomposition import MiniBatchDictionaryLearning\n",
    "import matplotlib\n",
    "%matplotlib inline"
   ]
  },
  {
   "cell_type": "code",
   "execution_count": 2,
   "metadata": {
    "collapsed": false
   },
   "outputs": [
    {
     "data": {
      "text/plain": [
       "[[-0.26059324598719702, -1.0173642784276358],\n",
       " [-0.72573267778867512, -0.81418415395877353],\n",
       " [-0.50513789615238958, 0.92550183505949524],\n",
       " [-0.87358236725294935, 0.23084441434371686],\n",
       " [-0.61675164032541796, -0.82993558456632355]]"
      ]
     },
     "execution_count": 2,
     "metadata": {},
     "output_type": "execute_result"
    }
   ],
   "source": [
    "def data_generator(dim, noise_bound, gt_dict=None):\n",
    "    if gt_dict is not None:\n",
    "        W = gt_dict\n",
    "    else:\n",
    "        W = ortho_group.rvs(dim)\n",
    "    s = np.random.multinomial(1, [1/float(dim)]*dim)\n",
    "    sigma = float(noise_bound)/(dim)**(0.5)\n",
    "    eps = np.random.normal([0.0]*dim, sigma)\n",
    "    #norm = np.linalg.norm(eps)\n",
    "    #if norm > noise_bound:\n",
    "    #    eps = noise_bound * eps/norm\n",
    "    #return np.dot(W,s)+eps, eps\n",
    "    #print(np.dot(W,s))\n",
    "    return np.dot(W,s)+eps\n",
    "    \n",
    "def batch_data_generator(dim, noise_bound, batch_size, gt_dict=None):\n",
    "    def map_function(null):\n",
    "        return list(data_generator(dim, noise_bound, gt_dict))\n",
    "    \n",
    "    return list(map(map_function, [0]*batch_size))\n",
    "\n",
    "\n",
    "# x, eps = data_generator(2,0.1)\n",
    "# #print(np.linalg.norm(eps))\n",
    "# print(x)\n",
    "\n",
    "list_x = batch_data_generator(2,0.1,5)\n",
    "list_x"
   ]
  },
  {
   "cell_type": "code",
   "execution_count": 3,
   "metadata": {
    "collapsed": true
   },
   "outputs": [],
   "source": [
    "## define bias initialization\n",
    "def bias_init(weights, norm, batch_size, batch_data_generator, dim, noise_bound):\n",
    "    #assert norm > 1, 'the norm value is invalid!'\n",
    "    ## generate a batch sample\n",
    "    batch_x = batch_data_generator(dim, noise_bound, batch_size)\n",
    "    ## calculate average inner product\n",
    "    avg_proj = tf.reduce_mean(tf.matmul(weights, tf.transpose(np.array(batch_x))), axis=1)\n",
    "    return tf.subtract(tf.divide(avg_proj, norm**2), avg_proj)"
   ]
  },
  {
   "cell_type": "code",
   "execution_count": 4,
   "metadata": {
    "collapsed": true
   },
   "outputs": [],
   "source": [
    "## data model parameters\n",
    "dim = 32\n",
    "noise_bound = 0.4\n",
    "\n",
    "## architecture parameters\n",
    "#width = int(math.log(dim))*dim\n",
    "width = int(1.2*dim)\n",
    "activation = 'relu'\n",
    "\n",
    "## algorithmic parameters\n",
    "init_batch_size = 500\n",
    "norm = 2\n",
    "#norm = 0.8\n",
    "#rescale_param = 1/float(norm**2) - 1\n",
    "t_o = 350\n",
    "c_prime = 120\n",
    "##\n",
    "train_steps = 1000"
   ]
  },
  {
   "cell_type": "code",
   "execution_count": 5,
   "metadata": {
    "collapsed": true
   },
   "outputs": [],
   "source": [
    "tf.reset_default_graph()"
   ]
  },
  {
   "cell_type": "code",
   "execution_count": 6,
   "metadata": {
    "collapsed": false
   },
   "outputs": [],
   "source": [
    "gt_dict = ortho_group.rvs(dim) # generate ground-truth dictionary\n",
    "#init_weights = tf.random_normal([width, dim], dtype=tf.float64) # init random weights\n",
    "init_weights = tf.constant(batch_data_generator(dim, noise_bound, width, gt_dict=gt_dict), dtype=tf.float64)\n",
    "init_bias = bias_init(init_weights, norm, init_batch_size, batch_data_generator, dim, noise_bound)\n",
    "with tf.Session() as sess:\n",
    "    init_weights_ = sess.run(init_weights)\n",
    "    #init_weights_ = init_weights\n",
    "    init_bias_ = sess.run(init_bias)"
   ]
  },
  {
   "cell_type": "code",
   "execution_count": 7,
   "metadata": {
    "collapsed": true
   },
   "outputs": [],
   "source": [
    "## evaluation metric\n",
    "def cosine_squared_distances(weights, dictionary):\n",
    "    #print(weights.shape)\n",
    "    #print(normalize(weights))\n",
    "    w_normalized = normalize(weights)\n",
    "    #w_normalized = 0.5*weights\n",
    "    #raw_scores = np.square(np.matmul(w_normalized, np.transpose(dictionary)))\n",
    "    raw_scores = np.square(np.matmul(w_normalized, dictionary))\n",
    "    max_scores = np.max(raw_scores, axis=0) # best approximation for each dict item\n",
    "    #return max_scores, raw_scores, min(max_scores)\n",
    "    return max_scores\n",
    "def cos_sq_avg_distances(weights, dictionary):\n",
    "    #max_scores,_,_ = cosine_squared_distances(weights, dictionary)\n",
    "    max_scores = cosine_squared_distances(weights, dictionary)\n",
    "    max_scores = [1]*len(max_scores)-max_scores\n",
    "    return np.mean(max_scores)\n",
    "def cos_sq_min_distances(weights, dictionary):\n",
    "    #max_scores,_,_ = cosine_squared_distances(weights, dictionary)\n",
    "    max_scores = cosine_squared_distances(weights, dictionary)\n",
    "    max_scores = [1]*len(max_scores)-max_scores\n",
    "    return np.max(max_scores)\n"
   ]
  },
  {
   "cell_type": "code",
   "execution_count": 8,
   "metadata": {
    "collapsed": false
   },
   "outputs": [
    {
     "name": "stdout",
     "output_type": "stream",
     "text": [
      "('grounth truth', array([[ 0.44553944,  0.11997601,  0.26752307, ...,  0.26628422,\n",
      "         0.21722168, -0.11653526],\n",
      "       [-0.09270919, -0.04276199,  0.2135685 , ...,  0.00945588,\n",
      "         0.02883082,  0.08127301],\n",
      "       [-0.04431005,  0.20454772,  0.32175451, ...,  0.09618678,\n",
      "         0.04537491,  0.13371168],\n",
      "       ..., \n",
      "       [-0.01734323,  0.19197554, -0.04343714, ..., -0.14416718,\n",
      "        -0.0864046 , -0.37843248],\n",
      "       [-0.17009222,  0.05751754, -0.09786904, ...,  0.23788618,\n",
      "         0.05360051, -0.08114974],\n",
      "       [ 0.1284387 , -0.16394371,  0.24730658, ..., -0.10132755,\n",
      "         0.06855727,  0.0455062 ]]))\n",
      "('error of initial weights', 0.36005296779812068)\n"
     ]
    }
   ],
   "source": [
    "#print('learned',init_weights_)\n",
    "print('grounth truth', gt_dict)\n",
    "print('error of initial weights', cos_sq_avg_distances(init_weights_, gt_dict))"
   ]
  },
  {
   "cell_type": "code",
   "execution_count": 9,
   "metadata": {
    "collapsed": true
   },
   "outputs": [],
   "source": [
    "## Experimental aide\n",
    "def get_firing_pattern_op(firing_list, weights, bias, batch_data):\n",
    "    ## get statistics about average firing intensity of each neuron\n",
    "    firing = np.transpose(np.matmul(weights, np.transpose(batch_data)))+bias\n",
    "    firing[firing<=0] = 0\n",
    "    firing[firing>0] = 1\n",
    "    firing = np.mean(firing, axis=0)\n",
    "    firing_list.append(firing)\n",
    "\n",
    "def get_bias_evolution_op(b_list, bias):\n",
    "    ## update b_list to record current bias values\n",
    "    b_list.append(bias)\n",
    "\n",
    "def get_norm_evolution_op(weights_list, weights):\n",
    "    weights_list.append(np.linalg.norm(weights))\n",
    "    "
   ]
  },
  {
   "cell_type": "markdown",
   "metadata": {},
   "source": [
    "## Online (mini-batch) Dictionary Learning\n",
    "#### See Mairal-Bach-Ponce-Sapiro 09' (implemented in Scikit-learn)"
   ]
  },
  {
   "cell_type": "code",
   "execution_count": 10,
   "metadata": {
    "collapsed": false
   },
   "outputs": [
    {
     "name": "stdout",
     "output_type": "stream",
     "text": [
      "('averaged reconstruction error of ODL is', 0.71267882477444022)\n",
      "('ground truth', array([[ 0.44553944,  0.11997601,  0.26752307, ...,  0.26628422,\n",
      "         0.21722168, -0.11653526],\n",
      "       [-0.09270919, -0.04276199,  0.2135685 , ...,  0.00945588,\n",
      "         0.02883082,  0.08127301],\n",
      "       [-0.04431005,  0.20454772,  0.32175451, ...,  0.09618678,\n",
      "         0.04537491,  0.13371168],\n",
      "       ..., \n",
      "       [-0.01734323,  0.19197554, -0.04343714, ..., -0.14416718,\n",
      "        -0.0864046 , -0.37843248],\n",
      "       [-0.17009222,  0.05751754, -0.09786904, ...,  0.23788618,\n",
      "         0.05360051, -0.08114974],\n",
      "       [ 0.1284387 , -0.16394371,  0.24730658, ..., -0.10132755,\n",
      "         0.06855727,  0.0455062 ]]))\n"
     ]
    }
   ],
   "source": [
    "dict_learner = MiniBatchDictionaryLearning(n_components=10*dim, alpha=1, n_iter=train_steps, fit_algorithm='lars', \n",
    "                                           n_jobs=1, batch_size=1, shuffle=True, dict_init=None, \n",
    "                                           transform_algorithm='omp', transform_n_nonzero_coefs=1, \n",
    "                                           transform_alpha=None, verbose=False, split_sign=False, random_state=None)\n",
    "\n",
    "# get n_components by dim\n",
    "loss = 0\n",
    "n_runs = 10\n",
    "for i in range(n_runs):\n",
    "    dict_learner.fit(batch_data_generator(dim, noise_bound, train_steps, gt_dict=gt_dict))\n",
    "    loss += cos_sq_avg_distances(dict_learner.components_ , gt_dict)\n",
    "avg_loss_ODL = loss/n_runs\n",
    "print('averaged reconstruction error of ODL is', avg_loss_ODL)\n",
    "#print('learned dictionary', dict_learner.components_)\n",
    "print('ground truth', gt_dict)"
   ]
  },
  {
   "cell_type": "markdown",
   "metadata": {},
   "source": [
    "## Original SGD Training"
   ]
  },
  {
   "cell_type": "code",
   "execution_count": 11,
   "metadata": {
    "collapsed": false
   },
   "outputs": [],
   "source": [
    "## Relu - autoencoder model with tied weights\n",
    "\n",
    "### parameters to learn\n",
    "weights = tf.Variable(init_weights_, dtype=tf.float64)\n",
    "#bias = tf.Variable(init_bias_, dtype=tf.float64)\n",
    "bias = tf.Variable(np.zeros(width), dtype=tf.float64, trainable=True)\n",
    "create_row_normalize_op = tf.assign(weights, norm * tf.nn.l2_normalize(weights, dim=1))\n",
    "### define model and loss\n",
    "def encoder(weights, bias, x):\n",
    "    return tf.add(tf.matmul(x, tf.transpose(weights)), bias)\n",
    "def decoder(weights, h, activation):\n",
    "    if activation == 'relu':\n",
    "        return tf.matmul(tf.nn.relu(h), weights)\n",
    "    else:\n",
    "        print('activation function not implemented')\n",
    "        exit(0)\n",
    "\n",
    "###\n",
    "def data_wise_mean_sq_loss(x, weights, bias):\n",
    "    x_hat = decoder(weights, encoder(weights, bias, x), 'relu')\n",
    "    return tf.reduce_mean(tf.reduce_sum(tf.square(x - x_hat), axis=1))\n",
    "\n",
    "#x_gt = tf.placeholder(tf.float64, [dim,])\n",
    "mini_batch_size = 1\n",
    "batch_x = tf.placeholder(tf.float64, [mini_batch_size, dim])\n",
    "\n",
    "### define optimizer  \n",
    "global_step = tf.Variable(t_o, trainable=False)\n",
    "learning_rate = c_prime\n",
    "decay_steps = 1\n",
    "decay_rate = 1.0\n",
    "increment_global_step_op = tf.assign(global_step, global_step+1)\n",
    "##\n",
    "learn_rate = tf.train.inverse_time_decay(tf.cast(learning_rate, tf.float64), global_step, decay_steps, decay_rate)\n",
    "#learn_rate = 0.01\n",
    "train_op = tf.train.GradientDescentOptimizer(learn_rate).minimize(data_wise_mean_sq_loss(batch_x, weights, bias))"
   ]
  },
  {
   "cell_type": "code",
   "execution_count": 12,
   "metadata": {
    "collapsed": false
   },
   "outputs": [],
   "source": [
    "## standard learning-rate decayed SGD training\n",
    "\n",
    "#create_row_normalize_op = tf.assign(weights, tf.nn.l2_normalize(weights, dim=1))\n",
    "# eta = 0.1\n",
    "# update_bias_op = tf.assign(bias, \n",
    "#                     bias*(1-eta)+eta*tf.squeeze(tf.matmul(weights, tf.expand_dims(x_gt, axis=1)))*rescale_param)\n",
    "\n",
    "#gt_dict = ortho_group.rvs(dim) # generate ground-truth dictionary\n",
    "#test_sample = batch_data_generator(dim, noise_bound, 100)\n",
    "avg_scores_list = list()\n",
    "control_weight = False\n",
    "for n_runs in range(10):\n",
    "    bias_list = [np.zeros(width)]\n",
    "    #firing_list = list()\n",
    "    avg_scores = list()\n",
    "    with tf.Session() as sess:\n",
    "        sess.run(tf.global_variables_initializer())\n",
    "        for i in range(train_steps):\n",
    "            x = batch_data_generator(dim, noise_bound, mini_batch_size, gt_dict)\n",
    "            if i==0:\n",
    "                avg_scores.append(cos_sq_avg_distances(init_weights_, gt_dict))\n",
    "                #get_firing_pattern_op(firing_list, init_weights_, init_bias_, x)\n",
    "                \n",
    "            _, weights_, bias_ = sess.run([train_op, weights, bias], feed_dict={batch_x: x})\n",
    "            if control_weight:\n",
    "                ## normalize weight if control_weight is on\n",
    "                _, weights_ = sess.run([create_row_normalize_op, weights]) \n",
    "            n_steps = sess.run(increment_global_step_op)\n",
    "            #print('reconstruction error', cos_sq_avg_distances(weights_, gt_dict))\n",
    "            avg_scores.append(cos_sq_avg_distances(weights_, gt_dict))\n",
    "            #get_firing_pattern_op(firing_list, weights_, bias_, x)\n",
    "            get_bias_evolution_op(bias_list, bias_)\n",
    "    avg_scores_list.append(avg_scores)\n",
    "        \n",
    "            #if (n_steps-t_o) % 100 == 0:\n",
    "#                 print('Training at %d-th iteration'% (n_steps-t_o))\n",
    "#                 print('cosine distances',)\n",
    "#                 print(cosine_squared_distances(weights_, gt_dict)[0])\n",
    "#                 print('Cosine best approximation distance at init', cosine_squared_distances(init_weights_, gt_dict)[0])\n",
    "        #weights_final = weights_.eval()\n",
    "        #bias_final = bias_.eval()\n",
    "#     print('Cosine best approximation distance at init', cosine_squared_distances(init_weights_, gt_dict)[0])\n",
    "#     print('Cosine best approximation after updates', cosine_squared_distances(weights_, gt_dict)[0])"
   ]
  },
  {
   "cell_type": "code",
   "execution_count": 13,
   "metadata": {
    "collapsed": false,
    "scrolled": true
   },
   "outputs": [
    {
     "data": {
      "text/plain": [
       "[<matplotlib.lines.Line2D at 0x102b8f610>,\n",
       " <matplotlib.lines.Line2D at 0x102b8f810>,\n",
       " <matplotlib.lines.Line2D at 0x102b8f950>,\n",
       " <matplotlib.lines.Line2D at 0x102b8fa90>,\n",
       " <matplotlib.lines.Line2D at 0x102b8fbd0>,\n",
       " <matplotlib.lines.Line2D at 0x102b8fd10>,\n",
       " <matplotlib.lines.Line2D at 0x102b8fe50>,\n",
       " <matplotlib.lines.Line2D at 0x102b8ff90>,\n",
       " <matplotlib.lines.Line2D at 0x102b69110>,\n",
       " <matplotlib.lines.Line2D at 0x102b69250>,\n",
       " <matplotlib.lines.Line2D at 0x102b69390>,\n",
       " <matplotlib.lines.Line2D at 0x102b694d0>,\n",
       " <matplotlib.lines.Line2D at 0x102b69610>,\n",
       " <matplotlib.lines.Line2D at 0x102b69750>,\n",
       " <matplotlib.lines.Line2D at 0x11ba412d0>,\n",
       " <matplotlib.lines.Line2D at 0x102b699d0>,\n",
       " <matplotlib.lines.Line2D at 0x102b69b10>,\n",
       " <matplotlib.lines.Line2D at 0x102b69c50>,\n",
       " <matplotlib.lines.Line2D at 0x102b69d90>,\n",
       " <matplotlib.lines.Line2D at 0x102b69ed0>,\n",
       " <matplotlib.lines.Line2D at 0x102b71050>,\n",
       " <matplotlib.lines.Line2D at 0x102b69890>,\n",
       " <matplotlib.lines.Line2D at 0x102b712d0>,\n",
       " <matplotlib.lines.Line2D at 0x102b71410>,\n",
       " <matplotlib.lines.Line2D at 0x102b71550>,\n",
       " <matplotlib.lines.Line2D at 0x102b71690>,\n",
       " <matplotlib.lines.Line2D at 0x102b717d0>,\n",
       " <matplotlib.lines.Line2D at 0x102b71910>,\n",
       " <matplotlib.lines.Line2D at 0x102b71190>,\n",
       " <matplotlib.lines.Line2D at 0x102b71b90>,\n",
       " <matplotlib.lines.Line2D at 0x102b71cd0>,\n",
       " <matplotlib.lines.Line2D at 0x102b71e10>,\n",
       " <matplotlib.lines.Line2D at 0x102b71f50>,\n",
       " <matplotlib.lines.Line2D at 0x102b820d0>,\n",
       " <matplotlib.lines.Line2D at 0x102b82210>,\n",
       " <matplotlib.lines.Line2D at 0x102b71a50>,\n",
       " <matplotlib.lines.Line2D at 0x102b82490>,\n",
       " <matplotlib.lines.Line2D at 0x102b825d0>]"
      ]
     },
     "execution_count": 13,
     "metadata": {},
     "output_type": "execute_result"
    },
    {
     "data": {
      "image/png": "[encoded data removed]",
      "text/plain": [
       "<matplotlib.figure.Figure at 0x11b45d790>"
      ]
     },
     "metadata": {},
     "output_type": "display_data"
    }
   ],
   "source": [
    "# bias_list\n",
    "time_pts = range(t_o, t_o+train_steps+1)\n",
    "# print(cos_sq_avg_distances(init_weights_, gt_dict))\n",
    "plt.plot(time_pts, bias_list)\n",
    "\n",
    "# firing_list = np.array(firing_list)\n",
    "# offset = -1\n",
    "# plt.scatter(time_pts[:50], firing_list[offset-50:offset,0])\n"
   ]
  },
  {
   "cell_type": "markdown",
   "metadata": {},
   "source": [
    "## Modified SGD Training"
   ]
  },
  {
   "cell_type": "code",
   "execution_count": 14,
   "metadata": {
    "collapsed": true
   },
   "outputs": [],
   "source": [
    "## algorithmic params\n",
    "mini_batch_size = 1\n",
    "b_appx_batch_size = 100\n",
    "tf.reset_default_graph()"
   ]
  },
  {
   "cell_type": "code",
   "execution_count": 15,
   "metadata": {
    "collapsed": false
   },
   "outputs": [],
   "source": [
    "# a = np.expand_dims(np.array([1., 1., 1.]), axis=0)\n",
    "# b = 1.0*np.array(range(6)).reshape([3,2])\n",
    "# prod = tf.matmul(a, b)\n",
    "# bias = np.array([1.,-10.])\n",
    "# res1 = tf.nn.relu(tf.add(prod,bias))\n",
    "# res2 = tf.matmul(res1, b.T)\n",
    "# loss = tf.reduce_mean(tf.reduce_sum(tf.square(a-res2), axis=1))\n",
    "# with tf.Session() as sess:\n",
    "#     print(sess.run([prod, res1, res2, loss]))"
   ]
  },
  {
   "cell_type": "code",
   "execution_count": 16,
   "metadata": {
    "collapsed": false
   },
   "outputs": [],
   "source": [
    "## Relu - autoencoder model with tied weights\n",
    "\n",
    "### parameters to learn\n",
    "#init_weights = tf.random_normal([width, dim], dtype=tf.float64)\n",
    "weights = tf.Variable(init_weights_, name='weights_mod', dtype=tf.float64)\n",
    "bias = tf.Variable(init_bias_, trainable=False, dtype=tf.float64)\n",
    "#bias = tf.Variable(np.zeros(width), name = 'bias_mod', trainable=True, dtype=tf.float64)\n",
    "\n",
    "### define model and loss\n",
    "def encoder(weights, bias, x):\n",
    "    return tf.add(tf.matmul(x, tf.transpose(weights)), bias)\n",
    "def decoder(weights, h, activation):\n",
    "    if activation == 'relu':\n",
    "        return tf.matmul(tf.nn.relu(h), weights)\n",
    "    else:\n",
    "        print('activation function not implemented')\n",
    "        exit(0)\n",
    "\n",
    "def data_wise_mean_sq_loss(x, weights, bias):\n",
    "    x_hat = decoder(weights, encoder(weights, bias, x), 'relu')\n",
    "    return tf.reduce_mean(tf.reduce_sum(tf.square(x - x_hat), axis=1))\n",
    "\n",
    "# def batch_wise_mean_sq_loss(batch_x, weights, bias):\n",
    "#     batch_x_hat = decoder(weights, encoder(weights, bias, batch_x), 'relu')\n",
    "#     print(batch_x_hat.get_shape())\n",
    "#     return tf.reduce_mean(tf.square(batch_x - batch_x_hat), axis=1)\n",
    "\n",
    "#x_gt = tf.placeholder(tf.float64, [dim,])\n",
    "batch_x_gt = tf.placeholder(tf.float64, [mini_batch_size, dim])\n",
    "batch_x_update_b = tf.placeholder(tf.float64, [b_appx_batch_size, dim])\n",
    "### define optimizer  \n",
    "global_step = tf.Variable(t_o, trainable=False)\n",
    "rescale_param = tf.Variable(1/float(2**2) - 1, trainable=False, dtype=tf.float64)\n",
    "####\n",
    "learning_rate = c_prime\n",
    "decay_steps = 1\n",
    "decay_rate = 1.0\n",
    "increment_global_step_op = tf.assign(global_step, global_step+1)\n",
    "##\n",
    "learn_rate = tf.train.inverse_time_decay(tf.cast(learning_rate, tf.float64), global_step, decay_steps, decay_rate)\n",
    "#learn_rate = 0.1\n",
    "train_op = tf.train.GradientDescentOptimizer(learn_rate).minimize(data_wise_mean_sq_loss(batch_x_gt, weights, bias))"
   ]
  },
  {
   "cell_type": "code",
   "execution_count": 17,
   "metadata": {
    "collapsed": false
   },
   "outputs": [],
   "source": [
    "## Norm-controlled SGD training\n",
    "norm_decay_rate = tf.train.inverse_time_decay(tf.cast(1, tf.float64), \n",
    "                                              tf.subtract(global_step, t_o), decay_steps, decay_rate)\n",
    "create_row_normalize_op = tf.assign(weights, (1+norm_decay_rate) * tf.nn.l2_normalize(weights, dim=1))\n",
    "update_rescale_param_op = tf.assign(rescale_param, 1/(1+norm_decay_rate)**2 - 1)\n",
    "# create_row_normalize_op = tf.assign(weights, (0.5+0.3*norm_decay_rate) * tf.nn.l2_normalize(weights, dim=1))\n",
    "# update_rescale_param_op = tf.assign(rescale_param, 1/(0.5+0.3*norm_decay_rate)**2 - 1)\n",
    "#batch_x = batch_data_generator(dim, noise_bound, b_appx_batch_size)\n",
    "# update_bias_op = tf.assign(bias, \n",
    "#                     tf.squeeze(tf.matmul(weights, tf.expand_dims(x_gt, axis=1)))*rescale_param)\n",
    "\n",
    "# def get_bias_update(batch_x, weights, bias, width, batch_size, rescale_param):\n",
    "#     if tf.shape(batch_x)==1:\n",
    "#         print('wrong')\n",
    "#     else:\n",
    "# #         relu_activation = tf.nn.relu(tf.transpose(\n",
    "# #             tf.add(tf.transpose(tf.matmul(weights, batch_x)),bias)))\n",
    "#         #avg_activation = tf.reduce_mean(relu_activation, axis=1)\n",
    "#         projection = tf.transpose(tf.matmul(batch_x, tf.transpose(weights)))    # width by batch_size\n",
    "#         #print(projection.get_shape())\n",
    "#         relu_activation = tf.nn.relu(tf.transpose(tf.add(tf.transpose(projection), bias)))\n",
    "#         #print(relu_activation.get_shape())\n",
    "#         zero = tf.constant(0, dtype=tf.float64)\n",
    "#         where = tf.not_equal(relu_activation, zero) ## logical indexing of relu_activation\n",
    "#         indices = tf.where(where) ## indices of nonzero entries in relu_activation\n",
    "#         #print('where shape', where.get_shape())\n",
    "#         #temp = tf.count_nonzero(where,axis=1)\n",
    "#         #print('nonzero', temp.get_shape())\n",
    "#         ## calculate empirical prob of firing\n",
    "#         nnz = tf.cast(tf.count_nonzero(where, axis=1), tf.float64)\n",
    "#         zero_of_nnz = tf.equal(nnz, zero)\n",
    "#         offsetted_nnz = tf.where(zero_of_nnz, tf.ones([width], dtype=tf.float64), nnz)\n",
    "#         prob_firing = tf.divide(nnz, tf.cast(batch_size,tf.float64))\n",
    "        \n",
    "#         ## calculate empirical mean of projected value\n",
    "#         shape = tf.constant([width, batch_size], dtype=tf.int64)\n",
    "#         #print(indices.get_shape())\n",
    "#         updated = tf.scatter_nd(indices, tf.gather_nd(projection, indices), shape)\n",
    "#         updated = tf.reduce_sum(updated, axis=1)#\n",
    "#         #offsetted_nnz = tf.scatter_add(nnz, indices_of_zero_in_nnz, tf.ones_like(indices_of_zero_in_nnz))\n",
    "#         updated = tf.divide(updated, offsetted_nnz) * rescale_param ## shape = (width,)\n",
    "#         #print('updated shape', updated.get_shape())\n",
    "#         #print(relu_activation.get_shape())\n",
    "#         new_bias = tf.add(tf.multiply(prob_firing,updated), tf.multiply(tf.subtract(tf.cast(1,tf.float64),prob_firing),bias))\n",
    "#         return new_bias\n",
    "\n",
    "def get_bias_update(weights_new, weights, bias, rescale_param, batch_x):\n",
    "    batch_x = np.array(batch_x)\n",
    "    hidden = np.transpose(np.add(np.transpose(np.matmul(weights, batch_x.T)), bias))\n",
    "    hidden[hidden>0] = 1\n",
    "    hidden[hidden<=0] = 0\n",
    "    projection = np.matmul(weights_new, batch_x.T)\n",
    "    bias_new = np.mean(np.multiply(projection, hidden), axis=1)\n",
    "    return bias_new*rescale_param\n",
    "\n",
    "#new_bias = get_bias_update(batch_x_update_b, weights, bias, width, b_appx_batch_size, rescale_param)\n",
    "#update_bias_op = tf.assign(bias, new_bias)\n",
    "bias_new = tf.placeholder(tf.float64, [width])\n",
    "update_bias_op = tf.assign(bias, bias_new)\n",
    "\n",
    "\n",
    "\n",
    "#test_sample = batch_data_generator(dim, noise_bound, 100)\n",
    "\n",
    "#min_scores_mod = list()\n",
    "#weights_cache = init_weights_\n",
    "#bias_cache = init_bias_\n",
    "avg_scores_mod_list = list()\n",
    "control_norm = True\n",
    "control_bias = True\n",
    "##### Training\n",
    "for n_runs in range(10):\n",
    "    avg_scores_mod = list()\n",
    "    #firing_list_mod = list()\n",
    "    bias_list_mod = [init_bias_]\n",
    "    weights_cached = init_weights_\n",
    "    with tf.Session() as sess:\n",
    "        sess.run(tf.global_variables_initializer())\n",
    "        for i in range(train_steps):\n",
    "            if i == 0:\n",
    "                avg_scores_mod.append(cos_sq_avg_distances(init_weights_, gt_dict))\n",
    "            #x = data_generator(dim, noise_bound, gt_dict)[0]\n",
    "            batch_x = batch_data_generator(dim, noise_bound, mini_batch_size, gt_dict)\n",
    "            #init_weights_ = sess.run(init_weights)\n",
    "            #sess.run([train_op] , feed_dict={x_gt: x})\n",
    "            _, weights_, bias_ = sess.run([train_op, weights, bias] , feed_dict={batch_x_gt: batch_x})\n",
    "            \n",
    "            if control_norm:\n",
    "                _,weights_ = sess.run([create_row_normalize_op, weights])  ## row-normalization of updated weights\n",
    "            \n",
    "            if control_bias:\n",
    "                batch_x_new = batch_data_generator(dim, noise_bound, mini_batch_size, gt_dict)\n",
    "                _, rescale_param_ = sess.run([update_rescale_param_op, rescale_param])\n",
    "                bias_ = get_bias_update(weights_, weights_cached, bias_, rescale_param_, batch_x_new)\n",
    "                _,_ = sess.run([update_bias_op, bias], feed_dict={bias_new: bias_})\n",
    "                weights_cached = weights_\n",
    "            ## get a fresh sample and update bias\n",
    "            #x = data_generator(dim, noise_bound, gt_dict)[0]\n",
    "            #bias_ = sess.run(update_bias_op, feed_dict={x_gt: x})  ## update bias using updated weights\n",
    "            #batch_x_for_b = batch_data_generator(dim, noise_bound, b_appx_batch_size, gt_dict)\n",
    "            #_, bias_ = sess.run([update_bias_op, bias],feed_dict={batch_x_update_b: np.array(batch_x_for_b)})\n",
    "            #print('bias norm', np.sum(np.square(bias_))**0.5)\n",
    "\n",
    "            n_steps = sess.run(increment_global_step_op)\n",
    "            avg_scores_mod.append(cos_sq_avg_distances(weights_, gt_dict))\n",
    "            #min_scores_mod.append(cos_sq_min_distances(weights_, gt_dict))\n",
    "            get_bias_evolution_op(bias_list_mod, bias_)\n",
    "            #get_firing_pattern_op(firing_list_mod, weights_, bias_, batch_x)\n",
    "    avg_scores_mod_list.append(avg_scores_mod)\n",
    "#         if (n_steps-t_o) % 100 == 0:\n",
    "#             print('Training at %d-th iteration'% (n_steps-t_o))\n",
    "#             print('cosine distances',)\n",
    "#             print(cosine_squared_distances(weights_, gt_dict)[0])\n",
    "#             #print('number of bias entries not updated is %d'%len(ind_))\n",
    "#             print('change of weights', sess.run(tf.norm(weights_ - weights_cache)))\n",
    "#             #print('change of bias', tf.norm(bias_ - bias_cache))\n",
    "#             weights_cache = weights_\n",
    "            #bias_cache = bias_\n",
    "    #weights_final = weights_.eval()\n",
    "    #bias_final = bias_.eval()\n",
    "        "
   ]
  },
  {
   "cell_type": "code",
   "execution_count": 18,
   "metadata": {
    "collapsed": false
   },
   "outputs": [],
   "source": [
    "# def get_bias_update(weights_new, weights, bias, rescale_param, batch_x):\n",
    "#     batch_x = np.array(batch_x)\n",
    "#     hidden = np.transpose(np.add(np.transpose(np.matmul(weights, batch_x.T)), bias))\n",
    "#     hidden[hidden>0] = 1\n",
    "#     hidden[hidden<=0] = 0\n",
    "#     projection = np.matmul(weights_new, batch_x.T)\n",
    "#     res = np.multiply(projection, hidden)\n",
    "#     return np.mean(res, axis=1)\n",
    "\n",
    "# weights_new = np.array(range(6)).reshape([3,2])\n",
    "# weights = np.array(range(1,7)).reshape([3,2])\n",
    "# bias = np.array([range(3)])\n",
    "# rescale_param = -0.5\n",
    "# batch_x = np.array(range(20)).reshape([10,2])\n",
    "# print(get_bias_update(weights_new, weights, bias, rescale_param, batch_x))\n",
    "#tf.all_variables()"
   ]
  },
  {
   "cell_type": "code",
   "execution_count": 19,
   "metadata": {
    "collapsed": false
   },
   "outputs": [
    {
     "name": "stdout",
     "output_type": "stream",
     "text": [
      "('at init', array([ 0.90438254,  0.82781072,  0.87408372,  0.87110884,  0.02718702,\n",
      "        0.88912715,  0.86220138,  0.88954879,  0.04407012,  0.91520691,\n",
      "        0.9022021 ,  0.82089242,  0.0192899 ,  0.87032696,  0.88535913,\n",
      "        0.84978213,  0.01514792,  0.89261011,  0.03231168,  0.875943  ,\n",
      "        0.8791132 ,  0.88479443,  0.85929123,  0.85262774,  0.02211957,\n",
      "        0.86292064,  0.93513725,  0.02900499,  0.88954979,  0.92324508,\n",
      "        0.04000654,  0.03190203]))\n",
      "('after updates', array([ 0.88434332,  0.81024684,  0.76709284,  0.94898957,  0.18534013,\n",
      "        0.98327814,  0.94737133,  0.48119661,  0.27381139,  0.76315751,\n",
      "        0.2357825 ,  0.88670245,  0.53924457,  0.44585465,  0.50298637,\n",
      "        0.24535844,  0.44639079,  0.56997442,  0.22597595,  0.5967542 ,\n",
      "        0.35284966,  0.41384467,  0.56531948,  0.89015941,  0.1852979 ,\n",
      "        0.97167439,  0.87731114,  0.23173875,  0.65658631,  0.30441406,\n",
      "        0.45636277,  0.29385926]))\n",
      "('final loss', 0.4393978180347331)\n"
     ]
    }
   ],
   "source": [
    "# with tf.Session() as sess:\n",
    "#     sess.run(tf.global_variables_initializer())\n",
    "#best_appx, all_appx = cosine_distances(weights_, gt_dict)\n",
    "#print(best_appx)\n",
    "#print('best of init', cosine_distances(init_weights_, gt_dict)[-1])\n",
    "print('at init', cosine_squared_distances(init_weights_, gt_dict))\n",
    "print('after updates', cosine_squared_distances(weights_, gt_dict))\n",
    "print('final loss', cos_sq_avg_distances(weights_, gt_dict))"
   ]
  },
  {
   "cell_type": "code",
   "execution_count": 20,
   "metadata": {
    "collapsed": false
   },
   "outputs": [],
   "source": [
    "#np.mean(firing_list_mod, axis=0)"
   ]
  },
  {
   "cell_type": "code",
   "execution_count": 21,
   "metadata": {
    "collapsed": false
   },
   "outputs": [],
   "source": [
    "avg1 = np.mean(np.array(avg_scores_list), axis=0)\n",
    "std1 = np.std(np.array(avg_scores_list), axis=0)\n",
    "avg2 = np.mean(np.array(avg_scores_mod_list), axis=0)\n",
    "std2 = np.std(np.array(avg_scores_mod_list), axis=0)\n",
    "#len(std2)"
   ]
  },
  {
   "cell_type": "code",
   "execution_count": 22,
   "metadata": {
    "collapsed": false
   },
   "outputs": [
    {
     "name": "stdout",
     "output_type": "stream",
     "text": [
      "(0.71267882477444022, 0.48266860153543589, 0.55235244049514276)\n"
     ]
    }
   ],
   "source": [
    "print(avg_loss_ODL, avg1[-1], avg2[-1])"
   ]
  },
  {
   "cell_type": "markdown",
   "metadata": {},
   "source": [
    "## Plotting\n"
   ]
  },
  {
   "cell_type": "code",
   "execution_count": 23,
   "metadata": {
    "collapsed": false
   },
   "outputs": [
    {
     "data": {
      "text/plain": [
       "<matplotlib.legend.Legend at 0x1219756d0>"
      ]
     },
     "execution_count": 23,
     "metadata": {},
     "output_type": "execute_result"
    },
    {
     "data": {
      "image/png": "[encoded data removed]",
      "text/plain": [
       "<matplotlib.figure.Figure at 0x12032a090>"
      ]
     },
     "metadata": {},
     "output_type": "display_data"
    }
   ],
   "source": [
    "time_pts = range(t_o, t_o+train_steps+1)\n",
    "appx_func = [150/float(t) for t in time_pts]\n",
    "fig, ax = plt.subplots()\n",
    "# ax.plot(time_pts, avg1[:101])\n",
    "# ax.plot(time_pts, avg2[:101])\n",
    "ax.errorbar(time_pts, avg1, yerr=std1, errorevery=200, label='original')\n",
    "ax.errorbar(time_pts, avg2, yerr=std2, errorevery=200, label='norm-bias controlled')\n",
    "#ax.plot(time_pts, avg_scores_list[0], label='original')\n",
    "#ax.plot(time_pts, avg_scores_mod_list[-1], label='modified')\n",
    "ax.plot(time_pts, appx_func, label='theoretical bound')\n",
    "# ax.plot(time_pts, [cos_sq_avg_distances(init_weights_, gt_dict)]*train_steps, label='initial loss')\n",
    "# fig.savefig('original.eps')\n",
    "ax.set_title('squared sin loss vs t')\n",
    "ax.legend(loc=1)\n",
    "#fig.savefig('original6' + 'to_' + str(t_o) + '_cprme_' + str(c_prime) + '.eps')\n",
    "#ax.loglog()\n",
    "#fig.savefig('log6' + 'to_' + str(t_o) + '_cprme_' + str(c_prime) + '.eps')"
   ]
  },
  {
   "cell_type": "code",
   "execution_count": 24,
   "metadata": {
    "collapsed": false
   },
   "outputs": [
    {
     "data": {
      "text/plain": [
       "0.36005296779812074"
      ]
     },
     "execution_count": 24,
     "metadata": {},
     "output_type": "execute_result"
    }
   ],
   "source": [
    "avg1[0]"
   ]
  },
  {
   "cell_type": "code",
   "execution_count": 25,
   "metadata": {
    "collapsed": false
   },
   "outputs": [
    {
     "data": {
      "text/plain": [
       "<matplotlib.collections.PathCollection at 0x121beda90>"
      ]
     },
     "execution_count": 25,
     "metadata": {},
     "output_type": "execute_result"
    },
    {
     "data": {
      "image/png": "[encoded data removed]",
      "text/plain": [
       "<matplotlib.figure.Figure at 0x120343b10>"
      ]
     },
     "metadata": {},
     "output_type": "display_data"
    }
   ],
   "source": [
    "plt.scatter(time_pts, np.array(bias_list_mod)[:,0])\n",
    "#bias_list_mod\n",
    "#np.histogram(bias_list_mod[:,0])\n",
    "#len(time_pts)"
   ]
  },
  {
   "cell_type": "code",
   "execution_count": 26,
   "metadata": {
    "collapsed": false
   },
   "outputs": [],
   "source": [
    "# from exp import maybe_pickle\n",
    "# import math\n",
    "\n",
    "# def get_data_and_plot(fnames, pname, pvalues, varname, value_list, algo):\n",
    "#     fig, ax = plt.subplots()\n",
    "#     for fname in fnames:\n",
    "#         #print(fname)\n",
    "#         evaluations_over_var = maybe_pickle(fname)\n",
    "#         #fname = 'norm_controlled_data_dim_32_data_dim_2_4_8_16_32width4'\n",
    "#         #evaluations_over_var = maybe_pickle(fname)\n",
    "#         #print(evaluations_over_var)\n",
    "#         #y_array2, y_err_array2 = maybe_pickle(fname2)\n",
    "#     #     cprime, t_o = algo.eta_params\n",
    "#     #     x = range(t_o, t_o+train_steps+1)\n",
    "#     #     appx_func = [40/float(t) for t in x]\n",
    "#         y_array, y_array_err = zip(*evaluations_over_var)\n",
    "#         #print(np.array(y_array))\n",
    "#         #fig, ax = plt.subplots()\n",
    "#         y = np.array(y_array)[:,-1]\n",
    "#         y_err = np.array(y_array_err)[:,-1]\n",
    "#         if varname == 'learn_rate':\n",
    "#             myxticks = value_list\n",
    "#             print(myxticks)\n",
    "#             x = range(len(myxticks))\n",
    "#             ax.set_xticks(x)\n",
    "#             ax.set_xticklabels(myxticks)\n",
    "#             ax.scatter(x, y)\n",
    "#         else:\n",
    "#     #         myxticks = value_list\n",
    "#     #         print(myxticks)\n",
    "#     #         #x = range(len(myxticks))\n",
    "#     #         xlist = map(float,value_list)\n",
    "#     #         ax.set_xticks(xlist)\n",
    "#     #         ax.set_xticklabels(myxticks)\n",
    "#             #ax.scatter(value_list, y)\n",
    "#             #ax.plot([0],y[0],'r*')\n",
    "#             start_idx = fname.index('w')\n",
    "#             ax.plot(value_list, y, '--o', label=fname[start_idx:])\n",
    "#             #ax.plot(value_list,y2, '--ro', label = 'original')\n",
    "#             ax.legend(loc=4)\n",
    "#         #ax.set_xlim(xmin=-2)\n",
    "#     # for idx, y in enumerate(y_array.tolist()):\n",
    "#     #     string = ('%s = %s' %(varname, str(value_list[idx])))\n",
    "#     #     y_err = y_err_array[idx]\n",
    "#     #     ax.errorbar(x, y, yerr=y_err, errorevery=200, label=string)\n",
    "#     # ax.plot(time_pts, avg1[:101])\n",
    "#     # ax.plot(time_pts, avg2[:101])\n",
    "#     #ax.errorbar(x, y, yerr=yerr, errorevery=200, label=arguments['<algo>'])\n",
    "#     #ax.plot(x, appx_func, label='theoretical bound')\n",
    "#     #ax.set_title('squared sin loss vs %s' %varname)\n",
    "#     ax.set_title('loss versus dimension with different network widths')\n",
    "#     ax.set_xlabel('data dimension')\n",
    "#     ax.set_ylabel('squared sine error')\n",
    "# #     pvalues_list = pvalues.split(',')\n",
    "# #     pvalues = '_'.join(pvalues_list)\n",
    "#     if varname == 'learn_rate':\n",
    "#         value_list = ['-'.join(v.split(',')) for v in value_list]\n",
    "#     vvalues = '_'.join(value_list)\n",
    "#     #plt.show()\n",
    "#     #fname = algo +'_'+ pname +'_'+pvalues+'_'+ varname +'_' + vvalues\n",
    "#     fname = algo +'_'+ varname +'_' + vvalues\n",
    "#     fig.savefig(fname+'.eps')\n",
    "#     #_ = maybe_pickle(fname, data=[y_array, y_err_array])"
   ]
  },
  {
   "cell_type": "code",
   "execution_count": 27,
   "metadata": {
    "collapsed": false
   },
   "outputs": [],
   "source": [
    "# fnames = list()\n",
    "# fname = 'norm_controlled_data_dim_32_data_dim_2_4_8_16_32width'\n",
    "# for i in range(4):\n",
    "#     fnames.append(fname + str(2**(i+2)))\n",
    "# #fname2 = 'norm_controlled_data_dim_32_data_dim_2_4_8_16_32width8'\n",
    "# #pname = 'batch_size'\n",
    "# #pvalues = '1,200-0-100'\n",
    "# varname = 'data_dim'\n",
    "# value_list = map(str, [4,8,16,32,64])\n",
    "# algo = 'norm_controlled'\n",
    "# get_data_and_plot(fnames, 0, 0, varname, value_list, algo)"
   ]
  },
  {
   "cell_type": "code",
   "execution_count": null,
   "metadata": {
    "collapsed": true
   },
   "outputs": [],
   "source": []
  },
  {
   "cell_type": "code",
   "execution_count": null,
   "metadata": {
    "collapsed": true
   },
   "outputs": [],
   "source": []
  }
 ],
 "metadata": {
  "anaconda-cloud": {},
  "kernelspec": {
   "display_name": "Python [Root]",
   "language": "python",
   "name": "Python [Root]"
  },
  "language_info": {
   "codemirror_mode": {
    "name": "ipython",
    "version": 2
   },
   "file_extension": ".py",
   "mimetype": "text/x-python",
   "name": "python",
   "nbconvert_exporter": "python",
   "pygments_lexer": "ipython2",
   "version": "2.7.12"
  }
 },
 "nbformat": 4,
 "nbformat_minor": 0
}

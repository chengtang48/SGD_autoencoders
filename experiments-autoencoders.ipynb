{
 "cells": [
  {
   "cell_type": "code",
   "execution_count": 1,
   "metadata": {
    "collapsed": false
   },
   "outputs": [],
   "source": [
    "import tensorflow as tf\n",
    "import numpy as np\n",
    "import math\n",
    "import matplotlib.pyplot as plt\n",
    "from scipy.stats import ortho_group #generator for random orthogonal matrix\n",
    "from sklearn.preprocessing import normalize\n",
    "from sklearn.decomposition import MiniBatchDictionaryLearning\n",
    "import matplotlib\n",
    "%matplotlib inline"
   ]
  },
  {
   "cell_type": "code",
   "execution_count": 2,
   "metadata": {
    "collapsed": false
   },
   "outputs": [],
   "source": [
    "def data_generator(dim, noise_bound, dict_type='orthogonal', dict_size=None, gt_dict=None):\n",
    "    if gt_dict is not None:\n",
    "        W = gt_dict\n",
    "    elif dict_type == 'orthogonal':\n",
    "        dict_size = dim\n",
    "        W = ortho_group.rvs(dict_size)\n",
    "    elif dict_type == 'gauss':\n",
    "        if dict_size is None:\n",
    "            dict_size = dim\n",
    "        W = np.random.randn(dict_size, dim)\n",
    "        W_norm = np.linalg.norm(W, axis=1)\n",
    "        W = np.multiply(W.T, W_norm)\n",
    "    #s = np.random.multinomial(1, [1/float(dim)]*dim)\n",
    "    s = np.random.multinomial(1, [1/float(dict_size)]*dict_size)\n",
    "#     sigma = float(noise_bound)/(dim)**(0.5)\n",
    "#     eps = np.random.normal([0.0]*dim, sigma)\n",
    "    sigma = float(noise_bound)/(dict_size)**(0.5)\n",
    "    eps = np.random.normal([0.0]*dim, sigma)\n",
    "    #norm = np.linalg.norm(eps)\n",
    "    #if norm > noise_bound:\n",
    "    #    eps = noise_bound * eps/norm\n",
    "    #return np.dot(W,s)+eps, eps\n",
    "    #print(np.dot(W,s))\n",
    "    return np.sum(np.multiply(W,s), axis=1)+eps\n",
    "    \n",
    "def batch_data_generator(dim, noise_bound, batch_size, dict_type='orthogonal', dict_size=None, gt_dict=None):\n",
    "    def map_function(null):\n",
    "        return list(data_generator(dim, noise_bound, dict_type, dict_size, gt_dict))\n",
    "    \n",
    "    return list(map(map_function, [0]*batch_size))\n",
    "\n",
    "\n",
    "# x = batch_data_generator(dim,noise_bound, 10, dict_type, dict_size, gt_dict)\n",
    "# # #print(np.linalg.norm(eps))\n",
    "# print(len(x[0]))\n",
    "\n",
    "#list_x = batch_data_generator(2,0.1,5)\n",
    "#list_x"
   ]
  },
  {
   "cell_type": "code",
   "execution_count": 3,
   "metadata": {
    "collapsed": false
   },
   "outputs": [],
   "source": [
    "## data model parameters\n",
    "dim = 64\n",
    "noise_bound = 0.4\n",
    "#dict_size = 128\n",
    "#dict_type = 'gauss'\n",
    "dict_size = 64\n",
    "dict_type = 'orthogonal'\n",
    "#####\n",
    "gt_dict = ortho_group.rvs(dim) # generate ground-truth dictionary\n",
    "# gt_dict = np.random.randn(dict_size, dim)\n",
    "# gt_dict_norm = np.linalg.norm(gt_dict, axis=1)\n",
    "# gt_dict = np.multiply(gt_dict.T, 1./gt_dict_norm)\n",
    "## architecture parameters\n",
    "#width = int(math.log(dim))*dim\n",
    "#width = int(0.6*dim)\n",
    "width = int(0.5*dict_size)\n",
    "activation = 'relu'\n",
    "\n",
    "## algorithmic parameters\n",
    "init_batch_size = 500\n",
    "norm = 2\n",
    "#norm = 0.8\n",
    "#rescale_param = 1/float(norm**2) - 1\n",
    "t_o = 1\n",
    "c_prime = 10\n",
    "##\n",
    "train_steps = 1000"
   ]
  },
  {
   "cell_type": "code",
   "execution_count": 4,
   "metadata": {
    "collapsed": true
   },
   "outputs": [],
   "source": [
    "## define bias initialization\n",
    "def bias_init(weights, norm, batch_size, batch_data_generator, dim, noise_bound, dict_type, dict_size, gt_dict):\n",
    "    #assert norm > 1, 'the norm value is invalid!'\n",
    "    ## generate a batch sample\n",
    "    batch_x = batch_data_generator(dim, noise_bound, batch_size, dict_type, dict_size, gt_dict)\n",
    "    ## calculate average inner product\n",
    "    avg_proj = tf.reduce_mean(tf.matmul(weights, tf.transpose(np.array(batch_x))), axis=1)\n",
    "    return tf.subtract(tf.divide(avg_proj, norm**2), avg_proj)\n",
    "\n",
    "## evaluation metric\n",
    "def cosine_squared_distances(weights, dictionary):\n",
    "    #print(weights.shape)\n",
    "    #print(normalize(weights))\n",
    "    w_normalized = normalize(weights)\n",
    "    #w_normalized = 0.5*weights\n",
    "    #raw_scores = np.square(np.matmul(w_normalized, np.transpose(dictionary)))\n",
    "    raw_scores = np.square(np.matmul(w_normalized, dictionary))\n",
    "    max_scores = np.max(raw_scores, axis=0) # best approximation for each dict item\n",
    "    #return max_scores, raw_scores, min(max_scores)\n",
    "    return max_scores\n",
    "def cos_sq_avg_distances(weights, dictionary):\n",
    "    #max_scores,_,_ = cosine_squared_distances(weights, dictionary)\n",
    "    max_scores = cosine_squared_distances(weights, dictionary)\n",
    "    max_scores = [1]*len(max_scores)-max_scores\n",
    "    return np.mean(max_scores)\n",
    "def cos_sq_min_distances(weights, dictionary):\n",
    "    #max_scores,_,_ = cosine_squared_distances(weights, dictionary)\n",
    "    max_scores = cosine_squared_distances(weights, dictionary)\n",
    "    max_scores = [1]*len(max_scores)-max_scores\n",
    "    return np.max(max_scores)\n",
    "\n",
    "\n",
    "########\n",
    "#### Experimental aide\n",
    "def get_firing_pattern_op(firing_list, weights, bias, batch_data):\n",
    "    ## get statistics about average firing intensity of each neuron\n",
    "    firing = np.transpose(np.matmul(weights, np.transpose(batch_data)))+bias\n",
    "    firing[firing<=0] = 0\n",
    "    firing[firing>0] = 1\n",
    "    firing = np.mean(firing, axis=0)\n",
    "    firing_list.append(firing)\n",
    "\n",
    "def get_bias_evolution_op(b_list, bias):\n",
    "    ## update b_list to record current bias values\n",
    "    b_list.append(bias)\n",
    "\n",
    "def get_norm_evolution_op(weights_list, weights):\n",
    "    weights_list.append(np.linalg.norm(weights))\n",
    "    "
   ]
  },
  {
   "cell_type": "code",
   "execution_count": 5,
   "metadata": {
    "collapsed": true
   },
   "outputs": [],
   "source": [
    "tf.reset_default_graph()"
   ]
  },
  {
   "cell_type": "code",
   "execution_count": 6,
   "metadata": {
    "collapsed": false
   },
   "outputs": [],
   "source": [
    "#np.random.randn(100,64).shape"
   ]
  },
  {
   "cell_type": "code",
   "execution_count": 7,
   "metadata": {
    "collapsed": false
   },
   "outputs": [],
   "source": [
    "\n",
    "#init_weights = tf.random_normal([width, dim], dtype=tf.float64) # init random weights\n",
    "#init_weights = tf.constant(batch_data_generator(dim, noise_bound, width, gt_dict=gt_dict), dtype=tf.float64)\n",
    "init_weights = tf.constant(batch_data_generator(dim, noise_bound, width, dict_type, dict_size, gt_dict), \n",
    "                               dtype=tf.float64)\n",
    "init_bias = bias_init(init_weights, norm, init_batch_size, batch_data_generator, \n",
    "                            dim, noise_bound, dict_type, dict_size, gt_dict)\n",
    "with tf.Session() as sess:\n",
    "    init_weights_ = sess.run(init_weights)\n",
    "    #init_weights_ = init_weights\n",
    "    init_bias_ = sess.run(init_bias)"
   ]
  },
  {
   "cell_type": "code",
   "execution_count": 8,
   "metadata": {
    "collapsed": false
   },
   "outputs": [
    {
     "name": "stdout",
     "output_type": "stream",
     "text": [
      "('grounth truth', array([[ -4.35774663e-02,  -1.46271822e-02,  -1.57564989e-02, ...,\n",
      "         -5.33690306e-02,  -2.81685169e-01,  -1.02124913e-01],\n",
      "       [ -8.95427150e-02,  -6.11992207e-02,  -1.07290615e-01, ...,\n",
      "         -2.57374398e-01,  -3.18220446e-01,   1.08167974e-01],\n",
      "       [ -5.40148058e-02,   4.17865133e-02,  -4.54586971e-02, ...,\n",
      "         -2.15172962e-01,  -8.99356831e-02,   1.45284087e-01],\n",
      "       ..., \n",
      "       [  1.25008457e-01,   4.00660987e-02,  -2.06610448e-01, ...,\n",
      "         -7.83654885e-02,   2.16502745e-01,   5.46878572e-02],\n",
      "       [ -1.17554349e-01,  -4.59649567e-03,  -2.23387486e-03, ...,\n",
      "          4.66045596e-02,   1.28108861e-01,   1.60263888e-01],\n",
      "       [ -1.02396302e-01,  -1.88460780e-04,  -8.12887604e-02, ...,\n",
      "         -1.80956409e-01,   4.13581902e-02,  -1.88348250e-01]]))\n",
      "('error of initial weights', 0.65494499469523981)\n"
     ]
    }
   ],
   "source": [
    "#print('learned',init_weights_)\n",
    "print('grounth truth', gt_dict)\n",
    "print('error of initial weights', cos_sq_avg_distances(init_weights_, gt_dict))"
   ]
  },
  {
   "cell_type": "markdown",
   "metadata": {},
   "source": [
    "## Online (mini-batch) Dictionary Learning\n",
    "#### See Mairal-Bach-Ponce-Sapiro 09' (implemented in Scikit-learn)"
   ]
  },
  {
   "cell_type": "code",
   "execution_count": 9,
   "metadata": {
    "collapsed": false
   },
   "outputs": [
    {
     "name": "stdout",
     "output_type": "stream",
     "text": [
      "('averaged reconstruction error of ODL is', 0.88599122459323054)\n",
      "('ground truth', array([[ -4.35774663e-02,  -1.46271822e-02,  -1.57564989e-02, ...,\n",
      "         -5.33690306e-02,  -2.81685169e-01,  -1.02124913e-01],\n",
      "       [ -8.95427150e-02,  -6.11992207e-02,  -1.07290615e-01, ...,\n",
      "         -2.57374398e-01,  -3.18220446e-01,   1.08167974e-01],\n",
      "       [ -5.40148058e-02,   4.17865133e-02,  -4.54586971e-02, ...,\n",
      "         -2.15172962e-01,  -8.99356831e-02,   1.45284087e-01],\n",
      "       ..., \n",
      "       [  1.25008457e-01,   4.00660987e-02,  -2.06610448e-01, ...,\n",
      "         -7.83654885e-02,   2.16502745e-01,   5.46878572e-02],\n",
      "       [ -1.17554349e-01,  -4.59649567e-03,  -2.23387486e-03, ...,\n",
      "          4.66045596e-02,   1.28108861e-01,   1.60263888e-01],\n",
      "       [ -1.02396302e-01,  -1.88460780e-04,  -8.12887604e-02, ...,\n",
      "         -1.80956409e-01,   4.13581902e-02,  -1.88348250e-01]]))\n"
     ]
    }
   ],
   "source": [
    "dict_learner = MiniBatchDictionaryLearning(n_components=dict_size, alpha=1, n_iter=1000, fit_algorithm='lars', \n",
    "                                           n_jobs=1, batch_size=1, shuffle=True, dict_init=None, \n",
    "                                           transform_algorithm='omp', transform_n_nonzero_coefs=1, \n",
    "                                           transform_alpha=None, verbose=False, split_sign=False, random_state=None)\n",
    "\n",
    "# get n_components by dim\n",
    "loss = 0\n",
    "n_runs = 10\n",
    "for i in range(n_runs):\n",
    "    dict_learner.fit(batch_data_generator(dim, noise_bound, train_steps, dict_type, dict_size, gt_dict))\n",
    "    loss += cos_sq_avg_distances(dict_learner.components_ , gt_dict)\n",
    "avg_loss_ODL = loss/n_runs\n",
    "print('averaged reconstruction error of ODL is', avg_loss_ODL)\n",
    "#print('learned dictionary', dict_learner.components_)\n",
    "print('ground truth', gt_dict)"
   ]
  },
  {
   "cell_type": "markdown",
   "metadata": {},
   "source": [
    "## Original SGD Training"
   ]
  },
  {
   "cell_type": "code",
   "execution_count": 10,
   "metadata": {
    "collapsed": false
   },
   "outputs": [],
   "source": [
    "## Relu - autoencoder model with tied weights\n",
    "\n",
    "### parameters to learn\n",
    "weights = tf.Variable(init_weights_, dtype=tf.float64)\n",
    "#bias = tf.Variable(init_bias_, dtype=tf.float64)\n",
    "bias = tf.Variable(np.zeros(width), dtype=tf.float64, trainable=True)\n",
    "create_row_normalize_op = tf.assign(weights, norm * tf.nn.l2_normalize(weights, dim=1))\n",
    "### define model and loss\n",
    "def encoder(weights, bias, x):\n",
    "    return tf.add(tf.matmul(x, tf.transpose(weights)), bias)\n",
    "def decoder(weights, h, activation):\n",
    "    if activation == 'relu':\n",
    "        return tf.matmul(tf.nn.relu(h), weights)\n",
    "    else:\n",
    "        print('activation function not implemented')\n",
    "        exit(0)\n",
    "\n",
    "###\n",
    "def data_wise_mean_sq_loss(x, weights, bias):\n",
    "    x_hat = decoder(weights, encoder(weights, bias, x), 'relu')\n",
    "    return tf.reduce_mean(tf.reduce_sum(tf.square(x - x_hat), axis=1))\n",
    "\n",
    "#x_gt = tf.placeholder(tf.float64, [dim,])\n",
    "mini_batch_size = 400\n",
    "batch_x = tf.placeholder(tf.float64, [mini_batch_size, dim])\n",
    "\n",
    "### define optimizer  \n",
    "global_step = tf.Variable(t_o, trainable=False)\n",
    "learning_rate = c_prime\n",
    "decay_steps = 1\n",
    "decay_rate = 1.0\n",
    "increment_global_step_op = tf.assign(global_step, global_step+1)\n",
    "##\n",
    "learn_rate = tf.train.inverse_time_decay(tf.cast(learning_rate, tf.float64), global_step, decay_steps, decay_rate)\n",
    "#learn_rate = 0.001\n",
    "init_eval_batch = batch_data_generator(dim, noise_bound, 100, dict_type, dict_size, gt_dict)\n",
    "init_eval_batch = np.array(init_eval_batch, dtype='float64')\n",
    "init_loss = data_wise_mean_sq_loss(init_eval_batch, init_weights_, 0)\n",
    "with tf.Session() as sess:\n",
    "    sess.run(tf.global_variables_initializer())\n",
    "    init_loss_ = init_loss.eval()\n",
    "    \n",
    "loss = tf.Variable(init_loss_, trainable=False)\n",
    "update_loss_op = tf.assign(loss, data_wise_mean_sq_loss(batch_x, weights, bias))\n",
    "train_op = tf.train.GradientDescentOptimizer(learn_rate).minimize(data_wise_mean_sq_loss(batch_x, weights, bias))"
   ]
  },
  {
   "cell_type": "code",
   "execution_count": 11,
   "metadata": {
    "collapsed": false
   },
   "outputs": [],
   "source": [
    "## standard learning-rate decayed SGD training\n",
    "\n",
    "#create_row_normalize_op = tf.assign(weights, tf.nn.l2_normalize(weights, dim=1))\n",
    "# eta = 0.1\n",
    "# update_bias_op = tf.assign(bias, \n",
    "#                     bias*(1-eta)+eta*tf.squeeze(tf.matmul(weights, tf.expand_dims(x_gt, axis=1)))*rescale_param)\n",
    "\n",
    "#gt_dict = ortho_group.rvs(dim) # generate ground-truth dictionary\n",
    "#test_sample = batch_data_generator(dim, noise_bound, 100)\n",
    "avg_scores_list = list()\n",
    "losses_list = list()\n",
    "control_weight = False\n",
    "verbose = False\n",
    "for n_runs in range(10):\n",
    "    bias_list = [np.zeros(width)]\n",
    "    #firing_list = list()\n",
    "    avg_scores = list()\n",
    "    losses = [init_loss_]\n",
    "    with tf.Session() as sess:\n",
    "        sess.run(tf.global_variables_initializer())\n",
    "        for i in range(train_steps):\n",
    "            x = batch_data_generator(dim, noise_bound, mini_batch_size, dict_type, dict_size, gt_dict)\n",
    "            if i==0:\n",
    "                avg_scores.append(cos_sq_avg_distances(init_weights_, gt_dict))\n",
    "                #get_firing_pattern_op(firing_list, init_weights_, init_bias_, x)    \n",
    "            _, weights_, bias_ = sess.run([train_op, weights, bias], feed_dict={batch_x: x})\n",
    "            if control_weight:\n",
    "                ## normalize weight if control_weight is on\n",
    "                _, weights_ = sess.run([create_row_normalize_op, weights]) \n",
    "            _, loss_ = sess.run([update_loss_op, loss], feed_dict={batch_x: x})\n",
    "            n_steps = sess.run(increment_global_step_op)\n",
    "            #print('reconstruction error', cos_sq_avg_distances(weights_, gt_dict))\n",
    "            avg_scores.append(cos_sq_avg_distances(weights_, gt_dict))\n",
    "            #get_firing_pattern_op(firing_list, weights_, bias_, x)\n",
    "            get_bias_evolution_op(bias_list, bias_)\n",
    "            losses.append(loss_)\n",
    "            if verbose and (n_steps-t_o) % 100 == 0:\n",
    "                print('Training at %d-th iteration'% (n_steps-t_o))\n",
    "                print('Training objective loss', loss_)\n",
    "                print('Dictionary approximation distance', cos_sq_avg_distances(weights_, gt_dict))\n",
    "        avg_scores_list.append(avg_scores)\n",
    "        losses_list.append(losses)\n",
    "        #weights_final = weights_.eval()\n",
    "        #bias_final = bias_.eval()\n",
    "    #print('Cosine best approximation distance at init', cosine_squared_distances(init_weights_, gt_dict)[0])\n",
    "    #print('Cosine best approximation after updates', cosine_squared_distances(weights_, gt_dict)[0])"
   ]
  },
  {
   "cell_type": "code",
   "execution_count": 12,
   "metadata": {
    "collapsed": false,
    "scrolled": true
   },
   "outputs": [
    {
     "data": {
      "text/plain": [
       "[<matplotlib.lines.Line2D at 0x11b478410>]"
      ]
     },
     "execution_count": 12,
     "metadata": {},
     "output_type": "execute_result"
    },
    {
     "data": {
      "image/png": "[encoded data removed]",
      "text/plain": [
       "<matplotlib.figure.Figure at 0x11b4787d0>"
      ]
     },
     "metadata": {},
     "output_type": "display_data"
    }
   ],
   "source": [
    "# bias_list\n",
    "time_pts = range(t_o, t_o+train_steps+1)\n",
    "# print(cos_sq_avg_distances(init_weights_, gt_dict))\n",
    "loss_graph = np.mean(np.array(losses_list), axis=0)\n",
    "sine_graph = np.mean(np.array(avg_scores_list), axis=0)\n",
    "#plt.plot(time_pts, bias_list)\n",
    "#len(loss_graph)\n",
    "plt.plot(time_pts, loss_graph)\n",
    "plt.plot(time_pts, sine_graph)\n",
    "# firing_list = np.array(firing_list)\n",
    "# offset = -1\n",
    "# plt.scatter(time_pts[:50], firing_list[offset-50:offset,0])\n"
   ]
  },
  {
   "cell_type": "markdown",
   "metadata": {},
   "source": [
    "## Modified SGD Training"
   ]
  },
  {
   "cell_type": "code",
   "execution_count": 13,
   "metadata": {
    "collapsed": true
   },
   "outputs": [],
   "source": [
    "## algorithmic params\n",
    "mini_batch_size = 400\n",
    "b_appx_batch_size = 100\n",
    "weights_all = list()\n",
    "tf.reset_default_graph()"
   ]
  },
  {
   "cell_type": "code",
   "execution_count": 14,
   "metadata": {
    "collapsed": false
   },
   "outputs": [],
   "source": [
    "# a = np.expand_dims(np.array([1., 1., 1.]), axis=0)\n",
    "# b = 1.0*np.array(range(6)).reshape([3,2])\n",
    "# prod = tf.matmul(a, b)\n",
    "# bias = np.array([1.,-10.])\n",
    "# res1 = tf.nn.relu(tf.add(prod,bias))\n",
    "# res2 = tf.matmul(res1, b.T)\n",
    "# loss = tf.reduce_mean(tf.reduce_sum(tf.square(a-res2), axis=1))\n",
    "# with tf.Session() as sess:\n",
    "#     print(sess.run([prod, res1, res2, loss]))\n",
    "# init_weights_ = weights_all\n",
    "# init_bias = bias_init(init_weights_, 2, 200, batch_data_generator, 2*dim, noise_bound)\n",
    "# with tf.Session() as sess:\n",
    "#     init_bias_ = sess.run(init_bias)"
   ]
  },
  {
   "cell_type": "code",
   "execution_count": null,
   "metadata": {
    "collapsed": false
   },
   "outputs": [],
   "source": [
    "## Relu - autoencoder model with tied weights\n",
    "\n",
    "### parameters to learn\n",
    "#init_weights = tf.random_normal([width, dim], dtype=tf.float64)\n",
    "weights = tf.Variable(init_weights_, name='weights_mod', dtype=tf.float64)\n",
    "bias = tf.Variable(init_bias_, trainable=False, dtype=tf.float64)\n",
    "#bias = tf.Variable(np.zeros(width), name = 'bias_mod', trainable=True, dtype=tf.float64)\n",
    "\n",
    "### define model and loss\n",
    "def encoder(weights, bias, x):\n",
    "    return tf.add(tf.matmul(x, tf.transpose(weights)), bias)\n",
    "def decoder(weights, h, activation):\n",
    "    if activation == 'relu':\n",
    "        return tf.matmul(tf.nn.relu(h), weights)\n",
    "    else:\n",
    "        print('activation function not implemented')\n",
    "        exit(0)\n",
    "\n",
    "def data_wise_mean_sq_loss(x, weights, bias):\n",
    "    x_hat = decoder(weights, encoder(weights, bias, x), 'relu')\n",
    "    return tf.reduce_mean(tf.reduce_sum(tf.square(x - x_hat), axis=1))\n",
    "\n",
    "# def batch_wise_mean_sq_loss(batch_x, weights, bias):\n",
    "#     batch_x_hat = decoder(weights, encoder(weights, bias, batch_x), 'relu')\n",
    "#     print(batch_x_hat.get_shape())\n",
    "#     return tf.reduce_mean(tf.square(batch_x - batch_x_hat), axis=1)\n",
    "\n",
    "#x_gt = tf.placeholder(tf.float64, [dim,])\n",
    "batch_x_gt = tf.placeholder(tf.float64, [mini_batch_size, dim])\n",
    "batch_x_update_b = tf.placeholder(tf.float64, [b_appx_batch_size, dim])\n",
    "### define optimizer  \n",
    "global_step = tf.Variable(t_o, trainable=False)\n",
    "rescale_param = tf.Variable(1/float(2**2) - 1, trainable=False, dtype=tf.float64)\n",
    "####\n",
    "learning_rate = c_prime\n",
    "decay_steps = 1\n",
    "decay_rate = 1.0\n",
    "increment_global_step_op = tf.assign(global_step, global_step+1)\n",
    "##\n",
    "learn_rate = tf.train.inverse_time_decay(tf.cast(learning_rate, tf.float64), global_step, decay_steps, decay_rate)\n",
    "#learn_rate = 0.1\n",
    "init_eval_batch = batch_data_generator(dim, noise_bound, 100, dict_type, dict_size, gt_dict)\n",
    "init_eval_batch = np.array(init_eval_batch, dtype='float64')\n",
    "init_loss = data_wise_mean_sq_loss(init_eval_batch, init_weights_, 0)\n",
    "with tf.Session() as sess:\n",
    "    sess.run(tf.global_variables_initializer())\n",
    "    init_loss_ = init_loss.eval()\n",
    "    \n",
    "loss = tf.Variable(init_loss_, trainable=False)\n",
    "update_loss_op = tf.assign(loss, data_wise_mean_sq_loss(batch_x_gt, weights, bias))\n",
    "train_op = tf.train.GradientDescentOptimizer(learn_rate).minimize(data_wise_mean_sq_loss(batch_x_gt, weights, bias))"
   ]
  },
  {
   "cell_type": "code",
   "execution_count": null,
   "metadata": {
    "collapsed": false
   },
   "outputs": [],
   "source": [
    "## Norm-controlled SGD training\n",
    "norm_decay_rate = tf.train.inverse_time_decay(tf.cast(1, tf.float64), \n",
    "                                              tf.subtract(global_step, t_o), decay_steps, decay_rate)\n",
    "\n",
    "create_row_normalize_op = tf.assign(weights, (1+norm_decay_rate) * tf.nn.l2_normalize(weights, dim=1))\n",
    "update_rescale_param_op = tf.assign(rescale_param, 1/(1+norm_decay_rate)**2 - 1)\n",
    "# create_row_normalize_op = tf.assign(weights, (0.5+0.3*norm_decay_rate) * tf.nn.l2_normalize(weights, dim=1))\n",
    "# update_rescale_param_op = tf.assign(rescale_param, 1/(0.5+0.3*norm_decay_rate)**2 - 1)\n",
    "#batch_x = batch_data_generator(dim, noise_bound, b_appx_batch_size)\n",
    "# update_bias_op = tf.assign(bias, \n",
    "#                     tf.squeeze(tf.matmul(weights, tf.expand_dims(x_gt, axis=1)))*rescale_param)\n",
    "\n",
    "# def get_bias_update(batch_x, weights, bias, width, batch_size, rescale_param):\n",
    "#     if tf.shape(batch_x)==1:\n",
    "#         print('wrong')\n",
    "#     else:\n",
    "# #         relu_activation = tf.nn.relu(tf.transpose(\n",
    "# #             tf.add(tf.transpose(tf.matmul(weights, batch_x)),bias)))\n",
    "#         #avg_activation = tf.reduce_mean(relu_activation, axis=1)\n",
    "#         projection = tf.transpose(tf.matmul(batch_x, tf.transpose(weights)))    # width by batch_size\n",
    "#         #print(projection.get_shape())\n",
    "#         relu_activation = tf.nn.relu(tf.transpose(tf.add(tf.transpose(projection), bias)))\n",
    "#         #print(relu_activation.get_shape())\n",
    "#         zero = tf.constant(0, dtype=tf.float64)\n",
    "#         where = tf.not_equal(relu_activation, zero) ## logical indexing of relu_activation\n",
    "#         indices = tf.where(where) ## indices of nonzero entries in relu_activation\n",
    "#         #print('where shape', where.get_shape())\n",
    "#         #temp = tf.count_nonzero(where,axis=1)\n",
    "#         #print('nonzero', temp.get_shape())\n",
    "#         ## calculate empirical prob of firing\n",
    "#         nnz = tf.cast(tf.count_nonzero(where, axis=1), tf.float64)\n",
    "#         zero_of_nnz = tf.equal(nnz, zero)\n",
    "#         offsetted_nnz = tf.where(zero_of_nnz, tf.ones([width], dtype=tf.float64), nnz)\n",
    "#         prob_firing = tf.divide(nnz, tf.cast(batch_size,tf.float64))\n",
    "        \n",
    "#         ## calculate empirical mean of projected value\n",
    "#         shape = tf.constant([width, batch_size], dtype=tf.int64)\n",
    "#         #print(indices.get_shape())\n",
    "#         updated = tf.scatter_nd(indices, tf.gather_nd(projection, indices), shape)\n",
    "#         updated = tf.reduce_sum(updated, axis=1)#\n",
    "#         #offsetted_nnz = tf.scatter_add(nnz, indices_of_zero_in_nnz, tf.ones_like(indices_of_zero_in_nnz))\n",
    "#         updated = tf.divide(updated, offsetted_nnz) * rescale_param ## shape = (width,)\n",
    "#         #print('updated shape', updated.get_shape())\n",
    "#         #print(relu_activation.get_shape())\n",
    "#         new_bias = tf.add(tf.multiply(prob_firing,updated), tf.multiply(tf.subtract(tf.cast(1,tf.float64),prob_firing),bias))\n",
    "#         return new_bias\n",
    "\n",
    "# def get_bias_update(weights_new, weights, bias, rescale_param, batch_x):\n",
    "#     batch_x = np.array(batch_x)\n",
    "#     hidden = np.transpose(np.add(np.transpose(np.matmul(weights, batch_x.T)), bias))\n",
    "#     hidden[hidden>0] = 1\n",
    "#     hidden[hidden<=0] = 0\n",
    "#     projection = np.matmul(weights_new, batch_x.T)\n",
    "#     bias_new = np.mean(np.multiply(projection, hidden), axis=1)\n",
    "#     return bias_new*rescale_param\n",
    "\n",
    "def get_bias_update(weights_new, bias, rescale_param, batch_x):\n",
    "    batch_x = np.array(batch_x)\n",
    "    hidden = np.transpose(np.add(np.transpose(np.matmul(weights_new, batch_x.T)), bias))\n",
    "    hidden[hidden>0] = 1\n",
    "    hidden[hidden<=0] = 0\n",
    "    projection = np.matmul(weights_new, batch_x.T)\n",
    "    bias_new = np.mean(np.multiply(projection, hidden), axis=1)\n",
    "    return bias_new*rescale_param\n",
    "\n",
    "def reinitialize_weights(weights, bias, batch_x, gt_dict, dim, noise_bound, dict_type, dict_size):\n",
    "    batch_x = np.array(batch_x)\n",
    "    hidden = np.transpose(np.add(np.transpose(np.matmul(weights, batch_x.T)), bias))\n",
    "    hidden[hidden>0] = 1\n",
    "    hidden[hidden<=0] = 0\n",
    "    ####\n",
    "    firing_prob = np.mean(hidden, axis=1)\n",
    "    ind = firing_prob <= 0.8\n",
    "    data_raw = batch_data_generator(dim, noise_bound, np.sum(ind), dict_type, dict_size, gt_dict)\n",
    "    data_norms = np.linalg.norm(data_raw, axis=1)\n",
    "    ## normalize data\n",
    "    weights[ind] = np.transpose(np.multiply(np.transpose(data_raw), data_norms))\n",
    "    return weights\n",
    "    \n",
    "\n",
    "#new_bias = get_bias_update(batch_x_update_b, weights, bias, width, b_appx_batch_size, rescale_param)\n",
    "#update_bias_op = tf.assign(bias, new_bias)\n",
    "### Define some handy operations to update network variables\n",
    "bias_new = tf.placeholder(tf.float64, [width])\n",
    "update_bias_op = tf.assign(bias, bias_new)\n",
    "###\n",
    "weights_new = tf.placeholder(tf.float64, [width, dim])\n",
    "update_weights_op = tf.assign(weights, weights_new)\n",
    "\n",
    "\n",
    "\n",
    "#test_sample = batch_data_generator(dim, noise_bound, 100)\n",
    "\n",
    "#min_scores_mod = list()\n",
    "#weights_cache = init_weights_\n",
    "#bias_cache = init_bias_\n",
    "avg_scores_mod_list = list()\n",
    "losses_mod_list = list()\n",
    "control_norm = True\n",
    "control_bias = True\n",
    "reassign_weights = False\n",
    "##### Training\n",
    "for n_runs in range(10):\n",
    "    avg_scores_mod = list()\n",
    "    losses_mod = [init_loss_]\n",
    "    #firing_list_mod = list()\n",
    "    bias_list_mod = [init_bias_]\n",
    "    weights_cached = init_weights_\n",
    "    with tf.Session() as sess:\n",
    "        sess.run(tf.global_variables_initializer())\n",
    "        for i in range(train_steps):\n",
    "            if i == 0:\n",
    "                avg_scores_mod.append(cos_sq_avg_distances(init_weights_, gt_dict))\n",
    "            #x = data_generator(dim, noise_bound, gt_dict)[0]\n",
    "            batch_x = batch_data_generator(dim, noise_bound, mini_batch_size, dict_type, dict_size, gt_dict)\n",
    "            #init_weights_ = sess.run(init_weights)\n",
    "            #sess.run([train_op] , feed_dict={x_gt: x})\n",
    "            _, weights_, bias_ = sess.run([train_op, weights, bias] , feed_dict={batch_x_gt: batch_x})\n",
    "            \n",
    "            if reassign_weights:\n",
    "                weights_ = reinitialize_weights(weights_, bias_, batch_x, gt_dict, dim, \n",
    "                                                     noise_bound, dict_type, dict_size)\n",
    "                _, weights_ = sess.run([update_weights_op, weights], feed_dict={weights_new: weights_})\n",
    "            \n",
    "            if control_norm:\n",
    "                _,weights_ = sess.run([create_row_normalize_op, weights])  ## row-normalization of updated weights\n",
    "            \n",
    "            if control_bias:\n",
    "                batch_x_new = batch_data_generator(dim, noise_bound, b_appx_batch_size, dict_type, dict_size, gt_dict)\n",
    "                _, rescale_param_ = sess.run([update_rescale_param_op, rescale_param])\n",
    "                #bias_ = get_bias_update(weights_, weights_cached, bias_, rescale_param_, batch_x_new)\n",
    "                bias_ = get_bias_update(weights_, bias_, rescale_param_, batch_x_new)\n",
    "                _,_ = sess.run([update_bias_op, bias], feed_dict={bias_new: bias_})\n",
    "                weights_cached = weights_\n",
    "            \n",
    "            _, loss_ = sess.run([update_loss_op, loss], feed_dict={batch_x_gt: batch_x})\n",
    "            ## get a fresh sample and update bias\n",
    "            #x = data_generator(dim, noise_bound, gt_dict)[0]\n",
    "            #bias_ = sess.run(update_bias_op, feed_dict={x_gt: x})  ## update bias using updated weights\n",
    "            #batch_x_for_b = batch_data_generator(dim, noise_bound, b_appx_batch_size, gt_dict)\n",
    "            #_, bias_ = sess.run([update_bias_op, bias],feed_dict={batch_x_update_b: np.array(batch_x_for_b)})\n",
    "            #print('bias norm', np.sum(np.square(bias_))**0.5)\n",
    "\n",
    "            n_steps = sess.run(increment_global_step_op)\n",
    "            avg_scores_mod.append(cos_sq_avg_distances(weights_, gt_dict))\n",
    "            losses_mod.append(loss_)\n",
    "            #min_scores_mod.append(cos_sq_min_distances(weights_, gt_dict))\n",
    "            get_bias_evolution_op(bias_list_mod, bias_)\n",
    "            #get_firing_pattern_op(firing_list_mod, weights_, bias_, batch_x)\n",
    "    avg_scores_mod_list.append(avg_scores_mod)\n",
    "    losses_mod_list.append(losses_mod)\n",
    "#         if (n_steps-t_o) % 100 == 0:\n",
    "#             print('Training at %d-th iteration'% (n_steps-t_o))\n",
    "#             print('cosine distances',)\n",
    "#             print(cosine_squared_distances(weights_, gt_dict)[0])\n",
    "#             #print('number of bias entries not updated is %d'%len(ind_))\n",
    "#             print('change of weights', sess.run(tf.norm(weights_ - weights_cache)))\n",
    "#             #print('change of bias', tf.norm(bias_ - bias_cache))\n",
    "#             weights_cache = weights_\n",
    "            #bias_cache = bias_\n",
    "    #weights_final = weights_.eval()\n",
    "    #bias_final = bias_.eval()\n",
    "        "
   ]
  },
  {
   "cell_type": "code",
   "execution_count": null,
   "metadata": {
    "collapsed": false
   },
   "outputs": [],
   "source": [
    "# def get_bias_update(weights_new, weights, bias, rescale_param, batch_x):\n",
    "#     batch_x = np.array(batch_x)\n",
    "#     hidden = np.transpose(np.add(np.transpose(np.matmul(weights, batch_x.T)), bias))\n",
    "#     hidden[hidden>0] = 1\n",
    "#     hidden[hidden<=0] = 0\n",
    "#     projection = np.matmul(weights_new, batch_x.T)\n",
    "#     res = np.multiply(projection, hidden)\n",
    "#     return np.mean(res, axis=1)\n",
    "\n",
    "# weights_new = np.array(range(6)).reshape([3,2])\n",
    "# weights = np.array(range(1,7)).reshape([3,2])\n",
    "# bias = np.array([range(3)])\n",
    "# rescale_param = -0.5\n",
    "# batch_x = np.array(range(20)).reshape([10,2])\n",
    "# print(get_bias_update(weights_new, weights, bias, rescale_param, batch_x))\n",
    "#tf.all_variables()\n",
    "time_pts = range(t_o, t_o+train_steps+1)\n",
    "loss_graph = np.mean(np.array(losses_mod_list), axis=0)\n",
    "sine_graph = np.mean(np.array(avg_scores_mod_list), axis=0)\n",
    "plt.plot(time_pts, loss_graph)\n",
    "plt.plot(time_pts, sine_graph)"
   ]
  },
  {
   "cell_type": "code",
   "execution_count": null,
   "metadata": {
    "collapsed": false
   },
   "outputs": [],
   "source": [
    "# with tf.Session() as sess:\n",
    "#     sess.run(tf.global_variables_initializer())\n",
    "#best_appx, all_appx = cosine_distances(weights_, gt_dict)\n",
    "#print(best_appx)\n",
    "#print('best of init', cosine_distances(init_weights_, gt_dict)[-1])\n",
    "print('at init', cosine_squared_distances(init_weights_, gt_dict))\n",
    "print('after updates', cosine_squared_distances(weights_, gt_dict))\n",
    "print('final loss', cos_sq_avg_distances(weights_, gt_dict))"
   ]
  },
  {
   "cell_type": "code",
   "execution_count": null,
   "metadata": {
    "collapsed": false
   },
   "outputs": [],
   "source": [
    "#np.mean(firing_list_mod, axis=0)"
   ]
  },
  {
   "cell_type": "code",
   "execution_count": null,
   "metadata": {
    "collapsed": false
   },
   "outputs": [],
   "source": [
    "avg1 = np.mean(np.array(avg_scores_list), axis=0)\n",
    "std1 = np.std(np.array(avg_scores_list), axis=0)\n",
    "avg2 = np.mean(np.array(avg_scores_mod_list), axis=0)\n",
    "std2 = np.std(np.array(avg_scores_mod_list), axis=0)\n",
    "#len(std2)"
   ]
  },
  {
   "cell_type": "code",
   "execution_count": null,
   "metadata": {
    "collapsed": false
   },
   "outputs": [],
   "source": [
    "print(avg_loss_ODL, avg1[-1], avg2[-1])\n",
    "#print(avg2[-1])"
   ]
  },
  {
   "cell_type": "markdown",
   "metadata": {},
   "source": [
    "## Plotting\n"
   ]
  },
  {
   "cell_type": "code",
   "execution_count": null,
   "metadata": {
    "collapsed": false
   },
   "outputs": [],
   "source": [
    "time_pts = range(t_o, t_o+train_steps+1)\n",
    "appx_func = [10/float(t) for t in time_pts]\n",
    "fig, ax = plt.subplots()\n",
    "# ax.plot(time_pts, avg1[:101])\n",
    "# ax.plot(time_pts, avg2[:101])\n",
    "ax.errorbar(time_pts, avg1, yerr=std1, errorevery=200, label='original')\n",
    "ax.errorbar(time_pts, avg2, yerr=std2, errorevery=200, label='norm-bias controlled')\n",
    "#ax.plot(time_pts, avg_scores_list[0], label='original')\n",
    "#ax.plot(time_pts, avg_scores_mod_list[-1], label='modified')\n",
    "ax.plot(time_pts, appx_func, label='theoretical bound')\n",
    "# ax.plot(time_pts, [cos_sq_avg_distances(init_weights_, gt_dict)]*train_steps, label='initial loss')\n",
    "# fig.savefig('original.eps')\n",
    "ax.set_title('squared sin loss vs t')\n",
    "ax.legend(loc=4)\n",
    "#fig.savefig('original6' + 'to_' + str(t_o) + '_cprme_' + str(c_prime) + '.eps')\n",
    "#ax.loglog()\n",
    "#fig.savefig('log6' + 'to_' + str(t_o) + '_cprme_' + str(c_prime) + '.eps')"
   ]
  },
  {
   "cell_type": "code",
   "execution_count": null,
   "metadata": {
    "collapsed": false
   },
   "outputs": [],
   "source": [
    "print(cosine_squared_distances(weights_, gt_dict))\n",
    "weights_all.append(weights_)\n",
    "# weights_all = np.append(weights_all[0], weights_all[1], axis=0)\n",
    "# print(cos_sq_avg_distances(weights_all, gt_dict))"
   ]
  },
  {
   "cell_type": "code",
   "execution_count": null,
   "metadata": {
    "collapsed": false
   },
   "outputs": [],
   "source": [
    "plt.scatter(time_pts, np.array(bias_list_mod)[:,0])\n",
    "#bias_list_mod\n",
    "#np.histogram(bias_list_mod[:,0])\n",
    "#len(time_pts)"
   ]
  },
  {
   "cell_type": "code",
   "execution_count": null,
   "metadata": {
    "collapsed": false
   },
   "outputs": [],
   "source": [
    "# from exp import maybe_pickle\n",
    "# import math\n",
    "\n",
    "# def get_data_and_plot(fnames, pname, pvalues, varname, value_list, algo):\n",
    "#     fig, ax = plt.subplots()\n",
    "#     for fname in fnames:\n",
    "#         #print(fname)\n",
    "#         evaluations_over_var = maybe_pickle(fname)\n",
    "#         #fname = 'norm_controlled_data_dim_32_data_dim_2_4_8_16_32width4'\n",
    "#         #evaluations_over_var = maybe_pickle(fname)\n",
    "#         #print(evaluations_over_var)\n",
    "#         #y_array2, y_err_array2 = maybe_pickle(fname2)\n",
    "#     #     cprime, t_o = algo.eta_params\n",
    "#     #     x = range(t_o, t_o+train_steps+1)\n",
    "#     #     appx_func = [40/float(t) for t in x]\n",
    "#         y_array, y_array_err = zip(*evaluations_over_var)\n",
    "#         #print(np.array(y_array))\n",
    "#         #fig, ax = plt.subplots()\n",
    "#         y = np.array(y_array)[:,-1]\n",
    "#         y_err = np.array(y_array_err)[:,-1]\n",
    "#         if varname == 'learn_rate':\n",
    "#             myxticks = value_list\n",
    "#             print(myxticks)\n",
    "#             x = range(len(myxticks))\n",
    "#             ax.set_xticks(x)\n",
    "#             ax.set_xticklabels(myxticks)\n",
    "#             ax.scatter(x, y)\n",
    "#         else:\n",
    "#     #         myxticks = value_list\n",
    "#     #         print(myxticks)\n",
    "#     #         #x = range(len(myxticks))\n",
    "#     #         xlist = map(float,value_list)\n",
    "#     #         ax.set_xticks(xlist)\n",
    "#     #         ax.set_xticklabels(myxticks)\n",
    "#             #ax.scatter(value_list, y)\n",
    "#             #ax.plot([0],y[0],'r*')\n",
    "#             start_idx = fname.index('w')\n",
    "#             ax.plot(value_list, y, '--o', label=fname[start_idx:])\n",
    "#             #ax.plot(value_list,y2, '--ro', label = 'original')\n",
    "#             ax.legend(loc=4)\n",
    "#         #ax.set_xlim(xmin=-2)\n",
    "#     # for idx, y in enumerate(y_array.tolist()):\n",
    "#     #     string = ('%s = %s' %(varname, str(value_list[idx])))\n",
    "#     #     y_err = y_err_array[idx]\n",
    "#     #     ax.errorbar(x, y, yerr=y_err, errorevery=200, label=string)\n",
    "#     # ax.plot(time_pts, avg1[:101])\n",
    "#     # ax.plot(time_pts, avg2[:101])\n",
    "#     #ax.errorbar(x, y, yerr=yerr, errorevery=200, label=arguments['<algo>'])\n",
    "#     #ax.plot(x, appx_func, label='theoretical bound')\n",
    "#     #ax.set_title('squared sin loss vs %s' %varname)\n",
    "#     ax.set_title('loss versus dimension with different network widths')\n",
    "#     ax.set_xlabel('data dimension')\n",
    "#     ax.set_ylabel('squared sine error')\n",
    "# #     pvalues_list = pvalues.split(',')\n",
    "# #     pvalues = '_'.join(pvalues_list)\n",
    "#     if varname == 'learn_rate':\n",
    "#         value_list = ['-'.join(v.split(',')) for v in value_list]\n",
    "#     vvalues = '_'.join(value_list)\n",
    "#     #plt.show()\n",
    "#     #fname = algo +'_'+ pname +'_'+pvalues+'_'+ varname +'_' + vvalues\n",
    "#     fname = algo +'_'+ varname +'_' + vvalues\n",
    "#     fig.savefig(fname+'.eps')\n",
    "#     #_ = maybe_pickle(fname, data=[y_array, y_err_array])"
   ]
  },
  {
   "cell_type": "code",
   "execution_count": null,
   "metadata": {
    "collapsed": false
   },
   "outputs": [],
   "source": [
    "# fnames = list()\n",
    "# fname = 'norm_controlled_data_dim_32_data_dim_2_4_8_16_32width'\n",
    "# for i in range(4):\n",
    "#     fnames.append(fname + str(2**(i+2)))\n",
    "# #fname2 = 'norm_controlled_data_dim_32_data_dim_2_4_8_16_32width8'\n",
    "# #pname = 'batch_size'\n",
    "# #pvalues = '1,200-0-100'\n",
    "# varname = 'data_dim'\n",
    "# value_list = map(str, [4,8,16,32,64])\n",
    "# algo = 'norm_controlled'\n",
    "# get_data_and_plot(fnames, 0, 0, varname, value_list, algo)"
   ]
  },
  {
   "cell_type": "code",
   "execution_count": null,
   "metadata": {
    "collapsed": true
   },
   "outputs": [],
   "source": []
  },
  {
   "cell_type": "code",
   "execution_count": null,
   "metadata": {
    "collapsed": true
   },
   "outputs": [],
   "source": []
  },
  {
   "cell_type": "code",
   "execution_count": null,
   "metadata": {
    "collapsed": true
   },
   "outputs": [],
   "source": []
  }
 ],
 "metadata": {
  "anaconda-cloud": {},
  "kernelspec": {
   "display_name": "Python [Root]",
   "language": "python",
   "name": "Python [Root]"
  },
  "language_info": {
   "codemirror_mode": {
    "name": "ipython",
    "version": 2
   },
   "file_extension": ".py",
   "mimetype": "text/x-python",
   "name": "python",
   "nbconvert_exporter": "python",
   "pygments_lexer": "ipython2",
   "version": "2.7.12"
  }
 },
 "nbformat": 4,
 "nbformat_minor": 0
}

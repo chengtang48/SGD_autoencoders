{
 "cells": [
  {
   "cell_type": "code",
   "execution_count": 1,
   "metadata": {},
   "outputs": [
    {
     "name": "stderr",
     "output_type": "stream",
     "text": [
      "/Users/tcheng/.pyenv/versions/anaconda3-5.2.0/lib/python3.6/importlib/_bootstrap.py:219: RuntimeWarning: compiletime version 3.5 of module 'tensorflow.python.framework.fast_tensor_util' does not match runtime version 3.6\n",
      "  return f(*args, **kwds)\n",
      "/Users/tcheng/.pyenv/versions/anaconda3-5.2.0/lib/python3.6/site-packages/h5py/__init__.py:36: FutureWarning: Conversion of the second argument of issubdtype from `float` to `np.floating` is deprecated. In future, it will be treated as `np.float64 == np.dtype(float).type`.\n",
      "  from ._conv import register_converters as _register_converters\n"
     ]
    }
   ],
   "source": [
    "from krasulina import KrasulinaPCA, get_random_orthogonal_initializer, get_eigenvecs\n",
    "from vr_pca import VRPCA, get_default_learning_rate\n",
    "from oja import Oja\n",
    "import numpy as np\n",
    "import math"
   ]
  },
  {
   "cell_type": "code",
   "execution_count": 2,
   "metadata": {},
   "outputs": [],
   "source": [
    "import matplotlib.pyplot as plt\n",
    "import matplotlib\n",
    "matplotlib.rcParams['text.usetex'] = True\n",
    "matplotlib.rcParams['text.latex.unicode'] = True\n",
    "%matplotlib inline"
   ]
  },
  {
   "cell_type": "markdown",
   "metadata": {},
   "source": [
    "## MNIST"
   ]
  },
  {
   "cell_type": "code",
   "execution_count": 3,
   "metadata": {},
   "outputs": [],
   "source": [
    "from mnist import MNIST\n",
    "from sklearn.decomposition import PCA\n",
    "\n",
    "mndata = MNIST('python-mnist/data')\n",
    "images, labels = mndata.load_training()"
   ]
  },
  {
   "cell_type": "code",
   "execution_count": 4,
   "metadata": {},
   "outputs": [
    {
     "name": "stdout",
     "output_type": "stream",
     "text": [
      "60000 784\n"
     ]
    }
   ],
   "source": [
    "import numpy as np\n",
    "\n",
    "images_array = np.array([np.array(data_pt) for data_pt in images])\n",
    "n_samples, n_features = images_array.shape\n",
    "print(n_samples, n_features)"
   ]
  },
  {
   "cell_type": "code",
   "execution_count": 5,
   "metadata": {},
   "outputs": [],
   "source": [
    "images_centered = images_array - images_array.mean(axis=0)"
   ]
  },
  {
   "cell_type": "code",
   "execution_count": 6,
   "metadata": {},
   "outputs": [],
   "source": [
    "from sklearn import decomposition\n",
    "\n",
    "pca = decomposition.PCA(n_components=0.8, svd_solver='full')"
   ]
  },
  {
   "cell_type": "code",
   "execution_count": 7,
   "metadata": {},
   "outputs": [
    {
     "data": {
      "text/plain": [
       "44"
      ]
     },
     "execution_count": 7,
     "metadata": {},
     "output_type": "execute_result"
    }
   ],
   "source": [
    "pca.fit(images_centered)\n",
    "\n",
    "pca.n_components_"
   ]
  },
  {
   "cell_type": "code",
   "execution_count": 8,
   "metadata": {},
   "outputs": [
    {
     "data": {
      "text/plain": [
       "[<matplotlib.lines.Line2D at 0x1a1ff184e0>]"
      ]
     },
     "execution_count": 8,
     "metadata": {},
     "output_type": "execute_result"
    },
    {
     "data": {
      "image/png": "[encoded data removed]",
      "text/plain": [
       "<Figure size 432x288 with 1 Axes>"
      ]
     },
     "metadata": {},
     "output_type": "display_data"
    }
   ],
   "source": [
    "plt.plot(list(range(pca.n_components_)), pca.explained_variance_, 'o')"
   ]
  },
  {
   "cell_type": "code",
   "execution_count": 9,
   "metadata": {},
   "outputs": [
    {
     "name": "stdout",
     "output_type": "stream",
     "text": [
      "Number of used components 44\n",
      "Largest eigenvalue: 332724.66744656884, smallest eigenvalue 13652.82314029589\n"
     ]
    }
   ],
   "source": [
    "print('Number of used components', pca.n_components_)\n",
    "print('Largest eigenvalue: {}, smallest eigenvalue {}'.format(pca.explained_variance_[0], pca.explained_variance_[-1]))"
   ]
  },
  {
   "cell_type": "code",
   "execution_count": 10,
   "metadata": {},
   "outputs": [],
   "source": [
    "k = 44\n",
    "d = n_features\n",
    "_init_weights = get_random_orthogonal_initializer(k, d, seed=0)\n",
    "\n",
    "n_train = len(images_centered)\n",
    "\n",
    "n_runs = 5"
   ]
  },
  {
   "cell_type": "code",
   "execution_count": 11,
   "metadata": {},
   "outputs": [],
   "source": [
    "import random\n",
    "#random.seed(0)\n",
    "\n",
    "\n",
    "algo_list = []\n",
    "vr_algo_list = []\n",
    "oja_decay_list = []\n",
    "oja_const_list = []\n",
    "#random.shuffle(images_centered.copy())"
   ]
  },
  {
   "cell_type": "code",
   "execution_count": 12,
   "metadata": {},
   "outputs": [
    {
     "name": "stdout",
     "output_type": "stream",
     "text": [
      "The initial mse: 194491802709.52182\n",
      "The initial loss: 41.46361612121025\n",
      "The loss at the 0-th epoch 24000-th iteration is 3.783405607749927\n",
      "The loss at the 0-th epoch 48000-th iteration is 1.932266604303551\n",
      "Finished training 1-th epoch with total 60000 iterations\n",
      "The current learning rate is 1e-08\n",
      "The loss at the 1-th epoch 72000-th iteration is 1.6166341628205116\n",
      "The loss at the 1-th epoch 96000-th iteration is 1.251420046767695\n",
      "Finished training 2-th epoch with total 120000 iterations\n",
      "The current learning rate is 1e-08\n",
      "The loss at the 2-th epoch 120000-th iteration is 1.0374968041920338\n",
      "The loss at the 2-th epoch 144000-th iteration is 1.0542727297635\n",
      "The loss at the 2-th epoch 168000-th iteration is 0.8962875920269934\n",
      "Finished training 3-th epoch with total 180000 iterations\n",
      "The current learning rate is 1e-08\n",
      "The loss at the 3-th epoch 192000-th iteration is 0.9647719451620491\n",
      "The loss at the 3-th epoch 216000-th iteration is 0.7787830379214382\n",
      "Finished training 4-th epoch with total 240000 iterations\n",
      "The current learning rate is 1e-08\n",
      "The loss at the 4-th epoch 240000-th iteration is 0.6216228076230513\n",
      "The initial mse: 194331236780.2285\n",
      "The initial loss: 41.46361612121025\n",
      "The loss at the 0-th epoch 24000-th iteration is 3.7598655189360257\n",
      "The loss at the 0-th epoch 48000-th iteration is 2.0180635233709214\n",
      "Finished training 1-th epoch with total 60000 iterations\n",
      "The current learning rate is 1e-08\n",
      "The loss at the 1-th epoch 72000-th iteration is 1.805838032961736\n",
      "The loss at the 1-th epoch 96000-th iteration is 1.2489271981723715\n",
      "Finished training 2-th epoch with total 120000 iterations\n",
      "The current learning rate is 1e-08\n",
      "The loss at the 2-th epoch 120000-th iteration is 0.882757864068487\n",
      "The loss at the 2-th epoch 144000-th iteration is 0.8248169423317534\n",
      "The loss at the 2-th epoch 168000-th iteration is 0.6576258154551614\n",
      "Finished training 3-th epoch with total 180000 iterations\n",
      "The current learning rate is 1e-08\n",
      "The loss at the 3-th epoch 192000-th iteration is 0.7608534385092902\n",
      "The loss at the 3-th epoch 216000-th iteration is 0.5445881791070462\n",
      "Finished training 4-th epoch with total 240000 iterations\n",
      "The current learning rate is 1e-08\n",
      "The loss at the 4-th epoch 240000-th iteration is 0.43965479397507046\n",
      "The initial mse: 194480779210.72614\n",
      "The initial loss: 41.46361612121025\n",
      "The loss at the 0-th epoch 24000-th iteration is 3.8112719647482463\n",
      "The loss at the 0-th epoch 48000-th iteration is 1.9726958270892674\n",
      "Finished training 1-th epoch with total 60000 iterations\n",
      "The current learning rate is 1e-08\n",
      "The loss at the 1-th epoch 72000-th iteration is 1.6822509531120127\n",
      "The loss at the 1-th epoch 96000-th iteration is 1.2192287322476258\n",
      "Finished training 2-th epoch with total 120000 iterations\n",
      "The current learning rate is 1e-08\n",
      "The loss at the 2-th epoch 120000-th iteration is 0.9915828354836361\n",
      "The loss at the 2-th epoch 144000-th iteration is 1.0032910556463945\n",
      "The loss at the 2-th epoch 168000-th iteration is 0.8574634490756439\n",
      "Finished training 3-th epoch with total 180000 iterations\n",
      "The current learning rate is 1e-08\n",
      "The loss at the 3-th epoch 192000-th iteration is 0.9458757257999131\n",
      "The loss at the 3-th epoch 216000-th iteration is 0.7350520751068162\n",
      "Finished training 4-th epoch with total 240000 iterations\n",
      "The current learning rate is 1e-08\n",
      "The loss at the 4-th epoch 240000-th iteration is 0.6169458389975838\n",
      "The initial mse: 194510239175.56348\n",
      "The initial loss: 41.46361612121025\n",
      "The loss at the 0-th epoch 24000-th iteration is 3.7329671286323824\n",
      "The loss at the 0-th epoch 48000-th iteration is 2.0133925934809254\n",
      "Finished training 1-th epoch with total 60000 iterations\n",
      "The current learning rate is 1e-08\n",
      "The loss at the 1-th epoch 72000-th iteration is 1.8077531641215305\n",
      "The loss at the 1-th epoch 96000-th iteration is 1.4464248341478854\n",
      "Finished training 2-th epoch with total 120000 iterations\n",
      "The current learning rate is 1e-08\n",
      "The loss at the 2-th epoch 120000-th iteration is 1.3000389652155429\n",
      "The loss at the 2-th epoch 144000-th iteration is 1.302518233484896\n",
      "The loss at the 2-th epoch 168000-th iteration is 1.216735491059589\n",
      "Finished training 3-th epoch with total 180000 iterations\n",
      "The current learning rate is 1e-08\n",
      "The loss at the 3-th epoch 192000-th iteration is 1.3790689219631145\n",
      "The loss at the 3-th epoch 216000-th iteration is 1.2458219378923787\n",
      "Finished training 4-th epoch with total 240000 iterations\n",
      "The current learning rate is 1e-08\n",
      "The loss at the 4-th epoch 240000-th iteration is 1.2172001667068741\n",
      "The initial mse: 194907500269.15173\n",
      "The initial loss: 41.46361612121025\n",
      "The loss at the 0-th epoch 24000-th iteration is 3.8595436817587947\n",
      "The loss at the 0-th epoch 48000-th iteration is 1.8239373664251106\n",
      "Finished training 1-th epoch with total 60000 iterations\n",
      "The current learning rate is 1e-08\n",
      "The loss at the 1-th epoch 72000-th iteration is 1.4617427834205843\n",
      "The loss at the 1-th epoch 96000-th iteration is 1.0267586936953084\n",
      "Finished training 2-th epoch with total 120000 iterations\n",
      "The current learning rate is 1e-08\n",
      "The loss at the 2-th epoch 120000-th iteration is 0.7799282939349741\n",
      "The loss at the 2-th epoch 144000-th iteration is 0.781288759732311\n",
      "The loss at the 2-th epoch 168000-th iteration is 0.6192572763657389\n",
      "Finished training 3-th epoch with total 180000 iterations\n",
      "The current learning rate is 1e-08\n",
      "The loss at the 3-th epoch 192000-th iteration is 0.7244575110021724\n",
      "The loss at the 3-th epoch 216000-th iteration is 0.5349734113370781\n",
      "Finished training 4-th epoch with total 240000 iterations\n",
      "The current learning rate is 1e-08\n",
      "The loss at the 4-th epoch 240000-th iteration is 0.4366599351413827\n"
     ]
    }
   ],
   "source": [
    "for i in range(n_runs):\n",
    "    images_centered_2 = images_centered.copy()\n",
    "    random.seed(i)\n",
    "    random.shuffle(images_centered_2)\n",
    "    mb_size = 1\n",
    "    T = 4*int(n_train / float(mb_size))\n",
    "    #lr = (None, 5*1e-09) \n",
    "    lr = (None, 1e-8)\n",
    "    #lr = (None, 1e-07) \n",
    "    log_freq = int(T / 10.0)\n",
    "    algo = KrasulinaPCA(_init_weights, images_centered_2, groundtruth=pca.components_, \n",
    "                    learning_rate=lr, mini_batch_size=1, max_iter=T, log_freq=log_freq)\n",
    "    algo._train()\n",
    "    algo_list.append(algo)"
   ]
  },
  {
   "cell_type": "code",
   "execution_count": 13,
   "metadata": {},
   "outputs": [
    {
     "name": "stdout",
     "output_type": "stream",
     "text": [
      "The loss at the 1-th epoch 0-th iteration is 41.46094310182359\n",
      "The loss at the 1-th epoch 12000-th iteration is 9.964176205754569\n",
      "The loss at the 1-th epoch 24000-th iteration is 3.638255274357978\n",
      "The loss at the 1-th epoch 36000-th iteration is 2.045724847887061\n",
      "The loss at the 1-th epoch 48000-th iteration is 1.4398882252965697\n",
      "The loss at the 3-th epoch is 1.4398882252965697\n",
      "The loss at the 3-th epoch 0-th iteration is 1.1387596864380511\n",
      "The loss at the 3-th epoch 12000-th iteration is 0.895188231680941\n",
      "The loss at the 3-th epoch 24000-th iteration is 0.7922832697223604\n",
      "The loss at the 3-th epoch 36000-th iteration is 0.7107801826179785\n",
      "The loss at the 3-th epoch 48000-th iteration is 0.6465624092688962\n",
      "The loss at the 5-th epoch is 0.6465624092688962\n",
      "The loss at the 1-th epoch 0-th iteration is 41.46094336474883\n",
      "The loss at the 1-th epoch 12000-th iteration is 9.973508157436275\n",
      "The loss at the 1-th epoch 24000-th iteration is 3.654930318105599\n",
      "The loss at the 1-th epoch 36000-th iteration is 2.088510294794279\n",
      "The loss at the 1-th epoch 48000-th iteration is 1.487225875938483\n",
      "The loss at the 3-th epoch is 1.487225875938483\n",
      "The loss at the 3-th epoch 0-th iteration is 1.058151779656686\n",
      "The loss at the 3-th epoch 12000-th iteration is 0.7177887318472977\n",
      "The loss at the 3-th epoch 24000-th iteration is 0.5612621470074182\n",
      "The loss at the 3-th epoch 36000-th iteration is 0.4698963478179991\n",
      "The loss at the 3-th epoch 48000-th iteration is 0.40842429968521743\n",
      "The loss at the 5-th epoch is 0.40842429968521743\n",
      "The loss at the 1-th epoch 0-th iteration is 41.460943859661015\n",
      "The loss at the 1-th epoch 12000-th iteration is 10.009930122296938\n",
      "The loss at the 1-th epoch 24000-th iteration is 3.642421508299689\n",
      "The loss at the 1-th epoch 36000-th iteration is 2.025249695940488\n",
      "The loss at the 1-th epoch 48000-th iteration is 1.4311673312599358\n",
      "The loss at the 3-th epoch is 1.4311673312599358\n",
      "The loss at the 3-th epoch 0-th iteration is 1.1349648471826501\n",
      "The loss at the 3-th epoch 12000-th iteration is 0.8947356385384759\n",
      "The loss at the 3-th epoch 24000-th iteration is 0.7967557127954988\n",
      "The loss at the 3-th epoch 36000-th iteration is 0.7248475594487996\n",
      "The loss at the 3-th epoch 48000-th iteration is 0.6608382810709685\n",
      "The loss at the 5-th epoch is 0.6608382810709685\n",
      "The loss at the 1-th epoch 0-th iteration is 41.460940196143255\n",
      "The loss at the 1-th epoch 12000-th iteration is 10.020294980050338\n",
      "The loss at the 1-th epoch 24000-th iteration is 3.5943692969016494\n",
      "The loss at the 1-th epoch 36000-th iteration is 2.044075024188994\n",
      "The loss at the 1-th epoch 48000-th iteration is 1.4567631160286214\n",
      "The loss at the 3-th epoch is 1.4567631160286214\n",
      "The loss at the 3-th epoch 0-th iteration is 1.118293172882302\n",
      "The loss at the 3-th epoch 12000-th iteration is 0.8452336193034572\n",
      "The loss at the 3-th epoch 24000-th iteration is 0.7174610033308046\n",
      "The loss at the 3-th epoch 36000-th iteration is 0.629297909369391\n",
      "The loss at the 3-th epoch 48000-th iteration is 0.5581287731282096\n",
      "The loss at the 5-th epoch is 0.5581287731282096\n",
      "The loss at the 1-th epoch 0-th iteration is 41.46093878270335\n",
      "The loss at the 1-th epoch 12000-th iteration is 9.982500065718638\n",
      "The loss at the 1-th epoch 24000-th iteration is 3.6570569408429785\n",
      "The loss at the 1-th epoch 36000-th iteration is 2.1036732120649173\n",
      "The loss at the 1-th epoch 48000-th iteration is 1.5269165155050928\n",
      "The loss at the 3-th epoch is 1.5269165155050928\n",
      "The loss at the 3-th epoch 0-th iteration is 1.2019818030739224\n",
      "The loss at the 3-th epoch 12000-th iteration is 0.9187295058553336\n",
      "The loss at the 3-th epoch 24000-th iteration is 0.7897279959394796\n",
      "The loss at the 3-th epoch 36000-th iteration is 0.7006085230100927\n",
      "The loss at the 3-th epoch 48000-th iteration is 0.6298041136870186\n",
      "The loss at the 5-th epoch is 0.6298041136870186\n"
     ]
    }
   ],
   "source": [
    "for i in range(n_runs):\n",
    "    images_centered_2 = images_centered.copy()\n",
    "    random.seed(i)\n",
    "    random.shuffle(images_centered_2)\n",
    "    n_epoch = 2\n",
    "    #lr = get_default_learning_rate(vgg_centered)\n",
    "    lr = 1e-08  \n",
    "    vr_algo = VRPCA(_init_weights, images_centered_2, pca.components_, lr, n_train, \n",
    "                n_epoch, log_freq=n_epoch*int(n_train/10.0))\n",
    "    vr_algo._train()\n",
    "    vr_algo_list.append(vr_algo)"
   ]
  },
  {
   "cell_type": "code",
   "execution_count": 14,
   "metadata": {},
   "outputs": [],
   "source": [
    "# mb_size = 1\n",
    "# T = 4*int(n_train / float(mb_size))\n",
    "\n",
    "# #lr = (None, 1e-09*5) \n",
    "# #lr = (1e-09*5, 100)\n",
    "# lr = (1e-06, 1e-09*5) \n",
    "# log_freq = int(T / 10.0)\n",
    "# oja_algo = Oja(_init_weights, vgg_centered, groundtruth=pca.components_, \n",
    "#                     learning_rate=lr, mini_batch_size=1, max_iter=T, log_freq=log_freq)"
   ]
  },
  {
   "cell_type": "code",
   "execution_count": 16,
   "metadata": {},
   "outputs": [
    {
     "name": "stdout",
     "output_type": "stream",
     "text": [
      "The loss at the 1-th epoch 0-th iteration is 13.818394901709699\n",
      "The loss at the 1-th epoch 12000-th iteration is 9.98817687266705\n",
      "The loss at the 1-th epoch 24000-th iteration is 9.954352063682293\n",
      "The loss at the 1-th epoch 36000-th iteration is 10.07132486106147\n",
      "The loss at the 1-th epoch 48000-th iteration is 10.028968538683504\n",
      "The loss at the 3-th epoch is 10.028968538683504\n",
      "The loss at the 3-th epoch 0-th iteration is 5.174374905308621\n",
      "The loss at the 3-th epoch 12000-th iteration is 5.007792364346804\n",
      "The loss at the 3-th epoch 24000-th iteration is 5.241738723889813\n",
      "The loss at the 3-th epoch 36000-th iteration is 5.131119689509754\n",
      "The loss at the 3-th epoch 48000-th iteration is 5.151323062483044\n",
      "The loss at the 5-th epoch is 5.151323062483044\n",
      "The loss at the 1-th epoch 0-th iteration is 13.818559096845673\n",
      "The loss at the 1-th epoch 12000-th iteration is 9.996176050848883\n",
      "The loss at the 1-th epoch 24000-th iteration is 10.078167029938825\n",
      "The loss at the 1-th epoch 36000-th iteration is 10.00767049458299\n",
      "The loss at the 1-th epoch 48000-th iteration is 10.046617675672074\n",
      "The loss at the 3-th epoch is 10.046617675672074\n",
      "The loss at the 3-th epoch 0-th iteration is 5.10869413372014\n",
      "The loss at the 3-th epoch 12000-th iteration is 5.221936097772789\n",
      "The loss at the 3-th epoch 24000-th iteration is 5.183698101106655\n",
      "The loss at the 3-th epoch 36000-th iteration is 5.037322633246427\n",
      "The loss at the 3-th epoch 48000-th iteration is 4.935263313125104\n",
      "The loss at the 5-th epoch is 4.935263313125104\n",
      "The loss at the 1-th epoch 0-th iteration is 13.836343982414967\n",
      "The loss at the 1-th epoch 12000-th iteration is 10.011281156557832\n",
      "The loss at the 1-th epoch 24000-th iteration is 10.084761516786267\n",
      "The loss at the 1-th epoch 36000-th iteration is 10.079797634475252\n",
      "The loss at the 1-th epoch 48000-th iteration is 9.979227278289052\n",
      "The loss at the 3-th epoch is 9.979227278289052\n",
      "The loss at the 3-th epoch 0-th iteration is 5.070684159682492\n",
      "The loss at the 3-th epoch 12000-th iteration is 4.756162332012298\n",
      "The loss at the 3-th epoch 24000-th iteration is 5.092555313439137\n",
      "The loss at the 3-th epoch 36000-th iteration is 4.931705260041028\n",
      "The loss at the 3-th epoch 48000-th iteration is 4.901720952654697\n",
      "The loss at the 5-th epoch is 4.901720952654697\n",
      "The loss at the 1-th epoch 0-th iteration is 13.803196400101896\n",
      "The loss at the 1-th epoch 12000-th iteration is 10.049945874801331\n",
      "The loss at the 1-th epoch 24000-th iteration is 9.92208339381497\n",
      "The loss at the 1-th epoch 36000-th iteration is 10.017117828923197\n",
      "The loss at the 1-th epoch 48000-th iteration is 9.979665459792164\n",
      "The loss at the 3-th epoch is 9.979665459792164\n",
      "The loss at the 3-th epoch 0-th iteration is 5.191606800870159\n",
      "The loss at the 3-th epoch 12000-th iteration is 5.2040782969598816\n",
      "The loss at the 3-th epoch 24000-th iteration is 5.046565347031997\n",
      "The loss at the 3-th epoch 36000-th iteration is 5.091674768408204\n",
      "The loss at the 3-th epoch 48000-th iteration is 5.094076210044539\n",
      "The loss at the 5-th epoch is 5.094076210044539\n",
      "The loss at the 1-th epoch 0-th iteration is 13.822222165660992\n",
      "The loss at the 1-th epoch 12000-th iteration is 9.873937358774212\n",
      "The loss at the 1-th epoch 24000-th iteration is 10.095393805479805\n",
      "The loss at the 1-th epoch 36000-th iteration is 9.920240980309107\n",
      "The loss at the 1-th epoch 48000-th iteration is 10.080512617105345\n",
      "The loss at the 3-th epoch is 10.080512617105345\n",
      "The loss at the 3-th epoch 0-th iteration is 5.094883689438172\n",
      "The loss at the 3-th epoch 12000-th iteration is 4.850137531920239\n",
      "The loss at the 3-th epoch 24000-th iteration is 4.942037212434105\n",
      "The loss at the 3-th epoch 36000-th iteration is 4.818479163808119\n",
      "The loss at the 3-th epoch 48000-th iteration is 5.045986156333115\n",
      "The loss at the 5-th epoch is 5.045986156333115\n"
     ]
    }
   ],
   "source": [
    "vr_algo_default_list = []\n",
    "for i in range(n_runs):\n",
    "    images_centered_2 = images_centered.copy()\n",
    "    random.seed(i)\n",
    "    random.shuffle(images_centered_2)\n",
    "    n_epoch = 2\n",
    "    lr = get_default_learning_rate(images_centered)\n",
    "    #lr = 1e-08  \n",
    "    vr_algo_default = VRPCA(_init_weights, images_centered_2, pca.components_, lr, n_train, \n",
    "                n_epoch, log_freq=n_epoch*int(n_train/10.0))\n",
    "    vr_algo_default._train()\n",
    "    vr_algo_default_list.append(vr_algo_default)"
   ]
  },
  {
   "cell_type": "code",
   "execution_count": null,
   "metadata": {},
   "outputs": [],
   "source": [
    "# for _ in range(n_runs):\n",
    "#     mb_size = 1\n",
    "#     T = 1*int(n_train / float(mb_size))\n",
    "#     lr = (1e-4, 1)\n",
    "#     log_freq = int(T / 10.0)\n",
    "#     oja_algo = Oja(_init_weights, images_centered, groundtruth=pca.components_, \n",
    "#                     learning_rate=lr, mini_batch_size=1, max_iter=T, log_freq=log_freq)\n",
    "#     oja_algo._train()\n",
    "#     oja_decay_list.append(oja_algo)\n",
    "    "
   ]
  },
  {
   "cell_type": "code",
   "execution_count": null,
   "metadata": {},
   "outputs": [],
   "source": [
    "# for _ in range(n_runs):\n",
    "#     mb_size = 1\n",
    "#     T = 4*int(n_train / float(mb_size))\n",
    "#     lr = (None, 1e-09*5)\n",
    "#     #lr = (None, 1e-08)\n",
    "#     log_freq = int(T / 10.0)\n",
    "#     oja_algo_ = Oja(_init_weights, images_centered, groundtruth=pca.components_, \n",
    "#                     learning_rate=lr, mini_batch_size=1, max_iter=T, log_freq=log_freq)\n",
    "#     oja_algo_._train()\n",
    "#     oja_const_list.append(oja_algo_)\n",
    "    "
   ]
  },
  {
   "cell_type": "code",
   "execution_count": 31,
   "metadata": {},
   "outputs": [
    {
     "name": "stdout",
     "output_type": "stream",
     "text": [
      "[0.00000000e+00 1.31672730e-04 1.37674275e-03 6.24929542e-03\n",
      " 1.18984650e-02 2.92491428e-02 3.35670740e-02 5.86052297e-02\n",
      " 5.19061598e-02 9.44798666e-02 1.39210058e-01]\n"
     ]
    }
   ],
   "source": [
    "eps = 1e-10\n",
    "\n",
    "log_algo_list = []\n",
    "for algo in algo_list:\n",
    "    log_algo_list.append([math.log(y+eps) for y in algo._groundtruth_eval_log])\n",
    "\n",
    "algo_mean, algo_var = np.mean(np.array(log_algo_list), axis=0), np.var(np.array(log_algo_list), axis=0)\n",
    "\n",
    "print(algo_var)\n",
    "##\n",
    "log_vr_algo_list = []\n",
    "for vr_algo in vr_algo_list:\n",
    "    log_vr_algo_list.append([math.log(y+eps) for y in vr_algo._train_log])\n",
    "\n",
    "vr_algo_mean, vr_algo_var = np.mean(np.array(log_vr_algo_list), axis=0), np.var(np.array(log_vr_algo_list), axis=0)\n",
    "\n",
    "\n",
    "##\n",
    "log_vr_algo_df_list = []\n",
    "for vr_algo in vr_algo_default_list:\n",
    "    log_vr_algo_df_list.append([math.log(y+eps) for y in vr_algo._train_log])\n",
    "\n",
    "vr_algo_df_mean, vr_algo_df_var = np.mean(np.array(log_vr_algo_df_list), axis=0), np.var(np.array(log_vr_algo_df_list), axis=0)\n",
    "\n",
    "\n",
    "\n",
    "##\n",
    "# log_oja_decay_list = []\n",
    "# for oja_decay in oja_decay_list:\n",
    "#     log_oja_decay_list.append([math.log(y+eps) for y in oja_decay._groundtruth_eval_log])\n",
    "\n",
    "# oja_decay_mean, oja_decay_var = np.mean(np.array(log_oja_decay_list), axis=0), np.var(np.array(log_oja_decay_list), axis=0)\n",
    "\n",
    "\n",
    "##\n",
    "# log_oja_const_list = []\n",
    "# for oja_const in oja_const_list:\n",
    "#     log_oja_const_list.append([math.log(y+eps) for y in oja_const._groundtruth_eval_log])\n",
    "\n",
    "# oja_const_mean, oja_const_var = np.mean(np.array(log_oja_const_list), axis=0), np.var(np.array(log_oja_const_list),axis=0)"
   ]
  },
  {
   "cell_type": "code",
   "execution_count": 18,
   "metadata": {},
   "outputs": [],
   "source": [
    "import matplotlib.pyplot as plt\n",
    "import matplotlib\n",
    "matplotlib.rcParams['text.usetex'] = True\n",
    "matplotlib.rcParams['text.latex.unicode'] = True\n",
    "%matplotlib inline"
   ]
  },
  {
   "cell_type": "code",
   "execution_count": 39,
   "metadata": {},
   "outputs": [],
   "source": [
    "frac_epoch = [0]+[0.4*t for t in range(1, 11)]\n",
    "#vrpca_frac_epoch = [1 + t for t in frac_epoch]\n",
    "vrpca_frac_epoch = [0]+[1.2, 1.4, 1.6, 1.8, 3, 3.2, 3.4, 3.6, 3.8]"
   ]
  },
  {
   "cell_type": "code",
   "execution_count": 45,
   "metadata": {},
   "outputs": [
    {
     "data": {
      "image/png": "[encoded data removed]",
      "text/plain": [
       "<Figure size 432x288 with 1 Axes>"
      ]
     },
     "metadata": {},
     "output_type": "display_data"
    }
   ],
   "source": [
    "plt.errorbar(frac_epoch, algo_mean, algo_var, marker='o', label='krasulina')\n",
    "#plt.plot(frac_epoch, oja_decay_mean[1:], '--*', label=r'oja')\n",
    "#plt.plot(frac_epoch, oja_const_mean[1:], '--s', label=r'oja-$\\eta$: constant')\n",
    "plt.errorbar(vrpca_frac_epoch, vr_algo_mean, vr_algo_var, marker='s', label='vr-pca')\n",
    "#plt.errorbar(vrpca_frac_epoch, vr_algo_df_mean, vr_algo_df_var, label='vr-pca: default $\\eta$')\n",
    "plt.axvline(x=1, color='r', linestyle='--')\n",
    "plt.legend()\n",
    "plt.xlabel('number of data passes')\n",
    "plt.ylabel('log-loss')\n",
    "plt.title('MNIST data')\n",
    "plt.savefig('mnist_4_passes-cut.png')"
   ]
  },
  {
   "cell_type": "code",
   "execution_count": null,
   "metadata": {},
   "outputs": [],
   "source": []
  },
  {
   "cell_type": "code",
   "execution_count": null,
   "metadata": {},
   "outputs": [],
   "source": []
  }
 ],
 "metadata": {
  "kernelspec": {
   "display_name": "Python 3",
   "language": "python",
   "name": "python3"
  },
  "language_info": {
   "codemirror_mode": {
    "name": "ipython",
    "version": 3
   },
   "file_extension": ".py",
   "mimetype": "text/x-python",
   "name": "python",
   "nbconvert_exporter": "python",
   "pygments_lexer": "ipython3",
   "version": "3.6.5"
  }
 },
 "nbformat": 4,
 "nbformat_minor": 2
}

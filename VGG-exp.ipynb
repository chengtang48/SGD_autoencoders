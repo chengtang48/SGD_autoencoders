{
 "cells": [
  {
   "cell_type": "code",
   "execution_count": 1,
   "metadata": {},
   "outputs": [
    {
     "name": "stderr",
     "output_type": "stream",
     "text": [
      "/Users/tcheng/.pyenv/versions/anaconda3-5.2.0/lib/python3.6/importlib/_bootstrap.py:219: RuntimeWarning: compiletime version 3.5 of module 'tensorflow.python.framework.fast_tensor_util' does not match runtime version 3.6\n",
      "  return f(*args, **kwds)\n",
      "/Users/tcheng/.pyenv/versions/anaconda3-5.2.0/lib/python3.6/site-packages/h5py/__init__.py:36: FutureWarning: Conversion of the second argument of issubdtype from `float` to `np.floating` is deprecated. In future, it will be treated as `np.float64 == np.dtype(float).type`.\n",
      "  from ._conv import register_converters as _register_converters\n"
     ]
    }
   ],
   "source": [
    "from krasulina import KrasulinaPCA, get_random_orthogonal_initializer, get_eigenvecs\n",
    "from vr_pca import VRPCA, get_default_learning_rate\n",
    "from oja import Oja\n",
    "import numpy as np\n",
    "import math"
   ]
  },
  {
   "cell_type": "markdown",
   "metadata": {},
   "source": [
    "## VGG data\n",
    "* script adapted from <https://github.com/cmusatyalab/openface/blob/master/data/vgg/download-and-align.py>"
   ]
  },
  {
   "cell_type": "code",
   "execution_count": 2,
   "metadata": {},
   "outputs": [],
   "source": [
    "import os\n",
    "import cv2\n",
    "\n",
    "def load_vgg(path_to_images):\n",
    "    tot_n_images = 0\n",
    "    for (dirpath, _, _) in os.walk(path_to_images):\n",
    "        tot_n_images += len(os.listdir(dirpath))\n",
    "    print(f\"Total number of aligned images is {tot_n_images}\")\n",
    "    img_data = []\n",
    "    for (dirname, _, filenames) in os.walk(path_to_images):\n",
    "        for im in filenames:\n",
    "            im_path = os.path.join(dirname, im)\n",
    "            grey_img = cv2.imread(im_path, 0)\n",
    "            img_data.append(grey_img.flatten())\n",
    "    dataset = np.stack(img_data, axis=0)\n",
    "    return dataset"
   ]
  },
  {
   "cell_type": "code",
   "execution_count": 3,
   "metadata": {},
   "outputs": [
    {
     "name": "stdout",
     "output_type": "stream",
     "text": [
      "Total number of aligned images is 10826\n"
     ]
    }
   ],
   "source": [
    "vgg_data = load_vgg('aligned')"
   ]
  },
  {
   "cell_type": "code",
   "execution_count": 5,
   "metadata": {},
   "outputs": [
    {
     "data": {
      "text/plain": [
       "(10806, 2304)"
      ]
     },
     "execution_count": 5,
     "metadata": {},
     "output_type": "execute_result"
    }
   ],
   "source": [
    "vgg_data.shape"
   ]
  },
  {
   "cell_type": "code",
   "execution_count": 6,
   "metadata": {},
   "outputs": [],
   "source": [
    "n_samples, n_features = vgg_data.shape\n",
    "# global centering\n",
    "vgg_centered = vgg_data - vgg_data.mean(axis=0)"
   ]
  },
  {
   "cell_type": "code",
   "execution_count": 7,
   "metadata": {},
   "outputs": [],
   "source": [
    "from sklearn import decomposition\n",
    "\n",
    "#pca = decomposition.PCA(n_components=0.8, svd_solver='full')\n",
    "pca = decomposition.PCA(svd_solver='full')"
   ]
  },
  {
   "cell_type": "code",
   "execution_count": 8,
   "metadata": {},
   "outputs": [
    {
     "data": {
      "text/plain": [
       "PCA(copy=True, iterated_power='auto', n_components=None, random_state=None,\n",
       "  svd_solver='full', tol=0.0, whiten=False)"
      ]
     },
     "execution_count": 8,
     "metadata": {},
     "output_type": "execute_result"
    }
   ],
   "source": [
    "pca.fit(vgg_centered)"
   ]
  },
  {
   "cell_type": "code",
   "execution_count": 9,
   "metadata": {},
   "outputs": [
    {
     "data": {
      "image/png": "[encoded data removed]",
      "text/plain": [
       "<Figure size 432x288 with 1 Axes>"
      ]
     },
     "metadata": {},
     "output_type": "display_data"
    }
   ],
   "source": [
    "import matplotlib.pyplot as plt\n",
    "import matplotlib\n",
    "#matplotlib.rcParams['text.usetex'] = True\n",
    "#matplotlib.rcParams['text.latex.unicode'] = True\n",
    "%matplotlib inline\n",
    "\n",
    "plt.plot(list(range(pca.n_components_)), pca.explained_variance_, 'ro')\n",
    "plt.ylabel('eigenvalues')\n",
    "plt.title('Spectral decay of VGG dataset')\n",
    "plt.savefig('vgg_spectrum.png', dpi=300)"
   ]
  },
  {
   "cell_type": "code",
   "execution_count": null,
   "metadata": {},
   "outputs": [],
   "source": [
    "print('Number of used components', pca.n_components_)\n",
    "print('Largest eigenvalue: {}, smallest eigenvalue {}'.format(pca.explained_variance_[0], pca.explained_variance_[-1]))"
   ]
  },
  {
   "cell_type": "code",
   "execution_count": null,
   "metadata": {},
   "outputs": [],
   "source": [
    "k = 6\n",
    "d = n_features\n",
    "_init_weights = get_random_orthogonal_initializer(k, d, seed=0)\n",
    "\n",
    "n_train = len(vgg_centered)\n",
    "\n",
    "n_runs = 5"
   ]
  },
  {
   "cell_type": "code",
   "execution_count": null,
   "metadata": {},
   "outputs": [],
   "source": [
    "# mb_size = 1\n",
    "# T = int(n_train / float(mb_size))\n",
    "\n",
    "# lr = (None, 5*1e-09) \n",
    "# log_freq = int(T / 10.0)\n",
    "# algo = KrasulinaPCA(_init_weights, vgg_centered, groundtruth=pca.components_, \n",
    "#                     learning_rate=lr, mini_batch_size=1, max_iter=T, log_freq=log_freq)"
   ]
  },
  {
   "cell_type": "code",
   "execution_count": null,
   "metadata": {},
   "outputs": [],
   "source": [
    "#algo._train()"
   ]
  },
  {
   "cell_type": "code",
   "execution_count": null,
   "metadata": {},
   "outputs": [],
   "source": [
    "import random\n",
    "#random.seed(0)\n",
    "\n",
    "\n",
    "algo_list = []\n",
    "vr_algo_list = []\n",
    "oja_decay_list = []\n",
    "oja_const_list = []\n",
    "#random.shuffle(vgg_centered)"
   ]
  },
  {
   "cell_type": "code",
   "execution_count": null,
   "metadata": {},
   "outputs": [],
   "source": [
    "for i in range(n_runs):\n",
    "    vgg_centered_2 = vgg_centered.copy()\n",
    "    random.seed(i)\n",
    "    random.shuffle(vgg_centered_2)\n",
    "    mb_size = 1\n",
    "    T = 4*int(n_train / float(mb_size))\n",
    "    lr = (None, 3*1e-09) \n",
    "    #lr = (None, 1e-08) \n",
    "    #lr = (1e-05, 1)\n",
    "    log_freq = int(T / 10.0)\n",
    "    algo = KrasulinaPCA(_init_weights, vgg_centered_2, groundtruth=pca.components_, \n",
    "                    learning_rate=lr, mini_batch_size=1, max_iter=T, log_freq=log_freq)\n",
    "    algo._train()\n",
    "    algo_list.append(algo)"
   ]
  },
  {
   "cell_type": "code",
   "execution_count": null,
   "metadata": {},
   "outputs": [],
   "source": [
    "# n_epoch = 2\n",
    "# #lr = get_default_learning_rate(vgg_centered)\n",
    "# lr = 1e-09 * 5\n",
    "# #lr = 1e-09\n",
    "# #lr = (0.001, 10)\n",
    "# vr_algo = VRPCA(_init_weights, vgg_centered, pca.components_, lr, n_train, \n",
    "#                 n_epoch, log_freq=n_epoch*int(n_train/10.0))"
   ]
  },
  {
   "cell_type": "code",
   "execution_count": null,
   "metadata": {},
   "outputs": [],
   "source": [
    "#vr_algo._train()"
   ]
  },
  {
   "cell_type": "code",
   "execution_count": null,
   "metadata": {},
   "outputs": [],
   "source": [
    "for i in range(n_runs):\n",
    "    vgg_centered_2 = vgg_centered.copy()\n",
    "    random.seed(i)\n",
    "    random.shuffle(vgg_centered_2)\n",
    "    n_epoch = 2\n",
    "    #lr = get_default_learning_rate(vgg_centered)\n",
    "    #lr = 1e-09 * 3\n",
    "    lr = 1e-08\n",
    "    vr_algo = VRPCA(_init_weights, vgg_centered_2, pca.components_, lr, n_train, \n",
    "                n_epoch, log_freq=n_epoch*int(n_train/10.0))\n",
    "    vr_algo._train()\n",
    "    vr_algo_list.append(vr_algo)"
   ]
  },
  {
   "cell_type": "code",
   "execution_count": null,
   "metadata": {},
   "outputs": [],
   "source": [
    "vr_algo_default_list = []\n",
    "for i in range(n_runs):\n",
    "    vgg_centered_2 = vgg_centered.copy()\n",
    "    random.seed(i)\n",
    "    random.shuffle(vgg_centered_2)\n",
    "    n_epoch = 2\n",
    "    lr = get_default_learning_rate(vgg_centered)\n",
    "    #lr = 1e-08  \n",
    "    vr_algo_default = VRPCA(_init_weights, vgg_centered_2, pca.components_, lr, n_train, \n",
    "                n_epoch, log_freq=n_epoch*int(n_train/10.0))\n",
    "    vr_algo_default._train()\n",
    "    vr_algo_default_list.append(vr_algo_default)"
   ]
  },
  {
   "cell_type": "code",
   "execution_count": null,
   "metadata": {},
   "outputs": [],
   "source": [
    "# for _ in range(n_runs):\n",
    "#     mb_size = 1\n",
    "#     T = 1*int(n_train / float(mb_size))\n",
    "#     lr = (1e-4, 1)\n",
    "#     log_freq = int(T / 10.0)\n",
    "#     oja_algo = Oja(_init_weights, vgg_centered, groundtruth=pca.components_, \n",
    "#                     learning_rate=lr, mini_batch_size=1, max_iter=T, log_freq=log_freq)\n",
    "#     oja_algo._train()\n",
    "#     oja_decay_list.append(oja_algo)\n",
    "    "
   ]
  },
  {
   "cell_type": "code",
   "execution_count": null,
   "metadata": {},
   "outputs": [],
   "source": [
    "# for _ in range(n_runs):\n",
    "#     mb_size = 1\n",
    "#     T = 4*int(n_train / float(mb_size))\n",
    "#     lr = (None, 1e-09*3)\n",
    "#     #lr = (None, 1e-09)\n",
    "#     log_freq = int(T / 10.0)\n",
    "#     oja_algo_ = Oja(_init_weights, vgg_centered, groundtruth=pca.components_, \n",
    "#                     learning_rate=lr, mini_batch_size=1, max_iter=T, log_freq=log_freq)\n",
    "#     oja_algo_._train()\n",
    "#     oja_const_list.append(oja_algo_)\n",
    "    "
   ]
  },
  {
   "cell_type": "code",
   "execution_count": null,
   "metadata": {},
   "outputs": [],
   "source": [
    "eps = 1e-10\n",
    "\n",
    "log_algo_list = []\n",
    "for algo in algo_list:\n",
    "    log_algo_list.append([math.log(y+eps) for y in algo._groundtruth_eval_log])\n",
    "\n",
    "algo_mean, algo_var = np.mean(np.array(log_algo_list), axis=0), np.var(np.array(log_algo_list), axis=0)\n",
    "\n",
    "##\n",
    "log_vr_algo_list = []\n",
    "for vr_algo in vr_algo_list:\n",
    "    log_vr_algo_list.append([math.log(y+eps) for y in vr_algo._train_log])\n",
    "\n",
    "vr_algo_mean, vr_algo_var = np.mean(np.array(log_vr_algo_list), axis=0), np.var(np.array(log_vr_algo_list), axis=0)\n",
    "\n",
    "##\n",
    "log_vr_algo_df_list = []\n",
    "for vr_algo in vr_algo_default_list:\n",
    "    log_vr_algo_df_list.append([math.log(y+eps) for y in vr_algo._train_log])\n",
    "\n",
    "vr_algo_df_mean, vr_algo_df_var = np.mean(np.array(log_vr_algo_df_list), axis=0), np.var(np.array(log_vr_algo_df_list), axis=0)\n",
    "\n",
    "\n",
    "\n",
    "##\n",
    "# log_oja_decay_list = []\n",
    "# for oja_decay in oja_decay_list:\n",
    "#     log_oja_decay_list.append([math.log(y+eps) for y in oja_decay._groundtruth_eval_log])\n",
    "\n",
    "# oja_decay_mean, oja_decay_var = np.mean(np.array(log_oja_decay_list), axis=0), np.var(np.array(log_oja_decay_list), axis=0)\n",
    "\n",
    "\n",
    "##\n",
    "# log_oja_const_list = []\n",
    "# for oja_const in oja_const_list:\n",
    "#     log_oja_const_list.append([math.log(y+eps) for y in oja_const._groundtruth_eval_log])\n",
    "\n",
    "# oja_const_mean, oja_const_var = np.mean(np.array(log_oja_const_list), axis=0), np.var(np.array(log_oja_const_list),axis=0)"
   ]
  },
  {
   "cell_type": "code",
   "execution_count": null,
   "metadata": {},
   "outputs": [],
   "source": [
    "import matplotlib.pyplot as plt\n",
    "import matplotlib\n",
    "matplotlib.rcParams['text.usetex'] = True\n",
    "matplotlib.rcParams['text.latex.unicode'] = True\n",
    "%matplotlib inline"
   ]
  },
  {
   "cell_type": "code",
   "execution_count": null,
   "metadata": {},
   "outputs": [],
   "source": [
    "frac_epoch = [0] + [0.1*t*4 for t in range(1, 11)]\n",
    "#vrpca_frac_epoch = [1 + t for t in frac_epoch]\n",
    "vrpca_frac_epoch = [0] + [1.2, 1.4, 1.6, 1.8, 2, 3, 3.2, 3.4, 3.6, 3.8, 4]"
   ]
  },
  {
   "cell_type": "code",
   "execution_count": null,
   "metadata": {},
   "outputs": [],
   "source": [
    "plt.errorbar(frac_epoch, algo_mean, algo_var, marker='o', label='krasulina')\n",
    "#plt.plot(frac_epoch, oja_decay_mean[1:], '--*', label=r'oja')\n",
    "#plt.plot(frac_epoch, oja_const_mean[1:], '--s', label=r'oja-$\\eta$: constant')\n",
    "plt.errorbar(vrpca_frac_epoch, vr_algo_mean, vr_algo_var, marker='s', label='vr-pca')\n",
    "#plt.errorbar(vrpca_frac_epoch, vr_algo_df_mean, vr_algo_df_var, label='vr-pca: default $\\eta$')\n",
    "plt.axvline(x=1, color='r', linestyle='--')\n",
    "plt.legend()\n",
    "plt.xlabel('number of data passes')\n",
    "plt.ylabel('log-loss')\n",
    "plt.title('VGG data')\n",
    "plt.savefig('vgg_4_passes-cut.png')"
   ]
  },
  {
   "cell_type": "code",
   "execution_count": null,
   "metadata": {},
   "outputs": [],
   "source": []
  },
  {
   "cell_type": "code",
   "execution_count": null,
   "metadata": {},
   "outputs": [],
   "source": [
    "arr = [1,2,3]\n",
    "arr[:2]"
   ]
  },
  {
   "cell_type": "code",
   "execution_count": null,
   "metadata": {},
   "outputs": [],
   "source": []
  }
 ],
 "metadata": {
  "kernelspec": {
   "display_name": "Python 3",
   "language": "python",
   "name": "python3"
  },
  "language_info": {
   "codemirror_mode": {
    "name": "ipython",
    "version": 3
   },
   "file_extension": ".py",
   "mimetype": "text/x-python",
   "name": "python",
   "nbconvert_exporter": "python",
   "pygments_lexer": "ipython3",
   "version": "3.6.5"
  }
 },
 "nbformat": 4,
 "nbformat_minor": 2
}

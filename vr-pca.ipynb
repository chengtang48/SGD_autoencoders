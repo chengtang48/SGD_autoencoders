{
 "cells": [
  {
   "cell_type": "markdown",
   "metadata": {},
   "source": [
    "## VR PCA (block version)\n",
    "\n",
    "Initialize: \\tilde W_o (d by k), eta (learning rate)\n",
    "\n",
    "Inner Iterations: m (epoch length), \\tilde U, \\tilde W_{s-1}, eta\n",
    "\n",
    "    W_o = \\tilde W_{s-1}\n",
    "    for t in 1,..., m:\n",
    "        B_{t-1} <- get_rotation_matrix(W_{t-1}, \\tilde W_{s-1})\n",
    "        Sample x from dataset u.a.r.\n",
    "        W_t_ <- W_{t-1} + eta * (x (x^T W_{t-1} - x^T \\tilde W_{s-1}B_{t-1}) + \\tilde U B_{t-1})\n",
    "        W_t <= W_t_ (W_t_^T W_t_)^{-1/2} (orthonormalization)\n",
    "        \n",
    "Algo: T (number of epochs), \\tilde W_o, eta\n",
    "\n",
    "    for s in 1,...,T:\n",
    "        \\tilde U <- 1/n sum_{i=1}^n x_i (x_i^T \\tilde W_{s-1})\n",
    "        \\tilde W_s <- inner_iterations(m, \\tilde U, \\tilde W_{s-1}, eta)"
   ]
  },
  {
   "cell_type": "code",
   "execution_count": 1,
   "metadata": {},
   "outputs": [],
   "source": [
    "from vr-pca import VRPCA, get_random\n",
    "\n",
    "import numpy as np\n",
    "import scipy as sp\n",
    "import random"
   ]
  },
  {
   "cell_type": "code",
   "execution_count": 2,
   "metadata": {},
   "outputs": [],
   "source": [
    "class VRPCA(object):\n",
    "    def __init__(self, init_weights, train_data, ground_truth, learning_rate, m, T):\n",
    "        \"\"\"\n",
    "        init_weights: k by d\n",
    "        ground_truth: rows of top k eigenvectors of training data, k by d\n",
    "        train_data: rows of data points, n by d\n",
    "        \"\"\"\n",
    "        self.X = train_data\n",
    "        self.W_init = init_weights.transpose()\n",
    "        #self.W = None\n",
    "        self.gt = ground_truth.transpose()\n",
    "        self._set_eta(learning_rate)\n",
    "        self.m = m\n",
    "        self.T = T\n",
    "    \n",
    "    def _train(self):\n",
    "        self._reset_train_logs()\n",
    "        W_tilde = self.W_init\n",
    "        self._register_eval_metrics(W_tilde)\n",
    "        print(f\"The initial loss is {self._train_log[-1]}\")\n",
    "        for t in range(self.T):\n",
    "            U_tilde = 1.0/len(self.X) * np.matmul(np.matmul(self.X.T, self.X), W_tilde)\n",
    "            W_tilde = self._train_inner(U_tilde, W_tilde)\n",
    "            self._register_eval_metrics(W_tilde)\n",
    "            print(f\"The loss at the {t+1}-th epoch is {self._train_log[-1]}\")\n",
    "    \n",
    "    \n",
    "    def _train_inner(self, U_out, W_out):\n",
    "        \n",
    "        W_ = W_out.copy()\n",
    "        for t in range(self.m):\n",
    "            B = get_rotation_matrix(W_, W_out)\n",
    "#             if t == 0 or t == 1:\n",
    "#                 Diff = W - np.matmul(W_out, B)\n",
    "            x = self._get_sample_from_train()\n",
    "            W = svrg_power_iteration_update(x, W_, W_out, U_out, B, self.eta)\n",
    "            W_ = orthonormalize(W)\n",
    "            #self._register_eval_metrics(W_)\n",
    "        return W\n",
    "            \n",
    "            \n",
    "    def _set_eta(self, lr):\n",
    "        self.eta = lr\n",
    "        \n",
    "            \n",
    "    def _get_sample_from_train(self):\n",
    "        # random indx\n",
    "        ridx = random.randint(0, len(self.X)-1)\n",
    "        return self.X[ridx]\n",
    "    \n",
    "    \n",
    "    def _reset_train_logs(self):\n",
    "        self._train_log  = []\n",
    "        \n",
    "    \n",
    "    def _register_eval_metrics(self, weights):\n",
    "        \"\"\"\n",
    "        register the evaluation metrics to train log during training \n",
    "        \"\"\"\n",
    "        loss = eval_with_groundtruth(self.gt.transpose(), weights.transpose())\n",
    "        self._train_log.append(loss)\n",
    "\n",
    "\n",
    "def get_rotation_matrix(W_1, W_2):\n",
    "    \"\"\"\n",
    "    W_1/W_2: d by k\n",
    "    Find the optimal rotation matrix B of W_2\n",
    "    so that it's closest to W_1 in Frobenius norm\n",
    "    \"\"\"\n",
    "    u, _, vh = np.linalg.svd(np.matmul(W_1.T, W_2))\n",
    "    return np.matmul(u, vh).transpose()\n",
    "\n",
    "\n",
    "def svrg_power_iteration_update(x, W, W_out, U_out, B, learning_rate):\n",
    "    \"\"\"\n",
    "    Perform one iteration of SVRG update on W\n",
    "    \"\"\"\n",
    "    A_tilde = np.matmul(np.expand_dims(x, axis=1), np.expand_dims(x, axis=0)) # check A_tilde\n",
    "    Dif = W - np.matmul(W_out, B)\n",
    "    #print(A_tilde.shape)\n",
    "    #print(Dif.shape)\n",
    "    Imp = np.matmul(A_tilde, Dif) + np.matmul(U_out, B)\n",
    "    W_ = W + learning_rate * Imp \n",
    "    return orthonormalize(W_)\n",
    "\n",
    "\n",
    "def orthonormalize(W):\n",
    "    W_sqrt = sp.linalg.sqrtm(np.matmul(W.T, W))\n",
    "    #print(sp.linalg.sqrtm(np.matmul(W.T, W)))\n",
    "    W_sqrt_inv = np.linalg.inv(W_sqrt) \n",
    "    return np.matmul(W, W_sqrt_inv) \n",
    "\n",
    "\n",
    "def eval_with_groundtruth(groundtruth, weights):\n",
    "    \"\"\"\n",
    "    Input: \n",
    "        groundtruth, rows of top k eigenvectors, k by d\n",
    "        weights, np array, shape k by d (row-orthonormal)\n",
    "    Return:\n",
    "        tr(U(I-P)): U-projection matrix of eigenvectors, \n",
    "                    P: projection matrix of weights\n",
    "    \"\"\"\n",
    "    #eigenvecs = get_eigenvecs(groundtruth)\n",
    "    eigenvecs = groundtruth.copy()\n",
    "    U = np.matmul(eigenvecs.T, eigenvecs)\n",
    "    P = np.matmul(weights.T, weights)\n",
    "    I = np.eye(weights.shape[1])\n",
    "    \n",
    "    return np.trace(np.matmul(U, I-P))\n",
    "\n",
    "def get_default_learning_rate(X):\n",
    "    rbar = np.linalg.norm(X, ord='fro')\n",
    "    return 1/rbar * (len(X) ** 0.5)\n",
    "        \n",
    "        "
   ]
  },
  {
   "cell_type": "code",
   "execution_count": 3,
   "metadata": {},
   "outputs": [],
   "source": [
    "# data generators: data should be centered and dispersed around the subspace spanned by gt\n",
    "\n",
    "def get_train_data(n_train, groundtruth=None):\n",
    "    \"\"\"\n",
    "    gt: d-dimensional vec (non-increasing entries): \n",
    "    nonzero at coordinates corresponding to eigenvectors, and the value corresponds eigenvalue\n",
    "    example: [1,1,0,0,0]\n",
    "    return: np array train data\n",
    "    \"\"\"\n",
    "    if not groundtruth:\n",
    "        print(\"The data generator without groundtruth is not implemented!\")\n",
    "        return\n",
    "    else:\n",
    "        train_data = None\n",
    "        d = len(groundtruth)\n",
    "        for _ in range(n_train):\n",
    "            x = np.zeros([1, d])\n",
    "            for i in range(d):\n",
    "                if groundtruth[i] > 0 :\n",
    "                    x[:, i] = np.random.normal(0, groundtruth[i]**0.5)\n",
    "                else:\n",
    "                    break\n",
    "            if train_data is None:\n",
    "                train_data = x\n",
    "            else:\n",
    "                train_data = np.concatenate((train_data, x), axis=0)  \n",
    "            #print(train_data.shape)\n",
    "    return train_data\n",
    "\n",
    "\n",
    "def get_eigenvecs(groundtruth):\n",
    "    \"\"\"\n",
    "    Input: groundtruth in the form of list [1,1,0]\n",
    "    Return: np array, eigenvecs: k by d\n",
    "    \"\"\"\n",
    "    d = len(groundtruth)\n",
    "    eigenvecs = None\n",
    "    for dim in range(d):\n",
    "        if groundtruth[dim] > 0:\n",
    "            eigenvec = np.zeros([1, d])\n",
    "            eigenvec[:, dim] = 1.0\n",
    "            if eigenvecs is None:\n",
    "                eigenvecs = eigenvec\n",
    "            else:\n",
    "                eigenvecs = np.concatenate((eigenvecs, eigenvec), axis=0)\n",
    "        else:\n",
    "            break\n",
    "    return eigenvecs"
   ]
  },
  {
   "cell_type": "code",
   "execution_count": 4,
   "metadata": {},
   "outputs": [
    {
     "name": "stderr",
     "output_type": "stream",
     "text": [
      "/Users/tcheng/.pyenv/versions/anaconda3-5.2.0/lib/python3.6/importlib/_bootstrap.py:219: RuntimeWarning: compiletime version 3.5 of module 'tensorflow.python.framework.fast_tensor_util' does not match runtime version 3.6\n",
      "  return f(*args, **kwds)\n",
      "/Users/tcheng/.pyenv/versions/anaconda3-5.2.0/lib/python3.6/site-packages/h5py/__init__.py:36: FutureWarning: Conversion of the second argument of issubdtype from `float` to `np.floating` is deprecated. In future, it will be treated as `np.float64 == np.dtype(float).type`.\n",
      "  from ._conv import register_converters as _register_converters\n"
     ]
    }
   ],
   "source": [
    "import tensorflow as tf\n",
    "\n",
    "## initializers\n",
    "def get_random_orthogonal_initializer(k, d, gain=1, seed=None):\n",
    "    tf.reset_default_graph()\n",
    "    init_fn = tf.orthogonal_initializer(gain, seed, dtype=tf.float64)\n",
    "    init_weights = tf.get_variable('init_weights', initializer=init_fn, shape=[k, d])\n",
    "    with tf.Session() as sess:\n",
    "        sess.run(tf.global_variables_initializer())   \n",
    "        _init_weights = sess.run([init_weights])[0]\n",
    "    return _init_weights"
   ]
  },
  {
   "cell_type": "code",
   "execution_count": 6,
   "metadata": {},
   "outputs": [],
   "source": [
    "k=2\n",
    "d=100\n",
    "gt = [0] * d\n",
    "for i in range(k):\n",
    "    gt[i] = (k - i)**1\n",
    "_init_weights = get_random_orthogonal_initializer(k, d)\n",
    "n_train = 5000\n",
    "eigenvecs = get_eigenvecs(gt)\n",
    "train_data = get_train_data(n_train, groundtruth=gt)"
   ]
  },
  {
   "cell_type": "code",
   "execution_count": null,
   "metadata": {},
   "outputs": [],
   "source": [
    "_init_weights"
   ]
  },
  {
   "cell_type": "code",
   "execution_count": null,
   "metadata": {},
   "outputs": [],
   "source": [
    "m = n_train\n",
    "T = 4\n",
    "lr = 0.01\n",
    "\n",
    "algo = VRPCA(_init_weights, train_data, eigenvecs, lr, m, T)"
   ]
  },
  {
   "cell_type": "code",
   "execution_count": null,
   "metadata": {},
   "outputs": [],
   "source": [
    "algo._train()"
   ]
  },
  {
   "cell_type": "code",
   "execution_count": 17,
   "metadata": {},
   "outputs": [],
   "source": [
    "import matplotlib.pyplot as plt\n",
    "import matplotlib\n",
    "matplotlib.rcParams['text.usetex'] = True\n",
    "matplotlib.rcParams['text.latex.unicode'] = True\n",
    "%matplotlib inline"
   ]
  },
  {
   "cell_type": "code",
   "execution_count": null,
   "metadata": {},
   "outputs": [],
   "source": [
    "import math\n",
    "\n",
    "iterations = range(T * m + 1)\n",
    "#log_iterations = [math.log(t+1) for t in iterations]\n",
    "log_error = [math.log(y) if y > 0 else 0 for y in algo._train_log]"
   ]
  },
  {
   "cell_type": "code",
   "execution_count": null,
   "metadata": {},
   "outputs": [],
   "source": [
    "#plt.plot(iterations, log_error)\n",
    "plt.plot(iterations, log_error)"
   ]
  },
  {
   "cell_type": "code",
   "execution_count": null,
   "metadata": {},
   "outputs": [],
   "source": [
    "algo._train_log[:20]"
   ]
  },
  {
   "cell_type": "code",
   "execution_count": 7,
   "metadata": {},
   "outputs": [
    {
     "name": "stdout",
     "output_type": "stream",
     "text": [
      "Dataset consists of 400 faces\n"
     ]
    }
   ],
   "source": [
    "from numpy.random import RandomState\n",
    "from sklearn.datasets import fetch_olivetti_faces\n",
    "\n",
    "rng = RandomState(0)\n",
    "\n",
    "# Load faces data\n",
    "dataset = fetch_olivetti_faces(shuffle=True, random_state=rng)\n",
    "faces = dataset.data\n",
    "\n",
    "n_samples, n_features = faces.shape\n",
    "\n",
    "# global centering\n",
    "faces_centered = faces - faces.mean(axis=0)\n",
    "\n",
    "# local centering\n",
    "faces_centered -= faces_centered.mean(axis=1).reshape(n_samples, -1)\n",
    "\n",
    "print(\"Dataset consists of %d faces\" % n_samples)"
   ]
  },
  {
   "cell_type": "code",
   "execution_count": 8,
   "metadata": {},
   "outputs": [
    {
     "data": {
      "text/plain": [
       "37"
      ]
     },
     "execution_count": 8,
     "metadata": {},
     "output_type": "execute_result"
    }
   ],
   "source": [
    "from sklearn import decomposition\n",
    "\n",
    "pca = decomposition.PCA(n_components=0.8, svd_solver='full')\n",
    "pca.fit(faces_centered)\n",
    "pca.n_components_"
   ]
  },
  {
   "cell_type": "code",
   "execution_count": 11,
   "metadata": {},
   "outputs": [],
   "source": [
    "##\n",
    "k = 37\n",
    "d = 4096\n",
    "_init_weights = get_random_orthogonal_initializer(k, d)\n",
    "\n",
    "n_train = len(faces_centered)\n",
    "T = 5\n",
    "#lr = get_default_learning_rate(faces_centered)\n",
    "lr = 0.01\n",
    "#lr = 0.0001\n",
    "#lr = (0.001, 10)\n",
    "algo = VRPCA(_init_weights, faces_centered, pca.components_, lr, n_train, T)"
   ]
  },
  {
   "cell_type": "code",
   "execution_count": 12,
   "metadata": {},
   "outputs": [
    {
     "name": "stdout",
     "output_type": "stream",
     "text": [
      "The initial loss is 36.67178005243223\n",
      "The loss at the 1-th epoch is (22.18246366992512+5.806116807207437e-11j)\n",
      "The loss at the 2-th epoch is (11.867549529359964+3.589131690158106e-10j)\n",
      "The loss at the 3-th epoch is (6.1107071765143175-4.370119975188168e-10j)\n",
      "The loss at the 4-th epoch is (3.6274984776615096-4.337703163382074e-10j)\n",
      "The loss at the 5-th epoch is (2.548405372491474-6.351672089533364e-10j)\n"
     ]
    }
   ],
   "source": [
    "algo._train()"
   ]
  },
  {
   "cell_type": "code",
   "execution_count": 20,
   "metadata": {},
   "outputs": [
    {
     "name": "stderr",
     "output_type": "stream",
     "text": [
      "/Users/tcheng/.pyenv/versions/anaconda3-5.2.0/lib/python3.6/site-packages/ipykernel_launcher.py:7: ComplexWarning: Casting complex values to real discards the imaginary part\n",
      "  import sys\n"
     ]
    }
   ],
   "source": [
    "import math\n",
    "\n",
    "eps = 1e-6\n",
    "iterations = range(T + 1)\n",
    "#log_iterations = [math.log(t+1) for t in iterations]\n",
    "log_error = [math.log(y) if y > 0 else 0 for y in algo._train_log]"
   ]
  },
  {
   "cell_type": "code",
   "execution_count": 23,
   "metadata": {},
   "outputs": [
    {
     "data": {
      "text/plain": [
       "[<matplotlib.lines.Line2D at 0xb2b508080>]"
      ]
     },
     "execution_count": 23,
     "metadata": {},
     "output_type": "execute_result"
    },
    {
     "data": {
      "image/png": "[encoded data removed]",
      "text/plain": [
       "<Figure size 432x288 with 1 Axes>"
      ]
     },
     "metadata": {},
     "output_type": "display_data"
    }
   ],
   "source": [
    "plt.plot(iterations, log_error)\n",
    "#plt.plot(iterations, algo._train_log, '-o')"
   ]
  },
  {
   "cell_type": "markdown",
   "metadata": {},
   "source": [
    "## MNIST"
   ]
  },
  {
   "cell_type": "code",
   "execution_count": 5,
   "metadata": {},
   "outputs": [],
   "source": [
    "from mnist import MNIST\n",
    "from sklearn.decomposition import PCA\n",
    "import numpy as np\n",
    "\n",
    "mndata = MNIST('python-mnist/data')\n",
    "images, labels = mndata.load_training()\n",
    "\n",
    "images_array = np.array([np.array(data_pt) for data_pt in images[:5000]])\n",
    "n_samples, n_features = images_array.shape\n",
    "images_centered = images_array - images_array.mean(axis=0)\n",
    "images_centered -= images_centered.mean(axis=1).reshape(n_samples, -1)"
   ]
  },
  {
   "cell_type": "code",
   "execution_count": 6,
   "metadata": {},
   "outputs": [],
   "source": [
    "from sklearn import decomposition\n",
    "\n",
    "pca = decomposition.PCA(n_components=0.8, svd_solver='full')"
   ]
  },
  {
   "cell_type": "code",
   "execution_count": 7,
   "metadata": {},
   "outputs": [
    {
     "data": {
      "text/plain": [
       "PCA(copy=True, iterated_power='auto', n_components=0.8, random_state=None,\n",
       "  svd_solver='full', tol=0.0, whiten=False)"
      ]
     },
     "execution_count": 7,
     "metadata": {},
     "output_type": "execute_result"
    }
   ],
   "source": [
    "pca.fit(images_centered)"
   ]
  },
  {
   "cell_type": "code",
   "execution_count": 8,
   "metadata": {},
   "outputs": [],
   "source": [
    "##\n",
    "k = 44\n",
    "d = 784\n",
    "_init_weights = get_random_orthogonal_initializer(k, d)\n",
    "\n",
    "_init_weights = get_random_orthogonal_initializer(k, d)\n",
    "\n",
    "n_train = len(images_centered)\n",
    "T = 5\n",
    "#lr = get_default_learning_rate(faces_centered)\n",
    "lr = 0.01\n",
    "#lr = 0.0001\n",
    "#lr = (0.001, 10)\n",
    "algo = VRPCA(_init_weights, images_centered, pca.components_, lr, n_train, T)"
   ]
  },
  {
   "cell_type": "code",
   "execution_count": 9,
   "metadata": {},
   "outputs": [
    {
     "name": "stdout",
     "output_type": "stream",
     "text": [
      "The initial loss is 41.442170451799534\n",
      "The loss at the 1-th epoch is 10.526272235354012\n",
      "The loss at the 2-th epoch is (6.426798804695839-0.23020677856926336j)\n",
      "The loss at the 3-th epoch is (4.515751648735364+0.22419113652120082j)\n",
      "The loss at the 4-th epoch is (3.3245955482582747+0.12286200866095186j)\n",
      "The loss at the 5-th epoch is (2.64987992462832+0.1034978966115341j)\n"
     ]
    }
   ],
   "source": [
    "algo._train()"
   ]
  },
  {
   "cell_type": "code",
   "execution_count": null,
   "metadata": {},
   "outputs": [],
   "source": []
  }
 ],
 "metadata": {
  "kernelspec": {
   "display_name": "Python 3",
   "language": "python",
   "name": "python3"
  },
  "language_info": {
   "codemirror_mode": {
    "name": "ipython",
    "version": 3
   },
   "file_extension": ".py",
   "mimetype": "text/x-python",
   "name": "python",
   "nbconvert_exporter": "python",
   "pygments_lexer": "ipython3",
   "version": "3.6.5"
  }
 },
 "nbformat": 4,
 "nbformat_minor": 2
}

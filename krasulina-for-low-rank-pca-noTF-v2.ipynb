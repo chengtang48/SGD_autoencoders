{
 "cells": [
  {
   "cell_type": "markdown",
   "metadata": {},
   "source": [
    "Copy rights @Cheng Tang chengtang48@gmail.com"
   ]
  },
  {
   "cell_type": "markdown",
   "metadata": {},
   "source": [
    "## Plan for numerical simulations\n",
    "\n",
    "- low-rank data generation: high dimensional, from a subset of coordinates (these are eigenvectors)\n",
    "- krasulina implementation (done)\n",
    "- TODO:\n",
    "    - investigate robustness of the algorithm to eigenvalue perturbations\n",
    "    - investigate the effect of dimension and rank\n",
    "    - investigate perturbed version (optional)\n",
    "    - compare to Ohad Shamir's SVRG variant of Oja's method (optional)\n",
    "- Simulation on real data (candidates: MNIST, CCAT?)\n"
   ]
  },
  {
   "cell_type": "markdown",
   "metadata": {},
   "source": [
    "# pseodo-code for generalized krasulina\n",
    "``` \n",
    "Input params: init_weights (W^0) (k by d), learning rate schedule (constant and inverse-time), max_iter (T)\n",
    "While t <= T\n",
    " W^{t+1} = W^t + \\eta^t W^t x (x - (W^t)^TW^tx)^T\n",
    " equivalent to: W^{t+1} = W^t + \\eta^t (W^t x x^T - x^T(W^t)^TW^t)\n",
    " The step above is equivalent to one SGD update (given that W^t is row orthonormalized) on the objective:\n",
    " \n",
    " row orthonormalize W^{t+1}\n",
    "```"
   ]
  },
  {
   "cell_type": "code",
   "execution_count": 1,
   "metadata": {},
   "outputs": [
    {
     "name": "stderr",
     "output_type": "stream",
     "text": [
      "/Users/tcheng/.pyenv/versions/anaconda3-5.2.0/lib/python3.6/importlib/_bootstrap.py:219: RuntimeWarning: compiletime version 3.5 of module 'tensorflow.python.framework.fast_tensor_util' does not match runtime version 3.6\n",
      "  return f(*args, **kwds)\n",
      "/Users/tcheng/.pyenv/versions/anaconda3-5.2.0/lib/python3.6/site-packages/h5py/__init__.py:36: FutureWarning: Conversion of the second argument of issubdtype from `float` to `np.floating` is deprecated. In future, it will be treated as `np.float64 == np.dtype(float).type`.\n",
      "  from ._conv import register_converters as _register_converters\n"
     ]
    }
   ],
   "source": [
    "from krasulina import KrasulinaPCA, get_random_orthogonal_initializer, get_eigenvecs\n",
    "import numpy as np\n",
    "import math"
   ]
  },
  {
   "cell_type": "code",
   "execution_count": null,
   "metadata": {},
   "outputs": [],
   "source": [
    "#np.__config__.show()"
   ]
  },
  {
   "cell_type": "code",
   "execution_count": null,
   "metadata": {},
   "outputs": [],
   "source": [
    "# data generators: data should be centered and dispersed around the subspace spanned by gt\n",
    "\n",
    "def get_train_data(n_train, groundtruth=None, perturb=0.001):\n",
    "    \"\"\"\n",
    "    gt: d-dimensional vec (non-increasing entries): \n",
    "    nonzero at coordinates corresponding to eigenvectors, and the value corresponds eigenvalue\n",
    "    example: [1,1,0,0,0]\n",
    "    return: np array train data\n",
    "    \"\"\"\n",
    "    if not groundtruth:\n",
    "        print(\"The data generator without groundtruth is not implemented!\")\n",
    "        return\n",
    "    else:\n",
    "        train_data = None\n",
    "        d = len(groundtruth)\n",
    "        for _ in range(n_train):\n",
    "            x = np.zeros([1, d])\n",
    "            for i in range(d):\n",
    "                if groundtruth[i] > 0:\n",
    "                    x[:, i] = np.random.normal(0, groundtruth[i]**0.5)\n",
    "                elif perturb != 0:\n",
    "                    x[:, i] = np.random.normal(0, perturb**0.5)\n",
    "            if train_data is None:\n",
    "                train_data = x\n",
    "            else:\n",
    "                train_data = np.concatenate((train_data, x), axis=0)  \n",
    "            #print(train_data.shape)\n",
    "    return train_data"
   ]
  },
  {
   "cell_type": "code",
   "execution_count": null,
   "metadata": {},
   "outputs": [],
   "source": [
    "k=2\n",
    "d=100\n",
    "gt = [0] * d\n",
    "for i in range(k):\n",
    "    gt[i] = (k - i)**1\n",
    "_init_weights = get_random_orthogonal_initializer(k, d)\n",
    "n_train = 5000\n",
    "eigenvecs = get_eigenvecs(gt)\n",
    "train_data = get_train_data(n_train, groundtruth=gt)"
   ]
  },
  {
   "cell_type": "code",
   "execution_count": null,
   "metadata": {},
   "outputs": [],
   "source": [
    "_init_weights"
   ]
  },
  {
   "cell_type": "code",
   "execution_count": null,
   "metadata": {},
   "outputs": [],
   "source": [
    "T = 8\n",
    "lr = (None, 0.01) \n",
    "#lr = (0.001, 10)\n",
    "algo = KrasulinaPCA(_init_weights, train_data, groundtruth=eigenvecs, learning_rate=lr, max_iter=T * n_train)"
   ]
  },
  {
   "cell_type": "code",
   "execution_count": null,
   "metadata": {
    "scrolled": true
   },
   "outputs": [],
   "source": [
    "algo._train()"
   ]
  },
  {
   "cell_type": "code",
   "execution_count": null,
   "metadata": {},
   "outputs": [],
   "source": [
    "print(algo._train_mse_log[0], algo._train_mse_log[-1])"
   ]
  },
  {
   "cell_type": "code",
   "execution_count": null,
   "metadata": {},
   "outputs": [],
   "source": [
    "print(algo._groundtruth_eval_log[0], algo._groundtruth_eval_log[-1])"
   ]
  },
  {
   "cell_type": "code",
   "execution_count": null,
   "metadata": {},
   "outputs": [],
   "source": [
    "import matplotlib.pyplot as plt\n",
    "import matplotlib\n",
    "matplotlib.rcParams['text.usetex'] = True\n",
    "matplotlib.rcParams['text.latex.unicode'] = True\n",
    "%matplotlib inline"
   ]
  },
  {
   "cell_type": "code",
   "execution_count": null,
   "metadata": {},
   "outputs": [],
   "source": [
    "iterations = range(T)\n",
    "#log_iterations = [math.log(t+1) for t in iterations]\n",
    "log_error = [math.log(y) for y in algo._groundtruth_eval_log]"
   ]
  },
  {
   "cell_type": "code",
   "execution_count": null,
   "metadata": {},
   "outputs": [],
   "source": [
    "epoch = 0\n",
    "gt_eval_epoch_wise = list()\n",
    "epoch_iters = list()\n",
    "for t, e in enumerate(algo._groundtruth_eval_log):\n",
    "    if t % n_train == 0:\n",
    "        epoch += 1\n",
    "        gt_eval_epoch_wise.append(e)\n",
    "        epoch_iters.append(epoch)\n",
    "    "
   ]
  },
  {
   "cell_type": "code",
   "execution_count": null,
   "metadata": {},
   "outputs": [],
   "source": [
    "#plt.plot(iterations, log_error)\n",
    "plt.plot(range(1+T), log_error)"
   ]
  },
  {
   "cell_type": "code",
   "execution_count": null,
   "metadata": {},
   "outputs": [],
   "source": [
    "## train all variations\n",
    "count = 1\n",
    "n_train = 5000\n",
    "algo_meta_dict = {}\n",
    "for k in [1, 10]:\n",
    "    for d in [10, 100, 500]:\n",
    "        algo_list = []\n",
    "        for eta in [(None, 0.0001/k), (0.001/k, 10)]:\n",
    "            gt = [0] * d\n",
    "            for i in range(k):\n",
    "                gt[i] = (k-i) \n",
    "            _init_weights = get_random_orthogonal_initializer(k, d)\n",
    "            print(f\"Runing the {count}-th experiment\")\n",
    "            count += 1\n",
    "            eigenvecs = get_eigenvecs(gt)\n",
    "            train_data = get_train_data(n_train, groundtruth=gt)\n",
    "            T = 8*n_train\n",
    "            algo_list.append(KrasulinaPCA(_init_weights, train_data, groundtruth=eigenvecs, learning_rate=eta, max_iter=T))\n",
    "            algo_list[-1]._train()\n",
    "            print(\"Initial and final loss\")\n",
    "            print(algo_list[-1]._groundtruth_eval_log[0], algo_list[-1]._groundtruth_eval_log[-1])\n",
    "        key = (k, d)\n",
    "        algo_meta_dict[key] = algo_list\n",
    "            "
   ]
  },
  {
   "cell_type": "code",
   "execution_count": null,
   "metadata": {},
   "outputs": [],
   "source": [
    "algo_meta_dict.keys()"
   ]
  },
  {
   "cell_type": "code",
   "execution_count": null,
   "metadata": {},
   "outputs": [],
   "source": [
    "import json"
   ]
  },
  {
   "cell_type": "code",
   "execution_count": 9,
   "metadata": {},
   "outputs": [],
   "source": [
    "import matplotlib.pyplot as plt\n",
    "import matplotlib\n",
    "matplotlib.rcParams['text.usetex'] = True\n",
    "matplotlib.rcParams['text.latex.unicode'] = True\n",
    "%matplotlib inline"
   ]
  },
  {
   "cell_type": "code",
   "execution_count": null,
   "metadata": {},
   "outputs": [],
   "source": [
    "for k, d in algo_meta_dict.keys():\n",
    "    for idx in [0, 1]:\n",
    "        algo_meta_dict[(k, d)][idx]._groundtruth_eval_log"
   ]
  },
  {
   "cell_type": "code",
   "execution_count": null,
   "metadata": {},
   "outputs": [],
   "source": [
    "## Plot on all\n",
    "label_list = [r\"$\\eta=10^{-4}/k$\", r\"$\\eta^t = \\frac{10^{-3}}{k(t+10)}$\"]\n",
    "\n",
    "def get_log(k, d, idx, algo_dict):\n",
    "    return algo_dict[(k, d)][idx]._groundtruth_eval_log\n",
    "\n",
    "\n",
    "def plotting(k, d):\n",
    "    fig=plt.figure()\n",
    "    for idx in [0, 1]:\n",
    "        log = get_log(k, d, idx, algo_meta_dict)\n",
    "        epoch = 0\n",
    "        gt_eval_epoch_wise = list()\n",
    "        epoch_iters = list()\n",
    "        for t, e in enumerate(log):\n",
    "            if t % n_train == 0:\n",
    "                epoch += 1\n",
    "                gt_eval_epoch_wise.append(e)\n",
    "                epoch_iters.append(epoch)\n",
    "        #\n",
    "        #log_epoch_iters = [math.log(t_e) for t_e in epoch_iters]\n",
    "        log_gt_eval_epoch_wise = [math.log(e) if e > 0 else math.log(e+1) for e in gt_eval_epoch_wise]\n",
    "        if idx == 1:\n",
    "            #lr_params = (0.001/k, 10)\n",
    "            #lr = r\"$\\frac{0.001}{k(t+10)}$\" \n",
    "            plt.plot(epoch_iters, log_gt_eval_epoch_wise, '--', label=label_list[idx])\n",
    "        else:\n",
    "            #lr = r\"\\frac{0.0001}{k}\"\n",
    "            plt.plot(epoch_iters, log_gt_eval_epoch_wise, label=label_list[idx])\n",
    "    plt.legend()\n",
    "    #plt.title(f\"k={k}, d={d}\")\n",
    "    plt.xlabel('epochs')\n",
    "    plt.ylabel(r'log $\\Delta^t$')\n",
    "    fig.savefig(f\"k-{k}-d-{d}.png\")\n",
    "\n",
    "for k, d in algo_meta_dict.keys():\n",
    "    plotting(k,d)\n",
    "    \n"
   ]
  },
  {
   "cell_type": "code",
   "execution_count": null,
   "metadata": {},
   "outputs": [],
   "source": [
    "!zip figs.zip pre/*"
   ]
  },
  {
   "cell_type": "code",
   "execution_count": null,
   "metadata": {},
   "outputs": [],
   "source": [
    "iterations = range(T)\n",
    "log_iterations = [math.log(t+1) for t in iterations]\n",
    "log_error = [math.log(y) if y > 0 else 0 for y in algo._groundtruth_eval_log]\n",
    "#const = 100\n",
    "#theo = [-t + const for t in iterations]"
   ]
  },
  {
   "cell_type": "code",
   "execution_count": null,
   "metadata": {},
   "outputs": [],
   "source": [
    "plt.plot(iterations, log_error)\n",
    "#plt.plot(iterations, theo)\n",
    "#plt.plot(log_iterations, log_error)\n",
    "#plt.plot(iterations, algo._groundtruth_eval_log)\n",
    "#plt.plot(iterations, algo._train_mse_log)"
   ]
  },
  {
   "cell_type": "code",
   "execution_count": null,
   "metadata": {},
   "outputs": [],
   "source": [
    "log_epoch_iters = [math.log(t_e) for t_e in epoch_iters]\n",
    "log_gt_eval_epoch_wise = [math.log(e) for e in gt_eval_epoch_wise]\n",
    "plt.plot(epoch_iters, log_gt_eval_epoch_wise)"
   ]
  },
  {
   "cell_type": "code",
   "execution_count": null,
   "metadata": {},
   "outputs": [],
   "source": [
    "test_arr = [1,2,3]\n",
    "#print(test_arr[:0])\n",
    "if test_arr[:1]:\n",
    "    print(\"not null\")"
   ]
  },
  {
   "cell_type": "code",
   "execution_count": null,
   "metadata": {},
   "outputs": [],
   "source": [
    "x = list(range(1000))\n",
    "y = [1/float(t+1) for t in x]\n",
    "y1 = [2**(-t) for t in x]\n",
    "log_y = [math.log(e) for e in y]\n",
    "log_y1 = [math.log(e) for e in y1]\n",
    "plt.plot(x, log_y1)"
   ]
  },
  {
   "cell_type": "markdown",
   "metadata": {},
   "source": [
    "### MNIST"
   ]
  },
  {
   "cell_type": "code",
   "execution_count": null,
   "metadata": {},
   "outputs": [],
   "source": [
    "#!pip install python-mnist"
   ]
  },
  {
   "cell_type": "code",
   "execution_count": null,
   "metadata": {},
   "outputs": [],
   "source": [
    "#!git clone https://github.com/sorki/python-mnist"
   ]
  },
  {
   "cell_type": "code",
   "execution_count": null,
   "metadata": {},
   "outputs": [],
   "source": [
    "#!brew install wget"
   ]
  },
  {
   "cell_type": "code",
   "execution_count": null,
   "metadata": {},
   "outputs": [],
   "source": [
    "# %%bash\n",
    "# cd python-mnist\n",
    "# ./get_data.sh"
   ]
  },
  {
   "cell_type": "code",
   "execution_count": 2,
   "metadata": {},
   "outputs": [],
   "source": [
    "from mnist import MNIST\n",
    "from sklearn.decomposition import PCA"
   ]
  },
  {
   "cell_type": "code",
   "execution_count": 3,
   "metadata": {},
   "outputs": [],
   "source": [
    "mndata = MNIST('python-mnist/data')\n",
    "images, labels = mndata.load_training()"
   ]
  },
  {
   "cell_type": "code",
   "execution_count": 4,
   "metadata": {},
   "outputs": [
    {
     "name": "stdout",
     "output_type": "stream",
     "text": [
      "60000 784\n"
     ]
    }
   ],
   "source": [
    "import numpy as np\n",
    "\n",
    "#images_array = np.array([np.array(data_pt) for data_pt in images[:5000]])\n",
    "images_array = np.array([np.array(data_pt) for data_pt in images])\n",
    "n_samples, n_features = images_array.shape\n",
    "#images_array -= images_array.mean(axis=1).reshape(n_samples, -1)\n",
    "print(n_samples, n_features)"
   ]
  },
  {
   "cell_type": "code",
   "execution_count": 5,
   "metadata": {},
   "outputs": [],
   "source": [
    "images_centered = images_array - images_array.mean(axis=0)"
   ]
  },
  {
   "cell_type": "code",
   "execution_count": 14,
   "metadata": {},
   "outputs": [],
   "source": [
    "from sklearn import decomposition\n",
    "\n",
    "pca = decomposition.PCA(n_components=0.8, svd_solver='full')\n",
    "#pca = decomposition.PCA(svd_solver='full')"
   ]
  },
  {
   "cell_type": "code",
   "execution_count": 15,
   "metadata": {},
   "outputs": [
    {
     "data": {
      "text/plain": [
       "44"
      ]
     },
     "execution_count": 15,
     "metadata": {},
     "output_type": "execute_result"
    }
   ],
   "source": [
    "pca.fit(images_centered)\n",
    "\n",
    "pca.n_components_"
   ]
  },
  {
   "cell_type": "code",
   "execution_count": 13,
   "metadata": {},
   "outputs": [
    {
     "data": {
      "text/plain": [
       "[<matplotlib.lines.Line2D at 0x1a5f363978>]"
      ]
     },
     "execution_count": 13,
     "metadata": {},
     "output_type": "execute_result"
    },
    {
     "data": {
      "image/png": "[encoded data removed]",
      "text/plain": [
       "<Figure size 432x288 with 1 Axes>"
      ]
     },
     "metadata": {},
     "output_type": "display_data"
    }
   ],
   "source": [
    "plt.plot(list(range(pca.n_components_)), pca.explained_variance_, 'o')"
   ]
  },
  {
   "cell_type": "code",
   "execution_count": 16,
   "metadata": {},
   "outputs": [
    {
     "name": "stdout",
     "output_type": "stream",
     "text": [
      "332724.66744656884 13652.82314029589\n"
     ]
    }
   ],
   "source": [
    "print(pca.explained_variance_[0], pca.explained_variance_[-1])"
   ]
  },
  {
   "cell_type": "code",
   "execution_count": 29,
   "metadata": {},
   "outputs": [],
   "source": [
    "from vr_pca import VRPCA, get_default_learning_rate\n",
    "\n",
    "k = 44\n",
    "d = 784\n",
    "_init_weights = get_random_orthogonal_initializer(k, d)\n",
    "\n",
    "n_train = len(images_centered)\n",
    "T = 1\n",
    "lr = get_default_learning_rate(images_centered)\n",
    "#lr = 0.01\n",
    "#lr = 0.0001\n",
    "#lr = (0.001, 10)\n",
    "#vr_algo = VRPCA(_init_weights, images_centered, pca.components_, lr, n_train, T)\n",
    "lr = 1e-08 \n",
    "vr_algo = VRPCA(_init_weights, images_centered, pca.components_, lr, n_train, \n",
    "                T, log_freq=T*int(n_train/10.0))"
   ]
  },
  {
   "cell_type": "code",
   "execution_count": 30,
   "metadata": {},
   "outputs": [
    {
     "name": "stdout",
     "output_type": "stream",
     "text": [
      "The loss at the 1-th epoch 0-th iteration is 41.543973225223255\n",
      "The loss at the 1-th epoch 6000-th iteration is 18.408071836183638\n",
      "The loss at the 1-th epoch 12000-th iteration is 10.05261038944657\n",
      "The loss at the 1-th epoch 18000-th iteration is 6.072479818732089\n",
      "The loss at the 1-th epoch 24000-th iteration is 4.221274078477826\n",
      "The loss at the 1-th epoch 30000-th iteration is 3.2614733971120917\n",
      "The loss at the 1-th epoch 36000-th iteration is 2.6630839935835366\n",
      "The loss at the 1-th epoch 42000-th iteration is 2.283604285533433\n",
      "The loss at the 1-th epoch 48000-th iteration is 1.961698280812204\n",
      "The loss at the 1-th epoch 54000-th iteration is 1.720449979572432\n",
      "The loss at the 3-th epoch is 1.720449979572432\n"
     ]
    }
   ],
   "source": [
    "vr_algo._train()"
   ]
  },
  {
   "cell_type": "code",
   "execution_count": null,
   "metadata": {},
   "outputs": [],
   "source": [
    "vr_algo.final_weights_.shape"
   ]
  },
  {
   "cell_type": "code",
   "execution_count": 26,
   "metadata": {},
   "outputs": [],
   "source": [
    "##\n",
    "k = 44\n",
    "d = 784\n",
    "_init_weights = get_random_orthogonal_initializer(k, d)\n",
    "#_init_weights = vr_algo.final_weights_.T\n",
    "\n",
    "T = 1*n_samples\n",
    "log_freq = int(T / 10.0)\n",
    "lr = (None, 1e-08) \n",
    "#lr = (1e-06, 100)\n",
    "algo = KrasulinaPCA(_init_weights, images_centered, \n",
    "                    groundtruth=pca.components_, \n",
    "                    learning_rate=lr, max_iter=T, log_freq=log_freq)"
   ]
  },
  {
   "cell_type": "code",
   "execution_count": 27,
   "metadata": {},
   "outputs": [
    {
     "name": "stdout",
     "output_type": "stream",
     "text": [
      "The initial mse: 194143044741.09967\n",
      "The initial loss: 41.52283759840593\n",
      "The loss at the 0-th epoch 6000-th iteration is 18.765658249019655\n",
      "The loss at the 0-th epoch 12000-th iteration is 9.730340936735413\n",
      "The loss at the 0-th epoch 18000-th iteration is 5.224107291578832\n",
      "The loss at the 0-th epoch 24000-th iteration is 3.2962233318793834\n",
      "The loss at the 0-th epoch 30000-th iteration is 2.5130736976035277\n",
      "The loss at the 0-th epoch 36000-th iteration is 2.133305714223872\n",
      "The loss at the 0-th epoch 42000-th iteration is 1.929727727180559\n",
      "The loss at the 0-th epoch 48000-th iteration is 1.7698258907028022\n",
      "The loss at the 0-th epoch 54000-th iteration is 1.675907832588953\n",
      "Finished training 1-th epoch with total 60000 iterations\n",
      "The current learning rate is 1e-08\n",
      "The loss at the 1-th epoch 60000-th iteration is 1.6435287072880365\n"
     ]
    }
   ],
   "source": [
    "algo._train()"
   ]
  },
  {
   "cell_type": "code",
   "execution_count": null,
   "metadata": {},
   "outputs": [],
   "source": [
    "from krasulina import eval_mse_loss\n",
    "#eval_mse_loss(images_centered, algo.final_weights_)\n",
    "eval_mse_loss(images_centered, pca.components_)"
   ]
  },
  {
   "cell_type": "code",
   "execution_count": null,
   "metadata": {},
   "outputs": [],
   "source": [
    "print(algo._train_mse_log[0], algo._train_mse_log[-1])\n",
    "print(algo._groundtruth_eval_log[0], algo._groundtruth_eval_log[-1])"
   ]
  },
  {
   "cell_type": "code",
   "execution_count": null,
   "metadata": {},
   "outputs": [],
   "source": [
    "epoch = 0\n",
    "gt_eval_epoch_wise = list()\n",
    "epoch_iters = list()\n",
    "for t, e in enumerate(algo._groundtruth_eval_log):\n",
    "    if t % n_train == 0:\n",
    "        epoch += 1\n",
    "        gt_eval_epoch_wise.append(e)\n",
    "        epoch_iters.append(epoch)"
   ]
  },
  {
   "cell_type": "code",
   "execution_count": null,
   "metadata": {},
   "outputs": [],
   "source": [
    "#iterations = range(11)\n",
    "#log_iterations = [math.log(t+1) for t in iterations]\n",
    "#log_error = [math.log(y) if y > 0 else 0 for y in algo._groundtruth_eval_log[:20]]\n",
    "plt.plot(range(20), algo._groundtruth_eval_log[:20])\n",
    "#plt.plot(range(20), log_error)\n",
    "plt.loglog()\n",
    "#plt.plot(log_iterations, log_error)"
   ]
  },
  {
   "cell_type": "code",
   "execution_count": null,
   "metadata": {},
   "outputs": [],
   "source": [
    "algo._groundtruth_eval_log"
   ]
  },
  {
   "cell_type": "markdown",
   "metadata": {},
   "source": [
    "### Faces low-rank dataset"
   ]
  },
  {
   "cell_type": "code",
   "execution_count": null,
   "metadata": {},
   "outputs": [],
   "source": [
    "from numpy.random import RandomState\n",
    "from sklearn.datasets import fetch_olivetti_faces\n",
    "\n",
    "rng = RandomState(0)\n",
    "\n",
    "# Load faces data\n",
    "dataset = fetch_olivetti_faces(shuffle=True, random_state=rng)\n",
    "faces = dataset.data\n",
    "\n",
    "n_samples, n_features = faces.shape\n",
    "\n",
    "# local centering\n",
    "faces -= faces.mean(axis=1).reshape(n_samples, -1)\n",
    "\n",
    "# global centering\n",
    "faces_centered = faces - faces.mean(axis=0)\n",
    "\n",
    "print(\"Dataset consists of %d faces\" % n_samples)"
   ]
  },
  {
   "cell_type": "code",
   "execution_count": null,
   "metadata": {},
   "outputs": [],
   "source": [
    "len(faces_centered)\n",
    "faces_centered.mean(axis=0)"
   ]
  },
  {
   "cell_type": "code",
   "execution_count": null,
   "metadata": {},
   "outputs": [],
   "source": [
    "from sklearn import decomposition\n",
    "\n",
    "pca = decomposition.PCA(n_components=0.8, svd_solver='full')"
   ]
  },
  {
   "cell_type": "code",
   "execution_count": null,
   "metadata": {},
   "outputs": [],
   "source": [
    "pca.fit(faces_centered)"
   ]
  },
  {
   "cell_type": "code",
   "execution_count": null,
   "metadata": {},
   "outputs": [],
   "source": [
    "pca.n_components_"
   ]
  },
  {
   "cell_type": "code",
   "execution_count": null,
   "metadata": {},
   "outputs": [],
   "source": [
    "pca.components_.shape"
   ]
  },
  {
   "cell_type": "code",
   "execution_count": null,
   "metadata": {},
   "outputs": [],
   "source": [
    "plt.plot(list(range(pca.n_components_)), pca.explained_variance_, 'o')"
   ]
  },
  {
   "cell_type": "code",
   "execution_count": null,
   "metadata": {},
   "outputs": [],
   "source": [
    "print(pca.explained_variance_[0], pca.explained_variance_[-1])"
   ]
  },
  {
   "cell_type": "code",
   "execution_count": null,
   "metadata": {},
   "outputs": [],
   "source": [
    "from vr_pca import VRPCA, get_default_learning_rate\n",
    "\n",
    "k = 37\n",
    "d = 4096\n",
    "_init_weights = get_random_orthogonal_initializer(k, d)\n",
    "\n",
    "n_train = len(faces_centered)\n",
    "T = 5\n",
    "lr = get_default_learning_rate(faces_centered)\n",
    "#lr = 0.01\n",
    "#lr = 0.0001\n",
    "#lr = (0.001, 10)\n",
    "vr_algo = VRPCA(_init_weights, faces_centered, pca.components_, lr, n_train, T)"
   ]
  },
  {
   "cell_type": "code",
   "execution_count": null,
   "metadata": {},
   "outputs": [],
   "source": [
    "vr_algo._train()"
   ]
  },
  {
   "cell_type": "code",
   "execution_count": null,
   "metadata": {},
   "outputs": [],
   "source": [
    "##\n",
    "k = 37\n",
    "d = 4096\n",
    "_init_weights = get_random_orthogonal_initializer(k, d)\n",
    "\n",
    "n_train = len(faces_centered)\n",
    "T = 10*n_train\n",
    "lr = (None, 0.005) \n",
    "#lr = (0.001, 10)\n",
    "algo = KrasulinaPCA(_init_weights, faces_centered, groundtruth=pca.components_, \n",
    "                    learning_rate=lr, mini_batch_size=1, max_iter=T)"
   ]
  },
  {
   "cell_type": "code",
   "execution_count": null,
   "metadata": {},
   "outputs": [],
   "source": [
    "algo._train()"
   ]
  },
  {
   "cell_type": "code",
   "execution_count": null,
   "metadata": {},
   "outputs": [],
   "source": [
    "#eval_mse_loss(faces_centered, pca.components_)\n",
    "eval_mse_loss(faces_centered, algo.final_weights_)"
   ]
  },
  {
   "cell_type": "code",
   "execution_count": null,
   "metadata": {},
   "outputs": [],
   "source": [
    "import matplotlib.pyplot as plt\n",
    "import matplotlib\n",
    "matplotlib.rcParams['text.usetex'] = True\n",
    "matplotlib.rcParams['text.latex.unicode'] = True\n",
    "%matplotlib inline"
   ]
  },
  {
   "cell_type": "code",
   "execution_count": null,
   "metadata": {},
   "outputs": [],
   "source": [
    "eps = 1e-6\n",
    "log_error = [math.log(y) if y > 0 else math.log(y+eps) for y in algo._groundtruth_eval_log]\n",
    "plt.plot(range(11), log_error)"
   ]
  },
  {
   "cell_type": "code",
   "execution_count": null,
   "metadata": {},
   "outputs": [],
   "source": [
    "algo._groundtruth_eval_log[-1]"
   ]
  },
  {
   "cell_type": "markdown",
   "metadata": {},
   "source": [
    "## 20 Newsgroup"
   ]
  },
  {
   "cell_type": "code",
   "execution_count": 1,
   "metadata": {},
   "outputs": [],
   "source": [
    "from sklearn.datasets import fetch_20newsgroups\n",
    "from sklearn.decomposition import PCA\n",
    "\n",
    "newsgroups_train = fetch_20newsgroups(subset='train', \n",
    "                                      remove=('headers', 'footers', 'quotes'),\n",
    "                                      categories=['comp.graphics', 'rec.autos', 'sci.crypt', 'talk.politics.mideast'])"
   ]
  },
  {
   "cell_type": "code",
   "execution_count": 2,
   "metadata": {},
   "outputs": [
    {
     "name": "stdout",
     "output_type": "stream",
     "text": [
      "['comp.graphics', 'rec.autos', 'sci.crypt', 'talk.politics.mideast']\n"
     ]
    }
   ],
   "source": [
    "print(newsgroups_train.target_names)"
   ]
  },
  {
   "cell_type": "code",
   "execution_count": 3,
   "metadata": {},
   "outputs": [
    {
     "name": "stdout",
     "output_type": "stream",
     "text": [
      "/Users/tcheng/scikit_learn_data/20news_home/20news-bydate-train/sci.crypt/15504\n",
      "(2337,)\n",
      "(2337,)\n"
     ]
    }
   ],
   "source": [
    "print(newsgroups_train.filenames[0])\n",
    "print(newsgroups_train.filenames.shape)\n",
    "print(newsgroups_train.target.shape)"
   ]
  },
  {
   "cell_type": "code",
   "execution_count": null,
   "metadata": {},
   "outputs": [],
   "source": [
    "# categories = ['comp.os.ms-windows.misc', 'rec.sport.baseball', \n",
    "#               'talk.politics.mideast', 'rec.motorcycles', 'soc.religion.christian']\n",
    "# newsgroups_train_subcat = fetch_20newsgroups(subset='train', categories=categories)"
   ]
  },
  {
   "cell_type": "code",
   "execution_count": null,
   "metadata": {},
   "outputs": [],
   "source": [
    "newsgroups_train.data[0]"
   ]
  },
  {
   "cell_type": "code",
   "execution_count": 4,
   "metadata": {},
   "outputs": [],
   "source": [
    "from sklearn.feature_extraction.text import TfidfVectorizer\n",
    "\n",
    "vectorizer = TfidfVectorizer(lowercase=True, max_features=3000)"
   ]
  },
  {
   "cell_type": "code",
   "execution_count": 13,
   "metadata": {},
   "outputs": [],
   "source": [
    "data_vecs = vectorizer.fit_transform(newsgroups_train.data).todense()"
   ]
  },
  {
   "cell_type": "code",
   "execution_count": 14,
   "metadata": {},
   "outputs": [
    {
     "name": "stdout",
     "output_type": "stream",
     "text": [
      "2337 3000\n"
     ]
    }
   ],
   "source": [
    "n_samples, n_dim = data.shape\n",
    "print(n_samples, n_dim)"
   ]
  },
  {
   "cell_type": "code",
   "execution_count": 12,
   "metadata": {},
   "outputs": [
    {
     "data": {
      "text/plain": [
       "matrix([[-0.00226909, -0.00313657, -0.00092669, ..., -0.00058023,\n",
       "         -0.00119019, -0.00077986],\n",
       "        [-0.00226909, -0.00313657, -0.00092669, ..., -0.00058023,\n",
       "         -0.00119019, -0.00077986],\n",
       "        [-0.00226909, -0.00313657, -0.00092669, ..., -0.00058023,\n",
       "         -0.00119019, -0.00077986],\n",
       "        ...,\n",
       "        [-0.00226909, -0.00313657, -0.00092669, ..., -0.00058023,\n",
       "         -0.00119019, -0.00077986],\n",
       "        [-0.00226909, -0.00313657, -0.00092669, ..., -0.00058023,\n",
       "         -0.00119019, -0.00077986],\n",
       "        [-0.00226909, -0.00313657, -0.00092669, ..., -0.00058023,\n",
       "         -0.00119019, -0.00077986]])"
      ]
     },
     "execution_count": 12,
     "metadata": {},
     "output_type": "execute_result"
    }
   ],
   "source": [
    "# local centering\n",
    "#data_vecs -= data_vecs.mean(axis=1).reshape(n_samples, -1)\n",
    "\n",
    "# global centering\n",
    "#data_vecs_centered = data_vecs - data_vecs.mean(axis=0)\n",
    "#data_vecs_centered"
   ]
  },
  {
   "cell_type": "code",
   "execution_count": 15,
   "metadata": {},
   "outputs": [
    {
     "data": {
      "text/plain": [
       "PCA(copy=True, iterated_power='auto', n_components=0.8, random_state=None,\n",
       "  svd_solver='full', tol=0.0, whiten=False)"
      ]
     },
     "execution_count": 15,
     "metadata": {},
     "output_type": "execute_result"
    }
   ],
   "source": [
    "pca2 = PCA(n_components=0.8, svd_solver='full')\n",
    "#pca2.fit(data_vecs_centered)\n",
    "pca2.fit(data_vecs)"
   ]
  },
  {
   "cell_type": "code",
   "execution_count": 16,
   "metadata": {},
   "outputs": [
    {
     "data": {
      "text/plain": [
       "706"
      ]
     },
     "execution_count": 16,
     "metadata": {},
     "output_type": "execute_result"
    }
   ],
   "source": [
    "pca2.n_components_"
   ]
  },
  {
   "cell_type": "code",
   "execution_count": null,
   "metadata": {},
   "outputs": [],
   "source": [
    "plt.plot(list(range(pca2.n_components_)), pca2.explained_variance_, 'ro')"
   ]
  },
  {
   "cell_type": "code",
   "execution_count": null,
   "metadata": {},
   "outputs": [],
   "source": [
    "pca2.explained_variance_[0]"
   ]
  },
  {
   "cell_type": "code",
   "execution_count": null,
   "metadata": {},
   "outputs": [],
   "source": [
    "##\n",
    "k = 250\n",
    "d = 6000\n",
    "_init_weights = get_random_orthogonal_initializer(k, d)\n",
    "\n",
    "n_train = len(data_vecs_centered)\n",
    "#T = int(10*n_train*0.005)\n",
    "T = int(n_train * 0.5)\n",
    "log_freq = int(T/20.0)\n",
    "print(f\"Total number of iterations: {T}; log frequency: {log_freq}\")\n",
    "#lr = (None, get_default_learning_rate(faces_centered))\n",
    "#print(get_default_learning_rate(data_vecs_centered))\n",
    "#lr = (None, 0.005) \n",
    "lr = (None, 100)\n",
    "#lr = (0.001, 10)\n",
    "algo = KrasulinaPCA(_init_weights, data_vecs_centered, groundtruth=pca2.components_, \n",
    "                    learning_rate=lr, mini_batch_size=1, max_iter=T, log_freq=log_freq)"
   ]
  },
  {
   "cell_type": "code",
   "execution_count": null,
   "metadata": {},
   "outputs": [],
   "source": [
    "algo._train()"
   ]
  },
  {
   "cell_type": "code",
   "execution_count": null,
   "metadata": {},
   "outputs": [],
   "source": [
    "len(algo._groundtruth_eval_log)"
   ]
  },
  {
   "cell_type": "code",
   "execution_count": null,
   "metadata": {},
   "outputs": [],
   "source": [
    "eps = 1e-6\n",
    "log_error = [math.log(y) if y > 0 else math.log(y+eps) for y in algo._groundtruth_eval_log]\n",
    "#plt.plot(range(6), log_error)\n",
    "plt.plot(range(6), algo._groundtruth_eval_log, 'o-')"
   ]
  },
  {
   "cell_type": "code",
   "execution_count": null,
   "metadata": {},
   "outputs": [],
   "source": [
    "from vr_pca import VRPCA, get_default_learning_rate\n",
    "\n",
    "k = 250\n",
    "d = 6000\n",
    "_init_weights = get_random_orthogonal_initializer(k, d)\n",
    "\n",
    "n_train = len(data_vecs_centered)\n",
    "T = 1\n",
    "#lr = get_default_learning_rate(data_vecs_centered)\n",
    "lr = 20\n",
    "#lr = 0.0001\n",
    "#lr = (0.001, 10)\n",
    "vr_algo = VRPCA(_init_weights, data_vecs_centered, pca2.components_, lr, n_train, T)"
   ]
  },
  {
   "cell_type": "code",
   "execution_count": null,
   "metadata": {},
   "outputs": [],
   "source": [
    "vr_algo._train() # runs more than 8 hours and still no result !"
   ]
  },
  {
   "cell_type": "markdown",
   "metadata": {},
   "source": [
    "## Vgg Dataset"
   ]
  },
  {
   "cell_type": "markdown",
   "metadata": {},
   "source": [
    "script adapted from <https://github.com/cmusatyalab/openface/blob/master/data/vgg/download-and-align.py>"
   ]
  },
  {
   "cell_type": "code",
   "execution_count": null,
   "metadata": {},
   "outputs": [],
   "source": [
    "!rm -r aligned"
   ]
  },
  {
   "cell_type": "code",
   "execution_count": null,
   "metadata": {},
   "outputs": [],
   "source": [
    "!python preprocess.py"
   ]
  },
  {
   "cell_type": "code",
   "execution_count": 24,
   "metadata": {},
   "outputs": [],
   "source": [
    "import numpy as np\n",
    "import os\n",
    "import cv2\n",
    "\n",
    "def load_vgg(path_to_images):\n",
    "    tot_n_images = 0\n",
    "    for (dirpath, _, _) in os.walk(path_to_images):\n",
    "        tot_n_images += len(os.listdir(dirpath))\n",
    "    print(f\"Total number of aligned images is {tot_n_images}\")\n",
    "    img_data = []\n",
    "    for (dirname, _, filenames) in os.walk(path_to_images):\n",
    "        for im in filenames:\n",
    "            im_path = os.path.join(dirname, im)\n",
    "            grey_img = cv2.imread(im_path, 0)\n",
    "            img_data.append(grey_img.flatten())\n",
    "    dataset = np.stack(img_data, axis=0)\n",
    "    return dataset"
   ]
  },
  {
   "cell_type": "code",
   "execution_count": 25,
   "metadata": {},
   "outputs": [
    {
     "name": "stdout",
     "output_type": "stream",
     "text": [
      "Total number of aligned images is 10826\n"
     ]
    }
   ],
   "source": [
    "vgg_data = load_vgg('aligned')"
   ]
  },
  {
   "cell_type": "code",
   "execution_count": 26,
   "metadata": {},
   "outputs": [
    {
     "data": {
      "text/plain": [
       "(10806, 2304)"
      ]
     },
     "execution_count": 26,
     "metadata": {},
     "output_type": "execute_result"
    }
   ],
   "source": [
    "vgg_data.shape"
   ]
  },
  {
   "cell_type": "code",
   "execution_count": 27,
   "metadata": {},
   "outputs": [],
   "source": [
    "n_samples, n_features = vgg_data.shape\n",
    "\n",
    "# local centering\n",
    "#vgg_data -= vgg_data.mean(axis=1).reshape(n_samples, -1)\n",
    "# global centering\n",
    "vgg_centered = vgg_data - vgg_data.mean(axis=0)"
   ]
  },
  {
   "cell_type": "code",
   "execution_count": 32,
   "metadata": {},
   "outputs": [],
   "source": [
    "from sklearn import decomposition\n",
    "\n",
    "#pca = decomposition.PCA(n_components=0.8, svd_solver='full')\n",
    "pca = decomposition.PCA(svd_solver='full')"
   ]
  },
  {
   "cell_type": "code",
   "execution_count": 33,
   "metadata": {},
   "outputs": [
    {
     "data": {
      "text/plain": [
       "PCA(copy=True, iterated_power='auto', n_components=None, random_state=None,\n",
       "  svd_solver='full', tol=0.0, whiten=False)"
      ]
     },
     "execution_count": 33,
     "metadata": {},
     "output_type": "execute_result"
    }
   ],
   "source": [
    "pca.fit(vgg_centered)"
   ]
  },
  {
   "cell_type": "code",
   "execution_count": 34,
   "metadata": {},
   "outputs": [
    {
     "data": {
      "text/plain": [
       "2304"
      ]
     },
     "execution_count": 34,
     "metadata": {},
     "output_type": "execute_result"
    }
   ],
   "source": [
    "pca.n_components_"
   ]
  },
  {
   "cell_type": "code",
   "execution_count": 40,
   "metadata": {},
   "outputs": [],
   "source": [
    "import matplotlib.pyplot as plt\n",
    "import matplotlib\n",
    "#matplotlib.rcParams['text.usetex'] = True\n",
    "#matplotlib.rcParams['text.latex.unicode'] = True\n",
    "%matplotlib inline"
   ]
  },
  {
   "cell_type": "code",
   "execution_count": 52,
   "metadata": {},
   "outputs": [
    {
     "data": {
      "image/png": "[encoded data removed]",
      "text/plain": [
       "<Figure size 432x288 with 1 Axes>"
      ]
     },
     "metadata": {},
     "output_type": "display_data"
    }
   ],
   "source": [
    "plt.plot(list(range(pca.n_components_)), pca.explained_variance_, 'ro')\n",
    "plt.ylabel('eigenvalues')\n",
    "plt.title('Spectrum of VGG data')\n",
    "plt.savefig('vgg_spectrum.png')"
   ]
  },
  {
   "cell_type": "code",
   "execution_count": 39,
   "metadata": {},
   "outputs": [
    {
     "data": {
      "text/plain": [
       "Text(0.5,1,'Top 50 eigenvalues of Vgg data')"
      ]
     },
     "execution_count": 39,
     "metadata": {},
     "output_type": "execute_result"
    },
    {
     "data": {
      "image/png": "[encoded data removed]",
      "text/plain": [
       "<Figure size 432x288 with 1 Axes>"
      ]
     },
     "metadata": {},
     "output_type": "display_data"
    }
   ],
   "source": [
    "plt.plot(list(range(50)), pca.explained_variance_[:50], 'ro')\n",
    "plt.ylabel('eigenvalues')\n",
    "plt.title('Top 50 eigenvalues of Vgg data')"
   ]
  },
  {
   "cell_type": "code",
   "execution_count": null,
   "metadata": {},
   "outputs": [],
   "source": [
    "print(pca.explained_variance_[0], pca.explained_variance_[-1])"
   ]
  },
  {
   "cell_type": "code",
   "execution_count": null,
   "metadata": {},
   "outputs": [],
   "source": [
    "0.001/10001"
   ]
  },
  {
   "cell_type": "code",
   "execution_count": null,
   "metadata": {},
   "outputs": [],
   "source": [
    "##\n",
    "k = 6\n",
    "d = 2304\n",
    "_init_weights = get_random_orthogonal_initializer(k, d)\n",
    "\n",
    "n_train = len(vgg_centered)\n",
    "mb_size = 1\n",
    "T = int(n_train / float(mb_size))\n",
    "\n",
    "#lr = (None, 1e-07) \n",
    "lr = (1e-07, 100)\n",
    "log_freq = int(T / 10.0)\n",
    "algo = KrasulinaPCA(_init_weights, vgg_centered, groundtruth=pca.components_, \n",
    "                    learning_rate=lr, mini_batch_size=1, max_iter=T, log_freq=log_freq)"
   ]
  },
  {
   "cell_type": "code",
   "execution_count": null,
   "metadata": {},
   "outputs": [],
   "source": [
    "algo._train()"
   ]
  },
  {
   "cell_type": "code",
   "execution_count": null,
   "metadata": {},
   "outputs": [],
   "source": [
    "len(algo._groundtruth_eval_log)"
   ]
  },
  {
   "cell_type": "code",
   "execution_count": null,
   "metadata": {},
   "outputs": [],
   "source": [
    "log_error = [math.log(x) for x in algo._groundtruth_eval_log] "
   ]
  },
  {
   "cell_type": "code",
   "execution_count": null,
   "metadata": {},
   "outputs": [],
   "source": [
    "#plt.plot(range(len(algo._groundtruth_eval_log)), algo._groundtruth_eval_log)\n",
    "#plt.loglog()\n",
    "plt.plot(range(len(algo._groundtruth_eval_log)), log_error)\n",
    "# check MSE\n",
    "# check 1/t learning rate \n",
    "# (we can slightly change the narrative if this works)"
   ]
  },
  {
   "cell_type": "code",
   "execution_count": null,
   "metadata": {},
   "outputs": [],
   "source": [
    "from vr_pca import VRPCA, get_default_learning_rate\n",
    "\n",
    "k = 6\n",
    "d = 2304\n",
    "_init_weights = get_random_orthogonal_initializer(k, d)\n",
    "\n",
    "n_train = len(vgg_centered)\n",
    "T = 1\n",
    "#lr = get_default_learning_rate(vgg_centered)\n",
    "lr = 1e-07\n",
    "#lr = 0.0001\n",
    "#lr = (0.001, 10)\n",
    "vr_algo = VRPCA(_init_weights, vgg_centered, pca.components_, lr, n_train, T)"
   ]
  },
  {
   "cell_type": "code",
   "execution_count": null,
   "metadata": {},
   "outputs": [],
   "source": [
    "vr_algo._train()"
   ]
  },
  {
   "cell_type": "code",
   "execution_count": null,
   "metadata": {},
   "outputs": [],
   "source": [
    "from oja import Oja\n",
    "\n",
    "k = 6\n",
    "d = 2304\n",
    "_init_weights = get_random_orthogonal_initializer(k, d)\n",
    "\n",
    "n_train = len(vgg_centered)\n",
    "mb_size = 1\n",
    "T = int(n_train / float(mb_size))\n",
    "\n",
    "#lr = (None, 1e-07) \n",
    "lr = (1e-07, 100)\n",
    "log_freq = int(T / 10.0)\n",
    "oja_algo = Oja(_init_weights, vgg_centered, groundtruth=pca.components_, \n",
    "                    learning_rate=lr, mini_batch_size=1, max_iter=T, log_freq=log_freq)"
   ]
  },
  {
   "cell_type": "code",
   "execution_count": null,
   "metadata": {},
   "outputs": [],
   "source": [
    "oja_algo._train()"
   ]
  },
  {
   "cell_type": "code",
   "execution_count": null,
   "metadata": {},
   "outputs": [],
   "source": [
    "import json"
   ]
  },
  {
   "cell_type": "code",
   "execution_count": null,
   "metadata": {},
   "outputs": [],
   "source": [
    "json.loads('{\"in0\": [1.2], \"in1\": [10.3]}', parse_int)"
   ]
  },
  {
   "cell_type": "code",
   "execution_count": null,
   "metadata": {},
   "outputs": [],
   "source": [
    "adict = {1:[11,2], 0:[1]}"
   ]
  },
  {
   "cell_type": "code",
   "execution_count": null,
   "metadata": {},
   "outputs": [],
   "source": [
    "for k, v in adict.items():\n",
    "    print(k)\n",
    "    print(v)"
   ]
  },
  {
   "cell_type": "code",
   "execution_count": null,
   "metadata": {},
   "outputs": [],
   "source": [
    "adict.clear()"
   ]
  },
  {
   "cell_type": "code",
   "execution_count": null,
   "metadata": {},
   "outputs": [],
   "source": [
    "adict"
   ]
  },
  {
   "cell_type": "code",
   "execution_count": null,
   "metadata": {},
   "outputs": [],
   "source": [
    "adict.clear()"
   ]
  },
  {
   "cell_type": "code",
   "execution_count": null,
   "metadata": {},
   "outputs": [],
   "source": []
  }
 ],
 "metadata": {
  "kernelspec": {
   "display_name": "Python 3",
   "language": "python",
   "name": "python3"
  },
  "language_info": {
   "codemirror_mode": {
    "name": "ipython",
    "version": 3
   },
   "file_extension": ".py",
   "mimetype": "text/x-python",
   "name": "python",
   "nbconvert_exporter": "python",
   "pygments_lexer": "ipython3",
   "version": "3.6.5"
  }
 },
 "nbformat": 4,
 "nbformat_minor": 2
}
